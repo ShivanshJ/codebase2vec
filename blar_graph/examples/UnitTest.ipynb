{
 "cells": [
  {
   "cell_type": "code",
   "execution_count": null,
   "metadata": {},
   "outputs": [],
   "source": [
    "%load_ext autoreload\n",
    "%autoreload 2"
   ]
  },
  {
   "cell_type": "markdown",
   "metadata": {},
   "source": [
    "# Graph Debugger Agent"
   ]
  },
  {
   "cell_type": "markdown",
   "metadata": {},
   "source": [
    "In this example notebook we are going to demonstrate how Blar's ```GraphTraversalAgent``` can be used to create a test suitcase. We'll download a mock repo from Github, use ```GraphConstructor``` to build the graph from it, and upload it to Neo4j.\n",
    "\n",
    "This is an introductory example of what can be achieved with Blar, but we are sure that has several other amazing use cases.\n",
    "\n",
    "**NOTE:** Currently, this pack is configured to only work with `OpenAI` LLMs and `Neo4j` database. But feel free to copy/download the source code and edit as needed!"
   ]
  },
  {
   "cell_type": "markdown",
   "metadata": {},
   "source": [
    "## Installation and Import"
   ]
  },
  {
   "cell_type": "markdown",
   "metadata": {},
   "source": [
    "### Core dependencies"
   ]
  },
  {
   "cell_type": "code",
   "execution_count": null,
   "metadata": {},
   "outputs": [
    {
     "name": "stdout",
     "output_type": "stream",
     "text": [
      "Note: you may need to restart the kernel to use updated packages.\n",
      "Note: you may need to restart the kernel to use updated packages.\n"
     ]
    }
   ],
   "source": [
    "%%pip install blar-graph --quiet --upgrade\n",
    "%pip install python-dotenv --quiet"
   ]
  },
  {
   "cell_type": "code",
   "execution_count": null,
   "metadata": {},
   "outputs": [
    {
     "data": {
      "text/plain": [
       "True"
      ]
     },
     "execution_count": null,
     "metadata": {},
     "output_type": "execute_result"
    }
   ],
   "source": [
    "import uuid\n",
    "from blar_graph.graph_construction.core.graph_builder import GraphConstructor\n",
    "from blar_graph.db_managers import Neo4jManager\n",
    "from blar_graph.agents_tools.agents_examples.unit_test import get_unit_test_agent\n",
    "from dotenv import load_dotenv\n",
    "\n",
    "load_dotenv()"
   ]
  },
  {
   "cell_type": "code",
   "execution_count": null,
   "metadata": {},
   "outputs": [],
   "source": [
    "import os\n",
    "\n",
    "os.environ[\"NEO4J_URI\"] = \"neo4j+s://YOUR_NEO4J.databases.neo4j.io\"\n",
    "os.environ[\"NEO4J_USERNAME\"] = \"neo4j\"\n",
    "os.environ[\"NEO4J_PASSWORD\"] = \"YOUR_NEO4J_PASSWORD\"\n",
    "os.environ[\"OPENAI_API_KEY\"] = \"sk-...\""
   ]
  },
  {
   "cell_type": "markdown",
   "metadata": {},
   "source": [
    "### Download the example repo\n"
   ]
  },
  {
   "cell_type": "markdown",
   "metadata": {},
   "source": [
    "We will download an example repo with mock code to show how this agent works."
   ]
  },
  {
   "cell_type": "code",
   "execution_count": null,
   "metadata": {},
   "outputs": [],
   "source": [
    "%git clone https://github.com/blarApp/blar-example-repos.git"
   ]
  },
  {
   "cell_type": "markdown",
   "metadata": {},
   "source": [
    "### Visualization dependencies"
   ]
  },
  {
   "cell_type": "code",
   "execution_count": null,
   "metadata": {},
   "outputs": [],
   "source": [
    "%pip install yfiles_jupyter_graphs --quiet\n",
    "%pip install neo4j graphdatascience --quiet"
   ]
  },
  {
   "cell_type": "markdown",
   "metadata": {},
   "source": [
    "If running in Gooogle Colab run the following"
   ]
  },
  {
   "cell_type": "code",
   "execution_count": null,
   "metadata": {},
   "outputs": [],
   "source": [
    "try:\n",
    "    from google.colab import output\n",
    "\n",
    "    output.enable_custom_widget_manager()\n",
    "except:\n",
    "    print(\"Error\")\n",
    "    pass"
   ]
  },
  {
   "cell_type": "markdown",
   "metadata": {},
   "source": [
    "## Create the Graph"
   ]
  },
  {
   "cell_type": "markdown",
   "metadata": {},
   "source": [
    "We initialize the `Neo4jManager` and pass it to the `GraphConstructor`. Then we create the example repo's graph by calling build_graph method. This method requires the path to the initial directory and the language of the code.\n",
    "\n",
    "The build_graph method will scan the directory and recursively traverse the directories creating the nodes and relationships between them.\n",
    "\n",
    "**NOTE:** Only python is supported at the moment\n"
   ]
  },
  {
   "cell_type": "markdown",
   "metadata": {},
   "source": [
    "### Create unique Repo id"
   ]
  },
  {
   "cell_type": "markdown",
   "metadata": {},
   "source": [
    "First we need to create a unique Id for the Repo. This is in case there is more than 1 repo in the same Neo4j DB. This way we can always query the repo we are interested in and not other repos.\n",
    "\n",
    "In this case we will use uuid to generate a unique repoId. This repoId is later used to initialize the Neo4jManager."
   ]
  },
  {
   "cell_type": "code",
   "execution_count": null,
   "metadata": {},
   "outputs": [],
   "source": [
    "repoId = str(uuid.uuid4())\n",
    "entityId = str(uuid.uuid4())"
   ]
  },
  {
   "cell_type": "markdown",
   "metadata": {},
   "source": [
    "### Create the graph"
   ]
  },
  {
   "cell_type": "code",
   "execution_count": null,
   "metadata": {},
   "outputs": [
    {
     "name": "stdout",
     "output_type": "stream",
     "text": [
      "Processed blar-example-repos/unit_test_agent/average_calculator.pyCreated 8 nodes\n",
      "Created 11 edges\n"
     ]
    }
   ],
   "source": [
    "import traceback\n",
    "\n",
    "graph_manager = Neo4jManager(repoId, entityId)\n",
    "\n",
    "try:\n",
    "    graph_constructor = GraphConstructor(graph_manager, entityId)\n",
    "    nodes, relationships = graph_constructor.build_graph(\"blarApp/blar-example-repos\")\n",
    "    graph_manager.save_graph(nodes, relationships)\n",
    "    graph_manager.close()\n",
    "except Exception as e:\n",
    "    print(e)\n",
    "    print(traceback.format_exc())\n",
    "    graph_manager.close()"
   ]
  },
  {
   "cell_type": "markdown",
   "metadata": {},
   "source": [
    "### Visualize Graph"
   ]
  },
  {
   "cell_type": "markdown",
   "metadata": {},
   "source": [
    "For visualization we'll use the [yFiles](https://www.yworks.com/products/yfiles) library. This is an awesome interactive library that helps you visualize and explore graph data. Big shoutout to them!"
   ]
  },
  {
   "cell_type": "code",
   "execution_count": null,
   "metadata": {},
   "outputs": [],
   "source": [
    "graph = graph_manager.get_whole_graph(result_format=\"graph\")\n",
    "\n",
    "from yfiles_jupyter_graphs import GraphWidget\n",
    "\n",
    "w = GraphWidget(graph=graph)\n",
    "\n",
    "\n",
    "def custom_edge_label_mapping(edge):\n",
    "    \"\"\"let the label be the negated index\"\"\"\n",
    "    return \"\"\n",
    "\n",
    "\n",
    "w.set_edge_label_mapping(custom_edge_label_mapping)"
   ]
  },
  {
   "cell_type": "markdown",
   "metadata": {},
   "source": [
    "Here you can see the graph generated from the example repo. It has one directory, two files, and a few functions. The functions are simple math operations to show how the agent operates. You can go to the [repo](https://github.com/blarApp/blar-example-repos) to check the code yourself."
   ]
  },
  {
   "cell_type": "code",
   "execution_count": null,
   "metadata": {},
   "outputs": [
    {
     "data": {
      "application/vnd.jupyter.widget-view+json": {
       "model_id": "a78b3ce6785a4a4d841ca7790a017b3f",
       "version_major": 2,
       "version_minor": 0
      },
      "text/plain": [
       "GraphWidget(layout=Layout(height='500px', width='100%'))"
      ]
     },
     "metadata": {},
     "output_type": "display_data"
    }
   ],
   "source": [
    "w.show()"
   ]
  },
  {
   "cell_type": "markdown",
   "metadata": {},
   "source": [
    "## Unit Test"
   ]
  },
  {
   "cell_type": "markdown",
   "metadata": {},
   "source": [
    "In this section we will be utilizing the Blar unit test agent to create a unit test for the file average_calculator.py in the example repo."
   ]
  },
  {
   "cell_type": "markdown",
   "metadata": {},
   "source": [
    "The file looks like this:\n",
    "\n",
    "```python \n",
    "\n",
    "from math_operations import add, divide\n",
    "\n",
    "\n",
    "def calculate_average(numbers):\n",
    "    \"\"\"Calculate the average of a list of numbers.\"\"\"\n",
    "    if not numbers:\n",
    "        raise ValueError(\"The list of numbers cannot be empty.\")\n",
    "\n",
    "    sum_of_numbers = 0\n",
    "    for number in numbers:\n",
    "        sum_of_numbers = add(sum_of_numbers, number)\n",
    "\n",
    "    average = divide(sum_of_numbers, len(numbers))\n",
    "    return average\n",
    "\n",
    "```\n",
    "\n",
    "This function imports two other functions that are crucial to understand the code to write accurate tests"
   ]
  },
  {
   "cell_type": "markdown",
   "metadata": {},
   "source": [
    "We initialize the agent with our db manager. This is the information source our agent will use to traverse the graph."
   ]
  },
  {
   "cell_type": "code",
   "execution_count": null,
   "metadata": {},
   "outputs": [],
   "source": [
    "agent = get_unit_test_agent(graph_manager)"
   ]
  },
  {
   "cell_type": "markdown",
   "metadata": {},
   "source": [
    "We describe the task and give the path of the file to process and create tests."
   ]
  },
  {
   "cell_type": "code",
   "execution_count": null,
   "metadata": {},
   "outputs": [
    {
     "name": "stdout",
     "output_type": "stream",
     "text": [
      "\n",
      "\n",
      "\u001b[1m> Entering new AgentExecutor chain...\u001b[0m\n",
      "\u001b[32;1m\u001b[1;3m\n",
      "Invoking: `keword_search` with `{'query': 'average_calculator'}`\n",
      "\n",
      "\n",
      "\u001b[0m\u001b[36;1m\u001b[1;3mcurrent node code:\n",
      " # average_calculator.py\n",
      "\n",
      "from math_operations import add, divide\n",
      "\n",
      "\n",
      "def calculate_average(numbers):\n",
      "    # Code replaced for brevity. See node_id 3e2d542a-4bf2-4512-83eb-19da6e79cec8 \n",
      "\n",
      " current node neighbours: [{'node_id': '7f9c96b7-8213-45c8-bb7f-f53a12eece95', 'function_name': 'add', 'labels': ['FUNCTION']}, {'node_id': '02c7d13d-7c16-49db-be9a-e54922aabe18', 'function_name': 'divide', 'labels': ['FUNCTION']}, {'node_id': '3e2d542a-4bf2-4512-83eb-19da6e79cec8', 'function_name': 'calculate_average', 'labels': ['FUNCTION']}]\u001b[0m\u001b[32;1m\u001b[1;3m\n",
      "Invoking: `keword_search` with `{'query': '3e2d542a-4bf2-4512-83eb-19da6e79cec8'}`\n",
      "\n",
      "\n",
      "\u001b[0m\u001b[36;1m\u001b[1;3mcurrent node code:\n",
      " def calculate_average(numbers):\n",
      "    \"\"\"Calculate the average of a list of numbers.\"\"\"\n",
      "    if not numbers:\n",
      "        raise ValueError(\"The list of numbers cannot be empty.\")\n",
      "\n",
      "    sum_of_numbers = 0\n",
      "    for number in numbers:\n",
      "        sum_of_numbers = add(sum_of_numbers, number)\n",
      "\n",
      "    average = divide(sum_of_numbers, len(numbers))\n",
      "    return average \n",
      "\n",
      " current node neighbours: [{'node_id': '7f9c96b7-8213-45c8-bb7f-f53a12eece95', 'function_name': 'add', 'labels': ['FUNCTION']}, {'node_id': '02c7d13d-7c16-49db-be9a-e54922aabe18', 'function_name': 'divide', 'labels': ['FUNCTION']}]\u001b[0m\u001b[32;1m\u001b[1;3m\n",
      "Invoking: `keword_search` with `{'query': '7f9c96b7-8213-45c8-bb7f-f53a12eece95'}`\n",
      "\n",
      "\n",
      "\u001b[0m\u001b[36;1m\u001b[1;3mcurrent node code:\n",
      " def add(x, y):\n",
      "    \"\"\"Add two numbers.\"\"\"\n",
      "    return x + y \n",
      "\n",
      " current node neighbours: []\u001b[0m\u001b[32;1m\u001b[1;3m\n",
      "Invoking: `keword_search` with `{'query': '02c7d13d-7c16-49db-be9a-e54922aabe18'}`\n",
      "\n",
      "\n",
      "\u001b[0m\u001b[36;1m\u001b[1;3mcurrent node code:\n",
      " def divide(x, y):\n",
      "    \"\"\"Divide two numbers.\n",
      "\n",
      "    Raises:\n",
      "        ValueError: If 'y' is zero.\n",
      "    \"\"\"\n",
      "    if y == 0:\n",
      "        raise ValueError(\"Cannot divide by zero.\")\n",
      "    return x / y \n",
      "\n",
      " current node neighbours: []\u001b[0m\u001b[32;1m\u001b[1;3mBased on the provided information, here is the unit test code for the `average_calculator.py` file, which includes tests for the `calculate_average` function. The tests cover scenarios such as calculating the average of a non-empty list, handling an empty list, and dividing by zero through the `divide` function indirectly.\n",
      "\n",
      "```python\n",
      "import unittest\n",
      "from average_calculator import calculate_average\n",
      "\n",
      "class TestAverageCalculator(unittest.TestCase):\n",
      "\n",
      "    def test_calculate_average_non_empty_list(self):\n",
      "        numbers = [2, 4, 6, 8]\n",
      "        expected_average = 5.0\n",
      "        self.assertEqual(calculate_average(numbers), expected_average, \"The average of [2, 4, 6, 8] should be 5.0\")\n",
      "\n",
      "    def test_calculate_average_empty_list(self):\n",
      "        numbers = []\n",
      "        with self.assertRaises(ValueError) as context:\n",
      "            calculate_average(numbers)\n",
      "        self.assertTrue(\"The list of numbers cannot be empty.\" in str(context.exception), \"Should raise a ValueError for an empty list\")\n",
      "\n",
      "    def test_calculate_average_divide_by_zero(self):\n",
      "        # This test case is a bit tricky since the calculate_average function does not directly divide by zero.\n",
      "        # However, it's important to ensure that the divide function it relies on handles division by zero appropriately.\n",
      "        # Since the calculate_average function does not allow an empty list, this scenario should never occur within its context.\n",
      "        # Therefore, this test case is not applicable to the calculate_average function directly.\n",
      "        pass\n",
      "\n",
      "if __name__ == '__main__':\n",
      "    unittest.main()\n",
      "```\n",
      "\n",
      "This unit test suite includes two relevant test cases for the `calculate_average` function:\n",
      "\n",
      "1. `test_calculate_average_non_empty_list`: Tests that the function correctly calculates the average of a non-empty list of numbers.\n",
      "2. `test_calculate_average_empty_list`: Tests that the function raises a `ValueError` when an empty list is provided.\n",
      "\n",
      "The third scenario, `test_calculate_average_divide_by_zero`, is not directly applicable to the `calculate_average` function because the function does not allow an empty list, which would be the only scenario leading to a division by zero within its context. Therefore, this test case is intentionally left as a pass, acknowledging the consideration of division by zero but recognizing it does not apply to the `calculate_average` function's logic as per the provided implementation details.\u001b[0m\n",
      "\n",
      "\u001b[1m> Finished chain.\u001b[0m\n"
     ]
    },
    {
     "data": {
      "text/plain": [
       "[{'actions': [OpenAIToolAgentAction(tool='keword_search', tool_input={'query': 'average_calculator'}, log=\"\\nInvoking: `keword_search` with `{'query': 'average_calculator'}`\\n\\n\\n\", message_log=[AIMessageChunk(content='', additional_kwargs={'tool_calls': [{'index': 0, 'id': 'call_Z9oU5YwxkWvrhHus3sMBcTKB', 'function': {'arguments': '{\"query\":\"average_calculator\"}', 'name': 'keword_search'}, 'type': 'function'}]}, response_metadata={'finish_reason': 'tool_calls'})], tool_call_id='call_Z9oU5YwxkWvrhHus3sMBcTKB')],\n",
       "  'messages': [AIMessageChunk(content='', additional_kwargs={'tool_calls': [{'index': 0, 'id': 'call_Z9oU5YwxkWvrhHus3sMBcTKB', 'function': {'arguments': '{\"query\":\"average_calculator\"}', 'name': 'keword_search'}, 'type': 'function'}]}, response_metadata={'finish_reason': 'tool_calls'})]},\n",
       " {'steps': [AgentStep(action=OpenAIToolAgentAction(tool='keword_search', tool_input={'query': 'average_calculator'}, log=\"\\nInvoking: `keword_search` with `{'query': 'average_calculator'}`\\n\\n\\n\", message_log=[AIMessageChunk(content='', additional_kwargs={'tool_calls': [{'index': 0, 'id': 'call_Z9oU5YwxkWvrhHus3sMBcTKB', 'function': {'arguments': '{\"query\":\"average_calculator\"}', 'name': 'keword_search'}, 'type': 'function'}]}, response_metadata={'finish_reason': 'tool_calls'})], tool_call_id='call_Z9oU5YwxkWvrhHus3sMBcTKB'), observation=\"current node code:\\n # average_calculator.py\\n\\nfrom math_operations import add, divide\\n\\n\\ndef calculate_average(numbers):\\n    # Code replaced for brevity. See node_id 3e2d542a-4bf2-4512-83eb-19da6e79cec8 \\n\\n current node neighbours: [{'node_id': '7f9c96b7-8213-45c8-bb7f-f53a12eece95', 'function_name': 'add', 'labels': ['FUNCTION']}, {'node_id': '02c7d13d-7c16-49db-be9a-e54922aabe18', 'function_name': 'divide', 'labels': ['FUNCTION']}, {'node_id': '3e2d542a-4bf2-4512-83eb-19da6e79cec8', 'function_name': 'calculate_average', 'labels': ['FUNCTION']}]\")],\n",
       "  'messages': [FunctionMessage(content=\"current node code:\\n # average_calculator.py\\n\\nfrom math_operations import add, divide\\n\\n\\ndef calculate_average(numbers):\\n    # Code replaced for brevity. See node_id 3e2d542a-4bf2-4512-83eb-19da6e79cec8 \\n\\n current node neighbours: [{'node_id': '7f9c96b7-8213-45c8-bb7f-f53a12eece95', 'function_name': 'add', 'labels': ['FUNCTION']}, {'node_id': '02c7d13d-7c16-49db-be9a-e54922aabe18', 'function_name': 'divide', 'labels': ['FUNCTION']}, {'node_id': '3e2d542a-4bf2-4512-83eb-19da6e79cec8', 'function_name': 'calculate_average', 'labels': ['FUNCTION']}]\", name='keword_search')]},\n",
       " {'actions': [OpenAIToolAgentAction(tool='keword_search', tool_input={'query': '3e2d542a-4bf2-4512-83eb-19da6e79cec8'}, log=\"\\nInvoking: `keword_search` with `{'query': '3e2d542a-4bf2-4512-83eb-19da6e79cec8'}`\\n\\n\\n\", message_log=[AIMessageChunk(content='', additional_kwargs={'tool_calls': [{'index': 0, 'id': 'call_Lp62Q5xOqEIFEtsVYSux7rjy', 'function': {'arguments': '{\"query\": \"3e2d542a-4bf2-4512-83eb-19da6e79cec8\"}', 'name': 'keword_search'}, 'type': 'function'}, {'index': 1, 'id': 'call_7Xor7lGb1alZPTevfJFPZ4TD', 'function': {'arguments': '{\"query\": \"7f9c96b7-8213-45c8-bb7f-f53a12eece95\"}', 'name': 'keword_search'}, 'type': 'function'}, {'index': 2, 'id': 'call_eFlnicKgd94Hkt1WLQltb7oa', 'function': {'arguments': '{\"query\": \"02c7d13d-7c16-49db-be9a-e54922aabe18\"}', 'name': 'keword_search'}, 'type': 'function'}]}, response_metadata={'finish_reason': 'tool_calls'})], tool_call_id='call_Lp62Q5xOqEIFEtsVYSux7rjy')],\n",
       "  'messages': [AIMessageChunk(content='', additional_kwargs={'tool_calls': [{'index': 0, 'id': 'call_Lp62Q5xOqEIFEtsVYSux7rjy', 'function': {'arguments': '{\"query\": \"3e2d542a-4bf2-4512-83eb-19da6e79cec8\"}', 'name': 'keword_search'}, 'type': 'function'}, {'index': 1, 'id': 'call_7Xor7lGb1alZPTevfJFPZ4TD', 'function': {'arguments': '{\"query\": \"7f9c96b7-8213-45c8-bb7f-f53a12eece95\"}', 'name': 'keword_search'}, 'type': 'function'}, {'index': 2, 'id': 'call_eFlnicKgd94Hkt1WLQltb7oa', 'function': {'arguments': '{\"query\": \"02c7d13d-7c16-49db-be9a-e54922aabe18\"}', 'name': 'keword_search'}, 'type': 'function'}]}, response_metadata={'finish_reason': 'tool_calls'})]},\n",
       " {'actions': [OpenAIToolAgentAction(tool='keword_search', tool_input={'query': '7f9c96b7-8213-45c8-bb7f-f53a12eece95'}, log=\"\\nInvoking: `keword_search` with `{'query': '7f9c96b7-8213-45c8-bb7f-f53a12eece95'}`\\n\\n\\n\", message_log=[AIMessageChunk(content='', additional_kwargs={'tool_calls': [{'index': 0, 'id': 'call_Lp62Q5xOqEIFEtsVYSux7rjy', 'function': {'arguments': '{\"query\": \"3e2d542a-4bf2-4512-83eb-19da6e79cec8\"}', 'name': 'keword_search'}, 'type': 'function'}, {'index': 1, 'id': 'call_7Xor7lGb1alZPTevfJFPZ4TD', 'function': {'arguments': '{\"query\": \"7f9c96b7-8213-45c8-bb7f-f53a12eece95\"}', 'name': 'keword_search'}, 'type': 'function'}, {'index': 2, 'id': 'call_eFlnicKgd94Hkt1WLQltb7oa', 'function': {'arguments': '{\"query\": \"02c7d13d-7c16-49db-be9a-e54922aabe18\"}', 'name': 'keword_search'}, 'type': 'function'}]}, response_metadata={'finish_reason': 'tool_calls'})], tool_call_id='call_7Xor7lGb1alZPTevfJFPZ4TD')],\n",
       "  'messages': [AIMessageChunk(content='', additional_kwargs={'tool_calls': [{'index': 0, 'id': 'call_Lp62Q5xOqEIFEtsVYSux7rjy', 'function': {'arguments': '{\"query\": \"3e2d542a-4bf2-4512-83eb-19da6e79cec8\"}', 'name': 'keword_search'}, 'type': 'function'}, {'index': 1, 'id': 'call_7Xor7lGb1alZPTevfJFPZ4TD', 'function': {'arguments': '{\"query\": \"7f9c96b7-8213-45c8-bb7f-f53a12eece95\"}', 'name': 'keword_search'}, 'type': 'function'}, {'index': 2, 'id': 'call_eFlnicKgd94Hkt1WLQltb7oa', 'function': {'arguments': '{\"query\": \"02c7d13d-7c16-49db-be9a-e54922aabe18\"}', 'name': 'keword_search'}, 'type': 'function'}]}, response_metadata={'finish_reason': 'tool_calls'})]},\n",
       " {'actions': [OpenAIToolAgentAction(tool='keword_search', tool_input={'query': '02c7d13d-7c16-49db-be9a-e54922aabe18'}, log=\"\\nInvoking: `keword_search` with `{'query': '02c7d13d-7c16-49db-be9a-e54922aabe18'}`\\n\\n\\n\", message_log=[AIMessageChunk(content='', additional_kwargs={'tool_calls': [{'index': 0, 'id': 'call_Lp62Q5xOqEIFEtsVYSux7rjy', 'function': {'arguments': '{\"query\": \"3e2d542a-4bf2-4512-83eb-19da6e79cec8\"}', 'name': 'keword_search'}, 'type': 'function'}, {'index': 1, 'id': 'call_7Xor7lGb1alZPTevfJFPZ4TD', 'function': {'arguments': '{\"query\": \"7f9c96b7-8213-45c8-bb7f-f53a12eece95\"}', 'name': 'keword_search'}, 'type': 'function'}, {'index': 2, 'id': 'call_eFlnicKgd94Hkt1WLQltb7oa', 'function': {'arguments': '{\"query\": \"02c7d13d-7c16-49db-be9a-e54922aabe18\"}', 'name': 'keword_search'}, 'type': 'function'}]}, response_metadata={'finish_reason': 'tool_calls'})], tool_call_id='call_eFlnicKgd94Hkt1WLQltb7oa')],\n",
       "  'messages': [AIMessageChunk(content='', additional_kwargs={'tool_calls': [{'index': 0, 'id': 'call_Lp62Q5xOqEIFEtsVYSux7rjy', 'function': {'arguments': '{\"query\": \"3e2d542a-4bf2-4512-83eb-19da6e79cec8\"}', 'name': 'keword_search'}, 'type': 'function'}, {'index': 1, 'id': 'call_7Xor7lGb1alZPTevfJFPZ4TD', 'function': {'arguments': '{\"query\": \"7f9c96b7-8213-45c8-bb7f-f53a12eece95\"}', 'name': 'keword_search'}, 'type': 'function'}, {'index': 2, 'id': 'call_eFlnicKgd94Hkt1WLQltb7oa', 'function': {'arguments': '{\"query\": \"02c7d13d-7c16-49db-be9a-e54922aabe18\"}', 'name': 'keword_search'}, 'type': 'function'}]}, response_metadata={'finish_reason': 'tool_calls'})]},\n",
       " {'steps': [AgentStep(action=OpenAIToolAgentAction(tool='keword_search', tool_input={'query': '3e2d542a-4bf2-4512-83eb-19da6e79cec8'}, log=\"\\nInvoking: `keword_search` with `{'query': '3e2d542a-4bf2-4512-83eb-19da6e79cec8'}`\\n\\n\\n\", message_log=[AIMessageChunk(content='', additional_kwargs={'tool_calls': [{'index': 0, 'id': 'call_Lp62Q5xOqEIFEtsVYSux7rjy', 'function': {'arguments': '{\"query\": \"3e2d542a-4bf2-4512-83eb-19da6e79cec8\"}', 'name': 'keword_search'}, 'type': 'function'}, {'index': 1, 'id': 'call_7Xor7lGb1alZPTevfJFPZ4TD', 'function': {'arguments': '{\"query\": \"7f9c96b7-8213-45c8-bb7f-f53a12eece95\"}', 'name': 'keword_search'}, 'type': 'function'}, {'index': 2, 'id': 'call_eFlnicKgd94Hkt1WLQltb7oa', 'function': {'arguments': '{\"query\": \"02c7d13d-7c16-49db-be9a-e54922aabe18\"}', 'name': 'keword_search'}, 'type': 'function'}]}, response_metadata={'finish_reason': 'tool_calls'})], tool_call_id='call_Lp62Q5xOqEIFEtsVYSux7rjy'), observation='current node code:\\n def calculate_average(numbers):\\n    \"\"\"Calculate the average of a list of numbers.\"\"\"\\n    if not numbers:\\n        raise ValueError(\"The list of numbers cannot be empty.\")\\n\\n    sum_of_numbers = 0\\n    for number in numbers:\\n        sum_of_numbers = add(sum_of_numbers, number)\\n\\n    average = divide(sum_of_numbers, len(numbers))\\n    return average \\n\\n current node neighbours: [{\\'node_id\\': \\'7f9c96b7-8213-45c8-bb7f-f53a12eece95\\', \\'function_name\\': \\'add\\', \\'labels\\': [\\'FUNCTION\\']}, {\\'node_id\\': \\'02c7d13d-7c16-49db-be9a-e54922aabe18\\', \\'function_name\\': \\'divide\\', \\'labels\\': [\\'FUNCTION\\']}]')],\n",
       "  'messages': [FunctionMessage(content='current node code:\\n def calculate_average(numbers):\\n    \"\"\"Calculate the average of a list of numbers.\"\"\"\\n    if not numbers:\\n        raise ValueError(\"The list of numbers cannot be empty.\")\\n\\n    sum_of_numbers = 0\\n    for number in numbers:\\n        sum_of_numbers = add(sum_of_numbers, number)\\n\\n    average = divide(sum_of_numbers, len(numbers))\\n    return average \\n\\n current node neighbours: [{\\'node_id\\': \\'7f9c96b7-8213-45c8-bb7f-f53a12eece95\\', \\'function_name\\': \\'add\\', \\'labels\\': [\\'FUNCTION\\']}, {\\'node_id\\': \\'02c7d13d-7c16-49db-be9a-e54922aabe18\\', \\'function_name\\': \\'divide\\', \\'labels\\': [\\'FUNCTION\\']}]', name='keword_search')]},\n",
       " {'steps': [AgentStep(action=OpenAIToolAgentAction(tool='keword_search', tool_input={'query': '7f9c96b7-8213-45c8-bb7f-f53a12eece95'}, log=\"\\nInvoking: `keword_search` with `{'query': '7f9c96b7-8213-45c8-bb7f-f53a12eece95'}`\\n\\n\\n\", message_log=[AIMessageChunk(content='', additional_kwargs={'tool_calls': [{'index': 0, 'id': 'call_Lp62Q5xOqEIFEtsVYSux7rjy', 'function': {'arguments': '{\"query\": \"3e2d542a-4bf2-4512-83eb-19da6e79cec8\"}', 'name': 'keword_search'}, 'type': 'function'}, {'index': 1, 'id': 'call_7Xor7lGb1alZPTevfJFPZ4TD', 'function': {'arguments': '{\"query\": \"7f9c96b7-8213-45c8-bb7f-f53a12eece95\"}', 'name': 'keword_search'}, 'type': 'function'}, {'index': 2, 'id': 'call_eFlnicKgd94Hkt1WLQltb7oa', 'function': {'arguments': '{\"query\": \"02c7d13d-7c16-49db-be9a-e54922aabe18\"}', 'name': 'keword_search'}, 'type': 'function'}]}, response_metadata={'finish_reason': 'tool_calls'})], tool_call_id='call_7Xor7lGb1alZPTevfJFPZ4TD'), observation='current node code:\\n def add(x, y):\\n    \"\"\"Add two numbers.\"\"\"\\n    return x + y \\n\\n current node neighbours: []')],\n",
       "  'messages': [FunctionMessage(content='current node code:\\n def add(x, y):\\n    \"\"\"Add two numbers.\"\"\"\\n    return x + y \\n\\n current node neighbours: []', name='keword_search')]},\n",
       " {'steps': [AgentStep(action=OpenAIToolAgentAction(tool='keword_search', tool_input={'query': '02c7d13d-7c16-49db-be9a-e54922aabe18'}, log=\"\\nInvoking: `keword_search` with `{'query': '02c7d13d-7c16-49db-be9a-e54922aabe18'}`\\n\\n\\n\", message_log=[AIMessageChunk(content='', additional_kwargs={'tool_calls': [{'index': 0, 'id': 'call_Lp62Q5xOqEIFEtsVYSux7rjy', 'function': {'arguments': '{\"query\": \"3e2d542a-4bf2-4512-83eb-19da6e79cec8\"}', 'name': 'keword_search'}, 'type': 'function'}, {'index': 1, 'id': 'call_7Xor7lGb1alZPTevfJFPZ4TD', 'function': {'arguments': '{\"query\": \"7f9c96b7-8213-45c8-bb7f-f53a12eece95\"}', 'name': 'keword_search'}, 'type': 'function'}, {'index': 2, 'id': 'call_eFlnicKgd94Hkt1WLQltb7oa', 'function': {'arguments': '{\"query\": \"02c7d13d-7c16-49db-be9a-e54922aabe18\"}', 'name': 'keword_search'}, 'type': 'function'}]}, response_metadata={'finish_reason': 'tool_calls'})], tool_call_id='call_eFlnicKgd94Hkt1WLQltb7oa'), observation='current node code:\\n def divide(x, y):\\n    \"\"\"Divide two numbers.\\n\\n    Raises:\\n        ValueError: If \\'y\\' is zero.\\n    \"\"\"\\n    if y == 0:\\n        raise ValueError(\"Cannot divide by zero.\")\\n    return x / y \\n\\n current node neighbours: []')],\n",
       "  'messages': [FunctionMessage(content='current node code:\\n def divide(x, y):\\n    \"\"\"Divide two numbers.\\n\\n    Raises:\\n        ValueError: If \\'y\\' is zero.\\n    \"\"\"\\n    if y == 0:\\n        raise ValueError(\"Cannot divide by zero.\")\\n    return x / y \\n\\n current node neighbours: []', name='keword_search')]},\n",
       " {'output': 'Based on the provided information, here is the unit test code for the `average_calculator.py` file, which includes tests for the `calculate_average` function. The tests cover scenarios such as calculating the average of a non-empty list, handling an empty list, and dividing by zero through the `divide` function indirectly.\\n\\n```python\\nimport unittest\\nfrom average_calculator import calculate_average\\n\\nclass TestAverageCalculator(unittest.TestCase):\\n\\n    def test_calculate_average_non_empty_list(self):\\n        numbers = [2, 4, 6, 8]\\n        expected_average = 5.0\\n        self.assertEqual(calculate_average(numbers), expected_average, \"The average of [2, 4, 6, 8] should be 5.0\")\\n\\n    def test_calculate_average_empty_list(self):\\n        numbers = []\\n        with self.assertRaises(ValueError) as context:\\n            calculate_average(numbers)\\n        self.assertTrue(\"The list of numbers cannot be empty.\" in str(context.exception), \"Should raise a ValueError for an empty list\")\\n\\n    def test_calculate_average_divide_by_zero(self):\\n        # This test case is a bit tricky since the calculate_average function does not directly divide by zero.\\n        # However, it\\'s important to ensure that the divide function it relies on handles division by zero appropriately.\\n        # Since the calculate_average function does not allow an empty list, this scenario should never occur within its context.\\n        # Therefore, this test case is not applicable to the calculate_average function directly.\\n        pass\\n\\nif __name__ == \\'__main__\\':\\n    unittest.main()\\n```\\n\\nThis unit test suite includes two relevant test cases for the `calculate_average` function:\\n\\n1. `test_calculate_average_non_empty_list`: Tests that the function correctly calculates the average of a non-empty list of numbers.\\n2. `test_calculate_average_empty_list`: Tests that the function raises a `ValueError` when an empty list is provided.\\n\\nThe third scenario, `test_calculate_average_divide_by_zero`, is not directly applicable to the `calculate_average` function because the function does not allow an empty list, which would be the only scenario leading to a division by zero within its context. Therefore, this test case is intentionally left as a pass, acknowledging the consideration of division by zero but recognizing it does not apply to the `calculate_average` function\\'s logic as per the provided implementation details.',\n",
       "  'messages': [AIMessage(content='Based on the provided information, here is the unit test code for the `average_calculator.py` file, which includes tests for the `calculate_average` function. The tests cover scenarios such as calculating the average of a non-empty list, handling an empty list, and dividing by zero through the `divide` function indirectly.\\n\\n```python\\nimport unittest\\nfrom average_calculator import calculate_average\\n\\nclass TestAverageCalculator(unittest.TestCase):\\n\\n    def test_calculate_average_non_empty_list(self):\\n        numbers = [2, 4, 6, 8]\\n        expected_average = 5.0\\n        self.assertEqual(calculate_average(numbers), expected_average, \"The average of [2, 4, 6, 8] should be 5.0\")\\n\\n    def test_calculate_average_empty_list(self):\\n        numbers = []\\n        with self.assertRaises(ValueError) as context:\\n            calculate_average(numbers)\\n        self.assertTrue(\"The list of numbers cannot be empty.\" in str(context.exception), \"Should raise a ValueError for an empty list\")\\n\\n    def test_calculate_average_divide_by_zero(self):\\n        # This test case is a bit tricky since the calculate_average function does not directly divide by zero.\\n        # However, it\\'s important to ensure that the divide function it relies on handles division by zero appropriately.\\n        # Since the calculate_average function does not allow an empty list, this scenario should never occur within its context.\\n        # Therefore, this test case is not applicable to the calculate_average function directly.\\n        pass\\n\\nif __name__ == \\'__main__\\':\\n    unittest.main()\\n```\\n\\nThis unit test suite includes two relevant test cases for the `calculate_average` function:\\n\\n1. `test_calculate_average_non_empty_list`: Tests that the function correctly calculates the average of a non-empty list of numbers.\\n2. `test_calculate_average_empty_list`: Tests that the function raises a `ValueError` when an empty list is provided.\\n\\nThe third scenario, `test_calculate_average_divide_by_zero`, is not directly applicable to the `calculate_average` function because the function does not allow an empty list, which would be the only scenario leading to a division by zero within its context. Therefore, this test case is intentionally left as a pass, acknowledging the consideration of division by zero but recognizing it does not apply to the `calculate_average` function\\'s logic as per the provided implementation details.')]}]"
      ]
     },
     "execution_count": null,
     "metadata": {},
     "output_type": "execute_result"
    }
   ],
   "source": [
    "list(agent.stream({\"input\": \"Generate the unit test for the file average_calculator\"}))"
   ]
  },
  {
   "cell_type": "markdown",
   "metadata": {},
   "source": [
    "As you can see the agent navigates the graph fetching all the code involved in the file average_calculator. Then proceeds to write all the test cases that things are appropriate to fully test the function calculate_average.\n",
    "\n",
    "**Note**: Due to the generative nature of LLMs you may not get exactly the same results."
   ]
  }
 ],
 "metadata": {
  "colab": {
   "provenance": []
  },
  "kernelspec": {
   "display_name": "Python 3",
   "name": "python3"
  },
  "language_info": {
   "codemirror_mode": {
    "name": "ipython",
    "version": 3
   },
   "file_extension": ".py",
   "mimetype": "text/x-python",
   "name": "python",
   "nbconvert_exporter": "python",
   "pygments_lexer": "ipython3"
  },
  "widgets": {
   "application/vnd.jupyter.widget-state+json": {
    "133891d87bb34b3894d36e63534d133d": {
     "model_module": "yfiles-jupyter-graphs",
     "model_module_version": "^1.6.2",
     "model_name": "GraphModel",
     "state": {
      "_context_pane_mapping": [
       {
        "id": "Neighborhood",
        "title": "Neighborhood"
       },
       {
        "id": "Data",
        "title": "Data"
       },
       {
        "id": "Search",
        "title": "Search"
       },
       {
        "id": "About",
        "title": "About"
       }
      ],
      "_data_importer": "neo4j",
      "_directed": true,
      "_dom_classes": [],
      "_edges": [
       {
        "color": "#673AB7",
        "directed": true,
        "end": 1,
        "id": 1152929201188241400,
        "label": "",
        "properties": {
         "label": "CALLS"
        },
        "start": 2,
        "thickness_factor": 1
       },
       {
        "color": "#673AB7",
        "directed": true,
        "end": 85,
        "id": 1157432800815612000,
        "label": "",
        "properties": {
         "label": "CALLS"
        },
        "start": 2,
        "thickness_factor": 1
       },
       {
        "color": "#673AB7",
        "directed": true,
        "end": 292,
        "id": 1155181001001926700,
        "label": "",
        "properties": {
         "label": "CALLS"
        },
        "start": 2,
        "thickness_factor": 1
       },
       {
        "color": "#673AB7",
        "directed": true,
        "end": 2,
        "id": 1157432800815612000,
        "label": "",
        "properties": {
         "label": "CALLS"
        },
        "start": 3,
        "thickness_factor": 1
       },
       {
        "color": "#673AB7",
        "directed": true,
        "end": 80,
        "id": 1161936400442982400,
        "label": "",
        "properties": {
         "label": "CALLS"
        },
        "start": 3,
        "thickness_factor": 1
       },
       {
        "color": "#673AB7",
        "directed": true,
        "end": 86,
        "id": 1164188200256667600,
        "label": "",
        "properties": {
         "label": "CALLS"
        },
        "start": 3,
        "thickness_factor": 1
       },
       {
        "color": "#673AB7",
        "directed": true,
        "end": 189,
        "id": 1152929201188241400,
        "label": "",
        "properties": {
         "label": "CALLS"
        },
        "start": 3,
        "thickness_factor": 1
       },
       {
        "color": "#673AB7",
        "directed": true,
        "end": 191,
        "id": 1155181001001926700,
        "label": "",
        "properties": {
         "label": "CALLS"
        },
        "start": 3,
        "thickness_factor": 1
       },
       {
        "color": "#673AB7",
        "directed": true,
        "end": 293,
        "id": 1159684600629297200,
        "label": "",
        "properties": {
         "label": "CALLS"
        },
        "start": 3,
        "thickness_factor": 1
       },
       {
        "color": "#673AB7",
        "directed": true,
        "end": 4,
        "id": 1152929201188241400,
        "label": "",
        "properties": {
         "label": "CALLS"
        },
        "start": 6,
        "thickness_factor": 1
       },
       {
        "color": "#673AB7",
        "directed": true,
        "end": 72,
        "id": 1161936400442982400,
        "label": "",
        "properties": {
         "label": "CALLS"
        },
        "start": 6,
        "thickness_factor": 1
       },
       {
        "color": "#673AB7",
        "directed": true,
        "end": 76,
        "id": 1157432800815612000,
        "label": "",
        "properties": {
         "label": "CALLS"
        },
        "start": 6,
        "thickness_factor": 1
       },
       {
        "color": "#673AB7",
        "directed": true,
        "end": 199,
        "id": 1164188200256667600,
        "label": "",
        "properties": {
         "label": "CALLS"
        },
        "start": 6,
        "thickness_factor": 1
       },
       {
        "color": "#673AB7",
        "directed": true,
        "end": 294,
        "id": 1159684600629297200,
        "label": "",
        "properties": {
         "label": "CALLS"
        },
        "start": 6,
        "thickness_factor": 1
       },
       {
        "color": "#673AB7",
        "directed": true,
        "end": 295,
        "id": 1155181001001926700,
        "label": "",
        "properties": {
         "label": "CALLS"
        },
        "start": 6,
        "thickness_factor": 1
       },
       {
        "color": "#9E9E9E",
        "directed": true,
        "end": 77,
        "id": 1155177702467043300,
        "label": "",
        "properties": {
         "label": "FUNCTION_DEFINITION"
        },
        "start": 10,
        "thickness_factor": 1
       },
       {
        "color": "#9E9E9E",
        "directed": true,
        "end": 194,
        "id": 1157429502280728600,
        "label": "",
        "properties": {
         "label": "FUNCTION_DEFINITION"
        },
        "start": 10,
        "thickness_factor": 1
       },
       {
        "color": "#9E9E9E",
        "directed": true,
        "end": 197,
        "id": 1152925902653358000,
        "label": "",
        "properties": {
         "label": "FUNCTION_DEFINITION"
        },
        "start": 10,
        "thickness_factor": 1
       },
       {
        "color": "#9E9E9E",
        "directed": true,
        "end": 283,
        "id": 1159681302094413800,
        "label": "",
        "properties": {
         "label": "FUNCTION_DEFINITION"
        },
        "start": 10,
        "thickness_factor": 1
       },
       {
        "color": "#9C27B0",
        "directed": true,
        "end": 14,
        "id": 1152927002164985900,
        "label": "",
        "properties": {
         "label": "CONTAINS"
        },
        "start": 13,
        "thickness_factor": 1
       },
       {
        "color": "#9C27B0",
        "directed": true,
        "end": 62,
        "id": 1161934201419726800,
        "label": "",
        "properties": {
         "label": "CONTAINS"
        },
        "start": 13,
        "thickness_factor": 1
       },
       {
        "color": "#9C27B0",
        "directed": true,
        "end": 63,
        "id": 1164186001233412000,
        "label": "",
        "properties": {
         "label": "CONTAINS"
        },
        "start": 13,
        "thickness_factor": 1
       },
       {
        "color": "#9C27B0",
        "directed": true,
        "end": 174,
        "id": 1166437801047097300,
        "label": "",
        "properties": {
         "label": "CONTAINS"
        },
        "start": 13,
        "thickness_factor": 1
       },
       {
        "color": "#9C27B0",
        "directed": true,
        "end": 177,
        "id": 1155178801978671000,
        "label": "",
        "properties": {
         "label": "CONTAINS"
        },
        "start": 13,
        "thickness_factor": 1
       },
       {
        "color": "#9C27B0",
        "directed": true,
        "end": 182,
        "id": 1157430601792356400,
        "label": "",
        "properties": {
         "label": "CONTAINS"
        },
        "start": 13,
        "thickness_factor": 1
       },
       {
        "color": "#9C27B0",
        "directed": true,
        "end": 204,
        "id": 1168689600860782600,
        "label": "",
        "properties": {
         "label": "CONTAINS"
        },
        "start": 13,
        "thickness_factor": 1
       },
       {
        "color": "#9C27B0",
        "directed": true,
        "end": 310,
        "id": 1159682401606041600,
        "label": "",
        "properties": {
         "label": "CONTAINS"
        },
        "start": 13,
        "thickness_factor": 1
       },
       {
        "color": "#CDDC39",
        "directed": true,
        "end": 15,
        "id": 1152924803141730300,
        "label": "",
        "properties": {
         "label": "CLASS_DEFINITION"
        },
        "start": 14,
        "thickness_factor": 1
       },
       {
        "color": "#CDDC39",
        "directed": true,
        "end": 305,
        "id": 1155176602955415600,
        "label": "",
        "properties": {
         "label": "CLASS_DEFINITION"
        },
        "start": 14,
        "thickness_factor": 1
       },
       {
        "color": "#2196F3",
        "directed": true,
        "end": 10,
        "id": 1170942500186095600,
        "label": "",
        "properties": {
         "label": "IMPORTS"
        },
        "start": 14,
        "thickness_factor": 1
       },
       {
        "color": "#2196F3",
        "directed": true,
        "end": 57,
        "id": 1157431701303984000,
        "label": "",
        "properties": {
         "label": "IMPORTS"
        },
        "start": 14,
        "thickness_factor": 1
       },
       {
        "color": "#2196F3",
        "directed": true,
        "end": 168,
        "id": 1161935300931354600,
        "label": "",
        "properties": {
         "label": "IMPORTS"
        },
        "start": 14,
        "thickness_factor": 1
       },
       {
        "color": "#2196F3",
        "directed": true,
        "end": 185,
        "id": 1159683501117669400,
        "label": "",
        "properties": {
         "label": "IMPORTS"
        },
        "start": 14,
        "thickness_factor": 1
       },
       {
        "color": "#2196F3",
        "directed": true,
        "end": 188,
        "id": 1152928101676613600,
        "label": "",
        "properties": {
         "label": "IMPORTS"
        },
        "start": 14,
        "thickness_factor": 1
       },
       {
        "color": "#2196F3",
        "directed": true,
        "end": 192,
        "id": 1155179901490299000,
        "label": "",
        "properties": {
         "label": "IMPORTS"
        },
        "start": 14,
        "thickness_factor": 1
       },
       {
        "color": "#2196F3",
        "directed": true,
        "end": 202,
        "id": 1164187100745040000,
        "label": "",
        "properties": {
         "label": "IMPORTS"
        },
        "start": 14,
        "thickness_factor": 1
       },
       {
        "color": "#2196F3",
        "directed": true,
        "end": 265,
        "id": 1168690700372410400,
        "label": "",
        "properties": {
         "label": "IMPORTS"
        },
        "start": 14,
        "thickness_factor": 1
       },
       {
        "color": "#2196F3",
        "directed": true,
        "end": 271,
        "id": 1166438900558725000,
        "label": "",
        "properties": {
         "label": "IMPORTS"
        },
        "start": 14,
        "thickness_factor": 1
       },
       {
        "color": "#9E9E9E",
        "directed": true,
        "end": 5,
        "id": 1166436701535469600,
        "label": "",
        "properties": {
         "label": "FUNCTION_DEFINITION"
        },
        "start": 15,
        "thickness_factor": 1
       },
       {
        "color": "#9E9E9E",
        "directed": true,
        "end": 16,
        "id": 1152925902653358000,
        "label": "",
        "properties": {
         "label": "FUNCTION_DEFINITION"
        },
        "start": 15,
        "thickness_factor": 1
       },
       {
        "color": "#9E9E9E",
        "directed": true,
        "end": 17,
        "id": 1157429502280728600,
        "label": "",
        "properties": {
         "label": "FUNCTION_DEFINITION"
        },
        "start": 15,
        "thickness_factor": 1
       },
       {
        "color": "#9E9E9E",
        "directed": true,
        "end": 18,
        "id": 1161933101908099000,
        "label": "",
        "properties": {
         "label": "FUNCTION_DEFINITION"
        },
        "start": 15,
        "thickness_factor": 1
       },
       {
        "color": "#9E9E9E",
        "directed": true,
        "end": 176,
        "id": 1155177702467043300,
        "label": "",
        "properties": {
         "label": "FUNCTION_DEFINITION"
        },
        "start": 15,
        "thickness_factor": 1
       },
       {
        "color": "#9E9E9E",
        "directed": true,
        "end": 181,
        "id": 1170940301162840000,
        "label": "",
        "properties": {
         "label": "FUNCTION_DEFINITION"
        },
        "start": 15,
        "thickness_factor": 1
       },
       {
        "color": "#9E9E9E",
        "directed": true,
        "end": 290,
        "id": 1173192100976525300,
        "label": "",
        "properties": {
         "label": "FUNCTION_DEFINITION"
        },
        "start": 15,
        "thickness_factor": 1
       },
       {
        "color": "#9E9E9E",
        "directed": true,
        "end": 307,
        "id": 1168688501349154800,
        "label": "",
        "properties": {
         "label": "FUNCTION_DEFINITION"
        },
        "start": 15,
        "thickness_factor": 1
       },
       {
        "color": "#9E9E9E",
        "directed": true,
        "end": 308,
        "id": 1159681302094413800,
        "label": "",
        "properties": {
         "label": "FUNCTION_DEFINITION"
        },
        "start": 15,
        "thickness_factor": 1
       },
       {
        "color": "#9E9E9E",
        "directed": true,
        "end": 309,
        "id": 1164184901721784300,
        "label": "",
        "properties": {
         "label": "FUNCTION_DEFINITION"
        },
        "start": 15,
        "thickness_factor": 1
       },
       {
        "color": "#673AB7",
        "directed": true,
        "end": 15,
        "id": 1152929201188241400,
        "label": "",
        "properties": {
         "label": "CALLS"
        },
        "start": 17,
        "thickness_factor": 1
       },
       {
        "color": "#673AB7",
        "directed": true,
        "end": 258,
        "id": 1166440000070353000,
        "label": "",
        "properties": {
         "label": "CALLS"
        },
        "start": 17,
        "thickness_factor": 1
       },
       {
        "color": "#673AB7",
        "directed": true,
        "end": 260,
        "id": 1168691799884038100,
        "label": "",
        "properties": {
         "label": "CALLS"
        },
        "start": 17,
        "thickness_factor": 1
       },
       {
        "color": "#673AB7",
        "directed": true,
        "end": 305,
        "id": 1155181001001926700,
        "label": "",
        "properties": {
         "label": "CALLS"
        },
        "start": 17,
        "thickness_factor": 1
       },
       {
        "color": "#673AB7",
        "directed": true,
        "end": 308,
        "id": 1159684600629297200,
        "label": "",
        "properties": {
         "label": "CALLS"
        },
        "start": 17,
        "thickness_factor": 1
       },
       {
        "color": "#673AB7",
        "directed": true,
        "end": 17,
        "id": 1157432800815612000,
        "label": "",
        "properties": {
         "label": "CALLS"
        },
        "start": 17,
        "thickness_factor": 1
       },
       {
        "color": "#673AB7",
        "directed": true,
        "end": 21,
        "id": 1152929201188241400,
        "label": "",
        "properties": {
         "label": "CALLS"
        },
        "start": 23,
        "thickness_factor": 1
       },
       {
        "color": "#2196F3",
        "directed": true,
        "end": 258,
        "id": 1152928101676613600,
        "label": "",
        "properties": {
         "label": "IMPORTS"
        },
        "start": 29,
        "thickness_factor": 1
       },
       {
        "color": "#2196F3",
        "directed": true,
        "end": 271,
        "id": 1155179901490299000,
        "label": "",
        "properties": {
         "label": "IMPORTS"
        },
        "start": 29,
        "thickness_factor": 1
       },
       {
        "color": "#673AB7",
        "directed": true,
        "end": 42,
        "id": 1152929201188241400,
        "label": "",
        "properties": {
         "label": "CALLS"
        },
        "start": 52,
        "thickness_factor": 1
       },
       {
        "color": "#673AB7",
        "directed": true,
        "end": 156,
        "id": 1155181001001926700,
        "label": "",
        "properties": {
         "label": "CALLS"
        },
        "start": 52,
        "thickness_factor": 1
       },
       {
        "color": "#673AB7",
        "directed": true,
        "end": 52,
        "id": 1155181001001926700,
        "label": "",
        "properties": {
         "label": "CALLS"
        },
        "start": 53,
        "thickness_factor": 1
       },
       {
        "color": "#673AB7",
        "directed": true,
        "end": 154,
        "id": 1157432800815612000,
        "label": "",
        "properties": {
         "label": "CALLS"
        },
        "start": 53,
        "thickness_factor": 1
       },
       {
        "color": "#673AB7",
        "directed": true,
        "end": 157,
        "id": 1159684600629297200,
        "label": "",
        "properties": {
         "label": "CALLS"
        },
        "start": 53,
        "thickness_factor": 1
       },
       {
        "color": "#673AB7",
        "directed": true,
        "end": 288,
        "id": 1152929201188241400,
        "label": "",
        "properties": {
         "label": "CALLS"
        },
        "start": 53,
        "thickness_factor": 1
       },
       {
        "color": "#673AB7",
        "directed": true,
        "end": 54,
        "id": 1152929201188241400,
        "label": "",
        "properties": {
         "label": "CALLS"
        },
        "start": 55,
        "thickness_factor": 1
       },
       {
        "color": "#673AB7",
        "directed": true,
        "end": 159,
        "id": 1155181001001926700,
        "label": "",
        "properties": {
         "label": "CALLS"
        },
        "start": 55,
        "thickness_factor": 1
       },
       {
        "color": "#9E9E9E",
        "directed": true,
        "end": 60,
        "id": 1161933101908099000,
        "label": "",
        "properties": {
         "label": "FUNCTION_DEFINITION"
        },
        "start": 57,
        "thickness_factor": 1
       },
       {
        "color": "#9E9E9E",
        "directed": true,
        "end": 186,
        "id": 1157429502280728600,
        "label": "",
        "properties": {
         "label": "FUNCTION_DEFINITION"
        },
        "start": 57,
        "thickness_factor": 1
       },
       {
        "color": "#9E9E9E",
        "directed": true,
        "end": 187,
        "id": 1164184901721784300,
        "label": "",
        "properties": {
         "label": "FUNCTION_DEFINITION"
        },
        "start": 57,
        "thickness_factor": 1
       },
       {
        "color": "#9E9E9E",
        "directed": true,
        "end": 190,
        "id": 1166436701535469600,
        "label": "",
        "properties": {
         "label": "FUNCTION_DEFINITION"
        },
        "start": 57,
        "thickness_factor": 1
       },
       {
        "color": "#9E9E9E",
        "directed": true,
        "end": 306,
        "id": 1168688501349154800,
        "label": "",
        "properties": {
         "label": "FUNCTION_DEFINITION"
        },
        "start": 57,
        "thickness_factor": 1
       },
       {
        "color": "#9E9E9E",
        "directed": true,
        "end": 312,
        "id": 1152925902653358000,
        "label": "",
        "properties": {
         "label": "FUNCTION_DEFINITION"
        },
        "start": 57,
        "thickness_factor": 1
       },
       {
        "color": "#9E9E9E",
        "directed": true,
        "end": 314,
        "id": 1155177702467043300,
        "label": "",
        "properties": {
         "label": "FUNCTION_DEFINITION"
        },
        "start": 57,
        "thickness_factor": 1
       },
       {
        "color": "#9E9E9E",
        "directed": true,
        "end": 315,
        "id": 1159681302094413800,
        "label": "",
        "properties": {
         "label": "FUNCTION_DEFINITION"
        },
        "start": 57,
        "thickness_factor": 1
       },
       {
        "color": "#CDDC39",
        "directed": true,
        "end": 188,
        "id": 1152924803141730300,
        "label": "",
        "properties": {
         "label": "CLASS_DEFINITION"
        },
        "start": 62,
        "thickness_factor": 1
       },
       {
        "color": "#CDDC39",
        "directed": true,
        "end": 188,
        "id": 1155176602955415600,
        "label": "",
        "properties": {
         "label": "CLASS_DEFINITION"
        },
        "start": 62,
        "thickness_factor": 1
       },
       {
        "color": "#CDDC39",
        "directed": true,
        "end": 192,
        "id": 1157428402769100800,
        "label": "",
        "properties": {
         "label": "CLASS_DEFINITION"
        },
        "start": 62,
        "thickness_factor": 1
       },
       {
        "color": "#CDDC39",
        "directed": true,
        "end": 188,
        "id": 1152924803141730300,
        "label": "",
        "properties": {
         "label": "CLASS_DEFINITION"
        },
        "start": 63,
        "thickness_factor": 1
       },
       {
        "color": "#CDDC39",
        "directed": true,
        "end": 192,
        "id": 1155176602955415600,
        "label": "",
        "properties": {
         "label": "CLASS_DEFINITION"
        },
        "start": 63,
        "thickness_factor": 1
       },
       {
        "color": "#673AB7",
        "directed": true,
        "end": 73,
        "id": 1155181001001926700,
        "label": "",
        "properties": {
         "label": "CALLS"
        },
        "start": 64,
        "thickness_factor": 1
       },
       {
        "color": "#673AB7",
        "directed": true,
        "end": 193,
        "id": 1152929201188241400,
        "label": "",
        "properties": {
         "label": "CALLS"
        },
        "start": 64,
        "thickness_factor": 1
       },
       {
        "color": "#673AB7",
        "directed": true,
        "end": 193,
        "id": 1157432800815612000,
        "label": "",
        "properties": {
         "label": "CALLS"
        },
        "start": 64,
        "thickness_factor": 1
       },
       {
        "color": "#673AB7",
        "directed": true,
        "end": 273,
        "id": 1159684600629297200,
        "label": "",
        "properties": {
         "label": "CALLS"
        },
        "start": 64,
        "thickness_factor": 1
       },
       {
        "color": "#673AB7",
        "directed": true,
        "end": 73,
        "id": 1152929201188241400,
        "label": "",
        "properties": {
         "label": "CALLS"
        },
        "start": 65,
        "thickness_factor": 1
       },
       {
        "color": "#673AB7",
        "directed": true,
        "end": 193,
        "id": 1155181001001926700,
        "label": "",
        "properties": {
         "label": "CALLS"
        },
        "start": 65,
        "thickness_factor": 1
       },
       {
        "color": "#673AB7",
        "directed": true,
        "end": 273,
        "id": 1157432800815612000,
        "label": "",
        "properties": {
         "label": "CALLS"
        },
        "start": 65,
        "thickness_factor": 1
       },
       {
        "color": "#673AB7",
        "directed": true,
        "end": 4,
        "id": 1152929201188241400,
        "label": "",
        "properties": {
         "label": "CALLS"
        },
        "start": 76,
        "thickness_factor": 1
       },
       {
        "color": "#673AB7",
        "directed": true,
        "end": 72,
        "id": 1157432800815612000,
        "label": "",
        "properties": {
         "label": "CALLS"
        },
        "start": 76,
        "thickness_factor": 1
       },
       {
        "color": "#673AB7",
        "directed": true,
        "end": 295,
        "id": 1155181001001926700,
        "label": "",
        "properties": {
         "label": "CALLS"
        },
        "start": 76,
        "thickness_factor": 1
       },
       {
        "color": "#2196F3",
        "directed": true,
        "end": 15,
        "id": 1152928101676613600,
        "label": "",
        "properties": {
         "label": "IMPORTS"
        },
        "start": 78,
        "thickness_factor": 1
       },
       {
        "color": "#2196F3",
        "directed": true,
        "end": 188,
        "id": 1157431701303984000,
        "label": "",
        "properties": {
         "label": "IMPORTS"
        },
        "start": 78,
        "thickness_factor": 1
       },
       {
        "color": "#2196F3",
        "directed": true,
        "end": 192,
        "id": 1159683501117669400,
        "label": "",
        "properties": {
         "label": "IMPORTS"
        },
        "start": 78,
        "thickness_factor": 1
       },
       {
        "color": "#2196F3",
        "directed": true,
        "end": 258,
        "id": 1161935300931354600,
        "label": "",
        "properties": {
         "label": "IMPORTS"
        },
        "start": 78,
        "thickness_factor": 1
       },
       {
        "color": "#2196F3",
        "directed": true,
        "end": 271,
        "id": 1164187100745040000,
        "label": "",
        "properties": {
         "label": "IMPORTS"
        },
        "start": 78,
        "thickness_factor": 1
       },
       {
        "color": "#2196F3",
        "directed": true,
        "end": 305,
        "id": 1155179901490299000,
        "label": "",
        "properties": {
         "label": "IMPORTS"
        },
        "start": 78,
        "thickness_factor": 1
       },
       {
        "color": "#9C27B0",
        "directed": true,
        "end": 29,
        "id": 1157430601792356400,
        "label": "",
        "properties": {
         "label": "CONTAINS"
        },
        "start": 79,
        "thickness_factor": 1
       },
       {
        "color": "#9C27B0",
        "directed": true,
        "end": 30,
        "id": 1159682401606041600,
        "label": "",
        "properties": {
         "label": "CONTAINS"
        },
        "start": 79,
        "thickness_factor": 1
       },
       {
        "color": "#9C27B0",
        "directed": true,
        "end": 81,
        "id": 1152927002164985900,
        "label": "",
        "properties": {
         "label": "CONTAINS"
        },
        "start": 79,
        "thickness_factor": 1
       },
       {
        "color": "#9C27B0",
        "directed": true,
        "end": 256,
        "id": 1155178801978671000,
        "label": "",
        "properties": {
         "label": "CONTAINS"
        },
        "start": 79,
        "thickness_factor": 1
       },
       {
        "color": "#9C27B0",
        "directed": true,
        "end": 10,
        "id": 1155178801978671000,
        "label": "",
        "properties": {
         "label": "CONTAINS"
        },
        "start": 81,
        "thickness_factor": 1
       },
       {
        "color": "#9C27B0",
        "directed": true,
        "end": 209,
        "id": 1152927002164985900,
        "label": "",
        "properties": {
         "label": "CONTAINS"
        },
        "start": 81,
        "thickness_factor": 1
       },
       {
        "color": "#9C27B0",
        "directed": true,
        "end": 284,
        "id": 1157430601792356400,
        "label": "",
        "properties": {
         "label": "CONTAINS"
        },
        "start": 81,
        "thickness_factor": 1
       },
       {
        "color": "#673AB7",
        "directed": true,
        "end": 85,
        "id": 1152929201188241400,
        "label": "",
        "properties": {
         "label": "CALLS"
        },
        "start": 86,
        "thickness_factor": 1
       },
       {
        "color": "#9E9E9E",
        "directed": true,
        "end": 98,
        "id": 1152925902653358000,
        "label": "",
        "properties": {
         "label": "FUNCTION_DEFINITION"
        },
        "start": 97,
        "thickness_factor": 1
       },
       {
        "color": "#9E9E9E",
        "directed": true,
        "end": 239,
        "id": 1155177702467043300,
        "label": "",
        "properties": {
         "label": "FUNCTION_DEFINITION"
        },
        "start": 97,
        "thickness_factor": 1
       },
       {
        "color": "#9E9E9E",
        "directed": true,
        "end": 240,
        "id": 1157429502280728600,
        "label": "",
        "properties": {
         "label": "FUNCTION_DEFINITION"
        },
        "start": 97,
        "thickness_factor": 1
       },
       {
        "color": "#9E9E9E",
        "directed": true,
        "end": 241,
        "id": 1159681302094413800,
        "label": "",
        "properties": {
         "label": "FUNCTION_DEFINITION"
        },
        "start": 97,
        "thickness_factor": 1
       },
       {
        "color": "#9C27B0",
        "directed": true,
        "end": 103,
        "id": 1152927002164985900,
        "label": "",
        "properties": {
         "label": "CONTAINS"
        },
        "start": 102,
        "thickness_factor": 1
       },
       {
        "color": "#9C27B0",
        "directed": true,
        "end": 110,
        "id": 1155178801978671000,
        "label": "",
        "properties": {
         "label": "CONTAINS"
        },
        "start": 102,
        "thickness_factor": 1
       },
       {
        "color": "#9C27B0",
        "directed": true,
        "end": 118,
        "id": 1157430601792356400,
        "label": "",
        "properties": {
         "label": "CONTAINS"
        },
        "start": 102,
        "thickness_factor": 1
       },
       {
        "color": "#9C27B0",
        "directed": true,
        "end": 170,
        "id": 1159682401606041600,
        "label": "",
        "properties": {
         "label": "CONTAINS"
        },
        "start": 102,
        "thickness_factor": 1
       },
       {
        "color": "#CDDC39",
        "directed": true,
        "end": 104,
        "id": 1152924803141730300,
        "label": "",
        "properties": {
         "label": "CLASS_DEFINITION"
        },
        "start": 103,
        "thickness_factor": 1
       },
       {
        "color": "#2196F3",
        "directed": true,
        "end": 111,
        "id": 1155179901490299000,
        "label": "",
        "properties": {
         "label": "IMPORTS"
        },
        "start": 103,
        "thickness_factor": 1
       },
       {
        "color": "#2196F3",
        "directed": true,
        "end": 119,
        "id": 1152928101676613600,
        "label": "",
        "properties": {
         "label": "IMPORTS"
        },
        "start": 103,
        "thickness_factor": 1
       },
       {
        "color": "#2196F3",
        "directed": true,
        "end": 162,
        "id": 1157431701303984000,
        "label": "",
        "properties": {
         "label": "IMPORTS"
        },
        "start": 103,
        "thickness_factor": 1
       },
       {
        "color": "#9E9E9E",
        "directed": true,
        "end": 105,
        "id": 1152925902653358000,
        "label": "",
        "properties": {
         "label": "FUNCTION_DEFINITION"
        },
        "start": 104,
        "thickness_factor": 1
       },
       {
        "color": "#9E9E9E",
        "directed": true,
        "end": 106,
        "id": 1155177702467043300,
        "label": "",
        "properties": {
         "label": "FUNCTION_DEFINITION"
        },
        "start": 104,
        "thickness_factor": 1
       },
       {
        "color": "#9E9E9E",
        "directed": true,
        "end": 107,
        "id": 1157429502280728600,
        "label": "",
        "properties": {
         "label": "FUNCTION_DEFINITION"
        },
        "start": 104,
        "thickness_factor": 1
       },
       {
        "color": "#9E9E9E",
        "directed": true,
        "end": 108,
        "id": 1159681302094413800,
        "label": "",
        "properties": {
         "label": "FUNCTION_DEFINITION"
        },
        "start": 104,
        "thickness_factor": 1
       },
       {
        "color": "#9E9E9E",
        "directed": true,
        "end": 109,
        "id": 1161933101908099000,
        "label": "",
        "properties": {
         "label": "FUNCTION_DEFINITION"
        },
        "start": 104,
        "thickness_factor": 1
       },
       {
        "color": "#673AB7",
        "directed": true,
        "end": 104,
        "id": 1152929201188241400,
        "label": "",
        "properties": {
         "label": "CALLS"
        },
        "start": 106,
        "thickness_factor": 1
       },
       {
        "color": "#673AB7",
        "directed": true,
        "end": 106,
        "id": 1155181001001926700,
        "label": "",
        "properties": {
         "label": "CALLS"
        },
        "start": 106,
        "thickness_factor": 1
       },
       {
        "color": "#673AB7",
        "directed": true,
        "end": 106,
        "id": 6922040323849847000,
        "label": "",
        "properties": {
         "label": "CALLS"
        },
        "start": 109,
        "thickness_factor": 1
       },
       {
        "color": "#673AB7",
        "directed": true,
        "end": 107,
        "id": 1152929201188241400,
        "label": "",
        "properties": {
         "label": "CALLS"
        },
        "start": 109,
        "thickness_factor": 1
       },
       {
        "color": "#673AB7",
        "directed": true,
        "end": 108,
        "id": 1155181001001926700,
        "label": "",
        "properties": {
         "label": "CALLS"
        },
        "start": 109,
        "thickness_factor": 1
       },
       {
        "color": "#CDDC39",
        "directed": true,
        "end": 111,
        "id": 1152924803141730300,
        "label": "",
        "properties": {
         "label": "CLASS_DEFINITION"
        },
        "start": 110,
        "thickness_factor": 1
       },
       {
        "color": "#2196F3",
        "directed": true,
        "end": 153,
        "id": 1155179901490299000,
        "label": "",
        "properties": {
         "label": "IMPORTS"
        },
        "start": 110,
        "thickness_factor": 1
       },
       {
        "color": "#2196F3",
        "directed": true,
        "end": 162,
        "id": 1152928101676613600,
        "label": "",
        "properties": {
         "label": "IMPORTS"
        },
        "start": 110,
        "thickness_factor": 1
       },
       {
        "color": "#9E9E9E",
        "directed": true,
        "end": 112,
        "id": 1152925902653358000,
        "label": "",
        "properties": {
         "label": "FUNCTION_DEFINITION"
        },
        "start": 111,
        "thickness_factor": 1
       },
       {
        "color": "#9E9E9E",
        "directed": true,
        "end": 113,
        "id": 1155177702467043300,
        "label": "",
        "properties": {
         "label": "FUNCTION_DEFINITION"
        },
        "start": 111,
        "thickness_factor": 1
       },
       {
        "color": "#9E9E9E",
        "directed": true,
        "end": 116,
        "id": 1157429502280728600,
        "label": "",
        "properties": {
         "label": "FUNCTION_DEFINITION"
        },
        "start": 111,
        "thickness_factor": 1
       },
       {
        "color": "#9E9E9E",
        "directed": true,
        "end": 117,
        "id": 1159681302094413800,
        "label": "",
        "properties": {
         "label": "FUNCTION_DEFINITION"
        },
        "start": 111,
        "thickness_factor": 1
       },
       {
        "color": "#673AB7",
        "directed": true,
        "end": 111,
        "id": 1159684600629297200,
        "label": "",
        "properties": {
         "label": "CALLS"
        },
        "start": 113,
        "thickness_factor": 1
       },
       {
        "color": "#673AB7",
        "directed": true,
        "end": 116,
        "id": 1152929201188241400,
        "label": "",
        "properties": {
         "label": "CALLS"
        },
        "start": 113,
        "thickness_factor": 1
       },
       {
        "color": "#673AB7",
        "directed": true,
        "end": 116,
        "id": 1155181001001926700,
        "label": "",
        "properties": {
         "label": "CALLS"
        },
        "start": 113,
        "thickness_factor": 1
       },
       {
        "color": "#673AB7",
        "directed": true,
        "end": 117,
        "id": 1157432800815612000,
        "label": "",
        "properties": {
         "label": "CALLS"
        },
        "start": 113,
        "thickness_factor": 1
       },
       {
        "color": "#CDDC39",
        "directed": true,
        "end": 119,
        "id": 1152924803141730300,
        "label": "",
        "properties": {
         "label": "CLASS_DEFINITION"
        },
        "start": 118,
        "thickness_factor": 1
       },
       {
        "color": "#9E9E9E",
        "directed": true,
        "end": 61,
        "id": 1173192100976525300,
        "label": "",
        "properties": {
         "label": "FUNCTION_DEFINITION"
        },
        "start": 119,
        "thickness_factor": 1
       },
       {
        "color": "#9E9E9E",
        "directed": true,
        "end": 120,
        "id": 1152925902653358000,
        "label": "",
        "properties": {
         "label": "FUNCTION_DEFINITION"
        },
        "start": 119,
        "thickness_factor": 1
       },
       {
        "color": "#9E9E9E",
        "directed": true,
        "end": 121,
        "id": 1155177702467043300,
        "label": "",
        "properties": {
         "label": "FUNCTION_DEFINITION"
        },
        "start": 119,
        "thickness_factor": 1
       },
       {
        "color": "#9E9E9E",
        "directed": true,
        "end": 122,
        "id": 1157429502280728600,
        "label": "",
        "properties": {
         "label": "FUNCTION_DEFINITION"
        },
        "start": 119,
        "thickness_factor": 1
       },
       {
        "color": "#9E9E9E",
        "directed": true,
        "end": 123,
        "id": 1159681302094413800,
        "label": "",
        "properties": {
         "label": "FUNCTION_DEFINITION"
        },
        "start": 119,
        "thickness_factor": 1
       },
       {
        "color": "#9E9E9E",
        "directed": true,
        "end": 124,
        "id": 1161933101908099000,
        "label": "",
        "properties": {
         "label": "FUNCTION_DEFINITION"
        },
        "start": 119,
        "thickness_factor": 1
       },
       {
        "color": "#9E9E9E",
        "directed": true,
        "end": 125,
        "id": 1164184901721784300,
        "label": "",
        "properties": {
         "label": "FUNCTION_DEFINITION"
        },
        "start": 119,
        "thickness_factor": 1
       },
       {
        "color": "#9E9E9E",
        "directed": true,
        "end": 126,
        "id": 1166436701535469600,
        "label": "",
        "properties": {
         "label": "FUNCTION_DEFINITION"
        },
        "start": 119,
        "thickness_factor": 1
       },
       {
        "color": "#9E9E9E",
        "directed": true,
        "end": 127,
        "id": 1168688501349154800,
        "label": "",
        "properties": {
         "label": "FUNCTION_DEFINITION"
        },
        "start": 119,
        "thickness_factor": 1
       },
       {
        "color": "#9E9E9E",
        "directed": true,
        "end": 180,
        "id": 1170940301162840000,
        "label": "",
        "properties": {
         "label": "FUNCTION_DEFINITION"
        },
        "start": 119,
        "thickness_factor": 1
       },
       {
        "color": "#9E9E9E",
        "directed": true,
        "end": 184,
        "id": 1175443900790210600,
        "label": "",
        "properties": {
         "label": "FUNCTION_DEFINITION"
        },
        "start": 119,
        "thickness_factor": 1
       },
       {
        "color": "#9E9E9E",
        "directed": true,
        "end": 302,
        "id": 1177695700603895800,
        "label": "",
        "properties": {
         "label": "FUNCTION_DEFINITION"
        },
        "start": 119,
        "thickness_factor": 1
       },
       {
        "color": "#673AB7",
        "directed": true,
        "end": 121,
        "id": 1152929201188241400,
        "label": "",
        "properties": {
         "label": "CALLS"
        },
        "start": 120,
        "thickness_factor": 1
       },
       {
        "color": "#673AB7",
        "directed": true,
        "end": 125,
        "id": 1152929201188241400,
        "label": "",
        "properties": {
         "label": "CALLS"
        },
        "start": 127,
        "thickness_factor": 1
       },
       {
        "color": "#CDDC39",
        "directed": true,
        "end": 135,
        "id": 1152924803141730600,
        "label": "",
        "properties": {
         "label": "CLASS_DEFINITION"
        },
        "start": 134,
        "thickness_factor": 1
       },
       {
        "color": "#9E9E9E",
        "directed": true,
        "end": 136,
        "id": 1152925902653358300,
        "label": "",
        "properties": {
         "label": "FUNCTION_DEFINITION"
        },
        "start": 135,
        "thickness_factor": 1
       },
       {
        "color": "#9E9E9E",
        "directed": true,
        "end": 137,
        "id": 1155177702467043600,
        "label": "",
        "properties": {
         "label": "FUNCTION_DEFINITION"
        },
        "start": 135,
        "thickness_factor": 1
       },
       {
        "color": "#9E9E9E",
        "directed": true,
        "end": 138,
        "id": 1157429502280728800,
        "label": "",
        "properties": {
         "label": "FUNCTION_DEFINITION"
        },
        "start": 135,
        "thickness_factor": 1
       },
       {
        "color": "#9E9E9E",
        "directed": true,
        "end": 139,
        "id": 1159681302094414000,
        "label": "",
        "properties": {
         "label": "FUNCTION_DEFINITION"
        },
        "start": 135,
        "thickness_factor": 1
       },
       {
        "color": "#9E9E9E",
        "directed": true,
        "end": 140,
        "id": 1161933101908099300,
        "label": "",
        "properties": {
         "label": "FUNCTION_DEFINITION"
        },
        "start": 135,
        "thickness_factor": 1
       },
       {
        "color": "#9E9E9E",
        "directed": true,
        "end": 141,
        "id": 1164184901721784600,
        "label": "",
        "properties": {
         "label": "FUNCTION_DEFINITION"
        },
        "start": 135,
        "thickness_factor": 1
       },
       {
        "color": "#9E9E9E",
        "directed": true,
        "end": 142,
        "id": 1166436701535469800,
        "label": "",
        "properties": {
         "label": "FUNCTION_DEFINITION"
        },
        "start": 135,
        "thickness_factor": 1
       },
       {
        "color": "#9E9E9E",
        "directed": true,
        "end": 143,
        "id": 1168688501349155000,
        "label": "",
        "properties": {
         "label": "FUNCTION_DEFINITION"
        },
        "start": 135,
        "thickness_factor": 1
       },
       {
        "color": "#9E9E9E",
        "directed": true,
        "end": 144,
        "id": 1170940301162840300,
        "label": "",
        "properties": {
         "label": "FUNCTION_DEFINITION"
        },
        "start": 135,
        "thickness_factor": 1
       },
       {
        "color": "#9E9E9E",
        "directed": true,
        "end": 145,
        "id": 1173192100976525600,
        "label": "",
        "properties": {
         "label": "FUNCTION_DEFINITION"
        },
        "start": 135,
        "thickness_factor": 1
       },
       {
        "color": "#9E9E9E",
        "directed": true,
        "end": 146,
        "id": 1175443900790210800,
        "label": "",
        "properties": {
         "label": "FUNCTION_DEFINITION"
        },
        "start": 135,
        "thickness_factor": 1
       },
       {
        "color": "#9E9E9E",
        "directed": true,
        "end": 147,
        "id": 1177695700603896000,
        "label": "",
        "properties": {
         "label": "FUNCTION_DEFINITION"
        },
        "start": 135,
        "thickness_factor": 1
       },
       {
        "color": "#673AB7",
        "directed": true,
        "end": 121,
        "id": 1155181001001927000,
        "label": "",
        "properties": {
         "label": "CALLS"
        },
        "start": 136,
        "thickness_factor": 1
       },
       {
        "color": "#673AB7",
        "directed": true,
        "end": 137,
        "id": 1152929201188241700,
        "label": "",
        "properties": {
         "label": "CALLS"
        },
        "start": 136,
        "thickness_factor": 1
       },
       {
        "color": "#673AB7",
        "directed": true,
        "end": 125,
        "id": 1155181001001927000,
        "label": "",
        "properties": {
         "label": "CALLS"
        },
        "start": 143,
        "thickness_factor": 1
       },
       {
        "color": "#673AB7",
        "directed": true,
        "end": 141,
        "id": 1152929201188241700,
        "label": "",
        "properties": {
         "label": "CALLS"
        },
        "start": 143,
        "thickness_factor": 1
       },
       {
        "color": "#2196F3",
        "directed": true,
        "end": 104,
        "id": 1157431701303984400,
        "label": "",
        "properties": {
         "label": "IMPORTS"
        },
        "start": 149,
        "thickness_factor": 1
       },
       {
        "color": "#2196F3",
        "directed": true,
        "end": 119,
        "id": 1159683501117669600,
        "label": "",
        "properties": {
         "label": "IMPORTS"
        },
        "start": 149,
        "thickness_factor": 1
       },
       {
        "color": "#2196F3",
        "directed": true,
        "end": 135,
        "id": 1155179901490299100,
        "label": "",
        "properties": {
         "label": "IMPORTS"
        },
        "start": 149,
        "thickness_factor": 1
       },
       {
        "color": "#2196F3",
        "directed": true,
        "end": 245,
        "id": 1152928101676614000,
        "label": "",
        "properties": {
         "label": "IMPORTS"
        },
        "start": 149,
        "thickness_factor": 1
       },
       {
        "color": "#9C27B0",
        "directed": true,
        "end": 59,
        "id": 1159682401606041900,
        "label": "",
        "properties": {
         "label": "CONTAINS"
        },
        "start": 151,
        "thickness_factor": 1
       },
       {
        "color": "#9C27B0",
        "directed": true,
        "end": 102,
        "id": 1155178801978671400,
        "label": "",
        "properties": {
         "label": "CONTAINS"
        },
        "start": 151,
        "thickness_factor": 1
       },
       {
        "color": "#9C27B0",
        "directed": true,
        "end": 152,
        "id": 1152927002164986000,
        "label": "",
        "properties": {
         "label": "CONTAINS"
        },
        "start": 151,
        "thickness_factor": 1
       },
       {
        "color": "#9C27B0",
        "directed": true,
        "end": 166,
        "id": 1157430601792356600,
        "label": "",
        "properties": {
         "label": "CONTAINS"
        },
        "start": 151,
        "thickness_factor": 1
       },
       {
        "color": "#9C27B0",
        "directed": true,
        "end": 101,
        "id": 1157430601792356600,
        "label": "",
        "properties": {
         "label": "CONTAINS"
        },
        "start": 152,
        "thickness_factor": 1
       },
       {
        "color": "#9C27B0",
        "directed": true,
        "end": 153,
        "id": 1152927002164986000,
        "label": "",
        "properties": {
         "label": "CONTAINS"
        },
        "start": 152,
        "thickness_factor": 1
       },
       {
        "color": "#9C27B0",
        "directed": true,
        "end": 162,
        "id": 1155178801978671400,
        "label": "",
        "properties": {
         "label": "CONTAINS"
        },
        "start": 152,
        "thickness_factor": 1
       },
       {
        "color": "#9E9E9E",
        "directed": true,
        "end": 154,
        "id": 1152925902653358300,
        "label": "",
        "properties": {
         "label": "FUNCTION_DEFINITION"
        },
        "start": 153,
        "thickness_factor": 1
       },
       {
        "color": "#9E9E9E",
        "directed": true,
        "end": 155,
        "id": 1155177702467043600,
        "label": "",
        "properties": {
         "label": "FUNCTION_DEFINITION"
        },
        "start": 153,
        "thickness_factor": 1
       },
       {
        "color": "#9E9E9E",
        "directed": true,
        "end": 156,
        "id": 1157429502280728800,
        "label": "",
        "properties": {
         "label": "FUNCTION_DEFINITION"
        },
        "start": 153,
        "thickness_factor": 1
       },
       {
        "color": "#9E9E9E",
        "directed": true,
        "end": 157,
        "id": 1159681302094414000,
        "label": "",
        "properties": {
         "label": "FUNCTION_DEFINITION"
        },
        "start": 153,
        "thickness_factor": 1
       },
       {
        "color": "#9E9E9E",
        "directed": true,
        "end": 158,
        "id": 1161933101908099300,
        "label": "",
        "properties": {
         "label": "FUNCTION_DEFINITION"
        },
        "start": 153,
        "thickness_factor": 1
       },
       {
        "color": "#9E9E9E",
        "directed": true,
        "end": 159,
        "id": 1164184901721784600,
        "label": "",
        "properties": {
         "label": "FUNCTION_DEFINITION"
        },
        "start": 153,
        "thickness_factor": 1
       },
       {
        "color": "#9E9E9E",
        "directed": true,
        "end": 160,
        "id": 1166436701535469800,
        "label": "",
        "properties": {
         "label": "FUNCTION_DEFINITION"
        },
        "start": 153,
        "thickness_factor": 1
       },
       {
        "color": "#9E9E9E",
        "directed": true,
        "end": 161,
        "id": 1168688501349155000,
        "label": "",
        "properties": {
         "label": "FUNCTION_DEFINITION"
        },
        "start": 153,
        "thickness_factor": 1
       },
       {
        "color": "#673AB7",
        "directed": true,
        "end": 156,
        "id": 1152929201188241700,
        "label": "",
        "properties": {
         "label": "CALLS"
        },
        "start": 157,
        "thickness_factor": 1
       },
       {
        "color": "#673AB7",
        "directed": true,
        "end": 154,
        "id": 1152929201188241700,
        "label": "",
        "properties": {
         "label": "CALLS"
        },
        "start": 158,
        "thickness_factor": 1
       },
       {
        "color": "#673AB7",
        "directed": true,
        "end": 157,
        "id": 1155181001001927000,
        "label": "",
        "properties": {
         "label": "CALLS"
        },
        "start": 158,
        "thickness_factor": 1
       },
       {
        "color": "#673AB7",
        "directed": true,
        "end": 159,
        "id": 1152929201188241700,
        "label": "",
        "properties": {
         "label": "CALLS"
        },
        "start": 160,
        "thickness_factor": 1
       },
       {
        "color": "#673AB7",
        "directed": true,
        "end": 159,
        "id": 1152929201188241700,
        "label": "",
        "properties": {
         "label": "CALLS"
        },
        "start": 161,
        "thickness_factor": 1
       },
       {
        "color": "#673AB7",
        "directed": true,
        "end": 160,
        "id": 1155181001001927000,
        "label": "",
        "properties": {
         "label": "CALLS"
        },
        "start": 161,
        "thickness_factor": 1
       },
       {
        "color": "#9E9E9E",
        "directed": true,
        "end": 99,
        "id": 1157429502280728800,
        "label": "",
        "properties": {
         "label": "FUNCTION_DEFINITION"
        },
        "start": 162,
        "thickness_factor": 1
       },
       {
        "color": "#9E9E9E",
        "directed": true,
        "end": 100,
        "id": 1159681302094414000,
        "label": "",
        "properties": {
         "label": "FUNCTION_DEFINITION"
        },
        "start": 162,
        "thickness_factor": 1
       },
       {
        "color": "#9E9E9E",
        "directed": true,
        "end": 163,
        "id": 1152925902653358300,
        "label": "",
        "properties": {
         "label": "FUNCTION_DEFINITION"
        },
        "start": 162,
        "thickness_factor": 1
       },
       {
        "color": "#9E9E9E",
        "directed": true,
        "end": 164,
        "id": 1155177702467043600,
        "label": "",
        "properties": {
         "label": "FUNCTION_DEFINITION"
        },
        "start": 162,
        "thickness_factor": 1
       },
       {
        "color": "#673AB7",
        "directed": true,
        "end": 2,
        "id": 1161936400442982700,
        "label": "",
        "properties": {
         "label": "CALLS"
        },
        "start": 165,
        "thickness_factor": 1
       },
       {
        "color": "#673AB7",
        "directed": true,
        "end": 80,
        "id": 1166440000070353200,
        "label": "",
        "properties": {
         "label": "CALLS"
        },
        "start": 165,
        "thickness_factor": 1
       },
       {
        "color": "#673AB7",
        "directed": true,
        "end": 86,
        "id": 1168691799884038400,
        "label": "",
        "properties": {
         "label": "CALLS"
        },
        "start": 165,
        "thickness_factor": 1
       },
       {
        "color": "#673AB7",
        "directed": true,
        "end": 189,
        "id": 1152929201188241700,
        "label": "",
        "properties": {
         "label": "CALLS"
        },
        "start": 165,
        "thickness_factor": 1
       },
       {
        "color": "#673AB7",
        "directed": true,
        "end": 189,
        "id": 1157432800815612200,
        "label": "",
        "properties": {
         "label": "CALLS"
        },
        "start": 165,
        "thickness_factor": 1
       },
       {
        "color": "#673AB7",
        "directed": true,
        "end": 191,
        "id": 1159684600629297400,
        "label": "",
        "properties": {
         "label": "CALLS"
        },
        "start": 165,
        "thickness_factor": 1
       },
       {
        "color": "#673AB7",
        "directed": true,
        "end": 293,
        "id": 1155181001001927000,
        "label": "",
        "properties": {
         "label": "CALLS"
        },
        "start": 165,
        "thickness_factor": 1
       },
       {
        "color": "#673AB7",
        "directed": true,
        "end": 293,
        "id": 1164188200256668000,
        "label": "",
        "properties": {
         "label": "CALLS"
        },
        "start": 165,
        "thickness_factor": 1
       },
       {
        "color": "#2196F3",
        "directed": true,
        "end": 104,
        "id": 1152928101676614000,
        "label": "",
        "properties": {
         "label": "IMPORTS"
        },
        "start": 166,
        "thickness_factor": 1
       },
       {
        "color": "#2196F3",
        "directed": true,
        "end": 119,
        "id": 1155179901490299100,
        "label": "",
        "properties": {
         "label": "IMPORTS"
        },
        "start": 166,
        "thickness_factor": 1
       },
       {
        "color": "#673AB7",
        "directed": true,
        "end": 4,
        "id": 1157432800815612200,
        "label": "",
        "properties": {
         "label": "CALLS"
        },
        "start": 167,
        "thickness_factor": 1
       },
       {
        "color": "#673AB7",
        "directed": true,
        "end": 72,
        "id": 1166440000070353200,
        "label": "",
        "properties": {
         "label": "CALLS"
        },
        "start": 167,
        "thickness_factor": 1
       },
       {
        "color": "#673AB7",
        "directed": true,
        "end": 76,
        "id": 1161936400442982700,
        "label": "",
        "properties": {
         "label": "CALLS"
        },
        "start": 167,
        "thickness_factor": 1
       },
       {
        "color": "#673AB7",
        "directed": true,
        "end": 199,
        "id": 1168691799884038400,
        "label": "",
        "properties": {
         "label": "CALLS"
        },
        "start": 167,
        "thickness_factor": 1
       },
       {
        "color": "#673AB7",
        "directed": true,
        "end": 294,
        "id": 1155181001001927000,
        "label": "",
        "properties": {
         "label": "CALLS"
        },
        "start": 167,
        "thickness_factor": 1
       },
       {
        "color": "#673AB7",
        "directed": true,
        "end": 294,
        "id": 1164188200256668000,
        "label": "",
        "properties": {
         "label": "CALLS"
        },
        "start": 167,
        "thickness_factor": 1
       },
       {
        "color": "#673AB7",
        "directed": true,
        "end": 295,
        "id": 1152929201188241700,
        "label": "",
        "properties": {
         "label": "CALLS"
        },
        "start": 167,
        "thickness_factor": 1
       },
       {
        "color": "#673AB7",
        "directed": true,
        "end": 295,
        "id": 1159684600629297400,
        "label": "",
        "properties": {
         "label": "CALLS"
        },
        "start": 167,
        "thickness_factor": 1
       },
       {
        "color": "#9E9E9E",
        "directed": true,
        "end": 7,
        "id": 1170940301162840300,
        "label": "",
        "properties": {
         "label": "FUNCTION_DEFINITION"
        },
        "start": 168,
        "thickness_factor": 1
       },
       {
        "color": "#9E9E9E",
        "directed": true,
        "end": 8,
        "id": 1161933101908099300,
        "label": "",
        "properties": {
         "label": "FUNCTION_DEFINITION"
        },
        "start": 168,
        "thickness_factor": 1
       },
       {
        "color": "#9E9E9E",
        "directed": true,
        "end": 9,
        "id": 1166436701535469800,
        "label": "",
        "properties": {
         "label": "FUNCTION_DEFINITION"
        },
        "start": 168,
        "thickness_factor": 1
       },
       {
        "color": "#9E9E9E",
        "directed": true,
        "end": 11,
        "id": 1175443900790210800,
        "label": "",
        "properties": {
         "label": "FUNCTION_DEFINITION"
        },
        "start": 168,
        "thickness_factor": 1
       },
       {
        "color": "#9E9E9E",
        "directed": true,
        "end": 171,
        "id": 1159681302094414000,
        "label": "",
        "properties": {
         "label": "FUNCTION_DEFINITION"
        },
        "start": 168,
        "thickness_factor": 1
       },
       {
        "color": "#9E9E9E",
        "directed": true,
        "end": 171,
        "id": 1177695700603896000,
        "label": "",
        "properties": {
         "label": "FUNCTION_DEFINITION"
        },
        "start": 168,
        "thickness_factor": 1
       },
       {
        "color": "#9E9E9E",
        "directed": true,
        "end": 298,
        "id": 1152925902653358300,
        "label": "",
        "properties": {
         "label": "FUNCTION_DEFINITION"
        },
        "start": 168,
        "thickness_factor": 1
       },
       {
        "color": "#9E9E9E",
        "directed": true,
        "end": 298,
        "id": 1164184901721784600,
        "label": "",
        "properties": {
         "label": "FUNCTION_DEFINITION"
        },
        "start": 168,
        "thickness_factor": 1
       },
       {
        "color": "#9E9E9E",
        "directed": true,
        "end": 299,
        "id": 1157429502280728800,
        "label": "",
        "properties": {
         "label": "FUNCTION_DEFINITION"
        },
        "start": 168,
        "thickness_factor": 1
       },
       {
        "color": "#9E9E9E",
        "directed": true,
        "end": 299,
        "id": 1173192100976525600,
        "label": "",
        "properties": {
         "label": "FUNCTION_DEFINITION"
        },
        "start": 168,
        "thickness_factor": 1
       },
       {
        "color": "#9E9E9E",
        "directed": true,
        "end": 300,
        "id": 1155177702467043600,
        "label": "",
        "properties": {
         "label": "FUNCTION_DEFINITION"
        },
        "start": 168,
        "thickness_factor": 1
       },
       {
        "color": "#9E9E9E",
        "directed": true,
        "end": 300,
        "id": 1168688501349155000,
        "label": "",
        "properties": {
         "label": "FUNCTION_DEFINITION"
        },
        "start": 168,
        "thickness_factor": 1
       },
       {
        "color": "#9C27B0",
        "directed": true,
        "end": 13,
        "id": 1166437801047097600,
        "label": "",
        "properties": {
         "label": "CONTAINS"
        },
        "start": 173,
        "thickness_factor": 1
       },
       {
        "color": "#9C27B0",
        "directed": true,
        "end": 78,
        "id": 1170941400674468000,
        "label": "",
        "properties": {
         "label": "CONTAINS"
        },
        "start": 173,
        "thickness_factor": 1
       },
       {
        "color": "#9C27B0",
        "directed": true,
        "end": 206,
        "id": 1175445000301838600,
        "label": "",
        "properties": {
         "label": "CONTAINS"
        },
        "start": 173,
        "thickness_factor": 1
       },
       {
        "color": "#9C27B0",
        "directed": true,
        "end": 296,
        "id": 1157430601792356600,
        "label": "",
        "properties": {
         "label": "CONTAINS"
        },
        "start": 173,
        "thickness_factor": 1
       },
       {
        "color": "#9C27B0",
        "directed": true,
        "end": 296,
        "id": 1173193200488153300,
        "label": "",
        "properties": {
         "label": "CONTAINS"
        },
        "start": 173,
        "thickness_factor": 1
       },
       {
        "color": "#9C27B0",
        "directed": true,
        "end": 297,
        "id": 1161934201419727000,
        "label": "",
        "properties": {
         "label": "CONTAINS"
        },
        "start": 173,
        "thickness_factor": 1
       },
       {
        "color": "#9C27B0",
        "directed": true,
        "end": 304,
        "id": 1155178801978671400,
        "label": "",
        "properties": {
         "label": "CONTAINS"
        },
        "start": 173,
        "thickness_factor": 1
       },
       {
        "color": "#9C27B0",
        "directed": true,
        "end": 304,
        "id": 1168689600860782800,
        "label": "",
        "properties": {
         "label": "CONTAINS"
        },
        "start": 173,
        "thickness_factor": 1
       },
       {
        "color": "#9C27B0",
        "directed": true,
        "end": 311,
        "id": 1159682401606041900,
        "label": "",
        "properties": {
         "label": "CONTAINS"
        },
        "start": 173,
        "thickness_factor": 1
       },
       {
        "color": "#9C27B0",
        "directed": true,
        "end": 311,
        "id": 1177696800115523800,
        "label": "",
        "properties": {
         "label": "CONTAINS"
        },
        "start": 173,
        "thickness_factor": 1
       },
       {
        "color": "#9C27B0",
        "directed": true,
        "end": 313,
        "id": 1152927002164986000,
        "label": "",
        "properties": {
         "label": "CONTAINS"
        },
        "start": 173,
        "thickness_factor": 1
       },
       {
        "color": "#9C27B0",
        "directed": true,
        "end": 313,
        "id": 1164186001233412400,
        "label": "",
        "properties": {
         "label": "CONTAINS"
        },
        "start": 173,
        "thickness_factor": 1
       },
       {
        "color": "#CDDC39",
        "directed": true,
        "end": 15,
        "id": 1155176602955415800,
        "label": "",
        "properties": {
         "label": "CLASS_DEFINITION"
        },
        "start": 177,
        "thickness_factor": 1
       },
       {
        "color": "#CDDC39",
        "directed": true,
        "end": 305,
        "id": 1152924803141730600,
        "label": "",
        "properties": {
         "label": "CLASS_DEFINITION"
        },
        "start": 177,
        "thickness_factor": 1
       },
       {
        "color": "#CDDC39",
        "directed": true,
        "end": 305,
        "id": 1157428402769101000,
        "label": "",
        "properties": {
         "label": "CLASS_DEFINITION"
        },
        "start": 177,
        "thickness_factor": 1
       },
       {
        "color": "#2196F3",
        "directed": true,
        "end": 10,
        "id": 1177697899627151600,
        "label": "",
        "properties": {
         "label": "IMPORTS"
        },
        "start": 177,
        "thickness_factor": 1
       },
       {
        "color": "#2196F3",
        "directed": true,
        "end": 57,
        "id": 1164187100745040100,
        "label": "",
        "properties": {
         "label": "IMPORTS"
        },
        "start": 177,
        "thickness_factor": 1
       },
       {
        "color": "#2196F3",
        "directed": true,
        "end": 168,
        "id": 1157431701303984400,
        "label": "",
        "properties": {
         "label": "IMPORTS"
        },
        "start": 177,
        "thickness_factor": 1
       },
       {
        "color": "#2196F3",
        "directed": true,
        "end": 168,
        "id": 1168690700372410600,
        "label": "",
        "properties": {
         "label": "IMPORTS"
        },
        "start": 177,
        "thickness_factor": 1
       },
       {
        "color": "#2196F3",
        "directed": true,
        "end": 185,
        "id": 1155179901490299100,
        "label": "",
        "properties": {
         "label": "IMPORTS"
        },
        "start": 177,
        "thickness_factor": 1
       },
       {
        "color": "#2196F3",
        "directed": true,
        "end": 185,
        "id": 1166438900558725400,
        "label": "",
        "properties": {
         "label": "IMPORTS"
        },
        "start": 177,
        "thickness_factor": 1
       },
       {
        "color": "#2196F3",
        "directed": true,
        "end": 188,
        "id": 1152928101676614000,
        "label": "",
        "properties": {
         "label": "IMPORTS"
        },
        "start": 177,
        "thickness_factor": 1
       },
       {
        "color": "#2196F3",
        "directed": true,
        "end": 188,
        "id": 1159683501117669600,
        "label": "",
        "properties": {
         "label": "IMPORTS"
        },
        "start": 177,
        "thickness_factor": 1
       },
       {
        "color": "#2196F3",
        "directed": true,
        "end": 192,
        "id": 1161935300931355000,
        "label": "",
        "properties": {
         "label": "IMPORTS"
        },
        "start": 177,
        "thickness_factor": 1
       },
       {
        "color": "#2196F3",
        "directed": true,
        "end": 202,
        "id": 1170942500186095900,
        "label": "",
        "properties": {
         "label": "IMPORTS"
        },
        "start": 177,
        "thickness_factor": 1
       },
       {
        "color": "#2196F3",
        "directed": true,
        "end": 265,
        "id": 1175446099813466400,
        "label": "",
        "properties": {
         "label": "IMPORTS"
        },
        "start": 177,
        "thickness_factor": 1
       },
       {
        "color": "#2196F3",
        "directed": true,
        "end": 271,
        "id": 1173194299999781000,
        "label": "",
        "properties": {
         "label": "IMPORTS"
        },
        "start": 177,
        "thickness_factor": 1
       },
       {
        "color": "#9E9E9E",
        "directed": true,
        "end": 0,
        "id": 1157429502280728800,
        "label": "",
        "properties": {
         "label": "FUNCTION_DEFINITION"
        },
        "start": 178,
        "thickness_factor": 1
       },
       {
        "color": "#9E9E9E",
        "directed": true,
        "end": 1,
        "id": 1161933101908099300,
        "label": "",
        "properties": {
         "label": "FUNCTION_DEFINITION"
        },
        "start": 178,
        "thickness_factor": 1
       },
       {
        "color": "#9E9E9E",
        "directed": true,
        "end": 2,
        "id": 1166436701535469800,
        "label": "",
        "properties": {
         "label": "FUNCTION_DEFINITION"
        },
        "start": 178,
        "thickness_factor": 1
       },
       {
        "color": "#9E9E9E",
        "directed": true,
        "end": 3,
        "id": 1170940301162840300,
        "label": "",
        "properties": {
         "label": "FUNCTION_DEFINITION"
        },
        "start": 178,
        "thickness_factor": 1
       },
       {
        "color": "#9E9E9E",
        "directed": true,
        "end": 4,
        "id": 1175443900790210800,
        "label": "",
        "properties": {
         "label": "FUNCTION_DEFINITION"
        },
        "start": 178,
        "thickness_factor": 1
       },
       {
        "color": "#9E9E9E",
        "directed": true,
        "end": 6,
        "id": 1184451100044951800,
        "label": "",
        "properties": {
         "label": "FUNCTION_DEFINITION"
        },
        "start": 178,
        "thickness_factor": 1
       },
       {
        "color": "#9E9E9E",
        "directed": true,
        "end": 76,
        "id": 1179947500417581300,
        "label": "",
        "properties": {
         "label": "FUNCTION_DEFINITION"
        },
        "start": 178,
        "thickness_factor": 1
       },
       {
        "color": "#9E9E9E",
        "directed": true,
        "end": 165,
        "id": 1173192100976525600,
        "label": "",
        "properties": {
         "label": "FUNCTION_DEFINITION"
        },
        "start": 178,
        "thickness_factor": 1
       },
       {
        "color": "#9E9E9E",
        "directed": true,
        "end": 167,
        "id": 1186702899858637000,
        "label": "",
        "properties": {
         "label": "FUNCTION_DEFINITION"
        },
        "start": 178,
        "thickness_factor": 1
       },
       {
        "color": "#9E9E9E",
        "directed": true,
        "end": 189,
        "id": 1152925902653358300,
        "label": "",
        "properties": {
         "label": "FUNCTION_DEFINITION"
        },
        "start": 178,
        "thickness_factor": 1
       },
       {
        "color": "#9E9E9E",
        "directed": true,
        "end": 191,
        "id": 1155177702467043600,
        "label": "",
        "properties": {
         "label": "FUNCTION_DEFINITION"
        },
        "start": 178,
        "thickness_factor": 1
       },
       {
        "color": "#9E9E9E",
        "directed": true,
        "end": 291,
        "id": 1159681302094414000,
        "label": "",
        "properties": {
         "label": "FUNCTION_DEFINITION"
        },
        "start": 178,
        "thickness_factor": 1
       },
       {
        "color": "#9E9E9E",
        "directed": true,
        "end": 292,
        "id": 1164184901721784600,
        "label": "",
        "properties": {
         "label": "FUNCTION_DEFINITION"
        },
        "start": 178,
        "thickness_factor": 1
       },
       {
        "color": "#9E9E9E",
        "directed": true,
        "end": 293,
        "id": 1168688501349155000,
        "label": "",
        "properties": {
         "label": "FUNCTION_DEFINITION"
        },
        "start": 178,
        "thickness_factor": 1
       },
       {
        "color": "#9E9E9E",
        "directed": true,
        "end": 294,
        "id": 1182199300231266600,
        "label": "",
        "properties": {
         "label": "FUNCTION_DEFINITION"
        },
        "start": 178,
        "thickness_factor": 1
       },
       {
        "color": "#9E9E9E",
        "directed": true,
        "end": 295,
        "id": 1177695700603896000,
        "label": "",
        "properties": {
         "label": "FUNCTION_DEFINITION"
        },
        "start": 178,
        "thickness_factor": 1
       },
       {
        "color": "#9C27B0",
        "directed": true,
        "end": 13,
        "id": 1157430601792356600,
        "label": "",
        "properties": {
         "label": "CONTAINS"
        },
        "start": 179,
        "thickness_factor": 1
       },
       {
        "color": "#9C27B0",
        "directed": true,
        "end": 78,
        "id": 1161934201419727000,
        "label": "",
        "properties": {
         "label": "CONTAINS"
        },
        "start": 179,
        "thickness_factor": 1
       },
       {
        "color": "#9C27B0",
        "directed": true,
        "end": 206,
        "id": 1166437801047097600,
        "label": "",
        "properties": {
         "label": "CONTAINS"
        },
        "start": 179,
        "thickness_factor": 1
       },
       {
        "color": "#9C27B0",
        "directed": true,
        "end": 296,
        "id": 1164186001233412400,
        "label": "",
        "properties": {
         "label": "CONTAINS"
        },
        "start": 179,
        "thickness_factor": 1
       },
       {
        "color": "#9C27B0",
        "directed": true,
        "end": 297,
        "id": 1152927002164986000,
        "label": "",
        "properties": {
         "label": "CONTAINS"
        },
        "start": 179,
        "thickness_factor": 1
       },
       {
        "color": "#9C27B0",
        "directed": true,
        "end": 304,
        "id": 1159682401606041900,
        "label": "",
        "properties": {
         "label": "CONTAINS"
        },
        "start": 179,
        "thickness_factor": 1
       },
       {
        "color": "#9C27B0",
        "directed": true,
        "end": 311,
        "id": 1168689600860782800,
        "label": "",
        "properties": {
         "label": "CONTAINS"
        },
        "start": 179,
        "thickness_factor": 1
       },
       {
        "color": "#9C27B0",
        "directed": true,
        "end": 313,
        "id": 1155178801978671400,
        "label": "",
        "properties": {
         "label": "CONTAINS"
        },
        "start": 179,
        "thickness_factor": 1
       },
       {
        "color": "#673AB7",
        "directed": true,
        "end": 5,
        "id": 1164188200256668000,
        "label": "",
        "properties": {
         "label": "CALLS"
        },
        "start": 181,
        "thickness_factor": 1
       },
       {
        "color": "#673AB7",
        "directed": true,
        "end": 17,
        "id": 6926543923477217000,
        "label": "",
        "properties": {
         "label": "CALLS"
        },
        "start": 181,
        "thickness_factor": 1
       },
       {
        "color": "#673AB7",
        "directed": true,
        "end": 18,
        "id": 1159684600629297400,
        "label": "",
        "properties": {
         "label": "CALLS"
        },
        "start": 181,
        "thickness_factor": 1
       },
       {
        "color": "#673AB7",
        "directed": true,
        "end": 260,
        "id": 1168691799884038400,
        "label": "",
        "properties": {
         "label": "CALLS"
        },
        "start": 181,
        "thickness_factor": 1
       },
       {
        "color": "#673AB7",
        "directed": true,
        "end": 261,
        "id": 1170943599697723600,
        "label": "",
        "properties": {
         "label": "CALLS"
        },
        "start": 181,
        "thickness_factor": 1
       },
       {
        "color": "#673AB7",
        "directed": true,
        "end": 262,
        "id": 1173195399511409000,
        "label": "",
        "properties": {
         "label": "CALLS"
        },
        "start": 181,
        "thickness_factor": 1
       },
       {
        "color": "#673AB7",
        "directed": true,
        "end": 307,
        "id": 1155181001001927000,
        "label": "",
        "properties": {
         "label": "CALLS"
        },
        "start": 181,
        "thickness_factor": 1
       },
       {
        "color": "#673AB7",
        "directed": true,
        "end": 307,
        "id": 1166440000070353200,
        "label": "",
        "properties": {
         "label": "CALLS"
        },
        "start": 181,
        "thickness_factor": 1
       },
       {
        "color": "#673AB7",
        "directed": true,
        "end": 308,
        "id": 6922040323849847000,
        "label": "",
        "properties": {
         "label": "CALLS"
        },
        "start": 181,
        "thickness_factor": 1
       },
       {
        "color": "#673AB7",
        "directed": true,
        "end": 308,
        "id": 6933299322918273000,
        "label": "",
        "properties": {
         "label": "CALLS"
        },
        "start": 181,
        "thickness_factor": 1
       },
       {
        "color": "#673AB7",
        "directed": true,
        "end": 309,
        "id": 1152929201188241700,
        "label": "",
        "properties": {
         "label": "CALLS"
        },
        "start": 181,
        "thickness_factor": 1
       },
       {
        "color": "#673AB7",
        "directed": true,
        "end": 309,
        "id": 1161936400442982700,
        "label": "",
        "properties": {
         "label": "CALLS"
        },
        "start": 181,
        "thickness_factor": 1
       },
       {
        "color": "#CDDC39",
        "directed": true,
        "end": 57,
        "id": 1155176602955415800,
        "label": "",
        "properties": {
         "label": "CLASS_DEFINITION"
        },
        "start": 182,
        "thickness_factor": 1
       },
       {
        "color": "#CDDC39",
        "directed": true,
        "end": 185,
        "id": 1152924803141730600,
        "label": "",
        "properties": {
         "label": "CLASS_DEFINITION"
        },
        "start": 182,
        "thickness_factor": 1
       },
       {
        "color": "#CDDC39",
        "directed": true,
        "end": 185,
        "id": 1157428402769101000,
        "label": "",
        "properties": {
         "label": "CLASS_DEFINITION"
        },
        "start": 182,
        "thickness_factor": 1
       },
       {
        "color": "#2196F3",
        "directed": true,
        "end": 10,
        "id": 1166438900558725400,
        "label": "",
        "properties": {
         "label": "IMPORTS"
        },
        "start": 182,
        "thickness_factor": 1
       },
       {
        "color": "#2196F3",
        "directed": true,
        "end": 168,
        "id": 1152928101676614000,
        "label": "",
        "properties": {
         "label": "IMPORTS"
        },
        "start": 182,
        "thickness_factor": 1
       },
       {
        "color": "#2196F3",
        "directed": true,
        "end": 168,
        "id": 1157431701303984400,
        "label": "",
        "properties": {
         "label": "IMPORTS"
        },
        "start": 182,
        "thickness_factor": 1
       },
       {
        "color": "#2196F3",
        "directed": true,
        "end": 178,
        "id": 1161935300931355000,
        "label": "",
        "properties": {
         "label": "IMPORTS"
        },
        "start": 182,
        "thickness_factor": 1
       },
       {
        "color": "#2196F3",
        "directed": true,
        "end": 202,
        "id": 1159683501117669600,
        "label": "",
        "properties": {
         "label": "IMPORTS"
        },
        "start": 182,
        "thickness_factor": 1
       },
       {
        "color": "#2196F3",
        "directed": true,
        "end": 209,
        "id": 1168690700372410600,
        "label": "",
        "properties": {
         "label": "IMPORTS"
        },
        "start": 182,
        "thickness_factor": 1
       },
       {
        "color": "#2196F3",
        "directed": true,
        "end": 301,
        "id": 1155179901490299100,
        "label": "",
        "properties": {
         "label": "IMPORTS"
        },
        "start": 182,
        "thickness_factor": 1
       },
       {
        "color": "#2196F3",
        "directed": true,
        "end": 301,
        "id": 1164187100745040100,
        "label": "",
        "properties": {
         "label": "IMPORTS"
        },
        "start": 182,
        "thickness_factor": 1
       },
       {
        "color": "#9E9E9E",
        "directed": true,
        "end": 60,
        "id": 1170940301162840300,
        "label": "",
        "properties": {
         "label": "FUNCTION_DEFINITION"
        },
        "start": 185,
        "thickness_factor": 1
       },
       {
        "color": "#9E9E9E",
        "directed": true,
        "end": 186,
        "id": 1155177702467043600,
        "label": "",
        "properties": {
         "label": "FUNCTION_DEFINITION"
        },
        "start": 185,
        "thickness_factor": 1
       },
       {
        "color": "#9E9E9E",
        "directed": true,
        "end": 186,
        "id": 1166436701535469800,
        "label": "",
        "properties": {
         "label": "FUNCTION_DEFINITION"
        },
        "start": 185,
        "thickness_factor": 1
       },
       {
        "color": "#9E9E9E",
        "directed": true,
        "end": 187,
        "id": 1157429502280728800,
        "label": "",
        "properties": {
         "label": "FUNCTION_DEFINITION"
        },
        "start": 185,
        "thickness_factor": 1
       },
       {
        "color": "#9E9E9E",
        "directed": true,
        "end": 187,
        "id": 1173192100976525600,
        "label": "",
        "properties": {
         "label": "FUNCTION_DEFINITION"
        },
        "start": 185,
        "thickness_factor": 1
       },
       {
        "color": "#9E9E9E",
        "directed": true,
        "end": 190,
        "id": 1175443900790210800,
        "label": "",
        "properties": {
         "label": "FUNCTION_DEFINITION"
        },
        "start": 185,
        "thickness_factor": 1
       },
       {
        "color": "#9E9E9E",
        "directed": true,
        "end": 306,
        "id": 1159681302094414000,
        "label": "",
        "properties": {
         "label": "FUNCTION_DEFINITION"
        },
        "start": 185,
        "thickness_factor": 1
       },
       {
        "color": "#9E9E9E",
        "directed": true,
        "end": 306,
        "id": 1177695700603896000,
        "label": "",
        "properties": {
         "label": "FUNCTION_DEFINITION"
        },
        "start": 185,
        "thickness_factor": 1
       },
       {
        "color": "#9E9E9E",
        "directed": true,
        "end": 312,
        "id": 1152925902653358300,
        "label": "",
        "properties": {
         "label": "FUNCTION_DEFINITION"
        },
        "start": 185,
        "thickness_factor": 1
       },
       {
        "color": "#9E9E9E",
        "directed": true,
        "end": 312,
        "id": 1161933101908099300,
        "label": "",
        "properties": {
         "label": "FUNCTION_DEFINITION"
        },
        "start": 185,
        "thickness_factor": 1
       },
       {
        "color": "#9E9E9E",
        "directed": true,
        "end": 314,
        "id": 1164184901721784600,
        "label": "",
        "properties": {
         "label": "FUNCTION_DEFINITION"
        },
        "start": 185,
        "thickness_factor": 1
       },
       {
        "color": "#9E9E9E",
        "directed": true,
        "end": 315,
        "id": 1168688501349155000,
        "label": "",
        "properties": {
         "label": "FUNCTION_DEFINITION"
        },
        "start": 185,
        "thickness_factor": 1
       },
       {
        "color": "#673AB7",
        "directed": true,
        "end": 57,
        "id": 1175447199325094100,
        "label": "",
        "properties": {
         "label": "CALLS"
        },
        "start": 186,
        "thickness_factor": 1
       },
       {
        "color": "#673AB7",
        "directed": true,
        "end": 60,
        "id": 1161936400442982700,
        "label": "",
        "properties": {
         "label": "CALLS"
        },
        "start": 186,
        "thickness_factor": 1
       },
       {
        "color": "#673AB7",
        "directed": true,
        "end": 60,
        "id": 1166440000070353200,
        "label": "",
        "properties": {
         "label": "CALLS"
        },
        "start": 186,
        "thickness_factor": 1
       },
       {
        "color": "#673AB7",
        "directed": true,
        "end": 185,
        "id": 1159684600629297400,
        "label": "",
        "properties": {
         "label": "CALLS"
        },
        "start": 186,
        "thickness_factor": 1
       },
       {
        "color": "#673AB7",
        "directed": true,
        "end": 185,
        "id": 1177698999138779400,
        "label": "",
        "properties": {
         "label": "CALLS"
        },
        "start": 186,
        "thickness_factor": 1
       },
       {
        "color": "#673AB7",
        "directed": true,
        "end": 187,
        "id": 1152929201188241700,
        "label": "",
        "properties": {
         "label": "CALLS"
        },
        "start": 186,
        "thickness_factor": 1
       },
       {
        "color": "#673AB7",
        "directed": true,
        "end": 187,
        "id": 1155181001001927000,
        "label": "",
        "properties": {
         "label": "CALLS"
        },
        "start": 186,
        "thickness_factor": 1
       },
       {
        "color": "#673AB7",
        "directed": true,
        "end": 187,
        "id": 1164188200256668000,
        "label": "",
        "properties": {
         "label": "CALLS"
        },
        "start": 186,
        "thickness_factor": 1
       },
       {
        "color": "#673AB7",
        "directed": true,
        "end": 187,
        "id": 1168691799884038400,
        "label": "",
        "properties": {
         "label": "CALLS"
        },
        "start": 186,
        "thickness_factor": 1
       },
       {
        "color": "#673AB7",
        "directed": true,
        "end": 190,
        "id": 1170943599697723600,
        "label": "",
        "properties": {
         "label": "CALLS"
        },
        "start": 186,
        "thickness_factor": 1
       },
       {
        "color": "#673AB7",
        "directed": true,
        "end": 265,
        "id": 1186706198393520400,
        "label": "",
        "properties": {
         "label": "CALLS"
        },
        "start": 186,
        "thickness_factor": 1
       },
       {
        "color": "#673AB7",
        "directed": true,
        "end": 268,
        "id": 1179950798952464600,
        "label": "",
        "properties": {
         "label": "CALLS"
        },
        "start": 186,
        "thickness_factor": 1
       },
       {
        "color": "#673AB7",
        "directed": true,
        "end": 268,
        "id": 1182202598766150000,
        "label": "",
        "properties": {
         "label": "CALLS"
        },
        "start": 186,
        "thickness_factor": 1
       },
       {
        "color": "#673AB7",
        "directed": true,
        "end": 269,
        "id": 1184454398579835100,
        "label": "",
        "properties": {
         "label": "CALLS"
        },
        "start": 186,
        "thickness_factor": 1
       },
       {
        "color": "#673AB7",
        "directed": true,
        "end": 306,
        "id": 1157432800815612200,
        "label": "",
        "properties": {
         "label": "CALLS"
        },
        "start": 186,
        "thickness_factor": 1
       },
       {
        "color": "#673AB7",
        "directed": true,
        "end": 306,
        "id": 1173195399511409000,
        "label": "",
        "properties": {
         "label": "CALLS"
        },
        "start": 186,
        "thickness_factor": 1
       },
       {
        "color": "#9E9E9E",
        "directed": true,
        "end": 56,
        "id": 1173192100976525600,
        "label": "",
        "properties": {
         "label": "FUNCTION_DEFINITION"
        },
        "start": 188,
        "thickness_factor": 1
       },
       {
        "color": "#9E9E9E",
        "directed": true,
        "end": 56,
        "id": 6917533425687593000,
        "label": "",
        "properties": {
         "label": "FUNCTION_DEFINITION"
        },
        "start": 188,
        "thickness_factor": 1
       },
       {
        "color": "#9E9E9E",
        "directed": true,
        "end": 58,
        "id": 1177695700603896000,
        "label": "",
        "properties": {
         "label": "FUNCTION_DEFINITION"
        },
        "start": 188,
        "thickness_factor": 1
       },
       {
        "color": "#9E9E9E",
        "directed": true,
        "end": 58,
        "id": 6917533425687593000,
        "label": "",
        "properties": {
         "label": "FUNCTION_DEFINITION"
        },
        "start": 188,
        "thickness_factor": 1
       },
       {
        "color": "#9E9E9E",
        "directed": true,
        "end": 64,
        "id": 1152925902653358300,
        "label": "",
        "properties": {
         "label": "FUNCTION_DEFINITION"
        },
        "start": 188,
        "thickness_factor": 1
       },
       {
        "color": "#9E9E9E",
        "directed": true,
        "end": 64,
        "id": 6919785225501278000,
        "label": "",
        "properties": {
         "label": "FUNCTION_DEFINITION"
        },
        "start": 188,
        "thickness_factor": 1
       },
       {
        "color": "#9E9E9E",
        "directed": true,
        "end": 65,
        "id": 6917533425687593000,
        "label": "",
        "properties": {
         "label": "FUNCTION_DEFINITION"
        },
        "start": 188,
        "thickness_factor": 1
       },
       {
        "color": "#9E9E9E",
        "directed": true,
        "end": 66,
        "id": 1157429502280728800,
        "label": "",
        "properties": {
         "label": "FUNCTION_DEFINITION"
        },
        "start": 188,
        "thickness_factor": 1
       },
       {
        "color": "#9E9E9E",
        "directed": true,
        "end": 66,
        "id": 6917533425687593000,
        "label": "",
        "properties": {
         "label": "FUNCTION_DEFINITION"
        },
        "start": 188,
        "thickness_factor": 1
       },
       {
        "color": "#9E9E9E",
        "directed": true,
        "end": 67,
        "id": 1159681302094414000,
        "label": "",
        "properties": {
         "label": "FUNCTION_DEFINITION"
        },
        "start": 188,
        "thickness_factor": 1
       },
       {
        "color": "#9E9E9E",
        "directed": true,
        "end": 67,
        "id": 6917533425687593000,
        "label": "",
        "properties": {
         "label": "FUNCTION_DEFINITION"
        },
        "start": 188,
        "thickness_factor": 1
       },
       {
        "color": "#9E9E9E",
        "directed": true,
        "end": 68,
        "id": 1161933101908099300,
        "label": "",
        "properties": {
         "label": "FUNCTION_DEFINITION"
        },
        "start": 188,
        "thickness_factor": 1
       },
       {
        "color": "#9E9E9E",
        "directed": true,
        "end": 68,
        "id": 6917533425687593000,
        "label": "",
        "properties": {
         "label": "FUNCTION_DEFINITION"
        },
        "start": 188,
        "thickness_factor": 1
       },
       {
        "color": "#9E9E9E",
        "directed": true,
        "end": 69,
        "id": 6917533425687593000,
        "label": "",
        "properties": {
         "label": "FUNCTION_DEFINITION"
        },
        "start": 188,
        "thickness_factor": 1
       },
       {
        "color": "#9E9E9E",
        "directed": true,
        "end": 70,
        "id": 6917533425687593000,
        "label": "",
        "properties": {
         "label": "FUNCTION_DEFINITION"
        },
        "start": 188,
        "thickness_factor": 1
       },
       {
        "color": "#9E9E9E",
        "directed": true,
        "end": 71,
        "id": 6917533425687593000,
        "label": "",
        "properties": {
         "label": "FUNCTION_DEFINITION"
        },
        "start": 188,
        "thickness_factor": 1
       },
       {
        "color": "#9E9E9E",
        "directed": true,
        "end": 73,
        "id": 6917533425687593000,
        "label": "",
        "properties": {
         "label": "FUNCTION_DEFINITION"
        },
        "start": 188,
        "thickness_factor": 1
       },
       {
        "color": "#9E9E9E",
        "directed": true,
        "end": 74,
        "id": 6917533425687593000,
        "label": "",
        "properties": {
         "label": "FUNCTION_DEFINITION"
        },
        "start": 188,
        "thickness_factor": 1
       },
       {
        "color": "#9E9E9E",
        "directed": true,
        "end": 75,
        "id": 6917533425687593000,
        "label": "",
        "properties": {
         "label": "FUNCTION_DEFINITION"
        },
        "start": 188,
        "thickness_factor": 1
       },
       {
        "color": "#9E9E9E",
        "directed": true,
        "end": 169,
        "id": 1175443900790210800,
        "label": "",
        "properties": {
         "label": "FUNCTION_DEFINITION"
        },
        "start": 188,
        "thickness_factor": 1
       },
       {
        "color": "#9E9E9E",
        "directed": true,
        "end": 169,
        "id": 6917533425687593000,
        "label": "",
        "properties": {
         "label": "FUNCTION_DEFINITION"
        },
        "start": 188,
        "thickness_factor": 1
       },
       {
        "color": "#9E9E9E",
        "directed": true,
        "end": 172,
        "id": 1170940301162840300,
        "label": "",
        "properties": {
         "label": "FUNCTION_DEFINITION"
        },
        "start": 188,
        "thickness_factor": 1
       },
       {
        "color": "#9E9E9E",
        "directed": true,
        "end": 172,
        "id": 6917533425687593000,
        "label": "",
        "properties": {
         "label": "FUNCTION_DEFINITION"
        },
        "start": 188,
        "thickness_factor": 1
       },
       {
        "color": "#9E9E9E",
        "directed": true,
        "end": 183,
        "id": 1164184901721784600,
        "label": "",
        "properties": {
         "label": "FUNCTION_DEFINITION"
        },
        "start": 188,
        "thickness_factor": 1
       },
       {
        "color": "#9E9E9E",
        "directed": true,
        "end": 183,
        "id": 6917533425687593000,
        "label": "",
        "properties": {
         "label": "FUNCTION_DEFINITION"
        },
        "start": 188,
        "thickness_factor": 1
       },
       {
        "color": "#9E9E9E",
        "directed": true,
        "end": 193,
        "id": 1155177702467043600,
        "label": "",
        "properties": {
         "label": "FUNCTION_DEFINITION"
        },
        "start": 188,
        "thickness_factor": 1
       },
       {
        "color": "#9E9E9E",
        "directed": true,
        "end": 193,
        "id": 6917533425687593000,
        "label": "",
        "properties": {
         "label": "FUNCTION_DEFINITION"
        },
        "start": 188,
        "thickness_factor": 1
       },
       {
        "color": "#9E9E9E",
        "directed": true,
        "end": 195,
        "id": 6917533425687593000,
        "label": "",
        "properties": {
         "label": "FUNCTION_DEFINITION"
        },
        "start": 188,
        "thickness_factor": 1
       },
       {
        "color": "#9E9E9E",
        "directed": true,
        "end": 196,
        "id": 6917533425687593000,
        "label": "",
        "properties": {
         "label": "FUNCTION_DEFINITION"
        },
        "start": 188,
        "thickness_factor": 1
       },
       {
        "color": "#9E9E9E",
        "directed": true,
        "end": 198,
        "id": 1166436701535469800,
        "label": "",
        "properties": {
         "label": "FUNCTION_DEFINITION"
        },
        "start": 188,
        "thickness_factor": 1
       },
       {
        "color": "#9E9E9E",
        "directed": true,
        "end": 198,
        "id": 6917533425687593000,
        "label": "",
        "properties": {
         "label": "FUNCTION_DEFINITION"
        },
        "start": 188,
        "thickness_factor": 1
       },
       {
        "color": "#9E9E9E",
        "directed": true,
        "end": 200,
        "id": 6917533425687593000,
        "label": "",
        "properties": {
         "label": "FUNCTION_DEFINITION"
        },
        "start": 188,
        "thickness_factor": 1
       },
       {
        "color": "#9E9E9E",
        "directed": true,
        "end": 201,
        "id": 6917533425687593000,
        "label": "",
        "properties": {
         "label": "FUNCTION_DEFINITION"
        },
        "start": 188,
        "thickness_factor": 1
       },
       {
        "color": "#9E9E9E",
        "directed": true,
        "end": 203,
        "id": 6917533425687593000,
        "label": "",
        "properties": {
         "label": "FUNCTION_DEFINITION"
        },
        "start": 188,
        "thickness_factor": 1
       },
       {
        "color": "#9E9E9E",
        "directed": true,
        "end": 303,
        "id": 1168688501349155000,
        "label": "",
        "properties": {
         "label": "FUNCTION_DEFINITION"
        },
        "start": 188,
        "thickness_factor": 1
       },
       {
        "color": "#9E9E9E",
        "directed": true,
        "end": 303,
        "id": 6917533425687593000,
        "label": "",
        "properties": {
         "label": "FUNCTION_DEFINITION"
        },
        "start": 188,
        "thickness_factor": 1
       },
       {
        "color": "#9E9E9E",
        "directed": true,
        "end": 56,
        "id": 6919785225501278000,
        "label": "",
        "properties": {
         "label": "FUNCTION_DEFINITION"
        },
        "start": 192,
        "thickness_factor": 1
       },
       {
        "color": "#9E9E9E",
        "directed": true,
        "end": 58,
        "id": 6919785225501278000,
        "label": "",
        "properties": {
         "label": "FUNCTION_DEFINITION"
        },
        "start": 192,
        "thickness_factor": 1
       },
       {
        "color": "#9E9E9E",
        "directed": true,
        "end": 64,
        "id": 6922037025314963000,
        "label": "",
        "properties": {
         "label": "FUNCTION_DEFINITION"
        },
        "start": 192,
        "thickness_factor": 1
       },
       {
        "color": "#9E9E9E",
        "directed": true,
        "end": 65,
        "id": 6919785225501278000,
        "label": "",
        "properties": {
         "label": "FUNCTION_DEFINITION"
        },
        "start": 192,
        "thickness_factor": 1
       },
       {
        "color": "#9E9E9E",
        "directed": true,
        "end": 66,
        "id": 6919785225501278000,
        "label": "",
        "properties": {
         "label": "FUNCTION_DEFINITION"
        },
        "start": 192,
        "thickness_factor": 1
       },
       {
        "color": "#9E9E9E",
        "directed": true,
        "end": 67,
        "id": 6919785225501278000,
        "label": "",
        "properties": {
         "label": "FUNCTION_DEFINITION"
        },
        "start": 192,
        "thickness_factor": 1
       },
       {
        "color": "#9E9E9E",
        "directed": true,
        "end": 68,
        "id": 6919785225501278000,
        "label": "",
        "properties": {
         "label": "FUNCTION_DEFINITION"
        },
        "start": 192,
        "thickness_factor": 1
       },
       {
        "color": "#9E9E9E",
        "directed": true,
        "end": 69,
        "id": 6919785225501278000,
        "label": "",
        "properties": {
         "label": "FUNCTION_DEFINITION"
        },
        "start": 192,
        "thickness_factor": 1
       },
       {
        "color": "#9E9E9E",
        "directed": true,
        "end": 70,
        "id": 6919785225501278000,
        "label": "",
        "properties": {
         "label": "FUNCTION_DEFINITION"
        },
        "start": 192,
        "thickness_factor": 1
       },
       {
        "color": "#9E9E9E",
        "directed": true,
        "end": 71,
        "id": 6919785225501278000,
        "label": "",
        "properties": {
         "label": "FUNCTION_DEFINITION"
        },
        "start": 192,
        "thickness_factor": 1
       },
       {
        "color": "#9E9E9E",
        "directed": true,
        "end": 73,
        "id": 6919785225501278000,
        "label": "",
        "properties": {
         "label": "FUNCTION_DEFINITION"
        },
        "start": 192,
        "thickness_factor": 1
       },
       {
        "color": "#9E9E9E",
        "directed": true,
        "end": 74,
        "id": 6919785225501278000,
        "label": "",
        "properties": {
         "label": "FUNCTION_DEFINITION"
        },
        "start": 192,
        "thickness_factor": 1
       },
       {
        "color": "#9E9E9E",
        "directed": true,
        "end": 75,
        "id": 6919785225501278000,
        "label": "",
        "properties": {
         "label": "FUNCTION_DEFINITION"
        },
        "start": 192,
        "thickness_factor": 1
       },
       {
        "color": "#9E9E9E",
        "directed": true,
        "end": 169,
        "id": 6919785225501278000,
        "label": "",
        "properties": {
         "label": "FUNCTION_DEFINITION"
        },
        "start": 192,
        "thickness_factor": 1
       },
       {
        "color": "#9E9E9E",
        "directed": true,
        "end": 172,
        "id": 6919785225501278000,
        "label": "",
        "properties": {
         "label": "FUNCTION_DEFINITION"
        },
        "start": 192,
        "thickness_factor": 1
       },
       {
        "color": "#9E9E9E",
        "directed": true,
        "end": 183,
        "id": 6919785225501278000,
        "label": "",
        "properties": {
         "label": "FUNCTION_DEFINITION"
        },
        "start": 192,
        "thickness_factor": 1
       },
       {
        "color": "#9E9E9E",
        "directed": true,
        "end": 193,
        "id": 6922037025314963000,
        "label": "",
        "properties": {
         "label": "FUNCTION_DEFINITION"
        },
        "start": 192,
        "thickness_factor": 1
       },
       {
        "color": "#9E9E9E",
        "directed": true,
        "end": 195,
        "id": 6919785225501278000,
        "label": "",
        "properties": {
         "label": "FUNCTION_DEFINITION"
        },
        "start": 192,
        "thickness_factor": 1
       },
       {
        "color": "#9E9E9E",
        "directed": true,
        "end": 196,
        "id": 6919785225501278000,
        "label": "",
        "properties": {
         "label": "FUNCTION_DEFINITION"
        },
        "start": 192,
        "thickness_factor": 1
       },
       {
        "color": "#9E9E9E",
        "directed": true,
        "end": 198,
        "id": 6919785225501278000,
        "label": "",
        "properties": {
         "label": "FUNCTION_DEFINITION"
        },
        "start": 192,
        "thickness_factor": 1
       },
       {
        "color": "#9E9E9E",
        "directed": true,
        "end": 200,
        "id": 6919785225501278000,
        "label": "",
        "properties": {
         "label": "FUNCTION_DEFINITION"
        },
        "start": 192,
        "thickness_factor": 1
       },
       {
        "color": "#9E9E9E",
        "directed": true,
        "end": 201,
        "id": 6919785225501278000,
        "label": "",
        "properties": {
         "label": "FUNCTION_DEFINITION"
        },
        "start": 192,
        "thickness_factor": 1
       },
       {
        "color": "#9E9E9E",
        "directed": true,
        "end": 203,
        "id": 6919785225501278000,
        "label": "",
        "properties": {
         "label": "FUNCTION_DEFINITION"
        },
        "start": 192,
        "thickness_factor": 1
       },
       {
        "color": "#9E9E9E",
        "directed": true,
        "end": 303,
        "id": 6919785225501278000,
        "label": "",
        "properties": {
         "label": "FUNCTION_DEFINITION"
        },
        "start": 192,
        "thickness_factor": 1
       },
       {
        "color": "#673AB7",
        "directed": true,
        "end": 72,
        "id": 1152929201188241700,
        "label": "",
        "properties": {
         "label": "CALLS"
        },
        "start": 199,
        "thickness_factor": 1
       },
       {
        "color": "#673AB7",
        "directed": true,
        "end": 21,
        "id": 1157432800815612200,
        "label": "",
        "properties": {
         "label": "CALLS"
        },
        "start": 200,
        "thickness_factor": 1
       },
       {
        "color": "#673AB7",
        "directed": true,
        "end": 70,
        "id": 1152929201188241700,
        "label": "",
        "properties": {
         "label": "CALLS"
        },
        "start": 200,
        "thickness_factor": 1
       },
       {
        "color": "#673AB7",
        "directed": true,
        "end": 183,
        "id": 1155181001001927000,
        "label": "",
        "properties": {
         "label": "CALLS"
        },
        "start": 200,
        "thickness_factor": 1
       },
       {
        "color": "#9E9E9E",
        "directed": true,
        "end": 7,
        "id": 1161933101908099300,
        "label": "",
        "properties": {
         "label": "FUNCTION_DEFINITION"
        },
        "start": 202,
        "thickness_factor": 1
       },
       {
        "color": "#9E9E9E",
        "directed": true,
        "end": 8,
        "id": 1152925902653358300,
        "label": "",
        "properties": {
         "label": "FUNCTION_DEFINITION"
        },
        "start": 202,
        "thickness_factor": 1
       },
       {
        "color": "#9E9E9E",
        "directed": true,
        "end": 9,
        "id": 1157429502280728800,
        "label": "",
        "properties": {
         "label": "FUNCTION_DEFINITION"
        },
        "start": 202,
        "thickness_factor": 1
       },
       {
        "color": "#9E9E9E",
        "directed": true,
        "end": 11,
        "id": 1166436701535469800,
        "label": "",
        "properties": {
         "label": "FUNCTION_DEFINITION"
        },
        "start": 202,
        "thickness_factor": 1
       },
       {
        "color": "#9E9E9E",
        "directed": true,
        "end": 171,
        "id": 1168688501349155000,
        "label": "",
        "properties": {
         "label": "FUNCTION_DEFINITION"
        },
        "start": 202,
        "thickness_factor": 1
       },
       {
        "color": "#9E9E9E",
        "directed": true,
        "end": 298,
        "id": 1155177702467043600,
        "label": "",
        "properties": {
         "label": "FUNCTION_DEFINITION"
        },
        "start": 202,
        "thickness_factor": 1
       },
       {
        "color": "#9E9E9E",
        "directed": true,
        "end": 299,
        "id": 1164184901721784600,
        "label": "",
        "properties": {
         "label": "FUNCTION_DEFINITION"
        },
        "start": 202,
        "thickness_factor": 1
       },
       {
        "color": "#9E9E9E",
        "directed": true,
        "end": 300,
        "id": 1159681302094414000,
        "label": "",
        "properties": {
         "label": "FUNCTION_DEFINITION"
        },
        "start": 202,
        "thickness_factor": 1
       },
       {
        "color": "#673AB7",
        "directed": true,
        "end": 72,
        "id": 1152929201188241700,
        "label": "",
        "properties": {
         "label": "CALLS"
        },
        "start": 205,
        "thickness_factor": 1
       },
       {
        "color": "#673AB7",
        "directed": true,
        "end": 199,
        "id": 1155181001001927000,
        "label": "",
        "properties": {
         "label": "CALLS"
        },
        "start": 205,
        "thickness_factor": 1
       },
       {
        "color": "#9E9E9E",
        "directed": true,
        "end": 72,
        "id": 1164184901721784600,
        "label": "",
        "properties": {
         "label": "FUNCTION_DEFINITION"
        },
        "start": 209,
        "thickness_factor": 1
       },
       {
        "color": "#9E9E9E",
        "directed": true,
        "end": 80,
        "id": 1152925902653358300,
        "label": "",
        "properties": {
         "label": "FUNCTION_DEFINITION"
        },
        "start": 209,
        "thickness_factor": 1
       },
       {
        "color": "#9E9E9E",
        "directed": true,
        "end": 85,
        "id": 1157429502280728800,
        "label": "",
        "properties": {
         "label": "FUNCTION_DEFINITION"
        },
        "start": 209,
        "thickness_factor": 1
       },
       {
        "color": "#9E9E9E",
        "directed": true,
        "end": 86,
        "id": 1159681302094414000,
        "label": "",
        "properties": {
         "label": "FUNCTION_DEFINITION"
        },
        "start": 209,
        "thickness_factor": 1
       },
       {
        "color": "#9E9E9E",
        "directed": true,
        "end": 199,
        "id": 1166436701535469800,
        "label": "",
        "properties": {
         "label": "FUNCTION_DEFINITION"
        },
        "start": 209,
        "thickness_factor": 1
       },
       {
        "color": "#9E9E9E",
        "directed": true,
        "end": 205,
        "id": 1168688501349155000,
        "label": "",
        "properties": {
         "label": "FUNCTION_DEFINITION"
        },
        "start": 209,
        "thickness_factor": 1
       },
       {
        "color": "#9E9E9E",
        "directed": true,
        "end": 212,
        "id": 1155177702467043600,
        "label": "",
        "properties": {
         "label": "FUNCTION_DEFINITION"
        },
        "start": 209,
        "thickness_factor": 1
       },
       {
        "color": "#9E9E9E",
        "directed": true,
        "end": 215,
        "id": 1161933101908099300,
        "label": "",
        "properties": {
         "label": "FUNCTION_DEFINITION"
        },
        "start": 209,
        "thickness_factor": 1
       },
       {
        "color": "#673AB7",
        "directed": true,
        "end": 80,
        "id": 1152929201188241700,
        "label": "",
        "properties": {
         "label": "CALLS"
        },
        "start": 215,
        "thickness_factor": 1
       },
       {
        "color": "#673AB7",
        "directed": true,
        "end": 86,
        "id": 1155181001001927000,
        "label": "",
        "properties": {
         "label": "CALLS"
        },
        "start": 215,
        "thickness_factor": 1
       },
       {
        "color": "#673AB7",
        "directed": true,
        "end": 54,
        "id": 1152929201188241700,
        "label": "",
        "properties": {
         "label": "CALLS"
        },
        "start": 242,
        "thickness_factor": 1
       },
       {
        "color": "#673AB7",
        "directed": true,
        "end": 55,
        "id": 1155181001001927000,
        "label": "",
        "properties": {
         "label": "CALLS"
        },
        "start": 242,
        "thickness_factor": 1
       },
       {
        "color": "#673AB7",
        "directed": true,
        "end": 159,
        "id": 1157432800815612200,
        "label": "",
        "properties": {
         "label": "CALLS"
        },
        "start": 242,
        "thickness_factor": 1
       },
       {
        "color": "#673AB7",
        "directed": true,
        "end": 160,
        "id": 1159684600629297400,
        "label": "",
        "properties": {
         "label": "CALLS"
        },
        "start": 242,
        "thickness_factor": 1
       },
       {
        "color": "#9C27B0",
        "directed": true,
        "end": 134,
        "id": 1157430601792356600,
        "label": "",
        "properties": {
         "label": "CONTAINS"
        },
        "start": 243,
        "thickness_factor": 1
       },
       {
        "color": "#9C27B0",
        "directed": true,
        "end": 148,
        "id": 1159682401606041900,
        "label": "",
        "properties": {
         "label": "CONTAINS"
        },
        "start": 243,
        "thickness_factor": 1
       },
       {
        "color": "#9C27B0",
        "directed": true,
        "end": 244,
        "id": 1152927002164986000,
        "label": "",
        "properties": {
         "label": "CONTAINS"
        },
        "start": 243,
        "thickness_factor": 1
       },
       {
        "color": "#9C27B0",
        "directed": true,
        "end": 251,
        "id": 1155178801978671400,
        "label": "",
        "properties": {
         "label": "CONTAINS"
        },
        "start": 243,
        "thickness_factor": 1
       },
       {
        "color": "#CDDC39",
        "directed": true,
        "end": 245,
        "id": 1152924803141730600,
        "label": "",
        "properties": {
         "label": "CLASS_DEFINITION"
        },
        "start": 244,
        "thickness_factor": 1
       },
       {
        "color": "#2196F3",
        "directed": true,
        "end": 97,
        "id": 1157431701303984400,
        "label": "",
        "properties": {
         "label": "IMPORTS"
        },
        "start": 244,
        "thickness_factor": 1
       },
       {
        "color": "#2196F3",
        "directed": true,
        "end": 111,
        "id": 1161935300931355000,
        "label": "",
        "properties": {
         "label": "IMPORTS"
        },
        "start": 244,
        "thickness_factor": 1
       },
       {
        "color": "#2196F3",
        "directed": true,
        "end": 119,
        "id": 1159683501117669600,
        "label": "",
        "properties": {
         "label": "IMPORTS"
        },
        "start": 244,
        "thickness_factor": 1
       },
       {
        "color": "#2196F3",
        "directed": true,
        "end": 135,
        "id": 1152928101676614000,
        "label": "",
        "properties": {
         "label": "IMPORTS"
        },
        "start": 244,
        "thickness_factor": 1
       },
       {
        "color": "#2196F3",
        "directed": true,
        "end": 162,
        "id": 1164187100745040100,
        "label": "",
        "properties": {
         "label": "IMPORTS"
        },
        "start": 244,
        "thickness_factor": 1
       },
       {
        "color": "#2196F3",
        "directed": true,
        "end": 252,
        "id": 1155179901490299100,
        "label": "",
        "properties": {
         "label": "IMPORTS"
        },
        "start": 244,
        "thickness_factor": 1
       },
       {
        "color": "#9E9E9E",
        "directed": true,
        "end": 246,
        "id": 1152925902653358300,
        "label": "",
        "properties": {
         "label": "FUNCTION_DEFINITION"
        },
        "start": 245,
        "thickness_factor": 1
       },
       {
        "color": "#9E9E9E",
        "directed": true,
        "end": 247,
        "id": 1155177702467043600,
        "label": "",
        "properties": {
         "label": "FUNCTION_DEFINITION"
        },
        "start": 245,
        "thickness_factor": 1
       },
       {
        "color": "#9E9E9E",
        "directed": true,
        "end": 248,
        "id": 1157429502280728800,
        "label": "",
        "properties": {
         "label": "FUNCTION_DEFINITION"
        },
        "start": 245,
        "thickness_factor": 1
       },
       {
        "color": "#9E9E9E",
        "directed": true,
        "end": 249,
        "id": 1159681302094414000,
        "label": "",
        "properties": {
         "label": "FUNCTION_DEFINITION"
        },
        "start": 245,
        "thickness_factor": 1
       },
       {
        "color": "#9E9E9E",
        "directed": true,
        "end": 250,
        "id": 1161933101908099300,
        "label": "",
        "properties": {
         "label": "FUNCTION_DEFINITION"
        },
        "start": 245,
        "thickness_factor": 1
       },
       {
        "color": "#673AB7",
        "directed": true,
        "end": 104,
        "id": 1159684600629297400,
        "label": "",
        "properties": {
         "label": "CALLS"
        },
        "start": 247,
        "thickness_factor": 1
       },
       {
        "color": "#673AB7",
        "directed": true,
        "end": 106,
        "id": 1161936400442982700,
        "label": "",
        "properties": {
         "label": "CALLS"
        },
        "start": 247,
        "thickness_factor": 1
       },
       {
        "color": "#673AB7",
        "directed": true,
        "end": 245,
        "id": 1152929201188241700,
        "label": "",
        "properties": {
         "label": "CALLS"
        },
        "start": 247,
        "thickness_factor": 1
       },
       {
        "color": "#673AB7",
        "directed": true,
        "end": 247,
        "id": 1155181001001927000,
        "label": "",
        "properties": {
         "label": "CALLS"
        },
        "start": 247,
        "thickness_factor": 1
       },
       {
        "color": "#673AB7",
        "directed": true,
        "end": 106,
        "id": 1157432800815612200,
        "label": "",
        "properties": {
         "label": "CALLS"
        },
        "start": 250,
        "thickness_factor": 1
       },
       {
        "color": "#673AB7",
        "directed": true,
        "end": 107,
        "id": 1159684600629297400,
        "label": "",
        "properties": {
         "label": "CALLS"
        },
        "start": 250,
        "thickness_factor": 1
       },
       {
        "color": "#673AB7",
        "directed": true,
        "end": 108,
        "id": 1161936400442982700,
        "label": "",
        "properties": {
         "label": "CALLS"
        },
        "start": 250,
        "thickness_factor": 1
       },
       {
        "color": "#673AB7",
        "directed": true,
        "end": 247,
        "id": 6922040323849847000,
        "label": "",
        "properties": {
         "label": "CALLS"
        },
        "start": 250,
        "thickness_factor": 1
       },
       {
        "color": "#673AB7",
        "directed": true,
        "end": 248,
        "id": 1152929201188241700,
        "label": "",
        "properties": {
         "label": "CALLS"
        },
        "start": 250,
        "thickness_factor": 1
       },
       {
        "color": "#673AB7",
        "directed": true,
        "end": 249,
        "id": 1155181001001927000,
        "label": "",
        "properties": {
         "label": "CALLS"
        },
        "start": 250,
        "thickness_factor": 1
       },
       {
        "color": "#CDDC39",
        "directed": true,
        "end": 252,
        "id": 1152924803141730600,
        "label": "",
        "properties": {
         "label": "CLASS_DEFINITION"
        },
        "start": 251,
        "thickness_factor": 1
       },
       {
        "color": "#2196F3",
        "directed": true,
        "end": 97,
        "id": 1152928101676614000,
        "label": "",
        "properties": {
         "label": "IMPORTS"
        },
        "start": 251,
        "thickness_factor": 1
       },
       {
        "color": "#2196F3",
        "directed": true,
        "end": 153,
        "id": 1159683501117669600,
        "label": "",
        "properties": {
         "label": "IMPORTS"
        },
        "start": 251,
        "thickness_factor": 1
       },
       {
        "color": "#2196F3",
        "directed": true,
        "end": 162,
        "id": 1157431701303984400,
        "label": "",
        "properties": {
         "label": "IMPORTS"
        },
        "start": 251,
        "thickness_factor": 1
       },
       {
        "color": "#2196F3",
        "directed": true,
        "end": 287,
        "id": 1155179901490299100,
        "label": "",
        "properties": {
         "label": "IMPORTS"
        },
        "start": 251,
        "thickness_factor": 1
       },
       {
        "color": "#9E9E9E",
        "directed": true,
        "end": 133,
        "id": 1159681302094414000,
        "label": "",
        "properties": {
         "label": "FUNCTION_DEFINITION"
        },
        "start": 252,
        "thickness_factor": 1
       },
       {
        "color": "#9E9E9E",
        "directed": true,
        "end": 253,
        "id": 1152925902653358300,
        "label": "",
        "properties": {
         "label": "FUNCTION_DEFINITION"
        },
        "start": 252,
        "thickness_factor": 1
       },
       {
        "color": "#9E9E9E",
        "directed": true,
        "end": 254,
        "id": 1155177702467043600,
        "label": "",
        "properties": {
         "label": "FUNCTION_DEFINITION"
        },
        "start": 252,
        "thickness_factor": 1
       },
       {
        "color": "#9E9E9E",
        "directed": true,
        "end": 255,
        "id": 1157429502280728800,
        "label": "",
        "properties": {
         "label": "FUNCTION_DEFINITION"
        },
        "start": 252,
        "thickness_factor": 1
       },
       {
        "color": "#673AB7",
        "directed": true,
        "end": 111,
        "id": 1168691799884038400,
        "label": "",
        "properties": {
         "label": "CALLS"
        },
        "start": 254,
        "thickness_factor": 1
       },
       {
        "color": "#673AB7",
        "directed": true,
        "end": 116,
        "id": 1161936400442982700,
        "label": "",
        "properties": {
         "label": "CALLS"
        },
        "start": 254,
        "thickness_factor": 1
       },
       {
        "color": "#673AB7",
        "directed": true,
        "end": 116,
        "id": 1164188200256668000,
        "label": "",
        "properties": {
         "label": "CALLS"
        },
        "start": 254,
        "thickness_factor": 1
       },
       {
        "color": "#673AB7",
        "directed": true,
        "end": 117,
        "id": 1166440000070353200,
        "label": "",
        "properties": {
         "label": "CALLS"
        },
        "start": 254,
        "thickness_factor": 1
       },
       {
        "color": "#673AB7",
        "directed": true,
        "end": 133,
        "id": 1157432800815612200,
        "label": "",
        "properties": {
         "label": "CALLS"
        },
        "start": 254,
        "thickness_factor": 1
       },
       {
        "color": "#673AB7",
        "directed": true,
        "end": 252,
        "id": 1159684600629297400,
        "label": "",
        "properties": {
         "label": "CALLS"
        },
        "start": 254,
        "thickness_factor": 1
       },
       {
        "color": "#673AB7",
        "directed": true,
        "end": 255,
        "id": 1152929201188241700,
        "label": "",
        "properties": {
         "label": "CALLS"
        },
        "start": 254,
        "thickness_factor": 1
       },
       {
        "color": "#673AB7",
        "directed": true,
        "end": 255,
        "id": 1155181001001927000,
        "label": "",
        "properties": {
         "label": "CALLS"
        },
        "start": 254,
        "thickness_factor": 1
       },
       {
        "color": "#9C27B0",
        "directed": true,
        "end": 28,
        "id": 1159682401606041900,
        "label": "",
        "properties": {
         "label": "CONTAINS"
        },
        "start": 256,
        "thickness_factor": 1
       },
       {
        "color": "#9C27B0",
        "directed": true,
        "end": 257,
        "id": 1152927002164986000,
        "label": "",
        "properties": {
         "label": "CONTAINS"
        },
        "start": 256,
        "thickness_factor": 1
       },
       {
        "color": "#9C27B0",
        "directed": true,
        "end": 264,
        "id": 1155178801978671400,
        "label": "",
        "properties": {
         "label": "CONTAINS"
        },
        "start": 256,
        "thickness_factor": 1
       },
       {
        "color": "#9C27B0",
        "directed": true,
        "end": 270,
        "id": 1157430601792356600,
        "label": "",
        "properties": {
         "label": "CONTAINS"
        },
        "start": 256,
        "thickness_factor": 1
       },
       {
        "color": "#CDDC39",
        "directed": true,
        "end": 258,
        "id": 1152924803141730600,
        "label": "",
        "properties": {
         "label": "CLASS_DEFINITION"
        },
        "start": 257,
        "thickness_factor": 1
       },
       {
        "color": "#2196F3",
        "directed": true,
        "end": 10,
        "id": 1157431701303984400,
        "label": "",
        "properties": {
         "label": "IMPORTS"
        },
        "start": 257,
        "thickness_factor": 1
       },
       {
        "color": "#2196F3",
        "directed": true,
        "end": 265,
        "id": 1155179901490299100,
        "label": "",
        "properties": {
         "label": "IMPORTS"
        },
        "start": 257,
        "thickness_factor": 1
       },
       {
        "color": "#2196F3",
        "directed": true,
        "end": 271,
        "id": 1152928101676614000,
        "label": "",
        "properties": {
         "label": "IMPORTS"
        },
        "start": 257,
        "thickness_factor": 1
       },
       {
        "color": "#9E9E9E",
        "directed": true,
        "end": 259,
        "id": 1152925902653358300,
        "label": "",
        "properties": {
         "label": "FUNCTION_DEFINITION"
        },
        "start": 258,
        "thickness_factor": 1
       },
       {
        "color": "#9E9E9E",
        "directed": true,
        "end": 260,
        "id": 1155177702467043600,
        "label": "",
        "properties": {
         "label": "FUNCTION_DEFINITION"
        },
        "start": 258,
        "thickness_factor": 1
       },
       {
        "color": "#9E9E9E",
        "directed": true,
        "end": 261,
        "id": 1157429502280728800,
        "label": "",
        "properties": {
         "label": "FUNCTION_DEFINITION"
        },
        "start": 258,
        "thickness_factor": 1
       },
       {
        "color": "#9E9E9E",
        "directed": true,
        "end": 262,
        "id": 1159681302094414000,
        "label": "",
        "properties": {
         "label": "FUNCTION_DEFINITION"
        },
        "start": 258,
        "thickness_factor": 1
       },
       {
        "color": "#9E9E9E",
        "directed": true,
        "end": 263,
        "id": 1161933101908099300,
        "label": "",
        "properties": {
         "label": "FUNCTION_DEFINITION"
        },
        "start": 258,
        "thickness_factor": 1
       },
       {
        "color": "#673AB7",
        "directed": true,
        "end": 258,
        "id": 1152929201188241700,
        "label": "",
        "properties": {
         "label": "CALLS"
        },
        "start": 260,
        "thickness_factor": 1
       },
       {
        "color": "#673AB7",
        "directed": true,
        "end": 260,
        "id": 1155181001001927000,
        "label": "",
        "properties": {
         "label": "CALLS"
        },
        "start": 260,
        "thickness_factor": 1
       },
       {
        "color": "#673AB7",
        "directed": true,
        "end": 260,
        "id": 6922040323849847000,
        "label": "",
        "properties": {
         "label": "CALLS"
        },
        "start": 263,
        "thickness_factor": 1
       },
       {
        "color": "#673AB7",
        "directed": true,
        "end": 261,
        "id": 1152929201188241700,
        "label": "",
        "properties": {
         "label": "CALLS"
        },
        "start": 263,
        "thickness_factor": 1
       },
       {
        "color": "#673AB7",
        "directed": true,
        "end": 262,
        "id": 1155181001001927000,
        "label": "",
        "properties": {
         "label": "CALLS"
        },
        "start": 263,
        "thickness_factor": 1
       },
       {
        "color": "#CDDC39",
        "directed": true,
        "end": 265,
        "id": 1152924803141730600,
        "label": "",
        "properties": {
         "label": "CLASS_DEFINITION"
        },
        "start": 264,
        "thickness_factor": 1
       },
       {
        "color": "#2196F3",
        "directed": true,
        "end": 10,
        "id": 1152928101676614000,
        "label": "",
        "properties": {
         "label": "IMPORTS"
        },
        "start": 264,
        "thickness_factor": 1
       },
       {
        "color": "#2196F3",
        "directed": true,
        "end": 209,
        "id": 1155179901490299100,
        "label": "",
        "properties": {
         "label": "IMPORTS"
        },
        "start": 264,
        "thickness_factor": 1
       },
       {
        "color": "#9E9E9E",
        "directed": true,
        "end": 266,
        "id": 1152925902653358300,
        "label": "",
        "properties": {
         "label": "FUNCTION_DEFINITION"
        },
        "start": 265,
        "thickness_factor": 1
       },
       {
        "color": "#9E9E9E",
        "directed": true,
        "end": 267,
        "id": 1155177702467043600,
        "label": "",
        "properties": {
         "label": "FUNCTION_DEFINITION"
        },
        "start": 265,
        "thickness_factor": 1
       },
       {
        "color": "#9E9E9E",
        "directed": true,
        "end": 268,
        "id": 1157429502280728800,
        "label": "",
        "properties": {
         "label": "FUNCTION_DEFINITION"
        },
        "start": 265,
        "thickness_factor": 1
       },
       {
        "color": "#9E9E9E",
        "directed": true,
        "end": 269,
        "id": 1159681302094414000,
        "label": "",
        "properties": {
         "label": "FUNCTION_DEFINITION"
        },
        "start": 265,
        "thickness_factor": 1
       },
       {
        "color": "#673AB7",
        "directed": true,
        "end": 265,
        "id": 1159684600629297400,
        "label": "",
        "properties": {
         "label": "CALLS"
        },
        "start": 267,
        "thickness_factor": 1
       },
       {
        "color": "#673AB7",
        "directed": true,
        "end": 268,
        "id": 1152929201188241700,
        "label": "",
        "properties": {
         "label": "CALLS"
        },
        "start": 267,
        "thickness_factor": 1
       },
       {
        "color": "#673AB7",
        "directed": true,
        "end": 268,
        "id": 1155181001001927000,
        "label": "",
        "properties": {
         "label": "CALLS"
        },
        "start": 267,
        "thickness_factor": 1
       },
       {
        "color": "#673AB7",
        "directed": true,
        "end": 269,
        "id": 1157432800815612200,
        "label": "",
        "properties": {
         "label": "CALLS"
        },
        "start": 267,
        "thickness_factor": 1
       },
       {
        "color": "#CDDC39",
        "directed": true,
        "end": 271,
        "id": 1152924803141730600,
        "label": "",
        "properties": {
         "label": "CLASS_DEFINITION"
        },
        "start": 270,
        "thickness_factor": 1
       },
       {
        "color": "#9E9E9E",
        "directed": true,
        "end": 20,
        "id": 1161933101908099300,
        "label": "",
        "properties": {
         "label": "FUNCTION_DEFINITION"
        },
        "start": 271,
        "thickness_factor": 1
       },
       {
        "color": "#9E9E9E",
        "directed": true,
        "end": 21,
        "id": 1164184901721784600,
        "label": "",
        "properties": {
         "label": "FUNCTION_DEFINITION"
        },
        "start": 271,
        "thickness_factor": 1
       },
       {
        "color": "#9E9E9E",
        "directed": true,
        "end": 22,
        "id": 1166436701535469800,
        "label": "",
        "properties": {
         "label": "FUNCTION_DEFINITION"
        },
        "start": 271,
        "thickness_factor": 1
       },
       {
        "color": "#9E9E9E",
        "directed": true,
        "end": 23,
        "id": 1168688501349155000,
        "label": "",
        "properties": {
         "label": "FUNCTION_DEFINITION"
        },
        "start": 271,
        "thickness_factor": 1
       },
       {
        "color": "#9E9E9E",
        "directed": true,
        "end": 25,
        "id": 1175443900790210800,
        "label": "",
        "properties": {
         "label": "FUNCTION_DEFINITION"
        },
        "start": 271,
        "thickness_factor": 1
       },
       {
        "color": "#9E9E9E",
        "directed": true,
        "end": 26,
        "id": 1177695700603896000,
        "label": "",
        "properties": {
         "label": "FUNCTION_DEFINITION"
        },
        "start": 271,
        "thickness_factor": 1
       },
       {
        "color": "#9E9E9E",
        "directed": true,
        "end": 272,
        "id": 1152925902653358300,
        "label": "",
        "properties": {
         "label": "FUNCTION_DEFINITION"
        },
        "start": 271,
        "thickness_factor": 1
       },
       {
        "color": "#9E9E9E",
        "directed": true,
        "end": 273,
        "id": 1155177702467043600,
        "label": "",
        "properties": {
         "label": "FUNCTION_DEFINITION"
        },
        "start": 271,
        "thickness_factor": 1
       },
       {
        "color": "#9E9E9E",
        "directed": true,
        "end": 274,
        "id": 1157429502280728800,
        "label": "",
        "properties": {
         "label": "FUNCTION_DEFINITION"
        },
        "start": 271,
        "thickness_factor": 1
       },
       {
        "color": "#9E9E9E",
        "directed": true,
        "end": 275,
        "id": 1159681302094414000,
        "label": "",
        "properties": {
         "label": "FUNCTION_DEFINITION"
        },
        "start": 271,
        "thickness_factor": 1
       },
       {
        "color": "#9E9E9E",
        "directed": true,
        "end": 280,
        "id": 1170940301162840300,
        "label": "",
        "properties": {
         "label": "FUNCTION_DEFINITION"
        },
        "start": 271,
        "thickness_factor": 1
       },
       {
        "color": "#9E9E9E",
        "directed": true,
        "end": 281,
        "id": 1173192100976525600,
        "label": "",
        "properties": {
         "label": "FUNCTION_DEFINITION"
        },
        "start": 271,
        "thickness_factor": 1
       },
       {
        "color": "#673AB7",
        "directed": true,
        "end": 273,
        "id": 1152929201188241700,
        "label": "",
        "properties": {
         "label": "CALLS"
        },
        "start": 272,
        "thickness_factor": 1
       },
       {
        "color": "#9C27B0",
        "directed": true,
        "end": 149,
        "id": 1157430601792356600,
        "label": "",
        "properties": {
         "label": "CONTAINS"
        },
        "start": 285,
        "thickness_factor": 1
       },
       {
        "color": "#9C27B0",
        "directed": true,
        "end": 150,
        "id": 1159682401606041900,
        "label": "",
        "properties": {
         "label": "CONTAINS"
        },
        "start": 285,
        "thickness_factor": 1
       },
       {
        "color": "#9C27B0",
        "directed": true,
        "end": 243,
        "id": 1155178801978671400,
        "label": "",
        "properties": {
         "label": "CONTAINS"
        },
        "start": 285,
        "thickness_factor": 1
       },
       {
        "color": "#9C27B0",
        "directed": true,
        "end": 286,
        "id": 1152927002164986000,
        "label": "",
        "properties": {
         "label": "CONTAINS"
        },
        "start": 285,
        "thickness_factor": 1
       },
       {
        "color": "#9C27B0",
        "directed": true,
        "end": 97,
        "id": 1155178801978671400,
        "label": "",
        "properties": {
         "label": "CONTAINS"
        },
        "start": 286,
        "thickness_factor": 1
       },
       {
        "color": "#9C27B0",
        "directed": true,
        "end": 114,
        "id": 1157430601792356600,
        "label": "",
        "properties": {
         "label": "CONTAINS"
        },
        "start": 286,
        "thickness_factor": 1
       },
       {
        "color": "#9C27B0",
        "directed": true,
        "end": 287,
        "id": 1152927002164986000,
        "label": "",
        "properties": {
         "label": "CONTAINS"
        },
        "start": 286,
        "thickness_factor": 1
       },
       {
        "color": "#9E9E9E",
        "directed": true,
        "end": 42,
        "id": 1157429502280728800,
        "label": "",
        "properties": {
         "label": "FUNCTION_DEFINITION"
        },
        "start": 287,
        "thickness_factor": 1
       },
       {
        "color": "#9E9E9E",
        "directed": true,
        "end": 52,
        "id": 1159681302094414000,
        "label": "",
        "properties": {
         "label": "FUNCTION_DEFINITION"
        },
        "start": 287,
        "thickness_factor": 1
       },
       {
        "color": "#9E9E9E",
        "directed": true,
        "end": 53,
        "id": 1161933101908099300,
        "label": "",
        "properties": {
         "label": "FUNCTION_DEFINITION"
        },
        "start": 287,
        "thickness_factor": 1
       },
       {
        "color": "#9E9E9E",
        "directed": true,
        "end": 54,
        "id": 1164184901721784600,
        "label": "",
        "properties": {
         "label": "FUNCTION_DEFINITION"
        },
        "start": 287,
        "thickness_factor": 1
       },
       {
        "color": "#9E9E9E",
        "directed": true,
        "end": 55,
        "id": 1166436701535469800,
        "label": "",
        "properties": {
         "label": "FUNCTION_DEFINITION"
        },
        "start": 287,
        "thickness_factor": 1
       },
       {
        "color": "#9E9E9E",
        "directed": true,
        "end": 242,
        "id": 1168688501349155000,
        "label": "",
        "properties": {
         "label": "FUNCTION_DEFINITION"
        },
        "start": 287,
        "thickness_factor": 1
       },
       {
        "color": "#9E9E9E",
        "directed": true,
        "end": 288,
        "id": 1152925902653358300,
        "label": "",
        "properties": {
         "label": "FUNCTION_DEFINITION"
        },
        "start": 287,
        "thickness_factor": 1
       },
       {
        "color": "#9E9E9E",
        "directed": true,
        "end": 289,
        "id": 1155177702467043600,
        "label": "",
        "properties": {
         "label": "FUNCTION_DEFINITION"
        },
        "start": 287,
        "thickness_factor": 1
       },
       {
        "color": "#673AB7",
        "directed": true,
        "end": 5,
        "id": 1157432800815612200,
        "label": "",
        "properties": {
         "label": "CALLS"
        },
        "start": 290,
        "thickness_factor": 1
       },
       {
        "color": "#673AB7",
        "directed": true,
        "end": 17,
        "id": 6928795723290903000,
        "label": "",
        "properties": {
         "label": "CALLS"
        },
        "start": 290,
        "thickness_factor": 1
       },
       {
        "color": "#673AB7",
        "directed": true,
        "end": 18,
        "id": 1152929201188241700,
        "label": "",
        "properties": {
         "label": "CALLS"
        },
        "start": 290,
        "thickness_factor": 1
       },
       {
        "color": "#673AB7",
        "directed": true,
        "end": 260,
        "id": 1161936400442982700,
        "label": "",
        "properties": {
         "label": "CALLS"
        },
        "start": 290,
        "thickness_factor": 1
       },
       {
        "color": "#673AB7",
        "directed": true,
        "end": 261,
        "id": 1164188200256668000,
        "label": "",
        "properties": {
         "label": "CALLS"
        },
        "start": 290,
        "thickness_factor": 1
       },
       {
        "color": "#673AB7",
        "directed": true,
        "end": 262,
        "id": 1166440000070353200,
        "label": "",
        "properties": {
         "label": "CALLS"
        },
        "start": 290,
        "thickness_factor": 1
       },
       {
        "color": "#673AB7",
        "directed": true,
        "end": 307,
        "id": 1159684600629297400,
        "label": "",
        "properties": {
         "label": "CALLS"
        },
        "start": 290,
        "thickness_factor": 1
       },
       {
        "color": "#673AB7",
        "directed": true,
        "end": 308,
        "id": 6935551122731958000,
        "label": "",
        "properties": {
         "label": "CALLS"
        },
        "start": 290,
        "thickness_factor": 1
       },
       {
        "color": "#673AB7",
        "directed": true,
        "end": 309,
        "id": 1155181001001927000,
        "label": "",
        "properties": {
         "label": "CALLS"
        },
        "start": 290,
        "thickness_factor": 1
       },
       {
        "color": "#673AB7",
        "directed": true,
        "end": 1,
        "id": 1157432800815612200,
        "label": "",
        "properties": {
         "label": "CALLS"
        },
        "start": 293,
        "thickness_factor": 1
       },
       {
        "color": "#673AB7",
        "directed": true,
        "end": 85,
        "id": 1161936400442982700,
        "label": "",
        "properties": {
         "label": "CALLS"
        },
        "start": 293,
        "thickness_factor": 1
       },
       {
        "color": "#673AB7",
        "directed": true,
        "end": 292,
        "id": 1152929201188241700,
        "label": "",
        "properties": {
         "label": "CALLS"
        },
        "start": 293,
        "thickness_factor": 1
       },
       {
        "color": "#673AB7",
        "directed": true,
        "end": 292,
        "id": 1159684600629297400,
        "label": "",
        "properties": {
         "label": "CALLS"
        },
        "start": 293,
        "thickness_factor": 1
       },
       {
        "color": "#673AB7",
        "directed": true,
        "end": 4,
        "id": 1157432800815612200,
        "label": "",
        "properties": {
         "label": "CALLS"
        },
        "start": 294,
        "thickness_factor": 1
       },
       {
        "color": "#673AB7",
        "directed": true,
        "end": 72,
        "id": 1161936400442982700,
        "label": "",
        "properties": {
         "label": "CALLS"
        },
        "start": 294,
        "thickness_factor": 1
       },
       {
        "color": "#673AB7",
        "directed": true,
        "end": 295,
        "id": 1152929201188241700,
        "label": "",
        "properties": {
         "label": "CALLS"
        },
        "start": 294,
        "thickness_factor": 1
       },
       {
        "color": "#673AB7",
        "directed": true,
        "end": 295,
        "id": 1159684600629297400,
        "label": "",
        "properties": {
         "label": "CALLS"
        },
        "start": 294,
        "thickness_factor": 1
       },
       {
        "color": "#2196F3",
        "directed": true,
        "end": 15,
        "id": 1157431701303984400,
        "label": "",
        "properties": {
         "label": "IMPORTS"
        },
        "start": 296,
        "thickness_factor": 1
       },
       {
        "color": "#2196F3",
        "directed": true,
        "end": 188,
        "id": 1155179901490299100,
        "label": "",
        "properties": {
         "label": "IMPORTS"
        },
        "start": 296,
        "thickness_factor": 1
       },
       {
        "color": "#2196F3",
        "directed": true,
        "end": 188,
        "id": 1161935300931355000,
        "label": "",
        "properties": {
         "label": "IMPORTS"
        },
        "start": 296,
        "thickness_factor": 1
       },
       {
        "color": "#2196F3",
        "directed": true,
        "end": 192,
        "id": 1164187100745040100,
        "label": "",
        "properties": {
         "label": "IMPORTS"
        },
        "start": 296,
        "thickness_factor": 1
       },
       {
        "color": "#2196F3",
        "directed": true,
        "end": 258,
        "id": 1166438900558725400,
        "label": "",
        "properties": {
         "label": "IMPORTS"
        },
        "start": 296,
        "thickness_factor": 1
       },
       {
        "color": "#2196F3",
        "directed": true,
        "end": 271,
        "id": 1168690700372410600,
        "label": "",
        "properties": {
         "label": "IMPORTS"
        },
        "start": 296,
        "thickness_factor": 1
       },
       {
        "color": "#2196F3",
        "directed": true,
        "end": 305,
        "id": 1152928101676614000,
        "label": "",
        "properties": {
         "label": "IMPORTS"
        },
        "start": 296,
        "thickness_factor": 1
       },
       {
        "color": "#2196F3",
        "directed": true,
        "end": 305,
        "id": 1159683501117669600,
        "label": "",
        "properties": {
         "label": "IMPORTS"
        },
        "start": 296,
        "thickness_factor": 1
       },
       {
        "color": "#9C27B0",
        "directed": true,
        "end": 12,
        "id": 1161934201419727000,
        "label": "",
        "properties": {
         "label": "CONTAINS"
        },
        "start": 297,
        "thickness_factor": 1
       },
       {
        "color": "#9C27B0",
        "directed": true,
        "end": 168,
        "id": 1157430601792356600,
        "label": "",
        "properties": {
         "label": "CONTAINS"
        },
        "start": 297,
        "thickness_factor": 1
       },
       {
        "color": "#9C27B0",
        "directed": true,
        "end": 175,
        "id": 1164186001233412400,
        "label": "",
        "properties": {
         "label": "CONTAINS"
        },
        "start": 297,
        "thickness_factor": 1
       },
       {
        "color": "#9C27B0",
        "directed": true,
        "end": 178,
        "id": 1152927002164986000,
        "label": "",
        "properties": {
         "label": "CONTAINS"
        },
        "start": 297,
        "thickness_factor": 1
       },
       {
        "color": "#9C27B0",
        "directed": true,
        "end": 202,
        "id": 1159682401606041900,
        "label": "",
        "properties": {
         "label": "CONTAINS"
        },
        "start": 297,
        "thickness_factor": 1
       },
       {
        "color": "#9C27B0",
        "directed": true,
        "end": 301,
        "id": 1155178801978671400,
        "label": "",
        "properties": {
         "label": "CONTAINS"
        },
        "start": 297,
        "thickness_factor": 1
       },
       {
        "color": "#9E9E9E",
        "directed": true,
        "end": 0,
        "id": 1175443900790210800,
        "label": "",
        "properties": {
         "label": "FUNCTION_DEFINITION"
        },
        "start": 301,
        "thickness_factor": 1
       },
       {
        "color": "#9E9E9E",
        "directed": true,
        "end": 1,
        "id": 1179947500417581300,
        "label": "",
        "properties": {
         "label": "FUNCTION_DEFINITION"
        },
        "start": 301,
        "thickness_factor": 1
       },
       {
        "color": "#9E9E9E",
        "directed": true,
        "end": 2,
        "id": 1184451100044951800,
        "label": "",
        "properties": {
         "label": "FUNCTION_DEFINITION"
        },
        "start": 301,
        "thickness_factor": 1
       },
       {
        "color": "#9E9E9E",
        "directed": true,
        "end": 3,
        "id": 1188954699672322300,
        "label": "",
        "properties": {
         "label": "FUNCTION_DEFINITION"
        },
        "start": 301,
        "thickness_factor": 1
       },
       {
        "color": "#9E9E9E",
        "directed": true,
        "end": 4,
        "id": 1193458299299692800,
        "label": "",
        "properties": {
         "label": "FUNCTION_DEFINITION"
        },
        "start": 301,
        "thickness_factor": 1
       },
       {
        "color": "#9E9E9E",
        "directed": true,
        "end": 6,
        "id": 1202465498554433800,
        "label": "",
        "properties": {
         "label": "FUNCTION_DEFINITION"
        },
        "start": 301,
        "thickness_factor": 1
       },
       {
        "color": "#9E9E9E",
        "directed": true,
        "end": 76,
        "id": 1197961898927063300,
        "label": "",
        "properties": {
         "label": "FUNCTION_DEFINITION"
        },
        "start": 301,
        "thickness_factor": 1
       },
       {
        "color": "#9E9E9E",
        "directed": true,
        "end": 165,
        "id": 1161933101908099300,
        "label": "",
        "properties": {
         "label": "FUNCTION_DEFINITION"
        },
        "start": 301,
        "thickness_factor": 1
       },
       {
        "color": "#9E9E9E",
        "directed": true,
        "end": 165,
        "id": 1191206499486007600,
        "label": "",
        "properties": {
         "label": "FUNCTION_DEFINITION"
        },
        "start": 301,
        "thickness_factor": 1
       },
       {
        "color": "#9E9E9E",
        "directed": true,
        "end": 167,
        "id": 1168688501349155000,
        "label": "",
        "properties": {
         "label": "FUNCTION_DEFINITION"
        },
        "start": 301,
        "thickness_factor": 1
       },
       {
        "color": "#9E9E9E",
        "directed": true,
        "end": 167,
        "id": 1204717298368119000,
        "label": "",
        "properties": {
         "label": "FUNCTION_DEFINITION"
        },
        "start": 301,
        "thickness_factor": 1
       },
       {
        "color": "#9E9E9E",
        "directed": true,
        "end": 189,
        "id": 1152925902653358300,
        "label": "",
        "properties": {
         "label": "FUNCTION_DEFINITION"
        },
        "start": 301,
        "thickness_factor": 1
       },
       {
        "color": "#9E9E9E",
        "directed": true,
        "end": 189,
        "id": 1170940301162840300,
        "label": "",
        "properties": {
         "label": "FUNCTION_DEFINITION"
        },
        "start": 301,
        "thickness_factor": 1
       },
       {
        "color": "#9E9E9E",
        "directed": true,
        "end": 191,
        "id": 1173192100976525600,
        "label": "",
        "properties": {
         "label": "FUNCTION_DEFINITION"
        },
        "start": 301,
        "thickness_factor": 1
       },
       {
        "color": "#9E9E9E",
        "directed": true,
        "end": 291,
        "id": 1155177702467043600,
        "label": "",
        "properties": {
         "label": "FUNCTION_DEFINITION"
        },
        "start": 301,
        "thickness_factor": 1
       },
       {
        "color": "#9E9E9E",
        "directed": true,
        "end": 291,
        "id": 1177695700603896000,
        "label": "",
        "properties": {
         "label": "FUNCTION_DEFINITION"
        },
        "start": 301,
        "thickness_factor": 1
       },
       {
        "color": "#9E9E9E",
        "directed": true,
        "end": 292,
        "id": 1157429502280728800,
        "label": "",
        "properties": {
         "label": "FUNCTION_DEFINITION"
        },
        "start": 301,
        "thickness_factor": 1
       },
       {
        "color": "#9E9E9E",
        "directed": true,
        "end": 292,
        "id": 1182199300231266600,
        "label": "",
        "properties": {
         "label": "FUNCTION_DEFINITION"
        },
        "start": 301,
        "thickness_factor": 1
       },
       {
        "color": "#9E9E9E",
        "directed": true,
        "end": 293,
        "id": 1159681302094414000,
        "label": "",
        "properties": {
         "label": "FUNCTION_DEFINITION"
        },
        "start": 301,
        "thickness_factor": 1
       },
       {
        "color": "#9E9E9E",
        "directed": true,
        "end": 293,
        "id": 1186702899858637000,
        "label": "",
        "properties": {
         "label": "FUNCTION_DEFINITION"
        },
        "start": 301,
        "thickness_factor": 1
       },
       {
        "color": "#9E9E9E",
        "directed": true,
        "end": 294,
        "id": 1166436701535469800,
        "label": "",
        "properties": {
         "label": "FUNCTION_DEFINITION"
        },
        "start": 301,
        "thickness_factor": 1
       },
       {
        "color": "#9E9E9E",
        "directed": true,
        "end": 294,
        "id": 1200213698740748500,
        "label": "",
        "properties": {
         "label": "FUNCTION_DEFINITION"
        },
        "start": 301,
        "thickness_factor": 1
       },
       {
        "color": "#9E9E9E",
        "directed": true,
        "end": 295,
        "id": 1164184901721784600,
        "label": "",
        "properties": {
         "label": "FUNCTION_DEFINITION"
        },
        "start": 301,
        "thickness_factor": 1
       },
       {
        "color": "#9E9E9E",
        "directed": true,
        "end": 295,
        "id": 1195710099113378000,
        "label": "",
        "properties": {
         "label": "FUNCTION_DEFINITION"
        },
        "start": 301,
        "thickness_factor": 1
       },
       {
        "color": "#673AB7",
        "directed": true,
        "end": 21,
        "id": 1159684600629297400,
        "label": "",
        "properties": {
         "label": "CALLS"
        },
        "start": 303,
        "thickness_factor": 1
       },
       {
        "color": "#673AB7",
        "directed": true,
        "end": 70,
        "id": 1155181001001927000,
        "label": "",
        "properties": {
         "label": "CALLS"
        },
        "start": 303,
        "thickness_factor": 1
       },
       {
        "color": "#673AB7",
        "directed": true,
        "end": 183,
        "id": 1152929201188241700,
        "label": "",
        "properties": {
         "label": "CALLS"
        },
        "start": 303,
        "thickness_factor": 1
       },
       {
        "color": "#673AB7",
        "directed": true,
        "end": 183,
        "id": 1157432800815612200,
        "label": "",
        "properties": {
         "label": "CALLS"
        },
        "start": 303,
        "thickness_factor": 1
       },
       {
        "color": "#9C27B0",
        "directed": true,
        "end": 14,
        "id": 1161934201419727000,
        "label": "",
        "properties": {
         "label": "CONTAINS"
        },
        "start": 304,
        "thickness_factor": 1
       },
       {
        "color": "#9C27B0",
        "directed": true,
        "end": 62,
        "id": 1157430601792356600,
        "label": "",
        "properties": {
         "label": "CONTAINS"
        },
        "start": 304,
        "thickness_factor": 1
       },
       {
        "color": "#9C27B0",
        "directed": true,
        "end": 62,
        "id": 1170941400674468000,
        "label": "",
        "properties": {
         "label": "CONTAINS"
        },
        "start": 304,
        "thickness_factor": 1
       },
       {
        "color": "#9C27B0",
        "directed": true,
        "end": 63,
        "id": 1173193200488153300,
        "label": "",
        "properties": {
         "label": "CONTAINS"
        },
        "start": 304,
        "thickness_factor": 1
       },
       {
        "color": "#9C27B0",
        "directed": true,
        "end": 174,
        "id": 1159682401606041900,
        "label": "",
        "properties": {
         "label": "CONTAINS"
        },
        "start": 304,
        "thickness_factor": 1
       },
       {
        "color": "#9C27B0",
        "directed": true,
        "end": 174,
        "id": 1175445000301838600,
        "label": "",
        "properties": {
         "label": "CONTAINS"
        },
        "start": 304,
        "thickness_factor": 1
       },
       {
        "color": "#9C27B0",
        "directed": true,
        "end": 177,
        "id": 1152927002164986000,
        "label": "",
        "properties": {
         "label": "CONTAINS"
        },
        "start": 304,
        "thickness_factor": 1
       },
       {
        "color": "#9C27B0",
        "directed": true,
        "end": 177,
        "id": 1164186001233412400,
        "label": "",
        "properties": {
         "label": "CONTAINS"
        },
        "start": 304,
        "thickness_factor": 1
       },
       {
        "color": "#9C27B0",
        "directed": true,
        "end": 182,
        "id": 1155178801978671400,
        "label": "",
        "properties": {
         "label": "CONTAINS"
        },
        "start": 304,
        "thickness_factor": 1
       },
       {
        "color": "#9C27B0",
        "directed": true,
        "end": 182,
        "id": 1166437801047097600,
        "label": "",
        "properties": {
         "label": "CONTAINS"
        },
        "start": 304,
        "thickness_factor": 1
       },
       {
        "color": "#9C27B0",
        "directed": true,
        "end": 204,
        "id": 1177696800115523800,
        "label": "",
        "properties": {
         "label": "CONTAINS"
        },
        "start": 304,
        "thickness_factor": 1
       },
       {
        "color": "#9C27B0",
        "directed": true,
        "end": 310,
        "id": 1168689600860782800,
        "label": "",
        "properties": {
         "label": "CONTAINS"
        },
        "start": 304,
        "thickness_factor": 1
       },
       {
        "color": "#9E9E9E",
        "directed": true,
        "end": 5,
        "id": 1177695700603896000,
        "label": "",
        "properties": {
         "label": "FUNCTION_DEFINITION"
        },
        "start": 305,
        "thickness_factor": 1
       },
       {
        "color": "#9E9E9E",
        "directed": true,
        "end": 16,
        "id": 1164184901721784600,
        "label": "",
        "properties": {
         "label": "FUNCTION_DEFINITION"
        },
        "start": 305,
        "thickness_factor": 1
       },
       {
        "color": "#9E9E9E",
        "directed": true,
        "end": 17,
        "id": 1168688501349155000,
        "label": "",
        "properties": {
         "label": "FUNCTION_DEFINITION"
        },
        "start": 305,
        "thickness_factor": 1
       },
       {
        "color": "#9E9E9E",
        "directed": true,
        "end": 18,
        "id": 1173192100976525600,
        "label": "",
        "properties": {
         "label": "FUNCTION_DEFINITION"
        },
        "start": 305,
        "thickness_factor": 1
       },
       {
        "color": "#9E9E9E",
        "directed": true,
        "end": 176,
        "id": 1152925902653358300,
        "label": "",
        "properties": {
         "label": "FUNCTION_DEFINITION"
        },
        "start": 305,
        "thickness_factor": 1
       },
       {
        "color": "#9E9E9E",
        "directed": true,
        "end": 176,
        "id": 1166436701535469800,
        "label": "",
        "properties": {
         "label": "FUNCTION_DEFINITION"
        },
        "start": 305,
        "thickness_factor": 1
       },
       {
        "color": "#9E9E9E",
        "directed": true,
        "end": 181,
        "id": 1161933101908099300,
        "label": "",
        "properties": {
         "label": "FUNCTION_DEFINITION"
        },
        "start": 305,
        "thickness_factor": 1
       },
       {
        "color": "#9E9E9E",
        "directed": true,
        "end": 181,
        "id": 1182199300231266600,
        "label": "",
        "properties": {
         "label": "FUNCTION_DEFINITION"
        },
        "start": 305,
        "thickness_factor": 1
       },
       {
        "color": "#9E9E9E",
        "directed": true,
        "end": 290,
        "id": 1184451100044951800,
        "label": "",
        "properties": {
         "label": "FUNCTION_DEFINITION"
        },
        "start": 305,
        "thickness_factor": 1
       },
       {
        "color": "#9E9E9E",
        "directed": true,
        "end": 307,
        "id": 1159681302094414000,
        "label": "",
        "properties": {
         "label": "FUNCTION_DEFINITION"
        },
        "start": 305,
        "thickness_factor": 1
       },
       {
        "color": "#9E9E9E",
        "directed": true,
        "end": 307,
        "id": 1179947500417581300,
        "label": "",
        "properties": {
         "label": "FUNCTION_DEFINITION"
        },
        "start": 305,
        "thickness_factor": 1
       },
       {
        "color": "#9E9E9E",
        "directed": true,
        "end": 308,
        "id": 1155177702467043600,
        "label": "",
        "properties": {
         "label": "FUNCTION_DEFINITION"
        },
        "start": 305,
        "thickness_factor": 1
       },
       {
        "color": "#9E9E9E",
        "directed": true,
        "end": 308,
        "id": 1170940301162840300,
        "label": "",
        "properties": {
         "label": "FUNCTION_DEFINITION"
        },
        "start": 305,
        "thickness_factor": 1
       },
       {
        "color": "#9E9E9E",
        "directed": true,
        "end": 309,
        "id": 1157429502280728800,
        "label": "",
        "properties": {
         "label": "FUNCTION_DEFINITION"
        },
        "start": 305,
        "thickness_factor": 1
       },
       {
        "color": "#9E9E9E",
        "directed": true,
        "end": 309,
        "id": 1175443900790210800,
        "label": "",
        "properties": {
         "label": "FUNCTION_DEFINITION"
        },
        "start": 305,
        "thickness_factor": 1
       },
       {
        "color": "#673AB7",
        "directed": true,
        "end": 15,
        "id": 1159684600629297400,
        "label": "",
        "properties": {
         "label": "CALLS"
        },
        "start": 308,
        "thickness_factor": 1
       },
       {
        "color": "#673AB7",
        "directed": true,
        "end": 17,
        "id": 1164188200256668000,
        "label": "",
        "properties": {
         "label": "CALLS"
        },
        "start": 308,
        "thickness_factor": 1
       },
       {
        "color": "#673AB7",
        "directed": true,
        "end": 258,
        "id": 1173195399511409000,
        "label": "",
        "properties": {
         "label": "CALLS"
        },
        "start": 308,
        "thickness_factor": 1
       },
       {
        "color": "#673AB7",
        "directed": true,
        "end": 260,
        "id": 1175447199325094100,
        "label": "",
        "properties": {
         "label": "CALLS"
        },
        "start": 308,
        "thickness_factor": 1
       },
       {
        "color": "#673AB7",
        "directed": true,
        "end": 305,
        "id": 1152929201188241700,
        "label": "",
        "properties": {
         "label": "CALLS"
        },
        "start": 308,
        "thickness_factor": 1
       },
       {
        "color": "#673AB7",
        "directed": true,
        "end": 305,
        "id": 1161936400442982700,
        "label": "",
        "properties": {
         "label": "CALLS"
        },
        "start": 308,
        "thickness_factor": 1
       },
       {
        "color": "#673AB7",
        "directed": true,
        "end": 308,
        "id": 1155181001001927000,
        "label": "",
        "properties": {
         "label": "CALLS"
        },
        "start": 308,
        "thickness_factor": 1
       },
       {
        "color": "#673AB7",
        "directed": true,
        "end": 308,
        "id": 1166440000070353200,
        "label": "",
        "properties": {
         "label": "CALLS"
        },
        "start": 308,
        "thickness_factor": 1
       },
       {
        "color": "#CDDC39",
        "directed": true,
        "end": 57,
        "id": 1152924803141730600,
        "label": "",
        "properties": {
         "label": "CLASS_DEFINITION"
        },
        "start": 310,
        "thickness_factor": 1
       },
       {
        "color": "#CDDC39",
        "directed": true,
        "end": 185,
        "id": 1155176602955415800,
        "label": "",
        "properties": {
         "label": "CLASS_DEFINITION"
        },
        "start": 310,
        "thickness_factor": 1
       },
       {
        "color": "#2196F3",
        "directed": true,
        "end": 10,
        "id": 1161935300931355000,
        "label": "",
        "properties": {
         "label": "IMPORTS"
        },
        "start": 310,
        "thickness_factor": 1
       },
       {
        "color": "#2196F3",
        "directed": true,
        "end": 168,
        "id": 1152928101676614000,
        "label": "",
        "properties": {
         "label": "IMPORTS"
        },
        "start": 310,
        "thickness_factor": 1
       },
       {
        "color": "#2196F3",
        "directed": true,
        "end": 178,
        "id": 1157431701303984400,
        "label": "",
        "properties": {
         "label": "IMPORTS"
        },
        "start": 310,
        "thickness_factor": 1
       },
       {
        "color": "#2196F3",
        "directed": true,
        "end": 202,
        "id": 1155179901490299100,
        "label": "",
        "properties": {
         "label": "IMPORTS"
        },
        "start": 310,
        "thickness_factor": 1
       },
       {
        "color": "#2196F3",
        "directed": true,
        "end": 209,
        "id": 1164187100745040100,
        "label": "",
        "properties": {
         "label": "IMPORTS"
        },
        "start": 310,
        "thickness_factor": 1
       },
       {
        "color": "#2196F3",
        "directed": true,
        "end": 301,
        "id": 1159683501117669600,
        "label": "",
        "properties": {
         "label": "IMPORTS"
        },
        "start": 310,
        "thickness_factor": 1
       },
       {
        "color": "#9C27B0",
        "directed": true,
        "end": 12,
        "id": 1168689600860782800,
        "label": "",
        "properties": {
         "label": "CONTAINS"
        },
        "start": 313,
        "thickness_factor": 1
       },
       {
        "color": "#9C27B0",
        "directed": true,
        "end": 168,
        "id": 1155178801978671400,
        "label": "",
        "properties": {
         "label": "CONTAINS"
        },
        "start": 313,
        "thickness_factor": 1
       },
       {
        "color": "#9C27B0",
        "directed": true,
        "end": 168,
        "id": 1164186001233412400,
        "label": "",
        "properties": {
         "label": "CONTAINS"
        },
        "start": 313,
        "thickness_factor": 1
       },
       {
        "color": "#9C27B0",
        "directed": true,
        "end": 175,
        "id": 1157430601792356600,
        "label": "",
        "properties": {
         "label": "CONTAINS"
        },
        "start": 313,
        "thickness_factor": 1
       },
       {
        "color": "#9C27B0",
        "directed": true,
        "end": 175,
        "id": 1170941400674468000,
        "label": "",
        "properties": {
         "label": "CONTAINS"
        },
        "start": 313,
        "thickness_factor": 1
       },
       {
        "color": "#9C27B0",
        "directed": true,
        "end": 178,
        "id": 1159682401606041900,
        "label": "",
        "properties": {
         "label": "CONTAINS"
        },
        "start": 313,
        "thickness_factor": 1
       },
       {
        "color": "#9C27B0",
        "directed": true,
        "end": 202,
        "id": 1166437801047097600,
        "label": "",
        "properties": {
         "label": "CONTAINS"
        },
        "start": 313,
        "thickness_factor": 1
       },
       {
        "color": "#9C27B0",
        "directed": true,
        "end": 301,
        "id": 1152927002164986000,
        "label": "",
        "properties": {
         "label": "CONTAINS"
        },
        "start": 313,
        "thickness_factor": 1
       },
       {
        "color": "#9C27B0",
        "directed": true,
        "end": 301,
        "id": 1161934201419727000,
        "label": "",
        "properties": {
         "label": "CONTAINS"
        },
        "start": 313,
        "thickness_factor": 1
       },
       {
        "color": "#673AB7",
        "directed": true,
        "end": 57,
        "id": 1166440000070353200,
        "label": "",
        "properties": {
         "label": "CALLS"
        },
        "start": 315,
        "thickness_factor": 1
       },
       {
        "color": "#673AB7",
        "directed": true,
        "end": 60,
        "id": 1152929201188241700,
        "label": "",
        "properties": {
         "label": "CALLS"
        },
        "start": 315,
        "thickness_factor": 1
       },
       {
        "color": "#673AB7",
        "directed": true,
        "end": 60,
        "id": 1157432800815612200,
        "label": "",
        "properties": {
         "label": "CALLS"
        },
        "start": 315,
        "thickness_factor": 1
       },
       {
        "color": "#673AB7",
        "directed": true,
        "end": 185,
        "id": 1168691799884038400,
        "label": "",
        "properties": {
         "label": "CALLS"
        },
        "start": 315,
        "thickness_factor": 1
       },
       {
        "color": "#673AB7",
        "directed": true,
        "end": 187,
        "id": 1155181001001927000,
        "label": "",
        "properties": {
         "label": "CALLS"
        },
        "start": 315,
        "thickness_factor": 1
       },
       {
        "color": "#673AB7",
        "directed": true,
        "end": 187,
        "id": 1159684600629297400,
        "label": "",
        "properties": {
         "label": "CALLS"
        },
        "start": 315,
        "thickness_factor": 1
       },
       {
        "color": "#673AB7",
        "directed": true,
        "end": 190,
        "id": 1161936400442982700,
        "label": "",
        "properties": {
         "label": "CALLS"
        },
        "start": 315,
        "thickness_factor": 1
       },
       {
        "color": "#673AB7",
        "directed": true,
        "end": 265,
        "id": 1177698999138779400,
        "label": "",
        "properties": {
         "label": "CALLS"
        },
        "start": 315,
        "thickness_factor": 1
       },
       {
        "color": "#673AB7",
        "directed": true,
        "end": 268,
        "id": 1170943599697723600,
        "label": "",
        "properties": {
         "label": "CALLS"
        },
        "start": 315,
        "thickness_factor": 1
       },
       {
        "color": "#673AB7",
        "directed": true,
        "end": 268,
        "id": 1173195399511409000,
        "label": "",
        "properties": {
         "label": "CALLS"
        },
        "start": 315,
        "thickness_factor": 1
       },
       {
        "color": "#673AB7",
        "directed": true,
        "end": 269,
        "id": 1175447199325094100,
        "label": "",
        "properties": {
         "label": "CALLS"
        },
        "start": 315,
        "thickness_factor": 1
       },
       {
        "color": "#673AB7",
        "directed": true,
        "end": 306,
        "id": 1164188200256668000,
        "label": "",
        "properties": {
         "label": "CALLS"
        },
        "start": 315,
        "thickness_factor": 1
       }
      ],
      "_graph_layout": {},
      "_highlight": [],
      "_license": {},
      "_model_module": "yfiles-jupyter-graphs",
      "_model_module_version": "^1.6.2",
      "_model_name": "GraphModel",
      "_neighborhood": {},
      "_nodes": [
       {
        "color": "#2196F3",
        "id": 2,
        "label": "FUNCTION",
        "position": [
         0,
         0
        ],
        "properties": {
         "file_node_id": "ed704638-5074-4419-9f63-0c31bf765257",
         "function_calls": [
          "get_function_name",
          "reversed",
          "func_name.replace.replace"
         ],
         "label": "FUNCTION",
         "name": "parse_function_call",
         "node_id": "a3831293-f190-4b30-bfda-0c41cbde23dd",
         "path": "blar-example-repos.debugger_agent.utils.tree_parser.parse_function_call",
         "signature": "def parse_function_call(func_call: str, inclusive_scopes) -> tuple[str, int]:",
         "text": "def parse_function_call(func_call: str, inclusive_scopes) -> tuple[str, int]:\n    func_name = get_function_name(func_call)\n\n    if func_name:\n        if \"self.\" in func_name:\n            for parent in reversed(inclusive_scopes[:-1]):\n                if parent[\"type\"] == \"class_definition\":\n                    func_name = func_name.replace(\"self.\", parent[\"name\"] + \".\")\n                    break\n\n        return func_name\n\n    return None"
        },
        "scale_factor": 1,
        "size": [
         55,
         55
        ],
        "styles": {},
        "type": "#2196F3"
       },
       {
        "color": "#2196F3",
        "id": 1,
        "label": "FUNCTION",
        "position": [
         0,
         0
        ],
        "properties": {
         "file_node_id": "ed704638-5074-4419-9f63-0c31bf765257",
         "function_calls": [
          "re.match",
          "re.match.group"
         ],
         "label": "FUNCTION",
         "name": "get_function_name",
         "node_id": "f5f71040-8db7-4353-9546-507071d8bbca",
         "path": "blar-example-repos.debugger_agent.utils.tree_parser.get_function_name",
         "signature": "def get_function_name(call_str):",
         "text": "def get_function_name(call_str):\n    match = re.match(r\"([a-zA-Z_][\\w\\.]*)\\s*\\(\", call_str)\n    if match:\n        return match.group(1)  # Return the captured function name\n    else:\n        return None  # No function name found"
        },
        "scale_factor": 1,
        "size": [
         55,
         55
        ],
        "styles": {},
        "type": "#2196F3"
       },
       {
        "color": "#2196F3",
        "id": 85,
        "label": "FUNCTION",
        "position": [
         0,
         0
        ],
        "properties": {
         "file_node_id": "ddc013c0-b079-4427-8091-8786f1027457",
         "function_calls": [
          "re.match",
          "re.match.group"
         ],
         "label": "FUNCTION",
         "name": "get_function_name",
         "node_id": "897528aa-cc82-45ab-a4fe-6aa62f803b14",
         "path": "blar-example-repos.debugger_agent.utils.tree_parser.get_function_name",
         "signature": "def get_function_name(call_str):",
         "text": "def get_function_name(call_str):\n    match = re.match(r\"([a-zA-Z_][\\w\\.]*)\\s*\\(\", call_str)\n    if match:\n        return match.group(1)  # Return the captured function name\n    else:\n        return None  # No function name found"
        },
        "scale_factor": 1,
        "size": [
         55,
         55
        ],
        "styles": {},
        "type": "#2196F3"
       },
       {
        "color": "#2196F3",
        "id": 292,
        "label": "FUNCTION",
        "position": [
         0,
         0
        ],
        "properties": {
         "file_node_id": "ed704638-5074-4419-9f63-0c31bf765257",
         "function_calls": [
          "re.match",
          "re.match.group"
         ],
         "label": "FUNCTION",
         "name": "get_function_name",
         "node_id": "f5f71040-8db7-4353-9546-507071d8bbca",
         "path": "blar-example-repos.debugger_agent.utils.tree_parser.get_function_name",
         "signature": "def get_function_name(call_str):",
         "text": "def get_function_name(call_str):\n    match = re.match(r\"([a-zA-Z_][\\w\\.]*)\\s*\\(\", call_str)\n    if match:\n        return match.group(1)  # Return the captured function name\n    else:\n        return None  # No function name found"
        },
        "scale_factor": 1,
        "size": [
         55,
         55
        ],
        "styles": {},
        "type": "#2196F3"
       },
       {
        "color": "#2196F3",
        "id": 3,
        "label": "FUNCTION",
        "position": [
         0,
         0
        ],
        "properties": {
         "file_node_id": "ed704638-5074-4419-9f63-0c31bf765257",
         "function_calls": [
          "tree_sitter_languages.get_parser",
          "tree_sitter_languages.get_parser.parse",
          "bytes",
          "map",
          "traverse_tree",
          "variable_identifier.text.decode",
          "root_caller.text.decode",
          "function_calls.append",
          "function_calls.append",
          "tree_node.text.decode",
          "map",
          "parse_function_call",
          "filter",
          "list"
         ],
         "label": "FUNCTION",
         "name": "get_function_calls",
         "node_id": "b731313b-dbef-409d-80c0-6cd32bc375ae",
         "path": "blar-example-repos.debugger_agent.utils.tree_parser.get_function_calls",
         "signature": "def get_function_calls(node, assigments_dict: dict) -> list[str]:",
         "text": "def get_function_calls(node, assigments_dict: dict) -> list[str]:\n    code_text = node.text\n\n    parser = tree_sitter_languages.get_parser(\"python\")\n    tree = parser.parse(bytes(code_text, \"utf-8\"))\n    node_names = map(lambda node: node, traverse_tree(tree))\n\n    function_calls = []\n\n    for tree_node in node_names:\n        if tree_node.type == \"expression_statement\":\n            statement_children = tree_node.children\n            if statement_children[0].type == \"assignment\":\n                assigment = statement_children[0].named_children\n\n                variable_identifier = assigment[0]\n                assign_value = assigment[1]\n                if assign_value.type == \"call\":\n                    expression = assign_value\n                    expression_identifier = expression.named_children[0].text.decode()\n\n                    assigments_dict[variable_identifier.text.decode(\"utf-8\")] = (\n                        expression_identifier\n                    )\n\n        if tree_node.type == \"call\":\n            call_children = tree_node.named_children\n            if (\n                call_children[0].type == \"attribute\"\n                and call_children[1].type == \"argument_list\"\n            ):\n                attribute_children = call_children[0].named_children\n                root_caller = attribute_children[0]\n                if root_caller.type == \"identifier\":\n                    root_caller_identifier = root_caller.text.decode(\"utf-8\")\n                    if root_caller_identifier in assigments_dict:\n                        function_calls.append(\n                            assigments_dict[root_caller_identifier]\n                            + \".\"\n                            + attribute_children[1].text.decode(\"utf-8\")\n                            + \"()\"\n                        )\n                        continue\n            function_calls.append(tree_node.text.decode(\"utf-8\"))\n\n    parsed_function_calls = map(\n        lambda x: parse_function_call(x, node.metadata[\"inclusive_scopes\"]),\n        function_calls,\n    )\n\n    filtered_calls = filter(lambda x: x is not None, parsed_function_calls)\n    return list(filtered_calls)"
        },
        "scale_factor": 1,
        "size": [
         55,
         55
        ],
        "styles": {},
        "type": "#2196F3"
       },
       {
        "color": "#2196F3",
        "id": 80,
        "label": "FUNCTION",
        "position": [
         0,
         0
        ],
        "properties": {
         "file_node_id": "ddc013c0-b079-4427-8091-8786f1027457",
         "function_calls": [
          "tree.walk",
          "tree.walk.goto_first_child",
          "tree.walk.goto_next_sibling",
          "tree.walk.goto_parent"
         ],
         "label": "FUNCTION",
         "name": "traverse_tree",
         "node_id": "6ffc2d5c-2777-4c46-8960-965dcfa019f1",
         "path": "blar-example-repos.debugger_agent.utils.tree_parser.traverse_tree",
         "signature": "def traverse_tree(tree):",
         "text": "def traverse_tree(tree):\n    cursor = tree.walk()\n    visited_children = False\n    while True:\n        if not visited_children:\n            yield cursor.node\n            if not cursor.goto_first_child():\n                visited_children = True\n        elif cursor.goto_next_sibling():\n            visited_children = False\n        elif not cursor.goto_parent():\n            break"
        },
        "scale_factor": 1,
        "size": [
         55,
         55
        ],
        "styles": {},
        "type": "#2196F3"
       },
       {
        "color": "#2196F3",
        "id": 86,
        "label": "FUNCTION",
        "position": [
         0,
         0
        ],
        "properties": {
         "file_node_id": "ddc013c0-b079-4427-8091-8786f1027457",
         "function_calls": [
          "get_function_name",
          "reversed",
          "func_name.replace.replace"
         ],
         "label": "FUNCTION",
         "name": "parse_function_call",
         "node_id": "10e40c74-dd93-489b-9119-55d4e2d6e0ca",
         "path": "blar-example-repos.debugger_agent.utils.tree_parser.parse_function_call",
         "signature": "def parse_function_call(func_call: str, inclusive_scopes) -> tuple[str, int]:",
         "text": "def parse_function_call(func_call: str, inclusive_scopes) -> tuple[str, int]:\n    func_name = get_function_name(func_call)\n\n    if func_name:\n        if \"self.\" in func_name:\n            for parent in reversed(inclusive_scopes[:-1]):\n                if parent[\"type\"] == \"class_definition\":\n                    func_name = func_name.replace(\"self.\", parent[\"name\"] + \".\")\n                    break\n\n        return func_name\n\n    return None"
        },
        "scale_factor": 1,
        "size": [
         55,
         55
        ],
        "styles": {},
        "type": "#2196F3"
       },
       {
        "color": "#2196F3",
        "id": 189,
        "label": "FUNCTION",
        "position": [
         0,
         0
        ],
        "properties": {
         "file_node_id": "ed704638-5074-4419-9f63-0c31bf765257",
         "function_calls": [
          "tree.walk",
          "tree.walk.goto_first_child",
          "tree.walk.goto_next_sibling",
          "tree.walk.goto_parent"
         ],
         "label": "FUNCTION",
         "name": "traverse_tree",
         "node_id": "2b662002-7a0b-4659-8713-18807150f614",
         "path": "blar-example-repos.debugger_agent.utils.tree_parser.traverse_tree",
         "signature": "def traverse_tree(tree):",
         "text": "def traverse_tree(tree):\n    cursor = tree.walk()\n    visited_children = False\n    while True:\n        if not visited_children:\n            yield cursor.node\n            if not cursor.goto_first_child():\n                visited_children = True\n        elif cursor.goto_next_sibling():\n            visited_children = False\n        elif not cursor.goto_parent():\n            break"
        },
        "scale_factor": 1,
        "size": [
         55,
         55
        ],
        "styles": {},
        "type": "#2196F3"
       },
       {
        "color": "#2196F3",
        "id": 191,
        "label": "FUNCTION",
        "position": [
         0,
         0
        ],
        "properties": {
         "file_node_id": "ed704638-5074-4419-9f63-0c31bf765257",
         "function_calls": [
          "tree.walk",
          "tree.walk.goto_first_child",
          "tree.walk.goto_next_sibling",
          "tree.walk.goto_parent"
         ],
         "label": "FUNCTION",
         "name": "traverse_tree",
         "node_id": "2b662002-7a0b-4659-8713-18807150f614",
         "path": "blar-example-repos.debugger_agent.utils.tree_parser.traverse_tree",
         "signature": "def traverse_tree(tree):",
         "text": "def traverse_tree(tree):\n    cursor = tree.walk()\n    visited_children = False\n    while True:\n        if not visited_children:\n            yield cursor.node\n            if not cursor.goto_first_child():\n                visited_children = True\n        elif cursor.goto_next_sibling():\n            visited_children = False\n        elif not cursor.goto_parent():\n            break"
        },
        "scale_factor": 1,
        "size": [
         55,
         55
        ],
        "styles": {},
        "type": "#2196F3"
       },
       {
        "color": "#2196F3",
        "id": 293,
        "label": "FUNCTION",
        "position": [
         0,
         0
        ],
        "properties": {
         "file_node_id": "ed704638-5074-4419-9f63-0c31bf765257",
         "function_calls": [
          "get_function_name",
          "reversed",
          "func_name.replace.replace"
         ],
         "label": "FUNCTION",
         "name": "parse_function_call",
         "node_id": "a3831293-f190-4b30-bfda-0c41cbde23dd",
         "path": "blar-example-repos.debugger_agent.utils.tree_parser.parse_function_call",
         "signature": "def parse_function_call(func_call: str, inclusive_scopes) -> tuple[str, int]:",
         "text": "def parse_function_call(func_call: str, inclusive_scopes) -> tuple[str, int]:\n    func_name = get_function_name(func_call)\n\n    if func_name:\n        if \"self.\" in func_name:\n            for parent in reversed(inclusive_scopes[:-1]):\n                if parent[\"type\"] == \"class_definition\":\n                    func_name = func_name.replace(\"self.\", parent[\"name\"] + \".\")\n                    break\n\n        return func_name\n\n    return None"
        },
        "scale_factor": 1,
        "size": [
         55,
         55
        ],
        "styles": {},
        "type": "#2196F3"
       },
       {
        "color": "#2196F3",
        "id": 6,
        "label": "FUNCTION",
        "position": [
         0,
         0
        ],
        "properties": {
         "file_node_id": "ed704638-5074-4419-9f63-0c31bf765257",
         "function_calls": [
          "import_statement.startswith",
          "import_statement.count",
          "range",
          "os.path.dirname",
          "os.path.join",
          "os.path.exists",
          "is_package",
          "find_module_path"
         ],
         "label": "FUNCTION",
         "name": "resolve_import_path",
         "node_id": "90baff5a-884a-46db-a153-8a57d001983e",
         "path": "blar-example-repos.debugger_agent.utils.tree_parser.resolve_import_path",
         "signature": "def resolve_import_path(import_statement, current_file_directory, project_root):",
         "text": "def resolve_import_path(import_statement, current_file_directory, project_root):\n    \"\"\"\n    Resolve the absolute path of an import statement.\n    import_statement: The imported module as a string (e.g., 'os', 'my_package.my_module').\n    current_file_directory: The directory of the file containing the import statement.\n    project_root: The root directory of the project.\n    \"\"\"\n    # Handling relative imports\n    if import_statement.startswith(\".\"):\n        parent_levels = import_statement.count(\".\")\n        relative_path = import_statement[parent_levels:].replace(\".\", os.sep)\n        base_path = current_file_directory\n        for _ in range(parent_levels - 1):\n            base_path = os.path.dirname(base_path)\n        absolute_path = os.path.join(base_path, relative_path)\n        if os.path.exists(absolute_path + \".py\"):\n            return absolute_path + \".py\"\n        elif is_package(absolute_path):\n            return absolute_path\n    else:\n        # Handling absolute imports\n        return find_module_path(import_statement, current_file_directory, project_root)\n\n    # If the module wasn't found, it might be a built-in or third-party module not contained within the project\n    return None"
        },
        "scale_factor": 1,
        "size": [
         55,
         55
        ],
        "styles": {},
        "type": "#2196F3"
       },
       {
        "color": "#2196F3",
        "id": 4,
        "label": "FUNCTION",
        "position": [
         0,
         0
        ],
        "properties": {
         "file_node_id": "ed704638-5074-4419-9f63-0c31bf765257",
         "function_calls": [
          "os.path.exists",
          "os.path.join"
         ],
         "label": "FUNCTION",
         "name": "is_package",
         "node_id": "0a0de2b0-062e-4775-87f4-236c1c2a7805",
         "path": "blar-example-repos.debugger_agent.utils.tree_parser.is_package",
         "signature": "def is_package(directory):",
         "text": "def is_package(directory):\n    return os.path.exists(os.path.join(directory, \"__init__.py\"))"
        },
        "scale_factor": 1,
        "size": [
         55,
         55
        ],
        "styles": {},
        "type": "#2196F3"
       },
       {
        "color": "#2196F3",
        "id": 72,
        "label": "FUNCTION",
        "position": [
         0,
         0
        ],
        "properties": {
         "file_node_id": "ddc013c0-b079-4427-8091-8786f1027457",
         "function_calls": [
          "os.path.exists",
          "os.path.join"
         ],
         "label": "FUNCTION",
         "name": "is_package",
         "node_id": "083713ac-77f4-4012-8302-31c7ecc6f405",
         "path": "blar-example-repos.debugger_agent.utils.tree_parser.is_package",
         "signature": "def is_package(directory):",
         "text": "def is_package(directory):\n    return os.path.exists(os.path.join(directory, \"__init__.py\"))"
        },
        "scale_factor": 1,
        "size": [
         55,
         55
        ],
        "styles": {},
        "type": "#2196F3"
       },
       {
        "color": "#2196F3",
        "id": 76,
        "label": "FUNCTION",
        "position": [
         0,
         0
        ],
        "properties": {
         "file_node_id": "ed704638-5074-4419-9f63-0c31bf765257",
         "function_calls": [
          "module_name.split",
          "current_dir.startswith",
          "os.path.join",
          "os.path.exists",
          "is_package",
          "os.path.join.replace",
          "os.path.dirname"
         ],
         "label": "FUNCTION",
         "name": "find_module_path",
         "node_id": "a5aa3a29-7df1-4718-bd2d-ce374fe7c17e",
         "path": "blar-example-repos.debugger_agent.utils.tree_parser.find_module_path",
         "signature": "def find_module_path(module_name, start_dir, project_root):",
         "text": "def find_module_path(module_name, start_dir, project_root):\n    current_dir = start_dir\n    components = module_name.split(\".\")\n\n    # Try to find the module by traversing up towards the root until the module path is found or root is reached\n    while current_dir.startswith(project_root):\n        possible_path = os.path.join(current_dir, *components)\n        # Check for a direct module or package\n        if os.path.exists(possible_path + \".py\") or is_package(possible_path):\n            return possible_path.replace(\"/\", \".\")\n        # Move one directory up\n        current_dir = os.path.dirname(current_dir)\n    return None"
        },
        "scale_factor": 1,
        "size": [
         55,
         55
        ],
        "styles": {},
        "type": "#2196F3"
       },
       {
        "color": "#2196F3",
        "id": 199,
        "label": "FUNCTION",
        "position": [
         0,
         0
        ],
        "properties": {
         "file_node_id": "ddc013c0-b079-4427-8091-8786f1027457",
         "function_calls": [
          "module_name.split",
          "current_dir.startswith",
          "os.path.join",
          "os.path.exists",
          "is_package",
          "os.path.join.replace",
          "os.path.dirname"
         ],
         "label": "FUNCTION",
         "name": "find_module_path",
         "node_id": "d645ccc1-873a-499d-81de-46a193bd4cbb",
         "path": "blar-example-repos.debugger_agent.utils.tree_parser.find_module_path",
         "signature": "def find_module_path(module_name, start_dir, project_root):",
         "text": "def find_module_path(module_name, start_dir, project_root):\n    current_dir = start_dir\n    components = module_name.split(\".\")\n\n    # Try to find the module by traversing up towards the root until the module path is found or root is reached\n    while current_dir.startswith(project_root):\n        possible_path = os.path.join(current_dir, *components)\n        # Check for a direct module or package\n        if os.path.exists(possible_path + \".py\") or is_package(possible_path):\n            return possible_path.replace(\"/\", \".\")\n        # Move one directory up\n        current_dir = os.path.dirname(current_dir)\n    return None"
        },
        "scale_factor": 1,
        "size": [
         55,
         55
        ],
        "styles": {},
        "type": "#2196F3"
       },
       {
        "color": "#2196F3",
        "id": 294,
        "label": "FUNCTION",
        "position": [
         0,
         0
        ],
        "properties": {
         "file_node_id": "ed704638-5074-4419-9f63-0c31bf765257",
         "function_calls": [
          "module_name.split",
          "current_dir.startswith",
          "os.path.join",
          "os.path.exists",
          "is_package",
          "os.path.join.replace",
          "os.path.dirname"
         ],
         "label": "FUNCTION",
         "name": "find_module_path",
         "node_id": "a5aa3a29-7df1-4718-bd2d-ce374fe7c17e",
         "path": "blar-example-repos.debugger_agent.utils.tree_parser.find_module_path",
         "signature": "def find_module_path(module_name, start_dir, project_root):",
         "text": "def find_module_path(module_name, start_dir, project_root):\n    current_dir = start_dir\n    components = module_name.split(\".\")\n\n    # Try to find the module by traversing up towards the root until the module path is found or root is reached\n    while current_dir.startswith(project_root):\n        possible_path = os.path.join(current_dir, *components)\n        # Check for a direct module or package\n        if os.path.exists(possible_path + \".py\") or is_package(possible_path):\n            return possible_path.replace(\"/\", \".\")\n        # Move one directory up\n        current_dir = os.path.dirname(current_dir)\n    return None"
        },
        "scale_factor": 1,
        "size": [
         55,
         55
        ],
        "styles": {},
        "type": "#2196F3"
       },
       {
        "color": "#2196F3",
        "id": 295,
        "label": "FUNCTION",
        "position": [
         0,
         0
        ],
        "properties": {
         "file_node_id": "ed704638-5074-4419-9f63-0c31bf765257",
         "function_calls": [
          "os.path.exists",
          "os.path.join"
         ],
         "label": "FUNCTION",
         "name": "is_package",
         "node_id": "0a0de2b0-062e-4775-87f4-236c1c2a7805",
         "path": "blar-example-repos.debugger_agent.utils.tree_parser.is_package",
         "signature": "def is_package(directory):",
         "text": "def is_package(directory):\n    return os.path.exists(os.path.join(directory, \"__init__.py\"))"
        },
        "scale_factor": 1,
        "size": [
         55,
         55
        ],
        "styles": {},
        "type": "#2196F3"
       },
       {
        "color": "#4CAF50",
        "id": 10,
        "label": "FILE",
        "position": [
         0,
         0
        ],
        "properties": {
         "function_calls": [],
         "label": "FILE",
         "name": "format_nodes",
         "node_id": "a7df4622-897c-4d02-b046-59aa71e38368",
         "path": "blar-example-repos.debugger_agent.utils.format_nodes",
         "text": "from llama_index.core.schema import BaseNode\nimport os\nimport uuid\n\n\ndef format_function_node(\n    node: BaseNode, scope: dict, function_calls: list[str], file_node_id: str\n) -> dict:\n    # Code replaced for brevity. See node_id 098cd991-429d-414c-ae59-807487303b93\n\n\ndef format_class_node(node: BaseNode, scope: dict, file_node_id: str) -> dict:\n    # Code replaced for brevity. See node_id 5ec18cf7-a9fa-488c-b945-b24ebfcd7d86\n\n\ndef format_file_node(\n    node: BaseNode, no_extension_path: str, function_calls: list[str]\n) -> dict:\n    # Code replaced for brevity. See node_id e5418d5c-2c0a-421e-bb73-7f3034e4e3fa\n\n\ndef format_directory_node(path: str, package: bool) -> dict:\n    # Code replaced for brevity. See node_id c62b27cd-90ee-4534-a9ff-015b07617720"
        },
        "scale_factor": 1,
        "size": [
         55,
         55
        ],
        "styles": {},
        "type": "#4CAF50"
       },
       {
        "color": "#2196F3",
        "id": 77,
        "label": "FUNCTION",
        "position": [
         0,
         0
        ],
        "properties": {
         "file_node_id": "a7df4622-897c-4d02-b046-59aa71e38368",
         "function_calls": [],
         "label": "FUNCTION",
         "name": "format_class_node",
         "node_id": "5ec18cf7-a9fa-488c-b945-b24ebfcd7d86",
         "path": "blar-example-repos.debugger_agent.utils.format_nodes.format_class_node",
         "signature": "def format_class_node(node: BaseNode, scope: dict, file_node_id: str) -> dict:",
         "text": "def format_class_node(node: BaseNode, scope: dict, file_node_id: str) -> dict:\n    name = scope[\"name\"]\n    signature = scope[\"signature\"]\n\n    processed_node = {\n        \"type\": \"CLASS\",\n        \"attributes\": {\n            \"name\": name,\n            \"signature\": signature,\n            \"text\": node.text,\n            \"node_id\": node.node_id,\n            \"file_node_id\": file_node_id,\n        },\n    }\n\n    return processed_node"
        },
        "scale_factor": 1,
        "size": [
         55,
         55
        ],
        "styles": {},
        "type": "#2196F3"
       },
       {
        "color": "#2196F3",
        "id": 194,
        "label": "FUNCTION",
        "position": [
         0,
         0
        ],
        "properties": {
         "file_node_id": "a7df4622-897c-4d02-b046-59aa71e38368",
         "function_calls": [
          "os.path.basename"
         ],
         "label": "FUNCTION",
         "name": "format_file_node",
         "node_id": "e5418d5c-2c0a-421e-bb73-7f3034e4e3fa",
         "path": "blar-example-repos.debugger_agent.utils.format_nodes.format_file_node",
         "signature": "def format_file_node(\n    node: BaseNode, no_extension_path: str, function_calls: list[str]\n) -> dict:",
         "text": "def format_file_node(\n    node: BaseNode, no_extension_path: str, function_calls: list[str]\n) -> dict:\n    processed_node = {\n        \"type\": \"FILE\",\n        \"attributes\": {\n            \"text\": node.text,\n            \"node_id\": node.node_id,\n            \"function_calls\": function_calls,\n            \"name\": os.path.basename(no_extension_path),\n        },\n    }\n\n    return processed_node"
        },
        "scale_factor": 1,
        "size": [
         55,
         55
        ],
        "styles": {},
        "type": "#2196F3"
       },
       {
        "color": "#2196F3",
        "id": 197,
        "label": "FUNCTION",
        "position": [
         0,
         0
        ],
        "properties": {
         "file_node_id": "a7df4622-897c-4d02-b046-59aa71e38368",
         "function_calls": [],
         "label": "FUNCTION",
         "name": "format_function_node",
         "node_id": "098cd991-429d-414c-ae59-807487303b93",
         "path": "blar-example-repos.debugger_agent.utils.format_nodes.format_function_node",
         "signature": "def format_function_node(\n    node: BaseNode, scope: dict, function_calls: list[str], file_node_id: str\n) -> dict:",
         "text": "def format_function_node(\n    node: BaseNode, scope: dict, function_calls: list[str], file_node_id: str\n) -> dict:\n    name = scope[\"name\"]\n    signature = scope[\"signature\"]\n\n    processed_node = {\n        \"type\": \"FUNCTION\",\n        \"attributes\": {\n            \"name\": name,\n            \"signature\": signature,\n            \"text\": node.text,\n            \"node_id\": node.node_id,\n            \"function_calls\": function_calls,\n            \"file_node_id\": file_node_id,\n        },\n    }\n\n    return processed_node"
        },
        "scale_factor": 1,
        "size": [
         55,
         55
        ],
        "styles": {},
        "type": "#2196F3"
       },
       {
        "color": "#2196F3",
        "id": 283,
        "label": "FUNCTION",
        "position": [
         0,
         0
        ],
        "properties": {
         "file_node_id": "a7df4622-897c-4d02-b046-59aa71e38368",
         "function_calls": [
          "os.path.basename",
          "str",
          "uuid.uuid4"
         ],
         "label": "FUNCTION",
         "name": "format_directory_node",
         "node_id": "c62b27cd-90ee-4534-a9ff-015b07617720",
         "path": "blar-example-repos.debugger_agent.utils.format_nodes.format_directory_node",
         "signature": "def format_directory_node(path: str, package: bool) -> dict:",
         "text": "def format_directory_node(path: str, package: bool) -> dict:\n    processed_node = {\n        \"attributes\": {\n            \"path\": path + \"/\",\n            \"name\": os.path.basename(path),\n            \"node_id\": str(uuid.uuid4()),\n        },\n        \"type\": \"PACKAGE\" if package else \"FOLDER\",\n    }\n\n    return processed_node"
        },
        "scale_factor": 1,
        "size": [
         55,
         55
        ],
        "styles": {},
        "type": "#2196F3"
       },
       {
        "color": "#607D8B",
        "id": 13,
        "label": "PACKAGE",
        "position": [
         0,
         0
        ],
        "properties": {
         "label": "PACKAGE",
         "name": "graph_construction",
         "node_id": "adaa0f17-7536-4798-84f2-2977d9e31c1e",
         "path": "blar-example-repos/debugger_agent/graph_construction/"
        },
        "scale_factor": 1,
        "size": [
         55,
         55
        ],
        "styles": {},
        "type": "#607D8B"
       },
       {
        "color": "#4CAF50",
        "id": 14,
        "label": "FILE",
        "position": [
         0,
         0
        ],
        "properties": {
         "function_calls": [],
         "label": "FILE",
         "name": "graph_builder",
         "node_id": "b222c6e8-659e-4650-ba90-896df4b5bf3c",
         "path": "blar-example-repos.debugger_agent.graph_construction.graph_builder",
         "text": "import os\nimport uuid\nfrom blar_graph.graph_construction.neo4j_manager import Neo4jManager\nfrom blar_graph.graph_construction.graph_file_parser import GraphFileParser\nfrom blar_graph.utils import format_nodes\n\n\nclass GraphConstructor:\n    # Code replaced for brevity. See node_id 904b32f4-9b16-44bf-aa47-ae0310397f75"
        },
        "scale_factor": 1,
        "size": [
         55,
         55
        ],
        "styles": {},
        "type": "#4CAF50"
       },
       {
        "color": "#4CAF50",
        "id": 62,
        "label": "FILE",
        "position": [
         0,
         0
        ],
        "properties": {
         "function_calls": [
          "load_dotenv",
          "Neo4jManager",
          "Neo4jManager.get_node_by_id",
          "Neo4jManager.close"
         ],
         "label": "FILE",
         "name": "neo4j_manager",
         "node_id": "c52f04f0-08af-49c2-9af5-b2e28277fc0e",
         "path": "blar-example-repos.debugger_agent.graph_construction.neo4j_manager",
         "text": "import os\nfrom typing import Any, List\n\nfrom dotenv import load_dotenv\nfrom neo4j import GraphDatabase\n\nload_dotenv()\n\n\nclass Neo4jManager:\n    # Code replaced for brevity. See node_id 00042709-87a7-488d-b6c5-fde7a3443998\n\n\nif __name__ == \"__main__\":\n    graph = Neo4jManager()\n    result = graph.get_node_by_id(\"fc33457f-43dd-414c-b074-1142e724ba30\")\n    graph.close()"
        },
        "scale_factor": 1,
        "size": [
         55,
         55
        ],
        "styles": {},
        "type": "#4CAF50"
       },
       {
        "color": "#4CAF50",
        "id": 63,
        "label": "FILE",
        "position": [
         0,
         0
        ],
        "properties": {
         "function_calls": [
          "load_dotenv",
          "Neo4jManager",
          "Neo4jManager.get_node_by_id",
          "Neo4jManager.close"
         ],
         "label": "FILE",
         "name": "neo4j_manager",
         "node_id": "c52f04f0-08af-49c2-9af5-b2e28277fc0e",
         "path": "blar-example-repos.debugger_agent.graph_construction.neo4j_manager",
         "text": "import os\nfrom typing import Any, List\n\nfrom dotenv import load_dotenv\nfrom neo4j import GraphDatabase\n\nload_dotenv()\n\n\nclass Neo4jManager:\n    # Code replaced for brevity. See node_id 00042709-87a7-488d-b6c5-fde7a3443998\n\n\nif __name__ == \"__main__\":\n    graph = Neo4jManager()\n    result = graph.get_node_by_id(\"fc33457f-43dd-414c-b074-1142e724ba30\")\n    graph.close()"
        },
        "scale_factor": 1,
        "size": [
         55,
         55
        ],
        "styles": {},
        "type": "#4CAF50"
       },
       {
        "color": "#4CAF50",
        "id": 174,
        "label": "FILE",
        "position": [
         0,
         0
        ],
        "properties": {
         "label": "FILE",
         "name": "__init__.py",
         "node_id": "0055cd4a-05ce-42f0-83e9-8e6d006d8253",
         "path": "blar-example-repos/debugger_agent/graph_construction/__init__.py"
        },
        "scale_factor": 1,
        "size": [
         55,
         55
        ],
        "styles": {},
        "type": "#4CAF50"
       },
       {
        "color": "#4CAF50",
        "id": 177,
        "label": "FILE",
        "position": [
         0,
         0
        ],
        "properties": {
         "function_calls": [],
         "label": "FILE",
         "name": "graph_builder",
         "node_id": "b222c6e8-659e-4650-ba90-896df4b5bf3c",
         "path": "blar-example-repos.debugger_agent.graph_construction.graph_builder",
         "text": "import os\nimport uuid\nfrom blar_graph.graph_construction.neo4j_manager import Neo4jManager\nfrom blar_graph.graph_construction.graph_file_parser import GraphFileParser\nfrom blar_graph.utils import format_nodes\n\n\nclass GraphConstructor:\n    # Code replaced for brevity. See node_id 904b32f4-9b16-44bf-aa47-ae0310397f75"
        },
        "scale_factor": 1,
        "size": [
         55,
         55
        ],
        "styles": {},
        "type": "#4CAF50"
       },
       {
        "color": "#4CAF50",
        "id": 182,
        "label": "FILE",
        "position": [
         0,
         0
        ],
        "properties": {
         "function_calls": [],
         "label": "FILE",
         "name": "graph_file_parser",
         "node_id": "4aca9dcd-43f2-44ee-9fd0-d261e9a84ee4",
         "path": "blar-example-repos.debugger_agent.graph_construction.graph_file_parser",
         "text": "import os\nfrom pathlib import Path\nimport tree_sitter_languages\nfrom blar_graph.utils import format_nodes, tree_parser\nfrom llama_index.core import SimpleDirectoryReader\nfrom llama_index.core.schema import NodeRelationship, BaseNode\nfrom llama_index.core.text_splitter import CodeSplitter\nfrom llama_index.packs.code_hierarchy import CodeHierarchyNodeParser\n\n\nclass GraphFileParser:\n    # Code replaced for brevity. See node_id 59a5637d-9b08-46b2-b959-a571feb36221"
        },
        "scale_factor": 1,
        "size": [
         55,
         55
        ],
        "styles": {},
        "type": "#4CAF50"
       },
       {
        "color": "#4CAF50",
        "id": 204,
        "label": "FILE",
        "position": [
         0,
         0
        ],
        "properties": {
         "label": "FILE",
         "name": "__init__.py",
         "node_id": "0055cd4a-05ce-42f0-83e9-8e6d006d8253",
         "path": "blar-example-repos/debugger_agent/graph_construction/__init__.py"
        },
        "scale_factor": 1,
        "size": [
         55,
         55
        ],
        "styles": {},
        "type": "#4CAF50"
       },
       {
        "color": "#4CAF50",
        "id": 310,
        "label": "FILE",
        "position": [
         0,
         0
        ],
        "properties": {
         "function_calls": [],
         "label": "FILE",
         "name": "graph_file_parser",
         "node_id": "4aca9dcd-43f2-44ee-9fd0-d261e9a84ee4",
         "path": "blar-example-repos.debugger_agent.graph_construction.graph_file_parser",
         "text": "import os\nfrom pathlib import Path\nimport tree_sitter_languages\nfrom blar_graph.utils import format_nodes, tree_parser\nfrom llama_index.core import SimpleDirectoryReader\nfrom llama_index.core.schema import NodeRelationship, BaseNode\nfrom llama_index.core.text_splitter import CodeSplitter\nfrom llama_index.packs.code_hierarchy import CodeHierarchyNodeParser\n\n\nclass GraphFileParser:\n    # Code replaced for brevity. See node_id 59a5637d-9b08-46b2-b959-a571feb36221"
        },
        "scale_factor": 1,
        "size": [
         55,
         55
        ],
        "styles": {},
        "type": "#4CAF50"
       },
       {
        "color": "#F44336",
        "id": 15,
        "label": "CLASS",
        "position": [
         0,
         0
        ],
        "properties": {
         "file_node_id": "b222c6e8-659e-4650-ba90-896df4b5bf3c",
         "label": "CLASS",
         "name": "GraphConstructor",
         "node_id": "904b32f4-9b16-44bf-aa47-ae0310397f75",
         "path": "blar-example-repos.debugger_agent.graph_construction.graph_builder.GraphConstructor",
         "signature": "class GraphConstructor:",
         "text": "class GraphConstructor:\n    def __init__(self, graph_manager: Neo4jManager):\n        # Code replaced for brevity. See node_id 9d8d1b18-0b2c-4dc4-af12-fb372e6d2417\n\n    def _scan_directory(\n        self,\n        path,\n        language=\"python\",\n        nodes=[],\n        relationships=[],\n        imports={},\n        parent_id=None,\n    ):\n        # Code replaced for brevity. See node_id c1495983-d4d7-4d1c-ab68-9b88d31088ba\n\n    def _relate_imports(self, imports: dict):\n        # Code replaced for brevity. See node_id 81ebba6d-f384-4d13-921e-b57b234a1fe5\n\n    def _relate_function_calls(self, node_list, imports):\n        # Code replaced for brevity. See node_id 177ae2c5-a0df-4d1a-867d-e1e345759cea\n\n    def build_graph(self, path, language):\n        # process every node to create the graph structure\n        # Code replaced for brevity. See node_id 467013ee-3595-4494-bcb0-c759f621ea03"
        },
        "scale_factor": 1,
        "size": [
         55,
         55
        ],
        "styles": {},
        "type": "#F44336"
       },
       {
        "color": "#F44336",
        "id": 305,
        "label": "CLASS",
        "position": [
         0,
         0
        ],
        "properties": {
         "file_node_id": "b222c6e8-659e-4650-ba90-896df4b5bf3c",
         "label": "CLASS",
         "name": "GraphConstructor",
         "node_id": "904b32f4-9b16-44bf-aa47-ae0310397f75",
         "path": "blar-example-repos.debugger_agent.graph_construction.graph_builder.GraphConstructor",
         "signature": "class GraphConstructor:",
         "text": "class GraphConstructor:\n    def __init__(self, graph_manager: Neo4jManager):\n        # Code replaced for brevity. See node_id 9d8d1b18-0b2c-4dc4-af12-fb372e6d2417\n\n    def _scan_directory(\n        self,\n        path,\n        language=\"python\",\n        nodes=[],\n        relationships=[],\n        imports={},\n        parent_id=None,\n    ):\n        # Code replaced for brevity. See node_id c1495983-d4d7-4d1c-ab68-9b88d31088ba\n\n    def _relate_imports(self, imports: dict):\n        # Code replaced for brevity. See node_id 81ebba6d-f384-4d13-921e-b57b234a1fe5\n\n    def _relate_function_calls(self, node_list, imports):\n        # Code replaced for brevity. See node_id 177ae2c5-a0df-4d1a-867d-e1e345759cea\n\n    def build_graph(self, path, language):\n        # process every node to create the graph structure\n        # Code replaced for brevity. See node_id 467013ee-3595-4494-bcb0-c759f621ea03"
        },
        "scale_factor": 1,
        "size": [
         55,
         55
        ],
        "styles": {},
        "type": "#F44336"
       },
       {
        "color": "#F44336",
        "id": 57,
        "label": "CLASS",
        "position": [
         0,
         0
        ],
        "properties": {
         "file_node_id": "4aca9dcd-43f2-44ee-9fd0-d261e9a84ee4",
         "label": "CLASS",
         "name": "GraphFileParser",
         "node_id": "59a5637d-9b08-46b2-b959-a571feb36221",
         "path": "blar-example-repos.debugger_agent.graph_construction.graph_file_parser.GraphFileParser",
         "signature": "class GraphFileParser:",
         "text": "class GraphFileParser:\n    RELATIONS_TYPES_MAP = {\n        \"function_definition\": \"FUNCTION_DEFINITION\",\n        \"class_definition\": \"CLASS_DEFINITION\",\n    }\n\n    def __init__(\n        self,\n        file_path: str,\n        root_path: str,\n        language: str,\n        directory_path: str,\n        visited_nodes: dict,\n        global_imports: dict,\n    ):\n        # Code replaced for brevity. See node_id b0b6cea3-bc27-48c3-8733-9dc6983d36b1\n\n    def parse(self):\n        # Code replaced for brevity. See node_id dc82e7bb-0128-4c63-bfc8-ccbbc568a289\n\n    def __process_node__(\n        self, node: BaseNode, no_extension_path: str, file_node_id: str\n    ):\n        # Code replaced for brevity. See node_id 4a0cc08a-0901-452c-9b52-b4b8fa4ddb2a\n\n    def _get_imports(self, path: str, file_node_id: str) -> dict:\n        # Code replaced for brevity. See node_id 7f1e9fb0-6252-4fc6-aee1-2d4d921ef068"
        },
        "scale_factor": 1,
        "size": [
         55,
         55
        ],
        "styles": {},
        "type": "#F44336"
       },
       {
        "color": "#4CAF50",
        "id": 168,
        "label": "FILE",
        "position": [
         0,
         0
        ],
        "properties": {
         "function_calls": [],
         "label": "FILE",
         "name": "format_nodes",
         "node_id": "ff157171-afb0-4b60-89fd-88874e3d57be",
         "path": "blar-example-repos.debugger_agent.utils.format_nodes",
         "text": "from llama_index.core.schema import BaseNode\nimport os\nimport uuid\n\n\ndef format_function_node(\n    node: BaseNode, scope: dict, function_calls: list[str], file_node_id: str\n) -> dict:\n    # Code replaced for brevity. See node_id ce9faa1f-8ee3-41c0-ba51-9a5715840441\n\n\ndef format_class_node(node: BaseNode, scope: dict, file_node_id: str) -> dict:\n    # Code replaced for brevity. See node_id 5a00ef18-0c35-4952-b8aa-f4261267fffd\n\n\ndef format_file_node(\n    node: BaseNode, no_extension_path: str, function_calls: list[str]\n) -> dict:\n    # Code replaced for brevity. See node_id 92927b93-492f-4a55-bc0b-a1aac419edbf\n\n\ndef format_directory_node(path: str, package: bool) -> dict:\n    # Code replaced for brevity. See node_id e229669d-12d1-4aaa-a420-4387d1a08326"
        },
        "scale_factor": 1,
        "size": [
         55,
         55
        ],
        "styles": {},
        "type": "#4CAF50"
       },
       {
        "color": "#F44336",
        "id": 185,
        "label": "CLASS",
        "position": [
         0,
         0
        ],
        "properties": {
         "file_node_id": "4aca9dcd-43f2-44ee-9fd0-d261e9a84ee4",
         "label": "CLASS",
         "name": "GraphFileParser",
         "node_id": "59a5637d-9b08-46b2-b959-a571feb36221",
         "path": "blar-example-repos.debugger_agent.graph_construction.graph_file_parser.GraphFileParser",
         "signature": "class GraphFileParser:",
         "text": "class GraphFileParser:\n    RELATIONS_TYPES_MAP = {\n        \"function_definition\": \"FUNCTION_DEFINITION\",\n        \"class_definition\": \"CLASS_DEFINITION\",\n    }\n\n    def __init__(\n        self,\n        file_path: str,\n        root_path: str,\n        language: str,\n        directory_path: str,\n        visited_nodes: dict,\n        global_imports: dict,\n    ):\n        # Code replaced for brevity. See node_id b0b6cea3-bc27-48c3-8733-9dc6983d36b1\n\n    def parse(self):\n        # Code replaced for brevity. See node_id dc82e7bb-0128-4c63-bfc8-ccbbc568a289\n\n    def __process_node__(\n        self, node: BaseNode, no_extension_path: str, file_node_id: str\n    ):\n        # Code replaced for brevity. See node_id 4a0cc08a-0901-452c-9b52-b4b8fa4ddb2a\n\n    def _get_imports(self, path: str, file_node_id: str) -> dict:\n        # Code replaced for brevity. See node_id 7f1e9fb0-6252-4fc6-aee1-2d4d921ef068"
        },
        "scale_factor": 1,
        "size": [
         55,
         55
        ],
        "styles": {},
        "type": "#F44336"
       },
       {
        "color": "#F44336",
        "id": 188,
        "label": "CLASS",
        "position": [
         0,
         0
        ],
        "properties": {
         "file_node_id": "c52f04f0-08af-49c2-9af5-b2e28277fc0e",
         "label": "CLASS",
         "name": "Neo4jManager",
         "node_id": "00042709-87a7-488d-b6c5-fde7a3443998",
         "path": "blar-example-repos.debugger_agent.graph_construction.neo4j_manager.Neo4jManager",
         "signature": "class Neo4jManager:",
         "text": "class Neo4jManager:\n    def __init__(self):\n        # Code replaced for brevity. See node_id e2fb7911-3197-41e9-9858-94bc97efb52a\n\n    def create_function_name_index(self):\n        # Creates a fulltext index on the name and path properties of the nodes\n        # Code replaced for brevity. See node_id d3f5f7ba-f201-40bb-840d-6a20d7902bf7\n\n    def close(self):\n        # Close the connection to the database\n        # Code replaced for brevity. See node_id 4cf93f70-44f0-4396-9f66-676f5991bb48\n\n    def create_nodes(self, nodeList: List[Any]):\n        # Function to create nodes in the Neo4j database\n        # Code replaced for brevity. See node_id 03a53f30-8671-4961-a1d0-b6b4a65498e5\n\n    def create_edges(self, edgesList: List[Any]):\n        # Function to create edges between nodes in the Neo4j database\n        # Code replaced for brevity. See node_id 9751c2b8-4ff0-4381-84cb-465e942a9910\n\n    def format_query(self, query: str):\n        # Function to format the query to be used in the fulltext index\n        # Code replaced for brevity. See node_id 99df662b-f944-43b5-b34a-86373f3b5da2\n\n    def get_node_by_id(self, node_id: str):\n        # Code replaced for brevity. See node_id fb73f09f-fb86-4688-9680-706621b98712\n\n    def get_code(self, query: str):\n        # Function to get code from the Neo4j database based on a keyword query\n        # Code replaced for brevity. See node_id 85689b50-6a40-4645-8d3f-37955a8d0f0f\n\n    def get_graph_by_path(self, path: str):\n        # Code replaced for brevity. See node_id a1d5b673-144b-410b-8c83-113713247ae6\n\n    def get_n_hop_neighbours(self, node_id: str, num_hops: int):\n        # Function to get code from the Neo4j database based on a keyword query\n        # Code replaced for brevity. See node_id d6d1d427-e6b4-4ec3-97ef-91150f91e9d7\n\n    @staticmethod\n    def _create_nodes_txn(tx, nodeList: List[Any]):\n        # Transaction function for creating nodes with dynamic labels\n        # Code replaced for brevity. See node_id d8fc3c85-e3ff-491d-b923-3b20e8af3d09\n\n    @staticmethod\n    def _create_edges_txn(tx, edgesList: List[Any]):\n        # Transaction function for creating edges\n        # Code replaced for brevity. See node_id 03a14af7-5159-4659-990f-c3068556b692"
        },
        "scale_factor": 1,
        "size": [
         55,
         55
        ],
        "styles": {},
        "type": "#F44336"
       },
       {
        "color": "#F44336",
        "id": 192,
        "label": "CLASS",
        "position": [
         0,
         0
        ],
        "properties": {
         "file_node_id": "c52f04f0-08af-49c2-9af5-b2e28277fc0e",
         "label": "CLASS",
         "name": "Neo4jManager",
         "node_id": "00042709-87a7-488d-b6c5-fde7a3443998",
         "path": "blar-example-repos.debugger_agent.graph_construction.neo4j_manager.Neo4jManager",
         "signature": "class Neo4jManager:",
         "text": "class Neo4jManager:\n    def __init__(self):\n        # Code replaced for brevity. See node_id e2fb7911-3197-41e9-9858-94bc97efb52a\n\n    def create_function_name_index(self):\n        # Creates a fulltext index on the name and path properties of the nodes\n        # Code replaced for brevity. See node_id d3f5f7ba-f201-40bb-840d-6a20d7902bf7\n\n    def close(self):\n        # Close the connection to the database\n        # Code replaced for brevity. See node_id 4cf93f70-44f0-4396-9f66-676f5991bb48\n\n    def create_nodes(self, nodeList: List[Any]):\n        # Function to create nodes in the Neo4j database\n        # Code replaced for brevity. See node_id 03a53f30-8671-4961-a1d0-b6b4a65498e5\n\n    def create_edges(self, edgesList: List[Any]):\n        # Function to create edges between nodes in the Neo4j database\n        # Code replaced for brevity. See node_id 9751c2b8-4ff0-4381-84cb-465e942a9910\n\n    def format_query(self, query: str):\n        # Function to format the query to be used in the fulltext index\n        # Code replaced for brevity. See node_id 99df662b-f944-43b5-b34a-86373f3b5da2\n\n    def get_node_by_id(self, node_id: str):\n        # Code replaced for brevity. See node_id fb73f09f-fb86-4688-9680-706621b98712\n\n    def get_code(self, query: str):\n        # Function to get code from the Neo4j database based on a keyword query\n        # Code replaced for brevity. See node_id 85689b50-6a40-4645-8d3f-37955a8d0f0f\n\n    def get_graph_by_path(self, path: str):\n        # Code replaced for brevity. See node_id a1d5b673-144b-410b-8c83-113713247ae6\n\n    def get_n_hop_neighbours(self, node_id: str, num_hops: int):\n        # Function to get code from the Neo4j database based on a keyword query\n        # Code replaced for brevity. See node_id d6d1d427-e6b4-4ec3-97ef-91150f91e9d7\n\n    @staticmethod\n    def _create_nodes_txn(tx, nodeList: List[Any]):\n        # Transaction function for creating nodes with dynamic labels\n        # Code replaced for brevity. See node_id d8fc3c85-e3ff-491d-b923-3b20e8af3d09\n\n    @staticmethod\n    def _create_edges_txn(tx, edgesList: List[Any]):\n        # Transaction function for creating edges\n        # Code replaced for brevity. See node_id 03a14af7-5159-4659-990f-c3068556b692"
        },
        "scale_factor": 1,
        "size": [
         55,
         55
        ],
        "styles": {},
        "type": "#F44336"
       },
       {
        "color": "#4CAF50",
        "id": 202,
        "label": "FILE",
        "position": [
         0,
         0
        ],
        "properties": {
         "function_calls": [],
         "label": "FILE",
         "name": "format_nodes",
         "node_id": "ff157171-afb0-4b60-89fd-88874e3d57be",
         "path": "blar-example-repos.debugger_agent.utils.format_nodes",
         "text": "from llama_index.core.schema import BaseNode\nimport os\nimport uuid\n\n\ndef format_function_node(\n    node: BaseNode, scope: dict, function_calls: list[str], file_node_id: str\n) -> dict:\n    # Code replaced for brevity. See node_id ce9faa1f-8ee3-41c0-ba51-9a5715840441\n\n\ndef format_class_node(node: BaseNode, scope: dict, file_node_id: str) -> dict:\n    # Code replaced for brevity. See node_id 5a00ef18-0c35-4952-b8aa-f4261267fffd\n\n\ndef format_file_node(\n    node: BaseNode, no_extension_path: str, function_calls: list[str]\n) -> dict:\n    # Code replaced for brevity. See node_id 92927b93-492f-4a55-bc0b-a1aac419edbf\n\n\ndef format_directory_node(path: str, package: bool) -> dict:\n    # Code replaced for brevity. See node_id e229669d-12d1-4aaa-a420-4387d1a08326"
        },
        "scale_factor": 1,
        "size": [
         55,
         55
        ],
        "styles": {},
        "type": "#4CAF50"
       },
       {
        "color": "#F44336",
        "id": 265,
        "label": "CLASS",
        "position": [
         0,
         0
        ],
        "properties": {
         "file_node_id": "94730e19-6358-49aa-9ec8-c35ba8a90cf2",
         "label": "CLASS",
         "name": "GraphFileParser",
         "node_id": "4c19827d-daeb-44fa-b0ea-7414bb12bb26",
         "path": "blar-example-repos.debugger_agent.graph_construction.graph_file_parser.GraphFileParser",
         "signature": "class GraphFileParser:",
         "text": "class GraphFileParser:\n    RELATIONS_TYPES_MAP = {\n        \"function_definition\": \"FUNCTION_DEFINITION\",\n        \"class_definition\": \"CLASS_DEFINITION\",\n    }\n\n    def __init__(\n        self,\n        file_path: str,\n        root_path: str,\n        language: str,\n        directory_path: str,\n        visited_nodes: dict,\n        global_imports: dict,\n    ):\n        # Code replaced for brevity. See node_id d7c60b65-c524-448a-a3ac-fd57a10748e0\n\n    def parse(self):\n        # Code replaced for brevity. See node_id bf07bfde-e1fc-4dfd-93b3-1da958c382f5\n\n    def __process_node__(\n        self, node: BaseNode, no_extension_path: str, file_node_id: str\n    ):\n        # Code replaced for brevity. See node_id e5f0ab10-ee9f-4c6e-917e-8765cc3df9d4\n\n    def _get_imports(self, path: str, file_node_id: str) -> dict:\n        # Code replaced for brevity. See node_id 0ef468c2-297f-430f-a12b-cf50874e9fe8"
        },
        "scale_factor": 1,
        "size": [
         55,
         55
        ],
        "styles": {},
        "type": "#F44336"
       },
       {
        "color": "#F44336",
        "id": 271,
        "label": "CLASS",
        "position": [
         0,
         0
        ],
        "properties": {
         "file_node_id": "25b2b132-e7f2-4076-9338-a202c03e1c3c",
         "label": "CLASS",
         "name": "Neo4jManager",
         "node_id": "92b2e1b2-3528-4392-a2bd-9baace2ea7f9",
         "path": "blar-example-repos.debugger_agent.graph_construction.neo4j_manager.Neo4jManager",
         "signature": "class Neo4jManager:",
         "text": "class Neo4jManager:\n    def __init__(self):\n        # Code replaced for brevity. See node_id 456115bf-49d4-47b4-909b-88a404429d97\n\n    def create_function_name_index(self):\n        # Creates a fulltext index on the name and path properties of the nodes\n        # Code replaced for brevity. See node_id f26bed9f-0a6d-4145-a0a2-360cf073ba87\n\n    def close(self):\n        # Close the connection to the database\n        # Code replaced for brevity. See node_id 8c46300b-07d8-464e-8bb9-5c9ad40b2b6c\n\n    def create_nodes(self, nodeList: List[Any]):\n        # Function to create nodes in the Neo4j database\n        # Code replaced for brevity. See node_id 04b63b03-a762-4e83-9077-813827018c9d\n\n    def create_edges(self, edgesList: List[Any]):\n        # Function to create edges between nodes in the Neo4j database\n        # Code replaced for brevity. See node_id 8b4f748b-806a-4263-a02d-f75664fe15f8\n\n    def format_query(self, query: str):\n        # Function to format the query to be used in the fulltext index\n        # Code replaced for brevity. See node_id f445fed3-3e96-400a-b423-533e413906b2\n\n    def get_node_by_id(self, node_id: str):\n        # Code replaced for brevity. See node_id 140a3bd0-d74a-4825-b3e4-31da8a362c64\n\n    def get_code(self, query: str):\n        # Function to get code from the Neo4j database based on a keyword query\n        # Code replaced for brevity. See node_id 9f825beb-a20a-463d-aaea-8453103e9b62\n\n    def get_graph_by_path(self, path: str):\n        # Code replaced for brevity. See node_id 65e7e3fc-3f2a-4c99-b95e-ba5dfaf0adcc\n\n    def get_n_hop_neighbours(self, node_id: str, num_hops: int):\n        # Function to get code from the Neo4j database based on a keyword query\n        # Code replaced for brevity. See node_id b0b835d5-7df4-43b2-9e0e-23c75a512d21\n\n    @staticmethod\n    def _create_nodes_txn(tx, nodeList: List[Any]):\n        # Transaction function for creating nodes with dynamic labels\n        # Code replaced for brevity. See node_id 62239f10-2905-4ebb-93a0-96d0316f70ee\n\n    @staticmethod\n    def _create_edges_txn(tx, edgesList: List[Any]):\n        # Transaction function for creating edges\n        # Code replaced for brevity. See node_id 95bf7221-df3a-4fe5-a5e2-9a9dcb037e24"
        },
        "scale_factor": 1,
        "size": [
         55,
         55
        ],
        "styles": {},
        "type": "#F44336"
       },
       {
        "color": "#2196F3",
        "id": 5,
        "label": "FUNCTION",
        "position": [
         0,
         0
        ],
        "properties": {
         "file_node_id": "b222c6e8-659e-4650-ba90-896df4b5bf3c",
         "function_calls": [
          "file_imports.get",
          "function_call.split",
          "function_call.split",
          "function_calls_relations.append",
          "function_calls_relations.append",
          "function_calls_relations.append"
         ],
         "label": "FUNCTION",
         "name": "_relate_function_calls",
         "node_id": "177ae2c5-a0df-4d1a-867d-e1e345759cea",
         "path": "blar-example-repos.debugger_agent.graph_construction.graph_builder.GraphConstructor._relate_function_calls",
         "signature": "def _relate_function_calls(self, node_list, imports):",
         "text": "def _relate_function_calls(self, node_list, imports):\n        function_calls_relations = []\n        for node in node_list:\n            function_calls = node[\"attributes\"].get(\"function_calls\")\n            if function_calls:\n                for function_call in function_calls:\n                    if node[\"type\"] == \"FILE\":\n                        file_imports = imports[node[\"attributes\"][\"node_id\"]]\n                    else:\n                        file_imports = imports[node[\"attributes\"][\"file_node_id\"]]\n\n                    function_import = file_imports.get(function_call.split(\".\")[0])\n                    root_directory = node[\"attributes\"][\"path\"].replace(\n                        \".\" + node[\"attributes\"][\"name\"], \"\"\n                    )\n                    directory = root_directory\n                    if function_import:\n                        directory = function_import\n\n                    for module in function_call.split(\".\"):\n                        final_module = \".\" + module\n                        intermediate_module = \".\" + module + \".\"\n                        if not (\n                            final_module in directory\n                            or intermediate_module in directory\n                        ):\n                            directory += f\".{module}\"\n                    if directory in self.global_imports:\n                        target_node_type = self.global_imports[directory][\"type\"]\n                        if target_node_type == \"FUNCTION\" or target_node_type == \"FILE\":\n                            function_calls_relations.append(\n                                {\n                                    \"sourceId\": node[\"attributes\"][\"node_id\"],\n                                    \"targetId\": self.global_imports[directory][\"id\"],\n                                    \"type\": \"CALLS\",\n                                }\n                            )\n                        elif target_node_type == \"CLASS\":\n                            function_calls_relations.append(\n                                {\n                                    \"sourceId\": node[\"attributes\"][\"node_id\"],\n                                    \"targetId\": self.global_imports[directory][\"id\"],\n                                    \"type\": \"INSTANTIATES\",\n                                }\n                            )\n\n                            init_directory = directory + \".__init__\"\n                            function_calls_relations.append(\n                                {\n                                    \"sourceId\": node[\"attributes\"][\"node_id\"],\n                                    \"targetId\": self.global_imports[init_directory][\n                                        \"id\"\n                                    ],\n                                    \"type\": \"CALLS\",\n                                }\n                            )\n\n        return function_calls_relations"
        },
        "scale_factor": 1,
        "size": [
         55,
         55
        ],
        "styles": {},
        "type": "#2196F3"
       },
       {
        "color": "#2196F3",
        "id": 16,
        "label": "FUNCTION",
        "position": [
         0,
         0
        ],
        "properties": {
         "file_node_id": "b222c6e8-659e-4650-ba90-896df4b5bf3c",
         "function_calls": [],
         "label": "FUNCTION",
         "name": "__init__",
         "node_id": "9d8d1b18-0b2c-4dc4-af12-fb372e6d2417",
         "path": "blar-example-repos.debugger_agent.graph_construction.graph_builder.GraphConstructor.__init__",
         "signature": "def __init__(self, graph_manager: Neo4jManager):",
         "text": "def __init__(self, graph_manager: Neo4jManager):\n        self.graph_manager = graph_manager\n        self.directories_map = {}\n        self.visited_nodes = {}\n        self.global_imports = {}\n        self.root = None"
        },
        "scale_factor": 1,
        "size": [
         55,
         55
        ],
        "styles": {},
        "type": "#2196F3"
       },
       {
        "color": "#2196F3",
        "id": 17,
        "label": "FUNCTION",
        "position": [
         0,
         0
        ],
        "properties": {
         "file_node_id": "b222c6e8-659e-4650-ba90-896df4b5bf3c",
         "function_calls": [
          "os.path.join",
          "os.path.exists",
          "format_nodes.format_directory_node",
          "relationships.append",
          "nodes.append",
          "os.scandir",
          "entry.is_file",
          "entry.name.endswith",
          "GraphFileParser",
          "entry.name.split",
          "GraphFileParser.parse",
          "nodes.extend",
          "relationships.extend",
          "relationships.append",
          "imports.update",
          "str",
          "uuid.uuid4",
          "nodes.append",
          "relationships.append",
          "entry.is_dir",
          "GraphConstructor._scan_directory"
         ],
         "label": "FUNCTION",
         "name": "_scan_directory",
         "node_id": "c1495983-d4d7-4d1c-ab68-9b88d31088ba",
         "path": "blar-example-repos.debugger_agent.graph_construction.graph_builder.GraphConstructor._scan_directory",
         "signature": "def _scan_directory(\n        self,\n        path,\n        language=\"python\",\n        nodes=[],\n        relationships=[],\n        imports={},\n        parent_id=None,\n    ):",
         "text": "def _scan_directory(\n        self,\n        path,\n        language=\"python\",\n        nodes=[],\n        relationships=[],\n        imports={},\n        parent_id=None,\n    ):\n        if self.root is None:\n            self.root = path\n        package = False\n        init_py_path = os.path.join(path, \"__init__.py\")\n        if os.path.exists(init_py_path):\n            package = True\n\n        directory_node = format_nodes.format_directory_node(path, package)\n        directory_path = directory_node[\"attributes\"][\"path\"]\n        directory_node_id = directory_node[\"attributes\"][\"node_id\"]\n\n        if parent_id is not None:\n            relationships.append(\n                {\n                    \"sourceId\": parent_id,\n                    \"targetId\": directory_node_id,\n                    \"type\": \"CONTAINS\",\n                }\n            )\n\n        nodes.append(directory_node)\n        for entry in os.scandir(path):\n            if entry.is_file():\n                if entry.name.endswith(\".py\") and not entry.name == (\"__init__.py\"):\n                    file_parser = GraphFileParser(\n                        entry.path,\n                        self.root,\n                        language,\n                        directory_path,\n                        visited_nodes=self.visited_nodes,\n                        global_imports=self.global_imports,\n                    )\n\n                    entry_name = entry.name.split(\".py\")[0]\n                    processed_nodes, relations, file_imports = file_parser.parse()\n                    file_root_node_id = processed_nodes[0][\"attributes\"][\"node_id\"]\n\n                    nodes.extend(processed_nodes)\n                    relationships.extend(relations)\n                    relationships.append(\n                        {\n                            \"sourceId\": directory_node_id,\n                            \"targetId\": file_root_node_id,\n                            \"type\": \"CONTAINS\",\n                        }\n                    )\n                    imports.update(file_imports)\n\n                    global_import_key = (directory_path + entry_name).replace(\"/\", \".\")\n                    self.global_imports[global_import_key] = {\n                        \"id\": file_root_node_id,\n                        \"type\": \"FILE\",\n                    }\n                else:\n                    file_node = {\n                        \"type\": \"FILE\",\n                        \"attributes\": {\n                            \"path\": entry.path,\n                            \"name\": entry.name,\n                            \"node_id\": str(uuid.uuid4()),\n                        },\n                    }\n                    nodes.append(file_node)\n                    relationships.append(\n                        {\n                            \"sourceId\": directory_node_id,\n                            \"targetId\": file_node[\"attributes\"][\"node_id\"],\n                            \"type\": \"CONTAINS\",\n                        }\n                    )\n            if entry.is_dir():\n                if entry.name == \"__pycache__\":\n                    continue\n                nodes, relationships, imports = self._scan_directory(\n                    entry.path,\n                    language,\n                    nodes,\n                    relationships,\n                    imports,\n                    directory_node_id,\n                )\n        return nodes, relationships, imports"
        },
        "scale_factor": 1,
        "size": [
         55,
         55
        ],
        "styles": {},
        "type": "#2196F3"
       },
       {
        "color": "#2196F3",
        "id": 18,
        "label": "FUNCTION",
        "position": [
         0,
         0
        ],
        "properties": {
         "file_node_id": "b222c6e8-659e-4650-ba90-896df4b5bf3c",
         "function_calls": [
          "imports.keys",
          "GraphConstructor.global_imports.keys",
          "key.endswith",
          "import_edges.append"
         ],
         "label": "FUNCTION",
         "name": "_relate_imports",
         "node_id": "81ebba6d-f384-4d13-921e-b57b234a1fe5",
         "path": "blar-example-repos.debugger_agent.graph_construction.graph_builder.GraphConstructor._relate_imports",
         "signature": "def _relate_imports(self, imports: dict):",
         "text": "def _relate_imports(self, imports: dict):\n        import_edges = []\n        for file_node_id in imports.keys():\n            for imp in imports[file_node_id].keys():\n                for key in self.global_imports.keys():\n                    if key.endswith(imp):\n                        import_edges.append(\n                            {\n                                \"sourceId\": file_node_id,\n                                \"targetId\": self.global_imports[key][\"id\"],\n                                \"type\": \"IMPORTS\",\n                            }\n                        )\n\n        return import_edges"
        },
        "scale_factor": 1,
        "size": [
         55,
         55
        ],
        "styles": {},
        "type": "#2196F3"
       },
       {
        "color": "#2196F3",
        "id": 176,
        "label": "FUNCTION",
        "position": [
         0,
         0
        ],
        "properties": {
         "file_node_id": "b222c6e8-659e-4650-ba90-896df4b5bf3c",
         "function_calls": [],
         "label": "FUNCTION",
         "name": "__init__",
         "node_id": "9d8d1b18-0b2c-4dc4-af12-fb372e6d2417",
         "path": "blar-example-repos.debugger_agent.graph_construction.graph_builder.GraphConstructor.__init__",
         "signature": "def __init__(self, graph_manager: Neo4jManager):",
         "text": "def __init__(self, graph_manager: Neo4jManager):\n        self.graph_manager = graph_manager\n        self.directories_map = {}\n        self.visited_nodes = {}\n        self.global_imports = {}\n        self.root = None"
        },
        "scale_factor": 1,
        "size": [
         55,
         55
        ],
        "styles": {},
        "type": "#2196F3"
       },
       {
        "color": "#2196F3",
        "id": 181,
        "label": "FUNCTION",
        "position": [
         0,
         0
        ],
        "properties": {
         "file_node_id": "b222c6e8-659e-4650-ba90-896df4b5bf3c",
         "function_calls": [
          "GraphConstructor._scan_directory",
          "relationships.extend",
          "GraphConstructor._relate_imports",
          "relationships.extend",
          "GraphConstructor._relate_function_calls",
          "GraphConstructor.graph_manager.create_nodes",
          "GraphConstructor.graph_manager.create_edges"
         ],
         "label": "FUNCTION",
         "name": "build_graph",
         "node_id": "467013ee-3595-4494-bcb0-c759f621ea03",
         "path": "blar-example-repos.debugger_agent.graph_construction.graph_builder.GraphConstructor.build_graph",
         "signature": "def build_graph(self, path, language):\n        # process every node to create the graph structure",
         "text": "def build_graph(self, path, language):\n        # process every node to create the graph structure\n        nodes, relationships, imports = self._scan_directory(path, language)\n        # relate imports between file nodes\n        relationships.extend(self._relate_imports(imports))\n        # relate functions calls\n        relationships.extend(self._relate_function_calls(nodes, imports))\n\n        self.graph_manager.create_nodes(nodes)\n        self.graph_manager.create_edges(relationships)"
        },
        "scale_factor": 1,
        "size": [
         55,
         55
        ],
        "styles": {},
        "type": "#2196F3"
       },
       {
        "color": "#2196F3",
        "id": 290,
        "label": "FUNCTION",
        "position": [
         0,
         0
        ],
        "properties": {
         "file_node_id": "b222c6e8-659e-4650-ba90-896df4b5bf3c",
         "function_calls": [
          "GraphConstructor._scan_directory",
          "relationships.extend",
          "GraphConstructor._relate_imports",
          "relationships.extend",
          "GraphConstructor._relate_function_calls",
          "GraphConstructor.graph_manager.create_nodes",
          "GraphConstructor.graph_manager.create_edges"
         ],
         "label": "FUNCTION",
         "name": "build_graph",
         "node_id": "467013ee-3595-4494-bcb0-c759f621ea03",
         "path": "blar-example-repos.debugger_agent.graph_construction.graph_builder.GraphConstructor.build_graph",
         "signature": "def build_graph(self, path, language):\n        # process every node to create the graph structure",
         "text": "def build_graph(self, path, language):\n        # process every node to create the graph structure\n        nodes, relationships, imports = self._scan_directory(path, language)\n        # relate imports between file nodes\n        relationships.extend(self._relate_imports(imports))\n        # relate functions calls\n        relationships.extend(self._relate_function_calls(nodes, imports))\n\n        self.graph_manager.create_nodes(nodes)\n        self.graph_manager.create_edges(relationships)"
        },
        "scale_factor": 1,
        "size": [
         55,
         55
        ],
        "styles": {},
        "type": "#2196F3"
       },
       {
        "color": "#2196F3",
        "id": 307,
        "label": "FUNCTION",
        "position": [
         0,
         0
        ],
        "properties": {
         "file_node_id": "b222c6e8-659e-4650-ba90-896df4b5bf3c",
         "function_calls": [
          "file_imports.get",
          "function_call.split",
          "function_call.split",
          "function_calls_relations.append",
          "function_calls_relations.append",
          "function_calls_relations.append"
         ],
         "label": "FUNCTION",
         "name": "_relate_function_calls",
         "node_id": "177ae2c5-a0df-4d1a-867d-e1e345759cea",
         "path": "blar-example-repos.debugger_agent.graph_construction.graph_builder.GraphConstructor._relate_function_calls",
         "signature": "def _relate_function_calls(self, node_list, imports):",
         "text": "def _relate_function_calls(self, node_list, imports):\n        function_calls_relations = []\n        for node in node_list:\n            function_calls = node[\"attributes\"].get(\"function_calls\")\n            if function_calls:\n                for function_call in function_calls:\n                    if node[\"type\"] == \"FILE\":\n                        file_imports = imports[node[\"attributes\"][\"node_id\"]]\n                    else:\n                        file_imports = imports[node[\"attributes\"][\"file_node_id\"]]\n\n                    function_import = file_imports.get(function_call.split(\".\")[0])\n                    root_directory = node[\"attributes\"][\"path\"].replace(\n                        \".\" + node[\"attributes\"][\"name\"], \"\"\n                    )\n                    directory = root_directory\n                    if function_import:\n                        directory = function_import\n\n                    for module in function_call.split(\".\"):\n                        final_module = \".\" + module\n                        intermediate_module = \".\" + module + \".\"\n                        if not (\n                            final_module in directory\n                            or intermediate_module in directory\n                        ):\n                            directory += f\".{module}\"\n                    if directory in self.global_imports:\n                        target_node_type = self.global_imports[directory][\"type\"]\n                        if target_node_type == \"FUNCTION\" or target_node_type == \"FILE\":\n                            function_calls_relations.append(\n                                {\n                                    \"sourceId\": node[\"attributes\"][\"node_id\"],\n                                    \"targetId\": self.global_imports[directory][\"id\"],\n                                    \"type\": \"CALLS\",\n                                }\n                            )\n                        elif target_node_type == \"CLASS\":\n                            function_calls_relations.append(\n                                {\n                                    \"sourceId\": node[\"attributes\"][\"node_id\"],\n                                    \"targetId\": self.global_imports[directory][\"id\"],\n                                    \"type\": \"INSTANTIATES\",\n                                }\n                            )\n\n                            init_directory = directory + \".__init__\"\n                            function_calls_relations.append(\n                                {\n                                    \"sourceId\": node[\"attributes\"][\"node_id\"],\n                                    \"targetId\": self.global_imports[init_directory][\n                                        \"id\"\n                                    ],\n                                    \"type\": \"CALLS\",\n                                }\n                            )\n\n        return function_calls_relations"
        },
        "scale_factor": 1,
        "size": [
         55,
         55
        ],
        "styles": {},
        "type": "#2196F3"
       },
       {
        "color": "#2196F3",
        "id": 308,
        "label": "FUNCTION",
        "position": [
         0,
         0
        ],
        "properties": {
         "file_node_id": "b222c6e8-659e-4650-ba90-896df4b5bf3c",
         "function_calls": [
          "os.path.join",
          "os.path.exists",
          "format_nodes.format_directory_node",
          "relationships.append",
          "nodes.append",
          "os.scandir",
          "entry.is_file",
          "entry.name.endswith",
          "GraphFileParser",
          "entry.name.split",
          "GraphFileParser.parse",
          "nodes.extend",
          "relationships.extend",
          "relationships.append",
          "imports.update",
          "str",
          "uuid.uuid4",
          "nodes.append",
          "relationships.append",
          "entry.is_dir",
          "GraphConstructor._scan_directory"
         ],
         "label": "FUNCTION",
         "name": "_scan_directory",
         "node_id": "c1495983-d4d7-4d1c-ab68-9b88d31088ba",
         "path": "blar-example-repos.debugger_agent.graph_construction.graph_builder.GraphConstructor._scan_directory",
         "signature": "def _scan_directory(\n        self,\n        path,\n        language=\"python\",\n        nodes=[],\n        relationships=[],\n        imports={},\n        parent_id=None,\n    ):",
         "text": "def _scan_directory(\n        self,\n        path,\n        language=\"python\",\n        nodes=[],\n        relationships=[],\n        imports={},\n        parent_id=None,\n    ):\n        if self.root is None:\n            self.root = path\n        package = False\n        init_py_path = os.path.join(path, \"__init__.py\")\n        if os.path.exists(init_py_path):\n            package = True\n\n        directory_node = format_nodes.format_directory_node(path, package)\n        directory_path = directory_node[\"attributes\"][\"path\"]\n        directory_node_id = directory_node[\"attributes\"][\"node_id\"]\n\n        if parent_id is not None:\n            relationships.append(\n                {\n                    \"sourceId\": parent_id,\n                    \"targetId\": directory_node_id,\n                    \"type\": \"CONTAINS\",\n                }\n            )\n\n        nodes.append(directory_node)\n        for entry in os.scandir(path):\n            if entry.is_file():\n                if entry.name.endswith(\".py\") and not entry.name == (\"__init__.py\"):\n                    file_parser = GraphFileParser(\n                        entry.path,\n                        self.root,\n                        language,\n                        directory_path,\n                        visited_nodes=self.visited_nodes,\n                        global_imports=self.global_imports,\n                    )\n\n                    entry_name = entry.name.split(\".py\")[0]\n                    processed_nodes, relations, file_imports = file_parser.parse()\n                    file_root_node_id = processed_nodes[0][\"attributes\"][\"node_id\"]\n\n                    nodes.extend(processed_nodes)\n                    relationships.extend(relations)\n                    relationships.append(\n                        {\n                            \"sourceId\": directory_node_id,\n                            \"targetId\": file_root_node_id,\n                            \"type\": \"CONTAINS\",\n                        }\n                    )\n                    imports.update(file_imports)\n\n                    global_import_key = (directory_path + entry_name).replace(\"/\", \".\")\n                    self.global_imports[global_import_key] = {\n                        \"id\": file_root_node_id,\n                        \"type\": \"FILE\",\n                    }\n                else:\n                    file_node = {\n                        \"type\": \"FILE\",\n                        \"attributes\": {\n                            \"path\": entry.path,\n                            \"name\": entry.name,\n                            \"node_id\": str(uuid.uuid4()),\n                        },\n                    }\n                    nodes.append(file_node)\n                    relationships.append(\n                        {\n                            \"sourceId\": directory_node_id,\n                            \"targetId\": file_node[\"attributes\"][\"node_id\"],\n                            \"type\": \"CONTAINS\",\n                        }\n                    )\n            if entry.is_dir():\n                if entry.name == \"__pycache__\":\n                    continue\n                nodes, relationships, imports = self._scan_directory(\n                    entry.path,\n                    language,\n                    nodes,\n                    relationships,\n                    imports,\n                    directory_node_id,\n                )\n        return nodes, relationships, imports"
        },
        "scale_factor": 1,
        "size": [
         55,
         55
        ],
        "styles": {},
        "type": "#2196F3"
       },
       {
        "color": "#2196F3",
        "id": 309,
        "label": "FUNCTION",
        "position": [
         0,
         0
        ],
        "properties": {
         "file_node_id": "b222c6e8-659e-4650-ba90-896df4b5bf3c",
         "function_calls": [
          "imports.keys",
          "GraphConstructor.global_imports.keys",
          "key.endswith",
          "import_edges.append"
         ],
         "label": "FUNCTION",
         "name": "_relate_imports",
         "node_id": "81ebba6d-f384-4d13-921e-b57b234a1fe5",
         "path": "blar-example-repos.debugger_agent.graph_construction.graph_builder.GraphConstructor._relate_imports",
         "signature": "def _relate_imports(self, imports: dict):",
         "text": "def _relate_imports(self, imports: dict):\n        import_edges = []\n        for file_node_id in imports.keys():\n            for imp in imports[file_node_id].keys():\n                for key in self.global_imports.keys():\n                    if key.endswith(imp):\n                        import_edges.append(\n                            {\n                                \"sourceId\": file_node_id,\n                                \"targetId\": self.global_imports[key][\"id\"],\n                                \"type\": \"IMPORTS\",\n                            }\n                        )\n\n        return import_edges"
        },
        "scale_factor": 1,
        "size": [
         55,
         55
        ],
        "styles": {},
        "type": "#2196F3"
       },
       {
        "color": "#F44336",
        "id": 258,
        "label": "CLASS",
        "position": [
         0,
         0
        ],
        "properties": {
         "file_node_id": "3daaa2bc-abb8-4c62-b3e9-1bbb05fcb244",
         "label": "CLASS",
         "name": "GraphConstructor",
         "node_id": "3addbe0d-8957-434d-9902-9f99079bd51c",
         "path": "blar-example-repos.debugger_agent.graph_construction.graph_builder.GraphConstructor",
         "signature": "class GraphConstructor:",
         "text": "class GraphConstructor:\n    def __init__(self, graph_manager: Neo4jManager):\n        # Code replaced for brevity. See node_id 8ebd9996-f6b2-401c-bbf1-88233b6dc4b4\n\n    def _scan_directory(\n        self,\n        path,\n        language=\"python\",\n        nodes=[],\n        relationships=[],\n        imports={},\n        parent_id=None,\n    ):\n        # Code replaced for brevity. See node_id 48a5f5aa-0e3a-4a6b-9e1e-59f01305acf3\n\n    def _relate_imports(self, imports: dict):\n        # Code replaced for brevity. See node_id fd7b5492-aa78-48bc-9bc5-cc2ee759df20\n\n    def _relate_function_calls(self, node_list, imports):\n        # Code replaced for brevity. See node_id 2038b138-3048-4183-b794-b878eeac0d4c\n\n    def build_graph(self, path, language):\n        # process every node to create the graph structure\n        # Code replaced for brevity. See node_id 05b1f553-5508-4034-a730-d0f71d0956cb"
        },
        "scale_factor": 1,
        "size": [
         55,
         55
        ],
        "styles": {},
        "type": "#F44336"
       },
       {
        "color": "#2196F3",
        "id": 260,
        "label": "FUNCTION",
        "position": [
         0,
         0
        ],
        "properties": {
         "file_node_id": "3daaa2bc-abb8-4c62-b3e9-1bbb05fcb244",
         "function_calls": [
          "os.path.join",
          "os.path.exists",
          "format_nodes.format_directory_node",
          "relationships.append",
          "nodes.append",
          "os.scandir",
          "entry.is_file",
          "entry.name.endswith",
          "GraphFileParser",
          "entry.name.split",
          "GraphFileParser.parse",
          "nodes.extend",
          "relationships.extend",
          "relationships.append",
          "imports.update",
          "str",
          "uuid.uuid4",
          "nodes.append",
          "relationships.append",
          "entry.is_dir",
          "GraphConstructor._scan_directory"
         ],
         "label": "FUNCTION",
         "name": "_scan_directory",
         "node_id": "48a5f5aa-0e3a-4a6b-9e1e-59f01305acf3",
         "path": "blar-example-repos.debugger_agent.graph_construction.graph_builder.GraphConstructor._scan_directory",
         "signature": "def _scan_directory(\n        self,\n        path,\n        language=\"python\",\n        nodes=[],\n        relationships=[],\n        imports={},\n        parent_id=None,\n    ):",
         "text": "def _scan_directory(\n        self,\n        path,\n        language=\"python\",\n        nodes=[],\n        relationships=[],\n        imports={},\n        parent_id=None,\n    ):\n        if self.root is None:\n            self.root = path\n        package = False\n        init_py_path = os.path.join(path, \"__init__.py\")\n        if os.path.exists(init_py_path):\n            package = True\n\n        directory_node = format_nodes.format_directory_node(path, package)\n        directory_path = directory_node[\"attributes\"][\"path\"]\n        directory_node_id = directory_node[\"attributes\"][\"node_id\"]\n\n        if parent_id is not None:\n            relationships.append(\n                {\n                    \"sourceId\": parent_id,\n                    \"targetId\": directory_node_id,\n                    \"type\": \"CONTAINS\",\n                }\n            )\n\n        nodes.append(directory_node)\n        for entry in os.scandir(path):\n            if entry.is_file():\n                if entry.name.endswith(\".py\") and not entry.name == (\"__init__.py\"):\n                    file_parser = GraphFileParser(\n                        entry.path,\n                        self.root,\n                        language,\n                        directory_path,\n                        visited_nodes=self.visited_nodes,\n                        global_imports=self.global_imports,\n                    )\n\n                    entry_name = entry.name.split(\".py\")[0]\n                    processed_nodes, relations, file_imports = file_parser.parse()\n                    file_root_node_id = processed_nodes[0][\"attributes\"][\"node_id\"]\n\n                    nodes.extend(processed_nodes)\n                    relationships.extend(relations)\n                    relationships.append(\n                        {\n                            \"sourceId\": directory_node_id,\n                            \"targetId\": file_root_node_id,\n                            \"type\": \"CONTAINS\",\n                        }\n                    )\n                    imports.update(file_imports)\n\n                    global_import_key = (directory_path + entry_name).replace(\"/\", \".\")\n                    self.global_imports[global_import_key] = {\n                        \"id\": file_root_node_id,\n                        \"type\": \"FILE\",\n                    }\n                else:\n                    file_node = {\n                        \"type\": \"FILE\",\n                        \"attributes\": {\n                            \"path\": entry.path,\n                            \"name\": entry.name,\n                            \"node_id\": str(uuid.uuid4()),\n                        },\n                    }\n                    nodes.append(file_node)\n                    relationships.append(\n                        {\n                            \"sourceId\": directory_node_id,\n                            \"targetId\": file_node[\"attributes\"][\"node_id\"],\n                            \"type\": \"CONTAINS\",\n                        }\n                    )\n            if entry.is_dir():\n                if entry.name == \"__pycache__\":\n                    continue\n                nodes, relationships, imports = self._scan_directory(\n                    entry.path,\n                    language,\n                    nodes,\n                    relationships,\n                    imports,\n                    directory_node_id,\n                )\n        return nodes, relationships, imports"
        },
        "scale_factor": 1,
        "size": [
         55,
         55
        ],
        "styles": {},
        "type": "#2196F3"
       },
       {
        "color": "#2196F3",
        "id": 23,
        "label": "FUNCTION",
        "position": [
         0,
         0
        ],
        "properties": {
         "file_node_id": "25b2b132-e7f2-4076-9338-a202c03e1c3c",
         "function_calls": [
          "Neo4jManager.format_query",
          "Neo4jManager.driver.session",
          "session.run",
          "session.run.data"
         ],
         "label": "FUNCTION",
         "name": "get_code",
         "node_id": "9f825beb-a20a-463d-aaea-8453103e9b62",
         "path": "blar-example-repos.debugger_agent.graph_construction.neo4j_manager.Neo4jManager.get_code",
         "signature": "def get_code(self, query: str):\n        # Function to get code from the Neo4j database based on a keyword query",
         "text": "def get_code(self, query: str):\n        # Function to get code from the Neo4j database based on a keyword query\n        formatted_query = self.format_query(query)\n        node_query = f\"\"\"\n    CALL db.index.fulltext.queryNodes(\"functionNames\", \"*{formatted_query}\") YIELD node, score\n    RETURN node, score\n        \"\"\"\n        with self.driver.session() as session:\n            result = session.run(node_query)\n            return result.data()"
        },
        "scale_factor": 1,
        "size": [
         55,
         55
        ],
        "styles": {},
        "type": "#2196F3"
       },
       {
        "color": "#2196F3",
        "id": 21,
        "label": "FUNCTION",
        "position": [
         0,
         0
        ],
        "properties": {
         "file_node_id": "25b2b132-e7f2-4076-9338-a202c03e1c3c",
         "function_calls": [
          "query.replace.replace"
         ],
         "label": "FUNCTION",
         "name": "format_query",
         "node_id": "f445fed3-3e96-400a-b423-533e413906b2",
         "path": "blar-example-repos.debugger_agent.graph_construction.neo4j_manager.Neo4jManager.format_query",
         "signature": "def format_query(self, query: str):\n        # Function to format the query to be used in the fulltext index",
         "text": "def format_query(self, query: str):\n        # Function to format the query to be used in the fulltext index\n        special_characters = [\n            \"+\",\n            \"-\",\n            \"&&\",\n            \"||\",\n            \"!\",\n            \"(\",\n            \")\",\n            \"{\",\n            \"}\",\n            \"[\",\n            \"]\",\n            \"^\",\n            '\"',\n            \"~\",\n            \"*\",\n            \"?\",\n            \":\",\n            \"\\\\\",\n            \"/\",\n        ]\n        for character in special_characters:\n            query = query.replace(character, f\"\\\\{character}\")\n        return query"
        },
        "scale_factor": 1,
        "size": [
         55,
         55
        ],
        "styles": {},
        "type": "#2196F3"
       },
       {
        "color": "#4CAF50",
        "id": 29,
        "label": "FILE",
        "position": [
         0,
         0
        ],
        "properties": {
         "function_calls": [
          "Neo4jManager",
          "GraphConstructor",
          "GraphConstructor.build_graph",
          "Neo4jManager.close"
         ],
         "label": "FILE",
         "name": "run",
         "node_id": "f4474426-cb57-4306-a8cc-df70c3ca9e66",
         "path": "blar-example-repos.debugger_agent.run",
         "text": "from blar_graph.graph_construction.graph_builder import GraphConstructor\nfrom blar_graph.graph_construction.neo4j_manager import Neo4jManager\n\ngraph_manager = Neo4jManager()\ngraph_constructor = GraphConstructor(graph_manager)\ngraph_constructor.build_graph(\"src\", \"python\")\ngraph_manager.close()"
        },
        "scale_factor": 1,
        "size": [
         55,
         55
        ],
        "styles": {},
        "type": "#4CAF50"
       },
       {
        "color": "#2196F3",
        "id": 52,
        "label": "FUNCTION",
        "position": [
         0,
         0
        ],
        "properties": {
         "file_node_id": "86edc4f6-2ca9-462b-951b-22e57653d6ec",
         "function_calls": [
          "get_function_name",
          "reversed",
          "func_name.replace.replace"
         ],
         "label": "FUNCTION",
         "name": "parse_function_call",
         "node_id": "4a966120-ac9e-4f14-8b94-7c1f2d2ee555",
         "path": "blar-example-repos.debugger_agent.utils.tree_parser.parse_function_call",
         "signature": "def parse_function_call(func_call: str, inclusive_scopes) -> tuple[str, int]:",
         "text": "def parse_function_call(func_call: str, inclusive_scopes) -> tuple[str, int]:\n    func_name = get_function_name(func_call)\n\n    if func_name:\n        if \"self.\" in func_name:\n            for parent in reversed(inclusive_scopes[:-1]):\n                if parent[\"type\"] == \"class_definition\":\n                    func_name = func_name.replace(\"self.\", parent[\"name\"] + \".\")\n                    break\n\n        return func_name\n\n    return None"
        },
        "scale_factor": 1,
        "size": [
         55,
         55
        ],
        "styles": {},
        "type": "#2196F3"
       },
       {
        "color": "#2196F3",
        "id": 42,
        "label": "FUNCTION",
        "position": [
         0,
         0
        ],
        "properties": {
         "file_node_id": "86edc4f6-2ca9-462b-951b-22e57653d6ec",
         "function_calls": [
          "re.match",
          "re.match.group"
         ],
         "label": "FUNCTION",
         "name": "get_function_name",
         "node_id": "d971150f-9075-4a95-83ba-de2c692240a4",
         "path": "blar-example-repos.debugger_agent.utils.tree_parser.get_function_name",
         "signature": "def get_function_name(call_str):",
         "text": "def get_function_name(call_str):\n    match = re.match(r\"([a-zA-Z_][\\w\\.]*)\\s*\\(\", call_str)\n    if match:\n        return match.group(1)  # Return the captured function name\n    else:\n        return None  # No function name found"
        },
        "scale_factor": 1,
        "size": [
         55,
         55
        ],
        "styles": {},
        "type": "#2196F3"
       },
       {
        "color": "#2196F3",
        "id": 156,
        "label": "FUNCTION",
        "position": [
         0,
         0
        ],
        "properties": {
         "file_node_id": "868679fa-944a-4d38-b170-567546919777",
         "function_calls": [
          "re.match",
          "re.match.group"
         ],
         "label": "FUNCTION",
         "name": "get_function_name",
         "node_id": "a9512788-616b-449e-8d38-bec04bfcf6b3",
         "path": "blar-example-repos.debugger_agent.utils.tree_parser.get_function_name",
         "signature": "def get_function_name(call_str):",
         "text": "def get_function_name(call_str):\n    match = re.match(r\"([a-zA-Z_][\\w\\.]*)\\s*\\(\", call_str)\n    if match:\n        return match.group(1)  # Return the captured function name\n    else:\n        return None  # No function name found"
        },
        "scale_factor": 1,
        "size": [
         55,
         55
        ],
        "styles": {},
        "type": "#2196F3"
       },
       {
        "color": "#2196F3",
        "id": 53,
        "label": "FUNCTION",
        "position": [
         0,
         0
        ],
        "properties": {
         "file_node_id": "86edc4f6-2ca9-462b-951b-22e57653d6ec",
         "function_calls": [
          "tree_sitter_languages.get_parser",
          "tree_sitter_languages.get_parser.parse",
          "bytes",
          "map",
          "traverse_tree",
          "variable_identifier.text.decode",
          "root_caller.text.decode",
          "function_calls.append",
          "function_calls.append",
          "tree_node.text.decode",
          "map",
          "parse_function_call",
          "filter",
          "list"
         ],
         "label": "FUNCTION",
         "name": "get_function_calls",
         "node_id": "00542350-6c89-4081-b335-b8b9e20a9349",
         "path": "blar-example-repos.debugger_agent.utils.tree_parser.get_function_calls",
         "signature": "def get_function_calls(node, assigments_dict: dict) -> list[str]:",
         "text": "def get_function_calls(node, assigments_dict: dict) -> list[str]:\n    code_text = node.text\n\n    parser = tree_sitter_languages.get_parser(\"python\")\n    tree = parser.parse(bytes(code_text, \"utf-8\"))\n    node_names = map(lambda node: node, traverse_tree(tree))\n\n    function_calls = []\n\n    for tree_node in node_names:\n        if tree_node.type == \"expression_statement\":\n            statement_children = tree_node.children\n            if statement_children[0].type == \"assignment\":\n                assigment = statement_children[0].named_children\n\n                variable_identifier = assigment[0]\n                assign_value = assigment[1]\n                if assign_value.type == \"call\":\n                    expression = assign_value\n                    expression_identifier = expression.named_children[0].text.decode()\n\n                    assigments_dict[variable_identifier.text.decode(\"utf-8\")] = (\n                        expression_identifier\n                    )\n\n        if tree_node.type == \"call\":\n            call_children = tree_node.named_children\n            if (\n                call_children[0].type == \"attribute\"\n                and call_children[1].type == \"argument_list\"\n            ):\n                attribute_children = call_children[0].named_children\n                root_caller = attribute_children[0]\n                if root_caller.type == \"identifier\":\n                    root_caller_identifier = root_caller.text.decode(\"utf-8\")\n                    if root_caller_identifier in assigments_dict:\n                        function_calls.append(\n                            assigments_dict[root_caller_identifier]\n                            + \".\"\n                            + attribute_children[1].text.decode(\"utf-8\")\n                            + \"()\"\n                        )\n                        continue\n            function_calls.append(tree_node.text.decode(\"utf-8\"))\n\n    parsed_function_calls = map(\n        lambda x: parse_function_call(x, node.metadata[\"inclusive_scopes\"]),\n        function_calls,\n    )\n\n    filtered_calls = filter(lambda x: x is not None, parsed_function_calls)\n    return list(filtered_calls)"
        },
        "scale_factor": 1,
        "size": [
         55,
         55
        ],
        "styles": {},
        "type": "#2196F3"
       },
       {
        "color": "#2196F3",
        "id": 154,
        "label": "FUNCTION",
        "position": [
         0,
         0
        ],
        "properties": {
         "file_node_id": "868679fa-944a-4d38-b170-567546919777",
         "function_calls": [
          "tree.walk",
          "tree.walk.goto_first_child",
          "tree.walk.goto_next_sibling",
          "tree.walk.goto_parent"
         ],
         "label": "FUNCTION",
         "name": "traverse_tree",
         "node_id": "2440d812-e035-4e93-8cc4-f19b7f9271f9",
         "path": "blar-example-repos.debugger_agent.utils.tree_parser.traverse_tree",
         "signature": "def traverse_tree(tree):",
         "text": "def traverse_tree(tree):\n    cursor = tree.walk()\n    visited_children = False\n    while True:\n        if not visited_children:\n            yield cursor.node\n            if not cursor.goto_first_child():\n                visited_children = True\n        elif cursor.goto_next_sibling():\n            visited_children = False\n        elif not cursor.goto_parent():\n            break"
        },
        "scale_factor": 1,
        "size": [
         55,
         55
        ],
        "styles": {},
        "type": "#2196F3"
       },
       {
        "color": "#2196F3",
        "id": 157,
        "label": "FUNCTION",
        "position": [
         0,
         0
        ],
        "properties": {
         "file_node_id": "868679fa-944a-4d38-b170-567546919777",
         "function_calls": [
          "get_function_name",
          "reversed",
          "func_name.replace.replace"
         ],
         "label": "FUNCTION",
         "name": "parse_function_call",
         "node_id": "49f5dd18-8141-4049-aac0-bc81d1d4b0b5",
         "path": "blar-example-repos.debugger_agent.utils.tree_parser.parse_function_call",
         "signature": "def parse_function_call(func_call: str, inclusive_scopes) -> tuple[str, int]:",
         "text": "def parse_function_call(func_call: str, inclusive_scopes) -> tuple[str, int]:\n    func_name = get_function_name(func_call)\n\n    if func_name:\n        if \"self.\" in func_name:\n            for parent in reversed(inclusive_scopes[:-1]):\n                if parent[\"type\"] == \"class_definition\":\n                    func_name = func_name.replace(\"self.\", parent[\"name\"] + \".\")\n                    break\n\n        return func_name\n\n    return None"
        },
        "scale_factor": 1,
        "size": [
         55,
         55
        ],
        "styles": {},
        "type": "#2196F3"
       },
       {
        "color": "#2196F3",
        "id": 288,
        "label": "FUNCTION",
        "position": [
         0,
         0
        ],
        "properties": {
         "file_node_id": "86edc4f6-2ca9-462b-951b-22e57653d6ec",
         "function_calls": [
          "tree.walk",
          "tree.walk.goto_first_child",
          "tree.walk.goto_next_sibling",
          "tree.walk.goto_parent"
         ],
         "label": "FUNCTION",
         "name": "traverse_tree",
         "node_id": "48bc233d-4107-47d4-bc28-9a0795b07aad",
         "path": "blar-example-repos.debugger_agent.utils.tree_parser.traverse_tree",
         "signature": "def traverse_tree(tree):",
         "text": "def traverse_tree(tree):\n    cursor = tree.walk()\n    visited_children = False\n    while True:\n        if not visited_children:\n            yield cursor.node\n            if not cursor.goto_first_child():\n                visited_children = True\n        elif cursor.goto_next_sibling():\n            visited_children = False\n        elif not cursor.goto_parent():\n            break"
        },
        "scale_factor": 1,
        "size": [
         55,
         55
        ],
        "styles": {},
        "type": "#2196F3"
       },
       {
        "color": "#2196F3",
        "id": 55,
        "label": "FUNCTION",
        "position": [
         0,
         0
        ],
        "properties": {
         "file_node_id": "86edc4f6-2ca9-462b-951b-22e57653d6ec",
         "function_calls": [
          "module_name.split",
          "current_dir.startswith",
          "os.path.join",
          "os.path.exists",
          "is_package",
          "os.path.join.replace",
          "os.path.dirname"
         ],
         "label": "FUNCTION",
         "name": "find_module_path",
         "node_id": "b9966e4e-c77b-4855-a4b5-a5f3bae8b0cd",
         "path": "blar-example-repos.debugger_agent.utils.tree_parser.find_module_path",
         "signature": "def find_module_path(module_name, start_dir, project_root):",
         "text": "def find_module_path(module_name, start_dir, project_root):\n    current_dir = start_dir\n    components = module_name.split(\".\")\n\n    # Try to find the module by traversing up towards the root until the module path is found or root is reached\n    while current_dir.startswith(project_root):\n        possible_path = os.path.join(current_dir, *components)\n        # Check for a direct module or package\n        if os.path.exists(possible_path + \".py\") or is_package(possible_path):\n            return possible_path.replace(\"/\", \".\")\n        # Move one directory up\n        current_dir = os.path.dirname(current_dir)\n    return None"
        },
        "scale_factor": 1,
        "size": [
         55,
         55
        ],
        "styles": {},
        "type": "#2196F3"
       },
       {
        "color": "#2196F3",
        "id": 54,
        "label": "FUNCTION",
        "position": [
         0,
         0
        ],
        "properties": {
         "file_node_id": "86edc4f6-2ca9-462b-951b-22e57653d6ec",
         "function_calls": [
          "os.path.exists",
          "os.path.join"
         ],
         "label": "FUNCTION",
         "name": "is_package",
         "node_id": "8b818795-e841-4676-9595-4dc75165d893",
         "path": "blar-example-repos.debugger_agent.utils.tree_parser.is_package",
         "signature": "def is_package(directory):",
         "text": "def is_package(directory):\n    return os.path.exists(os.path.join(directory, \"__init__.py\"))"
        },
        "scale_factor": 1,
        "size": [
         55,
         55
        ],
        "styles": {},
        "type": "#2196F3"
       },
       {
        "color": "#2196F3",
        "id": 159,
        "label": "FUNCTION",
        "position": [
         0,
         0
        ],
        "properties": {
         "file_node_id": "868679fa-944a-4d38-b170-567546919777",
         "function_calls": [
          "os.path.exists",
          "os.path.join"
         ],
         "label": "FUNCTION",
         "name": "is_package",
         "node_id": "b171a248-0871-4ed9-bc30-f5a7c583dcb7",
         "path": "blar-example-repos.debugger_agent.utils.tree_parser.is_package",
         "signature": "def is_package(directory):",
         "text": "def is_package(directory):\n    return os.path.exists(os.path.join(directory, \"__init__.py\"))"
        },
        "scale_factor": 1,
        "size": [
         55,
         55
        ],
        "styles": {},
        "type": "#2196F3"
       },
       {
        "color": "#2196F3",
        "id": 60,
        "label": "FUNCTION",
        "position": [
         0,
         0
        ],
        "properties": {
         "file_node_id": "4aca9dcd-43f2-44ee-9fd0-d261e9a84ee4",
         "function_calls": [
          "tree_parser.get_function_calls",
          "format_nodes.format_function_node",
          "format_nodes.format_class_node",
          "tree_parser.get_function_calls",
          "format_nodes.format_file_node",
          "node.relationships.items",
          "relationships.append",
          "GraphFileParser.RELATIONS_TYPES_MAP.get",
          "GraphFileParser.visited_nodes.get",
          "GraphFileParser.visited_nodes.get",
          "no_extension_path.replace"
         ],
         "label": "FUNCTION",
         "name": "__process_node__",
         "node_id": "4a0cc08a-0901-452c-9b52-b4b8fa4ddb2a",
         "path": "blar-example-repos.debugger_agent.graph_construction.graph_file_parser.GraphFileParser.__process_node__",
         "signature": "def __process_node__(\n        self, node: BaseNode, no_extension_path: str, file_node_id: str\n    ):",
         "text": "def __process_node__(\n        self, node: BaseNode, no_extension_path: str, file_node_id: str\n    ):\n        relationships = []\n        asignments_dict = {}\n        scope = (\n            node.metadata[\"inclusive_scopes\"][-1]\n            if node.metadata[\"inclusive_scopes\"]\n            else None\n        )\n        type_node = \"file\"\n        if scope:\n            type_node = scope[\"type\"]\n\n        if type_node == \"function_definition\":\n            function_calls = tree_parser.get_function_calls(node, asignments_dict)\n            processed_node = format_nodes.format_function_node(\n                node, scope, function_calls, file_node_id\n            )\n        elif type_node == \"class_definition\":\n            processed_node = format_nodes.format_class_node(node, scope, file_node_id)\n        else:\n            function_calls = tree_parser.get_function_calls(node, asignments_dict)\n            processed_node = format_nodes.format_file_node(\n                node, no_extension_path, function_calls\n            )\n\n        for relation in node.relationships.items():\n            if relation[0] == NodeRelationship.CHILD:\n                for child in relation[1]:\n                    relation_type = (\n                        child.metadata[\"inclusive_scopes\"][-1][\"type\"]\n                        if child.metadata[\"inclusive_scopes\"]\n                        else \"\"\n                    )\n                    relationships.append(\n                        {\n                            \"sourceId\": node.node_id,\n                            \"targetId\": child.node_id,\n                            \"type\": self.RELATIONS_TYPES_MAP.get(\n                                relation_type, \"UNKNOWN\"\n                            ),\n                        }\n                    )\n            elif relation[0] == NodeRelationship.PARENT:\n                if relation[1]:\n                    parent_path = self.visited_nodes.get(\n                        relation[1].node_id, no_extension_path\n                    ).replace(\"/\", \".\")\n                    node_path = f\"{parent_path}.{processed_node['attributes']['name']}\"\n                else:\n                    node_path = no_extension_path.replace(\"/\", \".\")\n        processed_node[\"attributes\"][\"path\"] = node_path\n        self.global_imports[node_path] = {\n            \"id\": processed_node[\"attributes\"][\"node_id\"],\n            \"type\": processed_node[\"type\"],\n        }\n        self.visited_nodes[node.node_id] = node_path\n        return processed_node, relationships"
        },
        "scale_factor": 1,
        "size": [
         55,
         55
        ],
        "styles": {},
        "type": "#2196F3"
       },
       {
        "color": "#2196F3",
        "id": 186,
        "label": "FUNCTION",
        "position": [
         0,
         0
        ],
        "properties": {
         "file_node_id": "4aca9dcd-43f2-44ee-9fd0-d261e9a84ee4",
         "function_calls": [
          "Path",
          "Path.exists",
          "print",
          "SimpleDirectoryReader",
          "SimpleDirectoryReader",
          "CodeHierarchyNodeParser",
          "CodeSplitter",
          "GraphFileParser.file_path.replace",
          "CodeHierarchyNodeParser.get_nodes_from_documents",
          "GraphFileParser.__process_node__",
          "code.get_nodes_from_documents.pop",
          "os.path.basename",
          "node_list.append",
          "edges_list.extend",
          "GraphFileParser.__process_node__",
          "node_list.append",
          "edges_list.extend",
          "GraphFileParser._get_imports",
          "str"
         ],
         "label": "FUNCTION",
         "name": "parse",
         "node_id": "dc82e7bb-0128-4c63-bfc8-ccbbc568a289",
         "path": "blar-example-repos.debugger_agent.graph_construction.graph_file_parser.GraphFileParser.parse",
         "signature": "def parse(self):",
         "text": "def parse(self):\n        path = Path(self.file_path)\n        if not path.exists():\n            print(f\"File {self.file_path} does not exist.\")\n            return\n        documents = SimpleDirectoryReader(\n            input_files=[path],\n            file_metadata=lambda x: {\"filepath\": x},\n        ).load_data()\n\n        code = CodeHierarchyNodeParser(\n            language=self.language,\n            chunk_min_characters=3,\n            code_splitter=CodeSplitter(\n                language=self.language, max_chars=10000, chunk_lines=10\n            ),\n        )\n        no_extension_path = self.file_path.replace(\".py\", \"\")\n\n        split_nodes = code.get_nodes_from_documents(documents)\n        node_list = []\n        edges_list = []\n\n        file_node, file_relations = self.__process_node__(\n            split_nodes.pop(0), no_extension_path, \"\"\n        )\n        file_node[\"directory\"] = self.directory_path\n        file_node[\"name\"] = os.path.basename(self.file_path)\n        node_list.append(file_node)\n        edges_list.extend(file_relations)\n\n        for node in split_nodes:\n            processed_node, relationships = self.__process_node__(\n                node, no_extension_path, file_node[\"attributes\"][\"node_id\"]\n            )\n            node_list.append(processed_node)\n            edges_list.extend(relationships)\n\n        imports = self._get_imports(str(path), node_list[0][\"attributes\"][\"node_id\"])\n\n        return node_list, edges_list, imports"
        },
        "scale_factor": 1,
        "size": [
         55,
         55
        ],
        "styles": {},
        "type": "#2196F3"
       },
       {
        "color": "#2196F3",
        "id": 187,
        "label": "FUNCTION",
        "position": [
         0,
         0
        ],
        "properties": {
         "file_node_id": "4aca9dcd-43f2-44ee-9fd0-d261e9a84ee4",
         "function_calls": [
          "tree_parser.get_function_calls",
          "format_nodes.format_function_node",
          "format_nodes.format_class_node",
          "tree_parser.get_function_calls",
          "format_nodes.format_file_node",
          "node.relationships.items",
          "relationships.append",
          "GraphFileParser.RELATIONS_TYPES_MAP.get",
          "GraphFileParser.visited_nodes.get",
          "GraphFileParser.visited_nodes.get",
          "no_extension_path.replace"
         ],
         "label": "FUNCTION",
         "name": "__process_node__",
         "node_id": "4a0cc08a-0901-452c-9b52-b4b8fa4ddb2a",
         "path": "blar-example-repos.debugger_agent.graph_construction.graph_file_parser.GraphFileParser.__process_node__",
         "signature": "def __process_node__(\n        self, node: BaseNode, no_extension_path: str, file_node_id: str\n    ):",
         "text": "def __process_node__(\n        self, node: BaseNode, no_extension_path: str, file_node_id: str\n    ):\n        relationships = []\n        asignments_dict = {}\n        scope = (\n            node.metadata[\"inclusive_scopes\"][-1]\n            if node.metadata[\"inclusive_scopes\"]\n            else None\n        )\n        type_node = \"file\"\n        if scope:\n            type_node = scope[\"type\"]\n\n        if type_node == \"function_definition\":\n            function_calls = tree_parser.get_function_calls(node, asignments_dict)\n            processed_node = format_nodes.format_function_node(\n                node, scope, function_calls, file_node_id\n            )\n        elif type_node == \"class_definition\":\n            processed_node = format_nodes.format_class_node(node, scope, file_node_id)\n        else:\n            function_calls = tree_parser.get_function_calls(node, asignments_dict)\n            processed_node = format_nodes.format_file_node(\n                node, no_extension_path, function_calls\n            )\n\n        for relation in node.relationships.items():\n            if relation[0] == NodeRelationship.CHILD:\n                for child in relation[1]:\n                    relation_type = (\n                        child.metadata[\"inclusive_scopes\"][-1][\"type\"]\n                        if child.metadata[\"inclusive_scopes\"]\n                        else \"\"\n                    )\n                    relationships.append(\n                        {\n                            \"sourceId\": node.node_id,\n                            \"targetId\": child.node_id,\n                            \"type\": self.RELATIONS_TYPES_MAP.get(\n                                relation_type, \"UNKNOWN\"\n                            ),\n                        }\n                    )\n            elif relation[0] == NodeRelationship.PARENT:\n                if relation[1]:\n                    parent_path = self.visited_nodes.get(\n                        relation[1].node_id, no_extension_path\n                    ).replace(\"/\", \".\")\n                    node_path = f\"{parent_path}.{processed_node['attributes']['name']}\"\n                else:\n                    node_path = no_extension_path.replace(\"/\", \".\")\n        processed_node[\"attributes\"][\"path\"] = node_path\n        self.global_imports[node_path] = {\n            \"id\": processed_node[\"attributes\"][\"node_id\"],\n            \"type\": processed_node[\"type\"],\n        }\n        self.visited_nodes[node.node_id] = node_path\n        return processed_node, relationships"
        },
        "scale_factor": 1,
        "size": [
         55,
         55
        ],
        "styles": {},
        "type": "#2196F3"
       },
       {
        "color": "#2196F3",
        "id": 190,
        "label": "FUNCTION",
        "position": [
         0,
         0
        ],
        "properties": {
         "file_node_id": "4aca9dcd-43f2-44ee-9fd0-d261e9a84ee4",
         "function_calls": [
          "tree_sitter_languages.get_parser",
          "open",
          "file.read",
          "tree_sitter_languages.get_parser.parse",
          "bytes",
          "from_statement.text.decode",
          "import_statement.text.decode",
          "tree_parser.resolve_import_path",
          "import_statement.text.decode"
         ],
         "label": "FUNCTION",
         "name": "_get_imports",
         "node_id": "7f1e9fb0-6252-4fc6-aee1-2d4d921ef068",
         "path": "blar-example-repos.debugger_agent.graph_construction.graph_file_parser.GraphFileParser._get_imports",
         "signature": "def _get_imports(self, path: str, file_node_id: str) -> dict:",
         "text": "def _get_imports(self, path: str, file_node_id: str) -> dict:\n        parser = tree_sitter_languages.get_parser(\"python\")\n        with open(path, \"r\") as file:\n            code = file.read()\n        tree = parser.parse(bytes(code, \"utf-8\"))\n\n        imports = {}\n        for node in tree.root_node.children:\n            if node.type == \"import_from_statement\":\n                import_statements = node.named_children\n\n                from_statement = import_statements[0]\n                from_text = from_statement.text.decode()\n                for import_statement in import_statements[1:]:\n                    imports[import_statement.text.decode()] = (\n                        tree_parser.resolve_import_path(from_text, path, self.root_path)\n                    )\n\n            elif node.type == \"import_statement\":\n                import_statement = node.named_children[0]\n                imports[\"global\"] = import_statement.text.decode()\n\n        return {file_node_id: imports}"
        },
        "scale_factor": 1,
        "size": [
         55,
         55
        ],
        "styles": {},
        "type": "#2196F3"
       },
       {
        "color": "#2196F3",
        "id": 306,
        "label": "FUNCTION",
        "position": [
         0,
         0
        ],
        "properties": {
         "file_node_id": "4aca9dcd-43f2-44ee-9fd0-d261e9a84ee4",
         "function_calls": [
          "tree_sitter_languages.get_parser",
          "open",
          "file.read",
          "tree_sitter_languages.get_parser.parse",
          "bytes",
          "from_statement.text.decode",
          "import_statement.text.decode",
          "tree_parser.resolve_import_path",
          "import_statement.text.decode"
         ],
         "label": "FUNCTION",
         "name": "_get_imports",
         "node_id": "7f1e9fb0-6252-4fc6-aee1-2d4d921ef068",
         "path": "blar-example-repos.debugger_agent.graph_construction.graph_file_parser.GraphFileParser._get_imports",
         "signature": "def _get_imports(self, path: str, file_node_id: str) -> dict:",
         "text": "def _get_imports(self, path: str, file_node_id: str) -> dict:\n        parser = tree_sitter_languages.get_parser(\"python\")\n        with open(path, \"r\") as file:\n            code = file.read()\n        tree = parser.parse(bytes(code, \"utf-8\"))\n\n        imports = {}\n        for node in tree.root_node.children:\n            if node.type == \"import_from_statement\":\n                import_statements = node.named_children\n\n                from_statement = import_statements[0]\n                from_text = from_statement.text.decode()\n                for import_statement in import_statements[1:]:\n                    imports[import_statement.text.decode()] = (\n                        tree_parser.resolve_import_path(from_text, path, self.root_path)\n                    )\n\n            elif node.type == \"import_statement\":\n                import_statement = node.named_children[0]\n                imports[\"global\"] = import_statement.text.decode()\n\n        return {file_node_id: imports}"
        },
        "scale_factor": 1,
        "size": [
         55,
         55
        ],
        "styles": {},
        "type": "#2196F3"
       },
       {
        "color": "#2196F3",
        "id": 312,
        "label": "FUNCTION",
        "position": [
         0,
         0
        ],
        "properties": {
         "file_node_id": "4aca9dcd-43f2-44ee-9fd0-d261e9a84ee4",
         "function_calls": [],
         "label": "FUNCTION",
         "name": "__init__",
         "node_id": "b0b6cea3-bc27-48c3-8733-9dc6983d36b1",
         "path": "blar-example-repos.debugger_agent.graph_construction.graph_file_parser.GraphFileParser.__init__",
         "signature": "def __init__(\n        self,\n        file_path: str,\n        root_path: str,\n        language: str,\n        directory_path: str,\n        visited_nodes: dict,\n        global_imports: dict,\n    ):",
         "text": "def __init__(\n        self,\n        file_path: str,\n        root_path: str,\n        language: str,\n        directory_path: str,\n        visited_nodes: dict,\n        global_imports: dict,\n    ):\n        self.file_path = file_path\n        self.language = language\n        self.directory_path = directory_path\n        self.visited_nodes = visited_nodes\n        self.global_imports = global_imports\n        self.root_path = root_path"
        },
        "scale_factor": 1,
        "size": [
         55,
         55
        ],
        "styles": {},
        "type": "#2196F3"
       },
       {
        "color": "#2196F3",
        "id": 314,
        "label": "FUNCTION",
        "position": [
         0,
         0
        ],
        "properties": {
         "file_node_id": "4aca9dcd-43f2-44ee-9fd0-d261e9a84ee4",
         "function_calls": [],
         "label": "FUNCTION",
         "name": "__init__",
         "node_id": "b0b6cea3-bc27-48c3-8733-9dc6983d36b1",
         "path": "blar-example-repos.debugger_agent.graph_construction.graph_file_parser.GraphFileParser.__init__",
         "signature": "def __init__(\n        self,\n        file_path: str,\n        root_path: str,\n        language: str,\n        directory_path: str,\n        visited_nodes: dict,\n        global_imports: dict,\n    ):",
         "text": "def __init__(\n        self,\n        file_path: str,\n        root_path: str,\n        language: str,\n        directory_path: str,\n        visited_nodes: dict,\n        global_imports: dict,\n    ):\n        self.file_path = file_path\n        self.language = language\n        self.directory_path = directory_path\n        self.visited_nodes = visited_nodes\n        self.global_imports = global_imports\n        self.root_path = root_path"
        },
        "scale_factor": 1,
        "size": [
         55,
         55
        ],
        "styles": {},
        "type": "#2196F3"
       },
       {
        "color": "#2196F3",
        "id": 315,
        "label": "FUNCTION",
        "position": [
         0,
         0
        ],
        "properties": {
         "file_node_id": "4aca9dcd-43f2-44ee-9fd0-d261e9a84ee4",
         "function_calls": [
          "Path",
          "Path.exists",
          "print",
          "SimpleDirectoryReader",
          "SimpleDirectoryReader",
          "CodeHierarchyNodeParser",
          "CodeSplitter",
          "GraphFileParser.file_path.replace",
          "CodeHierarchyNodeParser.get_nodes_from_documents",
          "GraphFileParser.__process_node__",
          "code.get_nodes_from_documents.pop",
          "os.path.basename",
          "node_list.append",
          "edges_list.extend",
          "GraphFileParser.__process_node__",
          "node_list.append",
          "edges_list.extend",
          "GraphFileParser._get_imports",
          "str"
         ],
         "label": "FUNCTION",
         "name": "parse",
         "node_id": "dc82e7bb-0128-4c63-bfc8-ccbbc568a289",
         "path": "blar-example-repos.debugger_agent.graph_construction.graph_file_parser.GraphFileParser.parse",
         "signature": "def parse(self):",
         "text": "def parse(self):\n        path = Path(self.file_path)\n        if not path.exists():\n            print(f\"File {self.file_path} does not exist.\")\n            return\n        documents = SimpleDirectoryReader(\n            input_files=[path],\n            file_metadata=lambda x: {\"filepath\": x},\n        ).load_data()\n\n        code = CodeHierarchyNodeParser(\n            language=self.language,\n            chunk_min_characters=3,\n            code_splitter=CodeSplitter(\n                language=self.language, max_chars=10000, chunk_lines=10\n            ),\n        )\n        no_extension_path = self.file_path.replace(\".py\", \"\")\n\n        split_nodes = code.get_nodes_from_documents(documents)\n        node_list = []\n        edges_list = []\n\n        file_node, file_relations = self.__process_node__(\n            split_nodes.pop(0), no_extension_path, \"\"\n        )\n        file_node[\"directory\"] = self.directory_path\n        file_node[\"name\"] = os.path.basename(self.file_path)\n        node_list.append(file_node)\n        edges_list.extend(file_relations)\n\n        for node in split_nodes:\n            processed_node, relationships = self.__process_node__(\n                node, no_extension_path, file_node[\"attributes\"][\"node_id\"]\n            )\n            node_list.append(processed_node)\n            edges_list.extend(relationships)\n\n        imports = self._get_imports(str(path), node_list[0][\"attributes\"][\"node_id\"])\n\n        return node_list, edges_list, imports"
        },
        "scale_factor": 1,
        "size": [
         55,
         55
        ],
        "styles": {},
        "type": "#2196F3"
       },
       {
        "color": "#2196F3",
        "id": 64,
        "label": "FUNCTION",
        "position": [
         0,
         0
        ],
        "properties": {
         "file_node_id": "c52f04f0-08af-49c2-9af5-b2e28277fc0e",
         "function_calls": [
          "os.getenv",
          "os.getenv",
          "os.getenv",
          "GraphDatabase.driver",
          "Neo4jManager.create_function_name_index"
         ],
         "label": "FUNCTION",
         "name": "__init__",
         "node_id": "e2fb7911-3197-41e9-9858-94bc97efb52a",
         "path": "blar-example-repos.debugger_agent.graph_construction.neo4j_manager.Neo4jManager.__init__",
         "signature": "def __init__(self):",
         "text": "def __init__(self):\n        uri = os.getenv(\"NEO4J_URI\")\n        user = os.getenv(\"NEO4J_USERNAME\")\n        password = os.getenv(\"NEO4J_PASSWORD\")\n\n        self.driver = GraphDatabase.driver(uri, auth=(user, password))\n        self.create_function_name_index()"
        },
        "scale_factor": 1,
        "size": [
         55,
         55
        ],
        "styles": {},
        "type": "#2196F3"
       },
       {
        "color": "#2196F3",
        "id": 73,
        "label": "FUNCTION",
        "position": [
         0,
         0
        ],
        "properties": {
         "file_node_id": "c52f04f0-08af-49c2-9af5-b2e28277fc0e",
         "function_calls": [
          "Neo4jManager.driver.session",
          "session.run"
         ],
         "label": "FUNCTION",
         "name": "create_function_name_index",
         "node_id": "d3f5f7ba-f201-40bb-840d-6a20d7902bf7",
         "path": "blar-example-repos.debugger_agent.graph_construction.neo4j_manager.Neo4jManager.create_function_name_index",
         "signature": "def create_function_name_index(self):\n        # Creates a fulltext index on the name and path properties of the nodes",
         "text": "def create_function_name_index(self):\n        # Creates a fulltext index on the name and path properties of the nodes\n        with self.driver.session() as session:\n            node_query = \"\"\"\n            CREATE FULLTEXT INDEX functionNames IF NOT EXISTS FOR (n:CLASS|FUNCTION|FILE_ROOT) ON EACH [n.name, n.path, n.node_id]\n            \"\"\"\n            session.run(node_query)"
        },
        "scale_factor": 1,
        "size": [
         55,
         55
        ],
        "styles": {},
        "type": "#2196F3"
       },
       {
        "color": "#2196F3",
        "id": 193,
        "label": "FUNCTION",
        "position": [
         0,
         0
        ],
        "properties": {
         "file_node_id": "c52f04f0-08af-49c2-9af5-b2e28277fc0e",
         "function_calls": [
          "Neo4jManager.driver.session",
          "session.run"
         ],
         "label": "FUNCTION",
         "name": "create_function_name_index",
         "node_id": "d3f5f7ba-f201-40bb-840d-6a20d7902bf7",
         "path": "blar-example-repos.debugger_agent.graph_construction.neo4j_manager.Neo4jManager.create_function_name_index",
         "signature": "def create_function_name_index(self):\n        # Creates a fulltext index on the name and path properties of the nodes",
         "text": "def create_function_name_index(self):\n        # Creates a fulltext index on the name and path properties of the nodes\n        with self.driver.session() as session:\n            node_query = \"\"\"\n            CREATE FULLTEXT INDEX functionNames IF NOT EXISTS FOR (n:CLASS|FUNCTION|FILE_ROOT) ON EACH [n.name, n.path, n.node_id]\n            \"\"\"\n            session.run(node_query)"
        },
        "scale_factor": 1,
        "size": [
         55,
         55
        ],
        "styles": {},
        "type": "#2196F3"
       },
       {
        "color": "#2196F3",
        "id": 273,
        "label": "FUNCTION",
        "position": [
         0,
         0
        ],
        "properties": {
         "file_node_id": "25b2b132-e7f2-4076-9338-a202c03e1c3c",
         "function_calls": [
          "Neo4jManager.driver.session",
          "session.run"
         ],
         "label": "FUNCTION",
         "name": "create_function_name_index",
         "node_id": "f26bed9f-0a6d-4145-a0a2-360cf073ba87",
         "path": "blar-example-repos.debugger_agent.graph_construction.neo4j_manager.Neo4jManager.create_function_name_index",
         "signature": "def create_function_name_index(self):\n        # Creates a fulltext index on the name and path properties of the nodes",
         "text": "def create_function_name_index(self):\n        # Creates a fulltext index on the name and path properties of the nodes\n        with self.driver.session() as session:\n            node_query = \"\"\"\n            CREATE FULLTEXT INDEX functionNames IF NOT EXISTS FOR (n:CLASS|FUNCTION|FILE_ROOT) ON EACH [n.name, n.path, n.node_id]\n            \"\"\"\n            session.run(node_query)"
        },
        "scale_factor": 1,
        "size": [
         55,
         55
        ],
        "styles": {},
        "type": "#2196F3"
       },
       {
        "color": "#2196F3",
        "id": 65,
        "label": "FUNCTION",
        "position": [
         0,
         0
        ],
        "properties": {
         "file_node_id": "c52f04f0-08af-49c2-9af5-b2e28277fc0e",
         "function_calls": [
          "os.getenv",
          "os.getenv",
          "os.getenv",
          "GraphDatabase.driver",
          "Neo4jManager.create_function_name_index"
         ],
         "label": "FUNCTION",
         "name": "__init__",
         "node_id": "e2fb7911-3197-41e9-9858-94bc97efb52a",
         "path": "blar-example-repos.debugger_agent.graph_construction.neo4j_manager.Neo4jManager.__init__",
         "signature": "def __init__(self):",
         "text": "def __init__(self):\n        uri = os.getenv(\"NEO4J_URI\")\n        user = os.getenv(\"NEO4J_USERNAME\")\n        password = os.getenv(\"NEO4J_PASSWORD\")\n\n        self.driver = GraphDatabase.driver(uri, auth=(user, password))\n        self.create_function_name_index()"
        },
        "scale_factor": 1,
        "size": [
         55,
         55
        ],
        "styles": {},
        "type": "#2196F3"
       },
       {
        "color": "#4CAF50",
        "id": 78,
        "label": "FILE",
        "position": [
         0,
         0
        ],
        "properties": {
         "function_calls": [
          "Neo4jManager",
          "GraphConstructor",
          "GraphConstructor.build_graph",
          "Neo4jManager.close"
         ],
         "label": "FILE",
         "name": "run",
         "node_id": "5ea72e77-46e0-4a5d-8cac-037ed8ed925e",
         "path": "blar-example-repos.debugger_agent.run",
         "text": "from blar_graph.graph_construction.graph_builder import GraphConstructor\nfrom blar_graph.graph_construction.neo4j_manager import Neo4jManager\n\ngraph_manager = Neo4jManager()\ngraph_constructor = GraphConstructor(graph_manager)\ngraph_constructor.build_graph(\"src\", \"python\")\ngraph_manager.close()"
        },
        "scale_factor": 1,
        "size": [
         55,
         55
        ],
        "styles": {},
        "type": "#4CAF50"
       },
       {
        "color": "#607D8B",
        "id": 79,
        "label": "PACKAGE",
        "position": [
         0,
         0
        ],
        "properties": {
         "label": "PACKAGE",
         "name": "debugger_agent",
         "node_id": "4237d4d4-9ef7-4e34-84ed-c86a76c3893a",
         "path": "blar-example-repos/debugger_agent/"
        },
        "scale_factor": 1,
        "size": [
         55,
         55
        ],
        "styles": {},
        "type": "#607D8B"
       },
       {
        "color": "#4CAF50",
        "id": 30,
        "label": "FILE",
        "position": [
         0,
         0
        ],
        "properties": {
         "label": "FILE",
         "name": "__init__.py",
         "node_id": "3a621017-6533-457a-ba3c-b901f0574b3b",
         "path": "blar-example-repos/debugger_agent/__init__.py"
        },
        "scale_factor": 1,
        "size": [
         55,
         55
        ],
        "styles": {},
        "type": "#4CAF50"
       },
       {
        "color": "#607D8B",
        "id": 81,
        "label": "PACKAGE",
        "position": [
         0,
         0
        ],
        "properties": {
         "label": "PACKAGE",
         "name": "utils",
         "node_id": "8e0e9913-ac32-44f4-87c8-c5799d80c012",
         "path": "blar-example-repos/debugger_agent/utils/"
        },
        "scale_factor": 1,
        "size": [
         55,
         55
        ],
        "styles": {},
        "type": "#607D8B"
       },
       {
        "color": "#607D8B",
        "id": 256,
        "label": "PACKAGE",
        "position": [
         0,
         0
        ],
        "properties": {
         "label": "PACKAGE",
         "name": "graph_construction",
         "node_id": "92f4cac3-17ed-424f-b7f5-802383c8b47d",
         "path": "blar-example-repos/debugger_agent/graph_construction/"
        },
        "scale_factor": 1,
        "size": [
         55,
         55
        ],
        "styles": {},
        "type": "#607D8B"
       },
       {
        "color": "#4CAF50",
        "id": 209,
        "label": "FILE",
        "position": [
         0,
         0
        ],
        "properties": {
         "function_calls": [],
         "label": "FILE",
         "name": "tree_parser",
         "node_id": "ddc013c0-b079-4427-8091-8786f1027457",
         "path": "blar-example-repos.debugger_agent.utils.tree_parser",
         "text": "import tree_sitter_languages\nimport os\nimport re\n\n\ndef traverse_tree(tree):\n    # Code replaced for brevity. See node_id 6ffc2d5c-2777-4c46-8960-965dcfa019f1\n\n\ndef count_parameters(params_str):\n    # Count parameters considering string literals and ignoring commas within them.\n    # This simplistic approach assumes balanced quotes and no escaped quotes within strings.\n    # Code replaced for brevity. See node_id 938158fb-fcf7-43cb-aa3c-6d2ae7db40c3\n\n\ndef get_function_name(call_str):\n    # Code replaced for brevity. See node_id 897528aa-cc82-45ab-a4fe-6aa62f803b14\n\n\ndef parse_function_call(func_call: str, inclusive_scopes) -> tuple[str, int]:\n    # Code replaced for brevity. See node_id 10e40c74-dd93-489b-9119-55d4e2d6e0ca\n\n\ndef get_function_calls(node, assigments_dict: dict) -> list[str]:\n    # Code replaced for brevity. See node_id 951ea088-d242-494a-962a-7bc9fc30a1f0\n\n\ndef is_package(directory):\n    # Code replaced for brevity. See node_id 083713ac-77f4-4012-8302-31c7ecc6f405\n\n\ndef find_module_path(module_name, start_dir, project_root):\n    # Code replaced for brevity. See node_id d645ccc1-873a-499d-81de-46a193bd4cbb\n\n\ndef resolve_import_path(import_statement, current_file_directory, project_root):\n    # Code replaced for brevity. See node_id 118d4b3f-d8be-48eb-95c3-fb808c8d0b2f"
        },
        "scale_factor": 1,
        "size": [
         55,
         55
        ],
        "styles": {},
        "type": "#4CAF50"
       },
       {
        "color": "#4CAF50",
        "id": 284,
        "label": "FILE",
        "position": [
         0,
         0
        ],
        "properties": {
         "label": "FILE",
         "name": "__init__.py",
         "node_id": "2850e6f4-2071-458d-b9c9-603e7c039f3d",
         "path": "blar-example-repos/debugger_agent/utils/__init__.py"
        },
        "scale_factor": 1,
        "size": [
         55,
         55
        ],
        "styles": {},
        "type": "#4CAF50"
       },
       {
        "color": "#4CAF50",
        "id": 97,
        "label": "FILE",
        "position": [
         0,
         0
        ],
        "properties": {
         "function_calls": [],
         "label": "FILE",
         "name": "format_nodes",
         "node_id": "25b6802b-3873-4e38-bc53-58c23744a6f5",
         "path": "blar-example-repos.debugger_agent.utils.format_nodes",
         "text": "from llama_index.core.schema import BaseNode\nimport os\nimport uuid\n\n\ndef format_function_node(\n    node: BaseNode, scope: dict, function_calls: list[str], file_node_id: str\n) -> dict:\n    # Code replaced for brevity. See node_id f3bb2638-c667-42a7-8a01-743925d4dc6c\n\n\ndef format_class_node(node: BaseNode, scope: dict, file_node_id: str) -> dict:\n    # Code replaced for brevity. See node_id 17ce623f-88a1-4376-ae8f-e4604084e880\n\n\ndef format_file_node(\n    node: BaseNode, no_extension_path: str, function_calls: list[str]\n) -> dict:\n    # Code replaced for brevity. See node_id d6f3efbc-5ccc-4135-b112-48041e598a2c\n\n\ndef format_directory_node(path: str, package: bool) -> dict:\n    # Code replaced for brevity. See node_id 3255de04-0454-4995-9788-47d740ecd755"
        },
        "scale_factor": 1,
        "size": [
         55,
         55
        ],
        "styles": {},
        "type": "#4CAF50"
       },
       {
        "color": "#2196F3",
        "id": 98,
        "label": "FUNCTION",
        "position": [
         0,
         0
        ],
        "properties": {
         "file_node_id": "25b6802b-3873-4e38-bc53-58c23744a6f5",
         "function_calls": [],
         "label": "FUNCTION",
         "name": "format_function_node",
         "node_id": "f3bb2638-c667-42a7-8a01-743925d4dc6c",
         "path": "blar-example-repos.debugger_agent.utils.format_nodes.format_function_node",
         "signature": "def format_function_node(\n    node: BaseNode, scope: dict, function_calls: list[str], file_node_id: str\n) -> dict:",
         "text": "def format_function_node(\n    node: BaseNode, scope: dict, function_calls: list[str], file_node_id: str\n) -> dict:\n    name = scope[\"name\"]\n    signature = scope[\"signature\"]\n\n    processed_node = {\n        \"type\": \"FUNCTION\",\n        \"attributes\": {\n            \"name\": name,\n            \"signature\": signature,\n            \"text\": node.text,\n            \"node_id\": node.node_id,\n            \"function_calls\": function_calls,\n            \"file_node_id\": file_node_id,\n        },\n    }\n\n    return processed_node"
        },
        "scale_factor": 1,
        "size": [
         55,
         55
        ],
        "styles": {},
        "type": "#2196F3"
       },
       {
        "color": "#2196F3",
        "id": 239,
        "label": "FUNCTION",
        "position": [
         0,
         0
        ],
        "properties": {
         "file_node_id": "25b6802b-3873-4e38-bc53-58c23744a6f5",
         "function_calls": [],
         "label": "FUNCTION",
         "name": "format_class_node",
         "node_id": "17ce623f-88a1-4376-ae8f-e4604084e880",
         "path": "blar-example-repos.debugger_agent.utils.format_nodes.format_class_node",
         "signature": "def format_class_node(node: BaseNode, scope: dict, file_node_id: str) -> dict:",
         "text": "def format_class_node(node: BaseNode, scope: dict, file_node_id: str) -> dict:\n    name = scope[\"name\"]\n    signature = scope[\"signature\"]\n\n    processed_node = {\n        \"type\": \"CLASS\",\n        \"attributes\": {\n            \"name\": name,\n            \"signature\": signature,\n            \"text\": node.text,\n            \"node_id\": node.node_id,\n            \"file_node_id\": file_node_id,\n        },\n    }\n\n    return processed_node"
        },
        "scale_factor": 1,
        "size": [
         55,
         55
        ],
        "styles": {},
        "type": "#2196F3"
       },
       {
        "color": "#2196F3",
        "id": 240,
        "label": "FUNCTION",
        "position": [
         0,
         0
        ],
        "properties": {
         "file_node_id": "25b6802b-3873-4e38-bc53-58c23744a6f5",
         "function_calls": [
          "os.path.basename"
         ],
         "label": "FUNCTION",
         "name": "format_file_node",
         "node_id": "d6f3efbc-5ccc-4135-b112-48041e598a2c",
         "path": "blar-example-repos.debugger_agent.utils.format_nodes.format_file_node",
         "signature": "def format_file_node(\n    node: BaseNode, no_extension_path: str, function_calls: list[str]\n) -> dict:",
         "text": "def format_file_node(\n    node: BaseNode, no_extension_path: str, function_calls: list[str]\n) -> dict:\n    processed_node = {\n        \"type\": \"FILE\",\n        \"attributes\": {\n            \"text\": node.text,\n            \"node_id\": node.node_id,\n            \"function_calls\": function_calls,\n            \"name\": os.path.basename(no_extension_path),\n        },\n    }\n\n    return processed_node"
        },
        "scale_factor": 1,
        "size": [
         55,
         55
        ],
        "styles": {},
        "type": "#2196F3"
       },
       {
        "color": "#2196F3",
        "id": 241,
        "label": "FUNCTION",
        "position": [
         0,
         0
        ],
        "properties": {
         "file_node_id": "25b6802b-3873-4e38-bc53-58c23744a6f5",
         "function_calls": [
          "os.path.basename",
          "str",
          "uuid.uuid4"
         ],
         "label": "FUNCTION",
         "name": "format_directory_node",
         "node_id": "3255de04-0454-4995-9788-47d740ecd755",
         "path": "blar-example-repos.debugger_agent.utils.format_nodes.format_directory_node",
         "signature": "def format_directory_node(path: str, package: bool) -> dict:",
         "text": "def format_directory_node(path: str, package: bool) -> dict:\n    processed_node = {\n        \"attributes\": {\n            \"path\": path + \"/\",\n            \"name\": os.path.basename(path),\n            \"node_id\": str(uuid.uuid4()),\n        },\n        \"type\": \"PACKAGE\" if package else \"FOLDER\",\n    }\n\n    return processed_node"
        },
        "scale_factor": 1,
        "size": [
         55,
         55
        ],
        "styles": {},
        "type": "#2196F3"
       },
       {
        "color": "#607D8B",
        "id": 102,
        "label": "PACKAGE",
        "position": [
         0,
         0
        ],
        "properties": {
         "label": "PACKAGE",
         "name": "graph_construction",
         "node_id": "68537ad2-8ae7-48ba-a15f-ccc076979f1c",
         "path": "blar-example-repos/debugger_agent/graph_construction/"
        },
        "scale_factor": 1,
        "size": [
         55,
         55
        ],
        "styles": {},
        "type": "#607D8B"
       },
       {
        "color": "#4CAF50",
        "id": 103,
        "label": "FILE",
        "position": [
         0,
         0
        ],
        "properties": {
         "function_calls": [],
         "label": "FILE",
         "name": "graph_builder",
         "node_id": "e2bce97a-13fe-44c9-bcec-02af681e6638",
         "path": "blar-example-repos.debugger_agent.graph_construction.graph_builder",
         "text": "import os\nimport uuid\nfrom blar_graph.graph_construction.neo4j_manager import Neo4jManager\nfrom blar_graph.graph_construction.graph_file_parser import GraphFileParser\nfrom blar_graph.utils import format_nodes\n\n\nclass GraphConstructor:\n    # Code replaced for brevity. See node_id 94795bb8-e7ba-4403-98d2-b716f161ec26"
        },
        "scale_factor": 1,
        "size": [
         55,
         55
        ],
        "styles": {},
        "type": "#4CAF50"
       },
       {
        "color": "#4CAF50",
        "id": 110,
        "label": "FILE",
        "position": [
         0,
         0
        ],
        "properties": {
         "function_calls": [],
         "label": "FILE",
         "name": "graph_file_parser",
         "node_id": "efaadee2-3a89-4897-be6d-d1fe8556d9cd",
         "path": "blar-example-repos.debugger_agent.graph_construction.graph_file_parser",
         "text": "import os\nfrom pathlib import Path\nimport tree_sitter_languages\nfrom blar_graph.utils import format_nodes, tree_parser\nfrom llama_index.core import SimpleDirectoryReader\nfrom llama_index.core.schema import NodeRelationship, BaseNode\nfrom llama_index.core.text_splitter import CodeSplitter\nfrom llama_index.packs.code_hierarchy import CodeHierarchyNodeParser\n\n\nclass GraphFileParser:\n    # Code replaced for brevity. See node_id 22facfe5-0c91-41aa-8f17-4243f3a2325c"
        },
        "scale_factor": 1,
        "size": [
         55,
         55
        ],
        "styles": {},
        "type": "#4CAF50"
       },
       {
        "color": "#4CAF50",
        "id": 118,
        "label": "FILE",
        "position": [
         0,
         0
        ],
        "properties": {
         "function_calls": [
          "load_dotenv",
          "Neo4jManager",
          "Neo4jManager.get_node_by_id",
          "Neo4jManager.close"
         ],
         "label": "FILE",
         "name": "neo4j_manager",
         "node_id": "2393b4eb-ac87-475d-ae01-f3de0b45d0d5",
         "path": "blar-example-repos.debugger_agent.graph_construction.neo4j_manager",
         "text": "import os\nfrom typing import Any, List\n\nfrom dotenv import load_dotenv\nfrom neo4j import GraphDatabase\n\nload_dotenv()\n\n\nclass Neo4jManager:\n    # Code replaced for brevity. See node_id 3b298b81-1c96-4cd1-a690-df37fbd00f51\n\n\nif __name__ == \"__main__\":\n    graph = Neo4jManager()\n    result = graph.get_node_by_id(\"fc33457f-43dd-414c-b074-1142e724ba30\")\n    graph.close()"
        },
        "scale_factor": 1,
        "size": [
         55,
         55
        ],
        "styles": {},
        "type": "#4CAF50"
       },
       {
        "color": "#4CAF50",
        "id": 170,
        "label": "FILE",
        "position": [
         0,
         0
        ],
        "properties": {
         "label": "FILE",
         "name": "__init__.py",
         "node_id": "49dbd23f-5737-449e-bf77-0ab63554aadc",
         "path": "blar-example-repos/debugger_agent/graph_construction/__init__.py"
        },
        "scale_factor": 1,
        "size": [
         55,
         55
        ],
        "styles": {},
        "type": "#4CAF50"
       },
       {
        "color": "#F44336",
        "id": 104,
        "label": "CLASS",
        "position": [
         0,
         0
        ],
        "properties": {
         "file_node_id": "e2bce97a-13fe-44c9-bcec-02af681e6638",
         "label": "CLASS",
         "name": "GraphConstructor",
         "node_id": "94795bb8-e7ba-4403-98d2-b716f161ec26",
         "path": "blar-example-repos.debugger_agent.graph_construction.graph_builder.GraphConstructor",
         "signature": "class GraphConstructor:",
         "text": "class GraphConstructor:\n    def __init__(self, graph_manager: Neo4jManager):\n        # Code replaced for brevity. See node_id 21662980-ee0b-4de2-a371-255f82659fba\n\n    def _scan_directory(\n        self,\n        path,\n        language=\"python\",\n        nodes=[],\n        relationships=[],\n        imports={},\n        parent_id=None,\n    ):\n        # Code replaced for brevity. See node_id 5910a722-ffdd-4ca6-b8e1-362a3995df34\n\n    def _relate_imports(self, imports: dict):\n        # Code replaced for brevity. See node_id dae8ee1e-657d-4173-af1a-bc3b6f89c01a\n\n    def _relate_function_calls(self, node_list, imports):\n        # Code replaced for brevity. See node_id dcc4e79c-5fe1-4698-838a-40398f507836\n\n    def build_graph(self, path, language):\n        # process every node to create the graph structure\n        # Code replaced for brevity. See node_id ea3ac415-6b00-44db-a7b3-86e7c7a0c8ad"
        },
        "scale_factor": 1,
        "size": [
         55,
         55
        ],
        "styles": {},
        "type": "#F44336"
       },
       {
        "color": "#F44336",
        "id": 111,
        "label": "CLASS",
        "position": [
         0,
         0
        ],
        "properties": {
         "file_node_id": "efaadee2-3a89-4897-be6d-d1fe8556d9cd",
         "label": "CLASS",
         "name": "GraphFileParser",
         "node_id": "22facfe5-0c91-41aa-8f17-4243f3a2325c",
         "path": "blar-example-repos.debugger_agent.graph_construction.graph_file_parser.GraphFileParser",
         "signature": "class GraphFileParser:",
         "text": "class GraphFileParser:\n    RELATIONS_TYPES_MAP = {\n        \"function_definition\": \"FUNCTION_DEFINITION\",\n        \"class_definition\": \"CLASS_DEFINITION\",\n    }\n\n    def __init__(\n        self,\n        file_path: str,\n        root_path: str,\n        language: str,\n        directory_path: str,\n        visited_nodes: dict,\n        global_imports: dict,\n    ):\n        # Code replaced for brevity. See node_id 92bb25b6-27ee-4611-8803-b98cf7db890c\n\n    def parse(self):\n        # Code replaced for brevity. See node_id 1ae35400-2c96-4265-9828-950129b2e11d\n\n    def __process_node__(\n        self, node: BaseNode, no_extension_path: str, file_node_id: str\n    ):\n        # Code replaced for brevity. See node_id c78fec97-9e56-4d8c-9850-f96f80e08872\n\n    def _get_imports(self, path: str, file_node_id: str) -> dict:\n        # Code replaced for brevity. See node_id 5de06e7b-56c6-4fd3-8304-29787878f11b"
        },
        "scale_factor": 1,
        "size": [
         55,
         55
        ],
        "styles": {},
        "type": "#F44336"
       },
       {
        "color": "#F44336",
        "id": 119,
        "label": "CLASS",
        "position": [
         0,
         0
        ],
        "properties": {
         "file_node_id": "2393b4eb-ac87-475d-ae01-f3de0b45d0d5",
         "label": "CLASS",
         "name": "Neo4jManager",
         "node_id": "3b298b81-1c96-4cd1-a690-df37fbd00f51",
         "path": "blar-example-repos.debugger_agent.graph_construction.neo4j_manager.Neo4jManager",
         "signature": "class Neo4jManager:",
         "text": "class Neo4jManager:\n    def __init__(self):\n        # Code replaced for brevity. See node_id 5553e868-836b-4119-be5f-94476bdc5297\n\n    def create_function_name_index(self):\n        # Creates a fulltext index on the name and path properties of the nodes\n        # Code replaced for brevity. See node_id c37fc654-8fef-49d6-bdc8-55f3ad3212b2\n\n    def close(self):\n        # Close the connection to the database\n        # Code replaced for brevity. See node_id ddc2456c-cc27-4ae7-9ad2-f3ed4a61ac8d\n\n    def create_nodes(self, nodeList: List[Any]):\n        # Function to create nodes in the Neo4j database\n        # Code replaced for brevity. See node_id a282c092-8ef3-4cd3-a315-f9ab98e637cf\n\n    def create_edges(self, edgesList: List[Any]):\n        # Function to create edges between nodes in the Neo4j database\n        # Code replaced for brevity. See node_id 3ffb6ec0-971e-49cd-b0cb-3c538fb47869\n\n    def format_query(self, query: str):\n        # Function to format the query to be used in the fulltext index\n        # Code replaced for brevity. See node_id bc93f7fd-5ef1-4a13-858d-e7f221b77624\n\n    def get_node_by_id(self, node_id: str):\n        # Code replaced for brevity. See node_id ca185ab4-e2a9-440c-a284-c566f6a2c32e\n\n    def get_code(self, query: str):\n        # Function to get code from the Neo4j database based on a keyword query\n        # Code replaced for brevity. See node_id b7cec3a1-a1f6-4e96-9b6c-c6a731b1cb41\n\n    def get_graph_by_path(self, path: str):\n        # Code replaced for brevity. See node_id e4311af0-f493-4b92-a0f8-7eccaddd8d98\n\n    def get_n_hop_neighbours(self, node_id: str, num_hops: int):\n        # Function to get code from the Neo4j database based on a keyword query\n        # Code replaced for brevity. See node_id e4747238-5e27-4e19-ab21-7d43255f8d61\n\n    @staticmethod\n    def _create_nodes_txn(tx, nodeList: List[Any]):\n        # Transaction function for creating nodes with dynamic labels\n        # Code replaced for brevity. See node_id be2ef406-0f7b-4c7e-89a0-9ab5c486315a\n\n    @staticmethod\n    def _create_edges_txn(tx, edgesList: List[Any]):\n        # Transaction function for creating edges\n        # Code replaced for brevity. See node_id f301e1d0-aec5-4706-a39c-84d375c7e19d"
        },
        "scale_factor": 1,
        "size": [
         55,
         55
        ],
        "styles": {},
        "type": "#F44336"
       },
       {
        "color": "#4CAF50",
        "id": 162,
        "label": "FILE",
        "position": [
         0,
         0
        ],
        "properties": {
         "function_calls": [],
         "label": "FILE",
         "name": "format_nodes",
         "node_id": "503850f8-8789-46af-85f5-88d71f4545e6",
         "path": "blar-example-repos.debugger_agent.utils.format_nodes",
         "text": "from llama_index.core.schema import BaseNode\nimport os\nimport uuid\n\n\ndef format_function_node(\n    node: BaseNode, scope: dict, function_calls: list[str], file_node_id: str\n) -> dict:\n    # Code replaced for brevity. See node_id 1d9e19ea-c43c-4f5f-b9a5-099712a93e7d\n\n\ndef format_class_node(node: BaseNode, scope: dict, file_node_id: str) -> dict:\n    # Code replaced for brevity. See node_id 9704ca09-fa3f-4268-9e75-5a6c6e34638a\n\n\ndef format_file_node(\n    node: BaseNode, no_extension_path: str, function_calls: list[str]\n) -> dict:\n    # Code replaced for brevity. See node_id bbd8d1bc-a54c-4309-bdaa-fdee2eafaeb8\n\n\ndef format_directory_node(path: str, package: bool) -> dict:\n    # Code replaced for brevity. See node_id 699eebc8-78d3-4d45-a7f7-ca3169d69dad"
        },
        "scale_factor": 1,
        "size": [
         55,
         55
        ],
        "styles": {},
        "type": "#4CAF50"
       },
       {
        "color": "#2196F3",
        "id": 105,
        "label": "FUNCTION",
        "position": [
         0,
         0
        ],
        "properties": {
         "file_node_id": "e2bce97a-13fe-44c9-bcec-02af681e6638",
         "function_calls": [],
         "label": "FUNCTION",
         "name": "__init__",
         "node_id": "21662980-ee0b-4de2-a371-255f82659fba",
         "path": "blar-example-repos.debugger_agent.graph_construction.graph_builder.GraphConstructor.__init__",
         "signature": "def __init__(self, graph_manager: Neo4jManager):",
         "text": "def __init__(self, graph_manager: Neo4jManager):\n        self.graph_manager = graph_manager\n        self.directories_map = {}\n        self.visited_nodes = {}\n        self.global_imports = {}\n        self.root = None"
        },
        "scale_factor": 1,
        "size": [
         55,
         55
        ],
        "styles": {},
        "type": "#2196F3"
       },
       {
        "color": "#2196F3",
        "id": 106,
        "label": "FUNCTION",
        "position": [
         0,
         0
        ],
        "properties": {
         "file_node_id": "e2bce97a-13fe-44c9-bcec-02af681e6638",
         "function_calls": [
          "os.path.join",
          "os.path.exists",
          "format_nodes.format_directory_node",
          "relationships.append",
          "nodes.append",
          "os.scandir",
          "entry.is_file",
          "entry.name.endswith",
          "GraphFileParser",
          "entry.name.split",
          "GraphFileParser.parse",
          "nodes.extend",
          "relationships.extend",
          "relationships.append",
          "imports.update",
          "str",
          "uuid.uuid4",
          "nodes.append",
          "relationships.append",
          "entry.is_dir",
          "GraphConstructor._scan_directory"
         ],
         "label": "FUNCTION",
         "name": "_scan_directory",
         "node_id": "5910a722-ffdd-4ca6-b8e1-362a3995df34",
         "path": "blar-example-repos.debugger_agent.graph_construction.graph_builder.GraphConstructor._scan_directory",
         "signature": "def _scan_directory(\n        self,\n        path,\n        language=\"python\",\n        nodes=[],\n        relationships=[],\n        imports={},\n        parent_id=None,\n    ):",
         "text": "def _scan_directory(\n        self,\n        path,\n        language=\"python\",\n        nodes=[],\n        relationships=[],\n        imports={},\n        parent_id=None,\n    ):\n        if self.root is None:\n            self.root = path\n        package = False\n        init_py_path = os.path.join(path, \"__init__.py\")\n        if os.path.exists(init_py_path):\n            package = True\n\n        directory_node = format_nodes.format_directory_node(path, package)\n        directory_path = directory_node[\"attributes\"][\"path\"]\n        directory_node_id = directory_node[\"attributes\"][\"node_id\"]\n\n        if parent_id is not None:\n            relationships.append(\n                {\n                    \"sourceId\": parent_id,\n                    \"targetId\": directory_node_id,\n                    \"type\": \"CONTAINS\",\n                }\n            )\n\n        nodes.append(directory_node)\n        for entry in os.scandir(path):\n            if entry.is_file():\n                if entry.name.endswith(\".py\") and not entry.name == (\"__init__.py\"):\n                    file_parser = GraphFileParser(\n                        entry.path,\n                        self.root,\n                        language,\n                        directory_path,\n                        visited_nodes=self.visited_nodes,\n                        global_imports=self.global_imports,\n                    )\n\n                    entry_name = entry.name.split(\".py\")[0]\n                    processed_nodes, relations, file_imports = file_parser.parse()\n                    file_root_node_id = processed_nodes[0][\"attributes\"][\"node_id\"]\n\n                    nodes.extend(processed_nodes)\n                    relationships.extend(relations)\n                    relationships.append(\n                        {\n                            \"sourceId\": directory_node_id,\n                            \"targetId\": file_root_node_id,\n                            \"type\": \"CONTAINS\",\n                        }\n                    )\n                    imports.update(file_imports)\n\n                    global_import_key = (directory_path + entry_name).replace(\"/\", \".\")\n                    self.global_imports[global_import_key] = {\n                        \"id\": file_root_node_id,\n                        \"type\": \"FILE\",\n                    }\n                else:\n                    file_node = {\n                        \"type\": \"FILE\",\n                        \"attributes\": {\n                            \"path\": entry.path,\n                            \"name\": entry.name,\n                            \"node_id\": str(uuid.uuid4()),\n                        },\n                    }\n                    nodes.append(file_node)\n                    relationships.append(\n                        {\n                            \"sourceId\": directory_node_id,\n                            \"targetId\": file_node[\"attributes\"][\"node_id\"],\n                            \"type\": \"CONTAINS\",\n                        }\n                    )\n            if entry.is_dir():\n                if entry.name == \"__pycache__\":\n                    continue\n                nodes, relationships, imports = self._scan_directory(\n                    entry.path,\n                    language,\n                    nodes,\n                    relationships,\n                    imports,\n                    directory_node_id,\n                )\n        return nodes, relationships, imports"
        },
        "scale_factor": 1,
        "size": [
         55,
         55
        ],
        "styles": {},
        "type": "#2196F3"
       },
       {
        "color": "#2196F3",
        "id": 107,
        "label": "FUNCTION",
        "position": [
         0,
         0
        ],
        "properties": {
         "file_node_id": "e2bce97a-13fe-44c9-bcec-02af681e6638",
         "function_calls": [
          "imports.keys",
          "GraphConstructor.global_imports.keys",
          "key.endswith",
          "import_edges.append"
         ],
         "label": "FUNCTION",
         "name": "_relate_imports",
         "node_id": "dae8ee1e-657d-4173-af1a-bc3b6f89c01a",
         "path": "blar-example-repos.debugger_agent.graph_construction.graph_builder.GraphConstructor._relate_imports",
         "signature": "def _relate_imports(self, imports: dict):",
         "text": "def _relate_imports(self, imports: dict):\n        import_edges = []\n        for file_node_id in imports.keys():\n            for imp in imports[file_node_id].keys():\n                for key in self.global_imports.keys():\n                    if key.endswith(imp):\n                        import_edges.append(\n                            {\n                                \"sourceId\": file_node_id,\n                                \"targetId\": self.global_imports[key][\"id\"],\n                                \"type\": \"IMPORTS\",\n                            }\n                        )\n\n        return import_edges"
        },
        "scale_factor": 1,
        "size": [
         55,
         55
        ],
        "styles": {},
        "type": "#2196F3"
       },
       {
        "color": "#2196F3",
        "id": 108,
        "label": "FUNCTION",
        "position": [
         0,
         0
        ],
        "properties": {
         "file_node_id": "e2bce97a-13fe-44c9-bcec-02af681e6638",
         "function_calls": [
          "file_imports.get",
          "function_call.split",
          "function_call.split",
          "function_calls_relations.append",
          "function_calls_relations.append",
          "function_calls_relations.append"
         ],
         "label": "FUNCTION",
         "name": "_relate_function_calls",
         "node_id": "dcc4e79c-5fe1-4698-838a-40398f507836",
         "path": "blar-example-repos.debugger_agent.graph_construction.graph_builder.GraphConstructor._relate_function_calls",
         "signature": "def _relate_function_calls(self, node_list, imports):",
         "text": "def _relate_function_calls(self, node_list, imports):\n        function_calls_relations = []\n        for node in node_list:\n            function_calls = node[\"attributes\"].get(\"function_calls\")\n            if function_calls:\n                for function_call in function_calls:\n                    if node[\"type\"] == \"FILE\":\n                        file_imports = imports[node[\"attributes\"][\"node_id\"]]\n                    else:\n                        file_imports = imports[node[\"attributes\"][\"file_node_id\"]]\n\n                    function_import = file_imports.get(function_call.split(\".\")[0])\n                    root_directory = node[\"attributes\"][\"path\"].replace(\n                        \".\" + node[\"attributes\"][\"name\"], \"\"\n                    )\n                    directory = root_directory\n                    if function_import:\n                        directory = function_import\n\n                    for module in function_call.split(\".\"):\n                        final_module = \".\" + module\n                        intermediate_module = \".\" + module + \".\"\n                        if not (\n                            final_module in directory\n                            or intermediate_module in directory\n                        ):\n                            directory += f\".{module}\"\n                    if directory in self.global_imports:\n                        target_node_type = self.global_imports[directory][\"type\"]\n                        if target_node_type == \"FUNCTION\" or target_node_type == \"FILE\":\n                            function_calls_relations.append(\n                                {\n                                    \"sourceId\": node[\"attributes\"][\"node_id\"],\n                                    \"targetId\": self.global_imports[directory][\"id\"],\n                                    \"type\": \"CALLS\",\n                                }\n                            )\n                        elif target_node_type == \"CLASS\":\n                            function_calls_relations.append(\n                                {\n                                    \"sourceId\": node[\"attributes\"][\"node_id\"],\n                                    \"targetId\": self.global_imports[directory][\"id\"],\n                                    \"type\": \"INSTANTIATES\",\n                                }\n                            )\n\n                            init_directory = directory + \".__init__\"\n                            function_calls_relations.append(\n                                {\n                                    \"sourceId\": node[\"attributes\"][\"node_id\"],\n                                    \"targetId\": self.global_imports[init_directory][\n                                        \"id\"\n                                    ],\n                                    \"type\": \"CALLS\",\n                                }\n                            )\n\n        return function_calls_relations"
        },
        "scale_factor": 1,
        "size": [
         55,
         55
        ],
        "styles": {},
        "type": "#2196F3"
       },
       {
        "color": "#2196F3",
        "id": 109,
        "label": "FUNCTION",
        "position": [
         0,
         0
        ],
        "properties": {
         "file_node_id": "e2bce97a-13fe-44c9-bcec-02af681e6638",
         "function_calls": [
          "GraphConstructor._scan_directory",
          "relationships.extend",
          "GraphConstructor._relate_imports",
          "relationships.extend",
          "GraphConstructor._relate_function_calls",
          "GraphConstructor.graph_manager.create_nodes",
          "GraphConstructor.graph_manager.create_edges"
         ],
         "label": "FUNCTION",
         "name": "build_graph",
         "node_id": "ea3ac415-6b00-44db-a7b3-86e7c7a0c8ad",
         "path": "blar-example-repos.debugger_agent.graph_construction.graph_builder.GraphConstructor.build_graph",
         "signature": "def build_graph(self, path, language):\n        # process every node to create the graph structure",
         "text": "def build_graph(self, path, language):\n        # process every node to create the graph structure\n        nodes, relationships, imports = self._scan_directory(path, language)\n        # relate imports between file nodes\n        relationships.extend(self._relate_imports(imports))\n        # relate functions calls\n        relationships.extend(self._relate_function_calls(nodes, imports))\n\n        self.graph_manager.create_nodes(nodes)\n        self.graph_manager.create_edges(relationships)"
        },
        "scale_factor": 1,
        "size": [
         55,
         55
        ],
        "styles": {},
        "type": "#2196F3"
       },
       {
        "color": "#4CAF50",
        "id": 153,
        "label": "FILE",
        "position": [
         0,
         0
        ],
        "properties": {
         "function_calls": [],
         "label": "FILE",
         "name": "tree_parser",
         "node_id": "868679fa-944a-4d38-b170-567546919777",
         "path": "blar-example-repos.debugger_agent.utils.tree_parser",
         "text": "import tree_sitter_languages\nimport os\nimport re\n\n\ndef traverse_tree(tree):\n    # Code replaced for brevity. See node_id 2440d812-e035-4e93-8cc4-f19b7f9271f9\n\n\ndef count_parameters(params_str):\n    # Count parameters considering string literals and ignoring commas within them.\n    # This simplistic approach assumes balanced quotes and no escaped quotes within strings.\n    # Code replaced for brevity. See node_id e8074616-3c76-41d7-9e5f-00f51e16fd6e\n\n\ndef get_function_name(call_str):\n    # Code replaced for brevity. See node_id a9512788-616b-449e-8d38-bec04bfcf6b3\n\n\ndef parse_function_call(func_call: str, inclusive_scopes) -> tuple[str, int]:\n    # Code replaced for brevity. See node_id 49f5dd18-8141-4049-aac0-bc81d1d4b0b5\n\n\ndef get_function_calls(node, assigments_dict: dict) -> list[str]:\n    # Code replaced for brevity. See node_id b6b0e156-b0c4-492c-a090-a4fdfb1b4915\n\n\ndef is_package(directory):\n    # Code replaced for brevity. See node_id b171a248-0871-4ed9-bc30-f5a7c583dcb7\n\n\ndef find_module_path(module_name, start_dir, project_root):\n    # Code replaced for brevity. See node_id c031f139-1fbb-48bb-be2a-1860f700ac7f\n\n\ndef resolve_import_path(import_statement, current_file_directory, project_root):\n    # Code replaced for brevity. See node_id d801d3b8-d4f3-4ced-b67d-ab10146ee76b"
        },
        "scale_factor": 1,
        "size": [
         55,
         55
        ],
        "styles": {},
        "type": "#4CAF50"
       },
       {
        "color": "#2196F3",
        "id": 112,
        "label": "FUNCTION",
        "position": [
         0,
         0
        ],
        "properties": {
         "file_node_id": "efaadee2-3a89-4897-be6d-d1fe8556d9cd",
         "function_calls": [],
         "label": "FUNCTION",
         "name": "__init__",
         "node_id": "92bb25b6-27ee-4611-8803-b98cf7db890c",
         "path": "blar-example-repos.debugger_agent.graph_construction.graph_file_parser.GraphFileParser.__init__",
         "signature": "def __init__(\n        self,\n        file_path: str,\n        root_path: str,\n        language: str,\n        directory_path: str,\n        visited_nodes: dict,\n        global_imports: dict,\n    ):",
         "text": "def __init__(\n        self,\n        file_path: str,\n        root_path: str,\n        language: str,\n        directory_path: str,\n        visited_nodes: dict,\n        global_imports: dict,\n    ):\n        self.file_path = file_path\n        self.language = language\n        self.directory_path = directory_path\n        self.visited_nodes = visited_nodes\n        self.global_imports = global_imports\n        self.root_path = root_path"
        },
        "scale_factor": 1,
        "size": [
         55,
         55
        ],
        "styles": {},
        "type": "#2196F3"
       },
       {
        "color": "#2196F3",
        "id": 113,
        "label": "FUNCTION",
        "position": [
         0,
         0
        ],
        "properties": {
         "file_node_id": "efaadee2-3a89-4897-be6d-d1fe8556d9cd",
         "function_calls": [
          "Path",
          "Path.exists",
          "print",
          "SimpleDirectoryReader",
          "SimpleDirectoryReader",
          "CodeHierarchyNodeParser",
          "CodeSplitter",
          "GraphFileParser.file_path.replace",
          "CodeHierarchyNodeParser.get_nodes_from_documents",
          "GraphFileParser.__process_node__",
          "code.get_nodes_from_documents.pop",
          "os.path.basename",
          "node_list.append",
          "edges_list.extend",
          "GraphFileParser.__process_node__",
          "node_list.append",
          "edges_list.extend",
          "GraphFileParser._get_imports",
          "str"
         ],
         "label": "FUNCTION",
         "name": "parse",
         "node_id": "1ae35400-2c96-4265-9828-950129b2e11d",
         "path": "blar-example-repos.debugger_agent.graph_construction.graph_file_parser.GraphFileParser.parse",
         "signature": "def parse(self):",
         "text": "def parse(self):\n        path = Path(self.file_path)\n        if not path.exists():\n            print(f\"File {self.file_path} does not exist.\")\n            return\n        documents = SimpleDirectoryReader(\n            input_files=[path],\n            file_metadata=lambda x: {\"filepath\": x},\n        ).load_data()\n\n        code = CodeHierarchyNodeParser(\n            language=self.language,\n            chunk_min_characters=3,\n            code_splitter=CodeSplitter(\n                language=self.language, max_chars=10000, chunk_lines=10\n            ),\n        )\n        no_extension_path = self.file_path.replace(\".py\", \"\")\n\n        split_nodes = code.get_nodes_from_documents(documents)\n        node_list = []\n        edges_list = []\n\n        file_node, file_relations = self.__process_node__(\n            split_nodes.pop(0), no_extension_path, \"\"\n        )\n        file_node[\"directory\"] = self.directory_path\n        file_node[\"name\"] = os.path.basename(self.file_path)\n        node_list.append(file_node)\n        edges_list.extend(file_relations)\n\n        for node in split_nodes:\n            processed_node, relationships = self.__process_node__(\n                node, no_extension_path, file_node[\"attributes\"][\"node_id\"]\n            )\n            node_list.append(processed_node)\n            edges_list.extend(relationships)\n\n        imports = self._get_imports(str(path), node_list[0][\"attributes\"][\"node_id\"])\n\n        return node_list, edges_list, imports"
        },
        "scale_factor": 1,
        "size": [
         55,
         55
        ],
        "styles": {},
        "type": "#2196F3"
       },
       {
        "color": "#2196F3",
        "id": 116,
        "label": "FUNCTION",
        "position": [
         0,
         0
        ],
        "properties": {
         "file_node_id": "efaadee2-3a89-4897-be6d-d1fe8556d9cd",
         "function_calls": [
          "tree_parser.get_function_calls",
          "format_nodes.format_function_node",
          "format_nodes.format_class_node",
          "tree_parser.get_function_calls",
          "format_nodes.format_file_node",
          "node.relationships.items",
          "relationships.append",
          "GraphFileParser.RELATIONS_TYPES_MAP.get",
          "GraphFileParser.visited_nodes.get",
          "GraphFileParser.visited_nodes.get",
          "no_extension_path.replace"
         ],
         "label": "FUNCTION",
         "name": "__process_node__",
         "node_id": "c78fec97-9e56-4d8c-9850-f96f80e08872",
         "path": "blar-example-repos.debugger_agent.graph_construction.graph_file_parser.GraphFileParser.__process_node__",
         "signature": "def __process_node__(\n        self, node: BaseNode, no_extension_path: str, file_node_id: str\n    ):",
         "text": "def __process_node__(\n        self, node: BaseNode, no_extension_path: str, file_node_id: str\n    ):\n        relationships = []\n        asignments_dict = {}\n        scope = (\n            node.metadata[\"inclusive_scopes\"][-1]\n            if node.metadata[\"inclusive_scopes\"]\n            else None\n        )\n        type_node = \"file\"\n        if scope:\n            type_node = scope[\"type\"]\n\n        if type_node == \"function_definition\":\n            function_calls = tree_parser.get_function_calls(node, asignments_dict)\n            processed_node = format_nodes.format_function_node(\n                node, scope, function_calls, file_node_id\n            )\n        elif type_node == \"class_definition\":\n            processed_node = format_nodes.format_class_node(node, scope, file_node_id)\n        else:\n            function_calls = tree_parser.get_function_calls(node, asignments_dict)\n            processed_node = format_nodes.format_file_node(\n                node, no_extension_path, function_calls\n            )\n\n        for relation in node.relationships.items():\n            if relation[0] == NodeRelationship.CHILD:\n                for child in relation[1]:\n                    relation_type = (\n                        child.metadata[\"inclusive_scopes\"][-1][\"type\"]\n                        if child.metadata[\"inclusive_scopes\"]\n                        else \"\"\n                    )\n                    relationships.append(\n                        {\n                            \"sourceId\": node.node_id,\n                            \"targetId\": child.node_id,\n                            \"type\": self.RELATIONS_TYPES_MAP.get(\n                                relation_type, \"UNKNOWN\"\n                            ),\n                        }\n                    )\n            elif relation[0] == NodeRelationship.PARENT:\n                if relation[1]:\n                    parent_path = self.visited_nodes.get(\n                        relation[1].node_id, no_extension_path\n                    ).replace(\"/\", \".\")\n                    node_path = f\"{parent_path}.{processed_node['attributes']['name']}\"\n                else:\n                    node_path = no_extension_path.replace(\"/\", \".\")\n        processed_node[\"attributes\"][\"path\"] = node_path\n        self.global_imports[node_path] = {\n            \"id\": processed_node[\"attributes\"][\"node_id\"],\n            \"type\": processed_node[\"type\"],\n        }\n        self.visited_nodes[node.node_id] = node_path\n        return processed_node, relationships"
        },
        "scale_factor": 1,
        "size": [
         55,
         55
        ],
        "styles": {},
        "type": "#2196F3"
       },
       {
        "color": "#2196F3",
        "id": 117,
        "label": "FUNCTION",
        "position": [
         0,
         0
        ],
        "properties": {
         "file_node_id": "efaadee2-3a89-4897-be6d-d1fe8556d9cd",
         "function_calls": [
          "tree_sitter_languages.get_parser",
          "open",
          "file.read",
          "tree_sitter_languages.get_parser.parse",
          "bytes",
          "from_statement.text.decode",
          "import_statement.text.decode",
          "tree_parser.resolve_import_path",
          "import_statement.text.decode"
         ],
         "label": "FUNCTION",
         "name": "_get_imports",
         "node_id": "5de06e7b-56c6-4fd3-8304-29787878f11b",
         "path": "blar-example-repos.debugger_agent.graph_construction.graph_file_parser.GraphFileParser._get_imports",
         "signature": "def _get_imports(self, path: str, file_node_id: str) -> dict:",
         "text": "def _get_imports(self, path: str, file_node_id: str) -> dict:\n        parser = tree_sitter_languages.get_parser(\"python\")\n        with open(path, \"r\") as file:\n            code = file.read()\n        tree = parser.parse(bytes(code, \"utf-8\"))\n\n        imports = {}\n        for node in tree.root_node.children:\n            if node.type == \"import_from_statement\":\n                import_statements = node.named_children\n\n                from_statement = import_statements[0]\n                from_text = from_statement.text.decode()\n                for import_statement in import_statements[1:]:\n                    imports[import_statement.text.decode()] = (\n                        tree_parser.resolve_import_path(from_text, path, self.root_path)\n                    )\n\n            elif node.type == \"import_statement\":\n                import_statement = node.named_children[0]\n                imports[\"global\"] = import_statement.text.decode()\n\n        return {file_node_id: imports}"
        },
        "scale_factor": 1,
        "size": [
         55,
         55
        ],
        "styles": {},
        "type": "#2196F3"
       },
       {
        "color": "#2196F3",
        "id": 61,
        "label": "FUNCTION",
        "position": [
         0,
         0
        ],
        "properties": {
         "file_node_id": "2393b4eb-ac87-475d-ae01-f3de0b45d0d5",
         "function_calls": [
          "Neo4jManager.driver.session",
          "session.run",
          "session.run.data"
         ],
         "label": "FUNCTION",
         "name": "get_n_hop_neighbours",
         "node_id": "e4747238-5e27-4e19-ab21-7d43255f8d61",
         "path": "blar-example-repos.debugger_agent.graph_construction.neo4j_manager.Neo4jManager.get_n_hop_neighbours",
         "signature": "def get_n_hop_neighbours(self, node_id: str, num_hops: int):\n        # Function to get code from the Neo4j database based on a keyword query",
         "text": "def get_n_hop_neighbours(self, node_id: str, num_hops: int):\n        # Function to get code from the Neo4j database based on a keyword query\n        with self.driver.session() as session:\n            result = session.run(\n                \"\"\"\n                MATCH (p {node_id: $node_id})\n                CALL apoc.neighbors.byhop(p, \">\", $num_hops)\n                YIELD nodes\n                UNWIND [p] + nodes AS all_nodes\n                RETURN all_nodes.text AS text\n                \"\"\",\n                node_id=node_id,\n                num_hops=num_hops,\n            )\n            return result.data()"
        },
        "scale_factor": 1,
        "size": [
         55,
         55
        ],
        "styles": {},
        "type": "#2196F3"
       },
       {
        "color": "#2196F3",
        "id": 120,
        "label": "FUNCTION",
        "position": [
         0,
         0
        ],
        "properties": {
         "file_node_id": "2393b4eb-ac87-475d-ae01-f3de0b45d0d5",
         "function_calls": [
          "os.getenv",
          "os.getenv",
          "os.getenv",
          "GraphDatabase.driver",
          "Neo4jManager.create_function_name_index"
         ],
         "label": "FUNCTION",
         "name": "__init__",
         "node_id": "5553e868-836b-4119-be5f-94476bdc5297",
         "path": "blar-example-repos.debugger_agent.graph_construction.neo4j_manager.Neo4jManager.__init__",
         "signature": "def __init__(self):",
         "text": "def __init__(self):\n        uri = os.getenv(\"NEO4J_URI\")\n        user = os.getenv(\"NEO4J_USERNAME\")\n        password = os.getenv(\"NEO4J_PASSWORD\")\n\n        self.driver = GraphDatabase.driver(uri, auth=(user, password))\n        self.create_function_name_index()"
        },
        "scale_factor": 1,
        "size": [
         55,
         55
        ],
        "styles": {},
        "type": "#2196F3"
       },
       {
        "color": "#2196F3",
        "id": 121,
        "label": "FUNCTION",
        "position": [
         0,
         0
        ],
        "properties": {
         "file_node_id": "2393b4eb-ac87-475d-ae01-f3de0b45d0d5",
         "function_calls": [
          "Neo4jManager.driver.session",
          "session.run"
         ],
         "label": "FUNCTION",
         "name": "create_function_name_index",
         "node_id": "c37fc654-8fef-49d6-bdc8-55f3ad3212b2",
         "path": "blar-example-repos.debugger_agent.graph_construction.neo4j_manager.Neo4jManager.create_function_name_index",
         "signature": "def create_function_name_index(self):\n        # Creates a fulltext index on the name and path properties of the nodes",
         "text": "def create_function_name_index(self):\n        # Creates a fulltext index on the name and path properties of the nodes\n        with self.driver.session() as session:\n            node_query = \"\"\"\n            CREATE FULLTEXT INDEX functionNames IF NOT EXISTS FOR (n:CLASS|FUNCTION|FILE_ROOT) ON EACH [n.name, n.path, n.node_id]\n            \"\"\"\n            session.run(node_query)"
        },
        "scale_factor": 1,
        "size": [
         55,
         55
        ],
        "styles": {},
        "type": "#2196F3"
       },
       {
        "color": "#2196F3",
        "id": 122,
        "label": "FUNCTION",
        "position": [
         0,
         0
        ],
        "properties": {
         "file_node_id": "2393b4eb-ac87-475d-ae01-f3de0b45d0d5",
         "function_calls": [
          "Neo4jManager.driver.close"
         ],
         "label": "FUNCTION",
         "name": "close",
         "node_id": "ddc2456c-cc27-4ae7-9ad2-f3ed4a61ac8d",
         "path": "blar-example-repos.debugger_agent.graph_construction.neo4j_manager.Neo4jManager.close",
         "signature": "def close(self):\n        # Close the connection to the database",
         "text": "def close(self):\n        # Close the connection to the database\n        self.driver.close()"
        },
        "scale_factor": 1,
        "size": [
         55,
         55
        ],
        "styles": {},
        "type": "#2196F3"
       },
       {
        "color": "#2196F3",
        "id": 123,
        "label": "FUNCTION",
        "position": [
         0,
         0
        ],
        "properties": {
         "file_node_id": "2393b4eb-ac87-475d-ae01-f3de0b45d0d5",
         "function_calls": [
          "Neo4jManager.driver.session",
          "session.write_transaction"
         ],
         "label": "FUNCTION",
         "name": "create_nodes",
         "node_id": "a282c092-8ef3-4cd3-a315-f9ab98e637cf",
         "path": "blar-example-repos.debugger_agent.graph_construction.neo4j_manager.Neo4jManager.create_nodes",
         "signature": "def create_nodes(self, nodeList: List[Any]):\n        # Function to create nodes in the Neo4j database",
         "text": "def create_nodes(self, nodeList: List[Any]):\n        # Function to create nodes in the Neo4j database\n        with self.driver.session() as session:\n            session.write_transaction(self._create_nodes_txn, nodeList)"
        },
        "scale_factor": 1,
        "size": [
         55,
         55
        ],
        "styles": {},
        "type": "#2196F3"
       },
       {
        "color": "#2196F3",
        "id": 124,
        "label": "FUNCTION",
        "position": [
         0,
         0
        ],
        "properties": {
         "file_node_id": "2393b4eb-ac87-475d-ae01-f3de0b45d0d5",
         "function_calls": [
          "Neo4jManager.driver.session",
          "session.write_transaction"
         ],
         "label": "FUNCTION",
         "name": "create_edges",
         "node_id": "3ffb6ec0-971e-49cd-b0cb-3c538fb47869",
         "path": "blar-example-repos.debugger_agent.graph_construction.neo4j_manager.Neo4jManager.create_edges",
         "signature": "def create_edges(self, edgesList: List[Any]):\n        # Function to create edges between nodes in the Neo4j database",
         "text": "def create_edges(self, edgesList: List[Any]):\n        # Function to create edges between nodes in the Neo4j database\n        with self.driver.session() as session:\n            session.write_transaction(self._create_edges_txn, edgesList)"
        },
        "scale_factor": 1,
        "size": [
         55,
         55
        ],
        "styles": {},
        "type": "#2196F3"
       },
       {
        "color": "#2196F3",
        "id": 125,
        "label": "FUNCTION",
        "position": [
         0,
         0
        ],
        "properties": {
         "file_node_id": "2393b4eb-ac87-475d-ae01-f3de0b45d0d5",
         "function_calls": [
          "query.replace.replace"
         ],
         "label": "FUNCTION",
         "name": "format_query",
         "node_id": "bc93f7fd-5ef1-4a13-858d-e7f221b77624",
         "path": "blar-example-repos.debugger_agent.graph_construction.neo4j_manager.Neo4jManager.format_query",
         "signature": "def format_query(self, query: str):\n        # Function to format the query to be used in the fulltext index",
         "text": "def format_query(self, query: str):\n        # Function to format the query to be used in the fulltext index\n        special_characters = [\n            \"+\",\n            \"-\",\n            \"&&\",\n            \"||\",\n            \"!\",\n            \"(\",\n            \")\",\n            \"{\",\n            \"}\",\n            \"[\",\n            \"]\",\n            \"^\",\n            '\"',\n            \"~\",\n            \"*\",\n            \"?\",\n            \":\",\n            \"\\\\\",\n            \"/\",\n        ]\n        for character in special_characters:\n            query = query.replace(character, f\"\\\\{character}\")\n        return query"
        },
        "scale_factor": 1,
        "size": [
         55,
         55
        ],
        "styles": {},
        "type": "#2196F3"
       },
       {
        "color": "#2196F3",
        "id": 126,
        "label": "FUNCTION",
        "position": [
         0,
         0
        ],
        "properties": {
         "file_node_id": "2393b4eb-ac87-475d-ae01-f3de0b45d0d5",
         "function_calls": [
          "Neo4jManager.driver.session",
          "session.run",
          "session.run.data"
         ],
         "label": "FUNCTION",
         "name": "get_node_by_id",
         "node_id": "ca185ab4-e2a9-440c-a284-c566f6a2c32e",
         "path": "blar-example-repos.debugger_agent.graph_construction.neo4j_manager.Neo4jManager.get_node_by_id",
         "signature": "def get_node_by_id(self, node_id: str):",
         "text": "def get_node_by_id(self, node_id: str):\n        query = \"\"\"\n        MATCH (n)\n        WHERE n.node_id = $node_id\n\n        // Collect outgoing relationships\n        OPTIONAL MATCH (n)-[r]->(m)\n        WITH n, collect({relationType: type(r), node_id: m.node_id, nodeType: labels(m)}) as outgoingRelationships\n\n        // Collect incoming relationships\n        OPTIONAL MATCH (n)<-[r]-(m)\n        WITH n, outgoingRelationships, collect({relationType: type(r), node_id: m.node_id, nodeType: labels(m)}) as incomingRelationships\n\n        // Aggregate relationships by type\n        RETURN properties(n) as properties,\n            {\n                outgoing: outgoingRelationships,\n                incoming: incomingRelationships\n            } as relationships\n\n        \"\"\"\n        with self.driver.session() as session:\n            result = session.run(query, {\"node_id\": node_id})\n            return result.data()[0]"
        },
        "scale_factor": 1,
        "size": [
         55,
         55
        ],
        "styles": {},
        "type": "#2196F3"
       },
       {
        "color": "#2196F3",
        "id": 127,
        "label": "FUNCTION",
        "position": [
         0,
         0
        ],
        "properties": {
         "file_node_id": "2393b4eb-ac87-475d-ae01-f3de0b45d0d5",
         "function_calls": [
          "Neo4jManager.format_query",
          "Neo4jManager.driver.session",
          "session.run",
          "session.run.data"
         ],
         "label": "FUNCTION",
         "name": "get_code",
         "node_id": "b7cec3a1-a1f6-4e96-9b6c-c6a731b1cb41",
         "path": "blar-example-repos.debugger_agent.graph_construction.neo4j_manager.Neo4jManager.get_code",
         "signature": "def get_code(self, query: str):\n        # Function to get code from the Neo4j database based on a keyword query",
         "text": "def get_code(self, query: str):\n        # Function to get code from the Neo4j database based on a keyword query\n        formatted_query = self.format_query(query)\n        node_query = f\"\"\"\n    CALL db.index.fulltext.queryNodes(\"functionNames\", \"*{formatted_query}\") YIELD node, score\n    RETURN node, score\n        \"\"\"\n        with self.driver.session() as session:\n            result = session.run(node_query)\n            return result.data()"
        },
        "scale_factor": 1,
        "size": [
         55,
         55
        ],
        "styles": {},
        "type": "#2196F3"
       },
       {
        "color": "#2196F3",
        "id": 180,
        "label": "FUNCTION",
        "position": [
         0,
         0
        ],
        "properties": {
         "file_node_id": "2393b4eb-ac87-475d-ae01-f3de0b45d0d5",
         "function_calls": [
          "Neo4jManager.driver.session",
          "session.run",
          "session.run.data"
         ],
         "label": "FUNCTION",
         "name": "get_graph_by_path",
         "node_id": "e4311af0-f493-4b92-a0f8-7eccaddd8d98",
         "path": "blar-example-repos.debugger_agent.graph_construction.neo4j_manager.Neo4jManager.get_graph_by_path",
         "signature": "def get_graph_by_path(self, path: str):",
         "text": "def get_graph_by_path(self, path: str):\n        node_query = f\"\"\"\n    MATCH (nodes) WHERE nodes.path CONTAINS $path return nodes\n        \"\"\"\n        with self.driver.session() as session:\n            result = session.run(node_query, {\"path\": path})\n            return result.data()"
        },
        "scale_factor": 1,
        "size": [
         55,
         55
        ],
        "styles": {},
        "type": "#2196F3"
       },
       {
        "color": "#2196F3",
        "id": 184,
        "label": "FUNCTION",
        "position": [
         0,
         0
        ],
        "properties": {
         "file_node_id": "2393b4eb-ac87-475d-ae01-f3de0b45d0d5",
         "function_calls": [
          "tx.run",
          "print"
         ],
         "label": "FUNCTION",
         "name": "_create_nodes_txn",
         "node_id": "be2ef406-0f7b-4c7e-89a0-9ab5c486315a",
         "path": "blar-example-repos.debugger_agent.graph_construction.neo4j_manager.Neo4jManager._create_nodes_txn",
         "signature": "def _create_nodes_txn(tx, nodeList: List[Any]):\n        # Transaction function for creating nodes with dynamic labels",
         "text": "def _create_nodes_txn(tx, nodeList: List[Any]):\n        # Transaction function for creating nodes with dynamic labels\n        node_query = f\"\"\"\n    UNWIND $nodeList AS node\n    CALL apoc.create.node([node.type], node.attributes)\n    YIELD node as n\n    RETURN count(n) as createdNodesCount\n    \"\"\"\n        result = tx.run(node_query, nodeList=nodeList)\n\n        for record in result:\n            print(f\"Created {record['createdNodesCount']} nodes\")"
        },
        "scale_factor": 1,
        "size": [
         55,
         55
        ],
        "styles": {},
        "type": "#2196F3"
       },
       {
        "color": "#2196F3",
        "id": 302,
        "label": "FUNCTION",
        "position": [
         0,
         0
        ],
        "properties": {
         "file_node_id": "2393b4eb-ac87-475d-ae01-f3de0b45d0d5",
         "function_calls": [
          "tx.run"
         ],
         "label": "FUNCTION",
         "name": "_create_edges_txn",
         "node_id": "f301e1d0-aec5-4706-a39c-84d375c7e19d",
         "path": "blar-example-repos.debugger_agent.graph_construction.neo4j_manager.Neo4jManager._create_edges_txn",
         "signature": "def _create_edges_txn(tx, edgesList: List[Any]):\n        # Transaction function for creating edges",
         "text": "def _create_edges_txn(tx, edgesList: List[Any]):\n        # Transaction function for creating edges\n        edge_query = \"\"\"\n    WITH $edgesList AS edges\n    UNWIND edges AS edgeObject\n    MATCH (node1 {node_id: edgeObject.sourceId})\n    MATCH (node2 {node_id: edgeObject.targetId})\n    CALL apoc.create.relationship(node1, edgeObject.type, {}, node2)\n    YIELD rel\n    RETURN rel;\n    \"\"\"\n        tx.run(edge_query, edgesList=edgesList)"
        },
        "scale_factor": 1,
        "size": [
         55,
         55
        ],
        "styles": {},
        "type": "#2196F3"
       },
       {
        "color": "#4CAF50",
        "id": 134,
        "label": "FILE",
        "position": [
         0,
         0
        ],
        "properties": {
         "function_calls": [
          "load_dotenv",
          "Neo4jManager",
          "Neo4jManager.get_node_by_id",
          "Neo4jManager.close"
         ],
         "label": "FILE",
         "name": "neo4j_manager",
         "node_id": "01829784-458d-4e20-a7c2-c373a332b733",
         "path": "blar-example-repos.debugger_agent.graph_construction.neo4j_manager",
         "text": "import os\nfrom typing import Any, List\n\nfrom dotenv import load_dotenv\nfrom neo4j import GraphDatabase\n\nload_dotenv()\n\n\nclass Neo4jManager:\n    # Code replaced for brevity. See node_id e38078a2-a1ad-4228-86a6-bcdd5a4042ff\n\n\nif __name__ == \"__main__\":\n    graph = Neo4jManager()\n    result = graph.get_node_by_id(\"fc33457f-43dd-414c-b074-1142e724ba30\")\n    graph.close()"
        },
        "scale_factor": 1,
        "size": [
         55,
         55
        ],
        "styles": {},
        "type": "#4CAF50"
       },
       {
        "color": "#F44336",
        "id": 135,
        "label": "CLASS",
        "position": [
         0,
         0
        ],
        "properties": {
         "file_node_id": "01829784-458d-4e20-a7c2-c373a332b733",
         "label": "CLASS",
         "name": "Neo4jManager",
         "node_id": "e38078a2-a1ad-4228-86a6-bcdd5a4042ff",
         "path": "blar-example-repos.debugger_agent.graph_construction.neo4j_manager.Neo4jManager",
         "signature": "class Neo4jManager:",
         "text": "class Neo4jManager:\n    def __init__(self):\n        # Code replaced for brevity. See node_id 2a2c9118-47e4-4dd9-8d59-e270a71e624d\n\n    def create_function_name_index(self):\n        # Creates a fulltext index on the name and path properties of the nodes\n        # Code replaced for brevity. See node_id f34f60ca-a644-4f62-b921-062e785f106f\n\n    def close(self):\n        # Close the connection to the database\n        # Code replaced for brevity. See node_id c5fe9d68-0e32-47e8-8697-398895c33b6d\n\n    def create_nodes(self, nodeList: List[Any]):\n        # Function to create nodes in the Neo4j database\n        # Code replaced for brevity. See node_id 42030601-725c-460a-90ef-996f520368d2\n\n    def create_edges(self, edgesList: List[Any]):\n        # Function to create edges between nodes in the Neo4j database\n        # Code replaced for brevity. See node_id 8f87c08c-f738-48e2-ac79-2f4c9c4d8678\n\n    def format_query(self, query: str):\n        # Function to format the query to be used in the fulltext index\n        # Code replaced for brevity. See node_id 39f1c520-77aa-44a5-a026-eacc6e0ee8e2\n\n    def get_node_by_id(self, node_id: str):\n        # Code replaced for brevity. See node_id 96b36dd6-d7d9-40c2-9f89-b3c447acfa41\n\n    def get_code(self, query: str):\n        # Function to get code from the Neo4j database based on a keyword query\n        # Code replaced for brevity. See node_id 4ebe754d-a749-4da3-b563-cc446e8b7ffe\n\n    def get_graph_by_path(self, path: str):\n        # Code replaced for brevity. See node_id f9bb3dfd-a7a3-4bdb-9074-e371d52fc036\n\n    def get_n_hop_neighbours(self, node_id: str, num_hops: int):\n        # Function to get code from the Neo4j database based on a keyword query\n        # Code replaced for brevity. See node_id 618f1627-8853-4671-a566-f732344dddaf\n\n    @staticmethod\n    def _create_nodes_txn(tx, nodeList: List[Any]):\n        # Transaction function for creating nodes with dynamic labels\n        # Code replaced for brevity. See node_id 044b50d2-2f68-4bfb-b622-fd46b0e021d7\n\n    @staticmethod\n    def _create_edges_txn(tx, edgesList: List[Any]):\n        # Transaction function for creating edges\n        # Code replaced for brevity. See node_id 0c9266cf-d162-4fed-9980-a0c498be737c"
        },
        "scale_factor": 1,
        "size": [
         55,
         55
        ],
        "styles": {},
        "type": "#F44336"
       },
       {
        "color": "#2196F3",
        "id": 136,
        "label": "FUNCTION",
        "position": [
         0,
         0
        ],
        "properties": {
         "file_node_id": "01829784-458d-4e20-a7c2-c373a332b733",
         "function_calls": [
          "os.getenv",
          "os.getenv",
          "os.getenv",
          "GraphDatabase.driver",
          "Neo4jManager.create_function_name_index"
         ],
         "label": "FUNCTION",
         "name": "__init__",
         "node_id": "2a2c9118-47e4-4dd9-8d59-e270a71e624d",
         "path": "blar-example-repos.debugger_agent.graph_construction.neo4j_manager.Neo4jManager.__init__",
         "signature": "def __init__(self):",
         "text": "def __init__(self):\n        uri = os.getenv(\"NEO4J_URI\")\n        user = os.getenv(\"NEO4J_USERNAME\")\n        password = os.getenv(\"NEO4J_PASSWORD\")\n\n        self.driver = GraphDatabase.driver(uri, auth=(user, password))\n        self.create_function_name_index()"
        },
        "scale_factor": 1,
        "size": [
         55,
         55
        ],
        "styles": {},
        "type": "#2196F3"
       },
       {
        "color": "#2196F3",
        "id": 137,
        "label": "FUNCTION",
        "position": [
         0,
         0
        ],
        "properties": {
         "file_node_id": "01829784-458d-4e20-a7c2-c373a332b733",
         "function_calls": [
          "Neo4jManager.driver.session",
          "session.run"
         ],
         "label": "FUNCTION",
         "name": "create_function_name_index",
         "node_id": "f34f60ca-a644-4f62-b921-062e785f106f",
         "path": "blar-example-repos.debugger_agent.graph_construction.neo4j_manager.Neo4jManager.create_function_name_index",
         "signature": "def create_function_name_index(self):\n        # Creates a fulltext index on the name and path properties of the nodes",
         "text": "def create_function_name_index(self):\n        # Creates a fulltext index on the name and path properties of the nodes\n        with self.driver.session() as session:\n            node_query = \"\"\"\n            CREATE FULLTEXT INDEX functionNames IF NOT EXISTS FOR (n:CLASS|FUNCTION|FILE_ROOT) ON EACH [n.name, n.path, n.node_id]\n            \"\"\"\n            session.run(node_query)"
        },
        "scale_factor": 1,
        "size": [
         55,
         55
        ],
        "styles": {},
        "type": "#2196F3"
       },
       {
        "color": "#2196F3",
        "id": 138,
        "label": "FUNCTION",
        "position": [
         0,
         0
        ],
        "properties": {
         "file_node_id": "01829784-458d-4e20-a7c2-c373a332b733",
         "function_calls": [
          "Neo4jManager.driver.close"
         ],
         "label": "FUNCTION",
         "name": "close",
         "node_id": "c5fe9d68-0e32-47e8-8697-398895c33b6d",
         "path": "blar-example-repos.debugger_agent.graph_construction.neo4j_manager.Neo4jManager.close",
         "signature": "def close(self):\n        # Close the connection to the database",
         "text": "def close(self):\n        # Close the connection to the database\n        self.driver.close()"
        },
        "scale_factor": 1,
        "size": [
         55,
         55
        ],
        "styles": {},
        "type": "#2196F3"
       },
       {
        "color": "#2196F3",
        "id": 139,
        "label": "FUNCTION",
        "position": [
         0,
         0
        ],
        "properties": {
         "file_node_id": "01829784-458d-4e20-a7c2-c373a332b733",
         "function_calls": [
          "Neo4jManager.driver.session",
          "session.write_transaction"
         ],
         "label": "FUNCTION",
         "name": "create_nodes",
         "node_id": "42030601-725c-460a-90ef-996f520368d2",
         "path": "blar-example-repos.debugger_agent.graph_construction.neo4j_manager.Neo4jManager.create_nodes",
         "signature": "def create_nodes(self, nodeList: List[Any]):\n        # Function to create nodes in the Neo4j database",
         "text": "def create_nodes(self, nodeList: List[Any]):\n        # Function to create nodes in the Neo4j database\n        with self.driver.session() as session:\n            session.write_transaction(self._create_nodes_txn, nodeList)"
        },
        "scale_factor": 1,
        "size": [
         55,
         55
        ],
        "styles": {},
        "type": "#2196F3"
       },
       {
        "color": "#2196F3",
        "id": 140,
        "label": "FUNCTION",
        "position": [
         0,
         0
        ],
        "properties": {
         "file_node_id": "01829784-458d-4e20-a7c2-c373a332b733",
         "function_calls": [
          "Neo4jManager.driver.session",
          "session.write_transaction"
         ],
         "label": "FUNCTION",
         "name": "create_edges",
         "node_id": "8f87c08c-f738-48e2-ac79-2f4c9c4d8678",
         "path": "blar-example-repos.debugger_agent.graph_construction.neo4j_manager.Neo4jManager.create_edges",
         "signature": "def create_edges(self, edgesList: List[Any]):\n        # Function to create edges between nodes in the Neo4j database",
         "text": "def create_edges(self, edgesList: List[Any]):\n        # Function to create edges between nodes in the Neo4j database\n        with self.driver.session() as session:\n            session.write_transaction(self._create_edges_txn, edgesList)"
        },
        "scale_factor": 1,
        "size": [
         55,
         55
        ],
        "styles": {},
        "type": "#2196F3"
       },
       {
        "color": "#2196F3",
        "id": 141,
        "label": "FUNCTION",
        "position": [
         0,
         0
        ],
        "properties": {
         "file_node_id": "01829784-458d-4e20-a7c2-c373a332b733",
         "function_calls": [
          "query.replace.replace"
         ],
         "label": "FUNCTION",
         "name": "format_query",
         "node_id": "39f1c520-77aa-44a5-a026-eacc6e0ee8e2",
         "path": "blar-example-repos.debugger_agent.graph_construction.neo4j_manager.Neo4jManager.format_query",
         "signature": "def format_query(self, query: str):\n        # Function to format the query to be used in the fulltext index",
         "text": "def format_query(self, query: str):\n        # Function to format the query to be used in the fulltext index\n        special_characters = [\n            \"+\",\n            \"-\",\n            \"&&\",\n            \"||\",\n            \"!\",\n            \"(\",\n            \")\",\n            \"{\",\n            \"}\",\n            \"[\",\n            \"]\",\n            \"^\",\n            '\"',\n            \"~\",\n            \"*\",\n            \"?\",\n            \":\",\n            \"\\\\\",\n            \"/\",\n        ]\n        for character in special_characters:\n            query = query.replace(character, f\"\\\\{character}\")\n        return query"
        },
        "scale_factor": 1,
        "size": [
         55,
         55
        ],
        "styles": {},
        "type": "#2196F3"
       },
       {
        "color": "#2196F3",
        "id": 142,
        "label": "FUNCTION",
        "position": [
         0,
         0
        ],
        "properties": {
         "file_node_id": "01829784-458d-4e20-a7c2-c373a332b733",
         "function_calls": [
          "Neo4jManager.driver.session",
          "session.run",
          "session.run.data"
         ],
         "label": "FUNCTION",
         "name": "get_node_by_id",
         "node_id": "96b36dd6-d7d9-40c2-9f89-b3c447acfa41",
         "path": "blar-example-repos.debugger_agent.graph_construction.neo4j_manager.Neo4jManager.get_node_by_id",
         "signature": "def get_node_by_id(self, node_id: str):",
         "text": "def get_node_by_id(self, node_id: str):\n        query = \"\"\"\n        MATCH (n)\n        WHERE n.node_id = $node_id\n\n        // Collect outgoing relationships\n        OPTIONAL MATCH (n)-[r]->(m)\n        WITH n, collect({relationType: type(r), node_id: m.node_id, nodeType: labels(m)}) as outgoingRelationships\n\n        // Collect incoming relationships\n        OPTIONAL MATCH (n)<-[r]-(m)\n        WITH n, outgoingRelationships, collect({relationType: type(r), node_id: m.node_id, nodeType: labels(m)}) as incomingRelationships\n\n        // Aggregate relationships by type\n        RETURN properties(n) as properties,\n            {\n                outgoing: outgoingRelationships,\n                incoming: incomingRelationships\n            } as relationships\n\n        \"\"\"\n        with self.driver.session() as session:\n            result = session.run(query, {\"node_id\": node_id})\n            return result.data()[0]"
        },
        "scale_factor": 1,
        "size": [
         55,
         55
        ],
        "styles": {},
        "type": "#2196F3"
       },
       {
        "color": "#2196F3",
        "id": 143,
        "label": "FUNCTION",
        "position": [
         0,
         0
        ],
        "properties": {
         "file_node_id": "01829784-458d-4e20-a7c2-c373a332b733",
         "function_calls": [
          "Neo4jManager.format_query",
          "Neo4jManager.driver.session",
          "session.run",
          "session.run.data"
         ],
         "label": "FUNCTION",
         "name": "get_code",
         "node_id": "4ebe754d-a749-4da3-b563-cc446e8b7ffe",
         "path": "blar-example-repos.debugger_agent.graph_construction.neo4j_manager.Neo4jManager.get_code",
         "signature": "def get_code(self, query: str):\n        # Function to get code from the Neo4j database based on a keyword query",
         "text": "def get_code(self, query: str):\n        # Function to get code from the Neo4j database based on a keyword query\n        formatted_query = self.format_query(query)\n        node_query = f\"\"\"\n    CALL db.index.fulltext.queryNodes(\"functionNames\", \"*{formatted_query}\") YIELD node, score\n    RETURN node, score\n        \"\"\"\n        with self.driver.session() as session:\n            result = session.run(node_query)\n            return result.data()"
        },
        "scale_factor": 1,
        "size": [
         55,
         55
        ],
        "styles": {},
        "type": "#2196F3"
       },
       {
        "color": "#2196F3",
        "id": 144,
        "label": "FUNCTION",
        "position": [
         0,
         0
        ],
        "properties": {
         "file_node_id": "01829784-458d-4e20-a7c2-c373a332b733",
         "function_calls": [
          "Neo4jManager.driver.session",
          "session.run",
          "session.run.data"
         ],
         "label": "FUNCTION",
         "name": "get_graph_by_path",
         "node_id": "f9bb3dfd-a7a3-4bdb-9074-e371d52fc036",
         "path": "blar-example-repos.debugger_agent.graph_construction.neo4j_manager.Neo4jManager.get_graph_by_path",
         "signature": "def get_graph_by_path(self, path: str):",
         "text": "def get_graph_by_path(self, path: str):\n        node_query = f\"\"\"\n    MATCH (nodes) WHERE nodes.path CONTAINS $path return nodes\n        \"\"\"\n        with self.driver.session() as session:\n            result = session.run(node_query, {\"path\": path})\n            return result.data()"
        },
        "scale_factor": 1,
        "size": [
         55,
         55
        ],
        "styles": {},
        "type": "#2196F3"
       },
       {
        "color": "#2196F3",
        "id": 145,
        "label": "FUNCTION",
        "position": [
         0,
         0
        ],
        "properties": {
         "file_node_id": "01829784-458d-4e20-a7c2-c373a332b733",
         "function_calls": [
          "Neo4jManager.driver.session",
          "session.run",
          "session.run.data"
         ],
         "label": "FUNCTION",
         "name": "get_n_hop_neighbours",
         "node_id": "618f1627-8853-4671-a566-f732344dddaf",
         "path": "blar-example-repos.debugger_agent.graph_construction.neo4j_manager.Neo4jManager.get_n_hop_neighbours",
         "signature": "def get_n_hop_neighbours(self, node_id: str, num_hops: int):\n        # Function to get code from the Neo4j database based on a keyword query",
         "text": "def get_n_hop_neighbours(self, node_id: str, num_hops: int):\n        # Function to get code from the Neo4j database based on a keyword query\n        with self.driver.session() as session:\n            result = session.run(\n                \"\"\"\n                MATCH (p {node_id: $node_id})\n                CALL apoc.neighbors.byhop(p, \">\", $num_hops)\n                YIELD nodes\n                UNWIND [p] + nodes AS all_nodes\n                RETURN all_nodes.text AS text\n                \"\"\",\n                node_id=node_id,\n                num_hops=num_hops,\n            )\n            return result.data()"
        },
        "scale_factor": 1,
        "size": [
         55,
         55
        ],
        "styles": {},
        "type": "#2196F3"
       },
       {
        "color": "#2196F3",
        "id": 146,
        "label": "FUNCTION",
        "position": [
         0,
         0
        ],
        "properties": {
         "file_node_id": "01829784-458d-4e20-a7c2-c373a332b733",
         "function_calls": [
          "tx.run",
          "print"
         ],
         "label": "FUNCTION",
         "name": "_create_nodes_txn",
         "node_id": "044b50d2-2f68-4bfb-b622-fd46b0e021d7",
         "path": "blar-example-repos.debugger_agent.graph_construction.neo4j_manager.Neo4jManager._create_nodes_txn",
         "signature": "def _create_nodes_txn(tx, nodeList: List[Any]):\n        # Transaction function for creating nodes with dynamic labels",
         "text": "def _create_nodes_txn(tx, nodeList: List[Any]):\n        # Transaction function for creating nodes with dynamic labels\n        node_query = f\"\"\"\n    UNWIND $nodeList AS node\n    CALL apoc.create.node([node.type], node.attributes)\n    YIELD node as n\n    RETURN count(n) as createdNodesCount\n    \"\"\"\n        result = tx.run(node_query, nodeList=nodeList)\n\n        for record in result:\n            print(f\"Created {record['createdNodesCount']} nodes\")"
        },
        "scale_factor": 1,
        "size": [
         55,
         55
        ],
        "styles": {},
        "type": "#2196F3"
       },
       {
        "color": "#2196F3",
        "id": 147,
        "label": "FUNCTION",
        "position": [
         0,
         0
        ],
        "properties": {
         "file_node_id": "01829784-458d-4e20-a7c2-c373a332b733",
         "function_calls": [
          "tx.run"
         ],
         "label": "FUNCTION",
         "name": "_create_edges_txn",
         "node_id": "0c9266cf-d162-4fed-9980-a0c498be737c",
         "path": "blar-example-repos.debugger_agent.graph_construction.neo4j_manager.Neo4jManager._create_edges_txn",
         "signature": "def _create_edges_txn(tx, edgesList: List[Any]):\n        # Transaction function for creating edges",
         "text": "def _create_edges_txn(tx, edgesList: List[Any]):\n        # Transaction function for creating edges\n        edge_query = \"\"\"\n    WITH $edgesList AS edges\n    UNWIND edges AS edgeObject\n    MATCH (node1 {node_id: edgeObject.sourceId})\n    MATCH (node2 {node_id: edgeObject.targetId})\n    CALL apoc.create.relationship(node1, edgeObject.type, {}, node2)\n    YIELD rel\n    RETURN rel;\n    \"\"\"\n        tx.run(edge_query, edgesList=edgesList)"
        },
        "scale_factor": 1,
        "size": [
         55,
         55
        ],
        "styles": {},
        "type": "#2196F3"
       },
       {
        "color": "#4CAF50",
        "id": 149,
        "label": "FILE",
        "position": [
         0,
         0
        ],
        "properties": {
         "function_calls": [
          "Neo4jManager",
          "GraphConstructor",
          "GraphConstructor.build_graph",
          "Neo4jManager.close"
         ],
         "label": "FILE",
         "name": "run",
         "node_id": "8295dd7c-d0c1-4813-82c8-e7c7271c30d2",
         "path": "blar-example-repos.debugger_agent.run",
         "text": "from blar_graph.graph_construction.graph_builder import GraphConstructor\nfrom blar_graph.graph_construction.neo4j_manager import Neo4jManager\n\ngraph_manager = Neo4jManager()\ngraph_constructor = GraphConstructor(graph_manager)\ngraph_constructor.build_graph(\"src\", \"python\")\ngraph_manager.close()"
        },
        "scale_factor": 1,
        "size": [
         55,
         55
        ],
        "styles": {},
        "type": "#4CAF50"
       },
       {
        "color": "#F44336",
        "id": 245,
        "label": "CLASS",
        "position": [
         0,
         0
        ],
        "properties": {
         "file_node_id": "a5425ae1-74de-4428-937b-cdaa43b25aa2",
         "label": "CLASS",
         "name": "GraphConstructor",
         "node_id": "98f498fd-aeaa-457b-8424-e295060bd8f8",
         "path": "blar-example-repos.debugger_agent.graph_construction.graph_builder.GraphConstructor",
         "signature": "class GraphConstructor:",
         "text": "class GraphConstructor:\n    def __init__(self, graph_manager: Neo4jManager):\n        # Code replaced for brevity. See node_id 59a8b2ff-ce31-409c-a5cc-e580d2005554\n\n    def _scan_directory(\n        self,\n        path,\n        language=\"python\",\n        nodes=[],\n        relationships=[],\n        imports={},\n        parent_id=None,\n    ):\n        # Code replaced for brevity. See node_id 99a41220-f263-409b-adac-aef53d55f405\n\n    def _relate_imports(self, imports: dict):\n        # Code replaced for brevity. See node_id d6e3d3f1-6e11-477a-b202-6ea3ef957b89\n\n    def _relate_function_calls(self, node_list, imports):\n        # Code replaced for brevity. See node_id 9fecbebb-14ef-4957-91aa-fe5f68c939e7\n\n    def build_graph(self, path, language):\n        # process every node to create the graph structure\n        # Code replaced for brevity. See node_id 396cad48-6899-4898-8544-db577f1e5b2e"
        },
        "scale_factor": 1,
        "size": [
         55,
         55
        ],
        "styles": {},
        "type": "#F44336"
       },
       {
        "color": "#607D8B",
        "id": 151,
        "label": "PACKAGE",
        "position": [
         0,
         0
        ],
        "properties": {
         "label": "PACKAGE",
         "name": "debugger_agent",
         "node_id": "b0a68d24-5f62-43f3-b923-9fd8b4bd11bc",
         "path": "blar-example-repos/debugger_agent/"
        },
        "scale_factor": 1,
        "size": [
         55,
         55
        ],
        "styles": {},
        "type": "#607D8B"
       },
       {
        "color": "#4CAF50",
        "id": 59,
        "label": "FILE",
        "position": [
         0,
         0
        ],
        "properties": {
         "label": "FILE",
         "name": "__init__.py",
         "node_id": "cdb7fe00-f486-4ec0-84cf-f7c9c4aa11e2",
         "path": "blar-example-repos/debugger_agent/__init__.py"
        },
        "scale_factor": 1,
        "size": [
         55,
         55
        ],
        "styles": {},
        "type": "#4CAF50"
       },
       {
        "color": "#607D8B",
        "id": 152,
        "label": "PACKAGE",
        "position": [
         0,
         0
        ],
        "properties": {
         "label": "PACKAGE",
         "name": "utils",
         "node_id": "5e8f2be8-0348-43b0-bf5c-58efeb51af59",
         "path": "blar-example-repos/debugger_agent/utils/"
        },
        "scale_factor": 1,
        "size": [
         55,
         55
        ],
        "styles": {},
        "type": "#607D8B"
       },
       {
        "color": "#4CAF50",
        "id": 166,
        "label": "FILE",
        "position": [
         0,
         0
        ],
        "properties": {
         "function_calls": [
          "Neo4jManager",
          "GraphConstructor",
          "GraphConstructor.build_graph",
          "Neo4jManager.close"
         ],
         "label": "FILE",
         "name": "run",
         "node_id": "ab484466-10df-495f-9549-2701da7b1972",
         "path": "blar-example-repos.debugger_agent.run",
         "text": "from blar_graph.graph_construction.graph_builder import GraphConstructor\nfrom blar_graph.graph_construction.neo4j_manager import Neo4jManager\n\ngraph_manager = Neo4jManager()\ngraph_constructor = GraphConstructor(graph_manager)\ngraph_constructor.build_graph(\"src\", \"python\")\ngraph_manager.close()"
        },
        "scale_factor": 1,
        "size": [
         55,
         55
        ],
        "styles": {},
        "type": "#4CAF50"
       },
       {
        "color": "#4CAF50",
        "id": 101,
        "label": "FILE",
        "position": [
         0,
         0
        ],
        "properties": {
         "label": "FILE",
         "name": "__init__.py",
         "node_id": "4f7d6df0-fb8c-4981-9d96-9e4c356bce2d",
         "path": "blar-example-repos/debugger_agent/utils/__init__.py"
        },
        "scale_factor": 1,
        "size": [
         55,
         55
        ],
        "styles": {},
        "type": "#4CAF50"
       },
       {
        "color": "#2196F3",
        "id": 155,
        "label": "FUNCTION",
        "position": [
         0,
         0
        ],
        "properties": {
         "file_node_id": "868679fa-944a-4d38-b170-567546919777",
         "function_calls": [
          "params_str.strip"
         ],
         "label": "FUNCTION",
         "name": "count_parameters",
         "node_id": "e8074616-3c76-41d7-9e5f-00f51e16fd6e",
         "path": "blar-example-repos.debugger_agent.utils.tree_parser.count_parameters",
         "signature": "def count_parameters(params_str):\n    # Count parameters considering string literals and ignoring commas within them.\n    # This simplistic approach assumes balanced quotes and no escaped quotes within strings.",
         "text": "def count_parameters(params_str):\n    # Count parameters considering string literals and ignoring commas within them.\n    # This simplistic approach assumes balanced quotes and no escaped quotes within strings.\n    in_string = False\n    param_count = (\n        0 if not params_str else 1\n    )  # Start with 1 parameter if the string is not empty\n\n    for char in params_str:\n        if char == '\"':\n            in_string = not in_string  # Toggle state\n        elif char == \",\" and not in_string:\n            param_count += (\n                1  # Count commas outside of string literals as parameter separators\n            )\n\n    # Edge case for empty parameter list or only spaces\n    if param_count == 1 and not params_str.strip():\n        return 0\n\n    return param_count"
        },
        "scale_factor": 1,
        "size": [
         55,
         55
        ],
        "styles": {},
        "type": "#2196F3"
       },
       {
        "color": "#2196F3",
        "id": 158,
        "label": "FUNCTION",
        "position": [
         0,
         0
        ],
        "properties": {
         "file_node_id": "868679fa-944a-4d38-b170-567546919777",
         "function_calls": [
          "tree_sitter_languages.get_parser",
          "tree_sitter_languages.get_parser.parse",
          "bytes",
          "map",
          "traverse_tree",
          "variable_identifier.text.decode",
          "root_caller.text.decode",
          "function_calls.append",
          "function_calls.append",
          "tree_node.text.decode",
          "map",
          "parse_function_call",
          "filter",
          "list"
         ],
         "label": "FUNCTION",
         "name": "get_function_calls",
         "node_id": "b6b0e156-b0c4-492c-a090-a4fdfb1b4915",
         "path": "blar-example-repos.debugger_agent.utils.tree_parser.get_function_calls",
         "signature": "def get_function_calls(node, assigments_dict: dict) -> list[str]:",
         "text": "def get_function_calls(node, assigments_dict: dict) -> list[str]:\n    code_text = node.text\n\n    parser = tree_sitter_languages.get_parser(\"python\")\n    tree = parser.parse(bytes(code_text, \"utf-8\"))\n    node_names = map(lambda node: node, traverse_tree(tree))\n\n    function_calls = []\n\n    for tree_node in node_names:\n        if tree_node.type == \"expression_statement\":\n            statement_children = tree_node.children\n            if statement_children[0].type == \"assignment\":\n                assigment = statement_children[0].named_children\n\n                variable_identifier = assigment[0]\n                assign_value = assigment[1]\n                if assign_value.type == \"call\":\n                    expression = assign_value\n                    expression_identifier = expression.named_children[0].text.decode()\n\n                    assigments_dict[variable_identifier.text.decode(\"utf-8\")] = (\n                        expression_identifier\n                    )\n\n        if tree_node.type == \"call\":\n            call_children = tree_node.named_children\n            if (\n                call_children[0].type == \"attribute\"\n                and call_children[1].type == \"argument_list\"\n            ):\n                attribute_children = call_children[0].named_children\n                root_caller = attribute_children[0]\n                if root_caller.type == \"identifier\":\n                    root_caller_identifier = root_caller.text.decode(\"utf-8\")\n                    if root_caller_identifier in assigments_dict:\n                        function_calls.append(\n                            assigments_dict[root_caller_identifier]\n                            + \".\"\n                            + attribute_children[1].text.decode(\"utf-8\")\n                            + \"()\"\n                        )\n                        continue\n            function_calls.append(tree_node.text.decode(\"utf-8\"))\n\n    parsed_function_calls = map(\n        lambda x: parse_function_call(x, node.metadata[\"inclusive_scopes\"]),\n        function_calls,\n    )\n\n    filtered_calls = filter(lambda x: x is not None, parsed_function_calls)\n    return list(filtered_calls)"
        },
        "scale_factor": 1,
        "size": [
         55,
         55
        ],
        "styles": {},
        "type": "#2196F3"
       },
       {
        "color": "#2196F3",
        "id": 160,
        "label": "FUNCTION",
        "position": [
         0,
         0
        ],
        "properties": {
         "file_node_id": "868679fa-944a-4d38-b170-567546919777",
         "function_calls": [
          "module_name.split",
          "current_dir.startswith",
          "os.path.join",
          "os.path.exists",
          "is_package",
          "os.path.join.replace",
          "os.path.dirname"
         ],
         "label": "FUNCTION",
         "name": "find_module_path",
         "node_id": "c031f139-1fbb-48bb-be2a-1860f700ac7f",
         "path": "blar-example-repos.debugger_agent.utils.tree_parser.find_module_path",
         "signature": "def find_module_path(module_name, start_dir, project_root):",
         "text": "def find_module_path(module_name, start_dir, project_root):\n    current_dir = start_dir\n    components = module_name.split(\".\")\n\n    # Try to find the module by traversing up towards the root until the module path is found or root is reached\n    while current_dir.startswith(project_root):\n        possible_path = os.path.join(current_dir, *components)\n        # Check for a direct module or package\n        if os.path.exists(possible_path + \".py\") or is_package(possible_path):\n            return possible_path.replace(\"/\", \".\")\n        # Move one directory up\n        current_dir = os.path.dirname(current_dir)\n    return None"
        },
        "scale_factor": 1,
        "size": [
         55,
         55
        ],
        "styles": {},
        "type": "#2196F3"
       },
       {
        "color": "#2196F3",
        "id": 161,
        "label": "FUNCTION",
        "position": [
         0,
         0
        ],
        "properties": {
         "file_node_id": "868679fa-944a-4d38-b170-567546919777",
         "function_calls": [
          "import_statement.startswith",
          "import_statement.count",
          "range",
          "os.path.dirname",
          "os.path.join",
          "os.path.exists",
          "is_package",
          "find_module_path"
         ],
         "label": "FUNCTION",
         "name": "resolve_import_path",
         "node_id": "d801d3b8-d4f3-4ced-b67d-ab10146ee76b",
         "path": "blar-example-repos.debugger_agent.utils.tree_parser.resolve_import_path",
         "signature": "def resolve_import_path(import_statement, current_file_directory, project_root):",
         "text": "def resolve_import_path(import_statement, current_file_directory, project_root):\n    \"\"\"\n    Resolve the absolute path of an import statement.\n    import_statement: The imported module as a string (e.g., 'os', 'my_package.my_module').\n    current_file_directory: The directory of the file containing the import statement.\n    project_root: The root directory of the project.\n    \"\"\"\n    # Handling relative imports\n    if import_statement.startswith(\".\"):\n        parent_levels = import_statement.count(\".\")\n        relative_path = import_statement[parent_levels:].replace(\".\", os.sep)\n        base_path = current_file_directory\n        for _ in range(parent_levels - 1):\n            base_path = os.path.dirname(base_path)\n        absolute_path = os.path.join(base_path, relative_path)\n        if os.path.exists(absolute_path + \".py\"):\n            return absolute_path + \".py\"\n        elif is_package(absolute_path):\n            return absolute_path\n    else:\n        # Handling absolute imports\n        return find_module_path(import_statement, current_file_directory, project_root)\n\n    # If the module wasn't found, it might be a built-in or third-party module not contained within the project\n    return None"
        },
        "scale_factor": 1,
        "size": [
         55,
         55
        ],
        "styles": {},
        "type": "#2196F3"
       },
       {
        "color": "#2196F3",
        "id": 99,
        "label": "FUNCTION",
        "position": [
         0,
         0
        ],
        "properties": {
         "file_node_id": "503850f8-8789-46af-85f5-88d71f4545e6",
         "function_calls": [
          "os.path.basename"
         ],
         "label": "FUNCTION",
         "name": "format_file_node",
         "node_id": "bbd8d1bc-a54c-4309-bdaa-fdee2eafaeb8",
         "path": "blar-example-repos.debugger_agent.utils.format_nodes.format_file_node",
         "signature": "def format_file_node(\n    node: BaseNode, no_extension_path: str, function_calls: list[str]\n) -> dict:",
         "text": "def format_file_node(\n    node: BaseNode, no_extension_path: str, function_calls: list[str]\n) -> dict:\n    processed_node = {\n        \"type\": \"FILE\",\n        \"attributes\": {\n            \"text\": node.text,\n            \"node_id\": node.node_id,\n            \"function_calls\": function_calls,\n            \"name\": os.path.basename(no_extension_path),\n        },\n    }\n\n    return processed_node"
        },
        "scale_factor": 1,
        "size": [
         55,
         55
        ],
        "styles": {},
        "type": "#2196F3"
       },
       {
        "color": "#2196F3",
        "id": 100,
        "label": "FUNCTION",
        "position": [
         0,
         0
        ],
        "properties": {
         "file_node_id": "503850f8-8789-46af-85f5-88d71f4545e6",
         "function_calls": [
          "os.path.basename",
          "str",
          "uuid.uuid4"
         ],
         "label": "FUNCTION",
         "name": "format_directory_node",
         "node_id": "699eebc8-78d3-4d45-a7f7-ca3169d69dad",
         "path": "blar-example-repos.debugger_agent.utils.format_nodes.format_directory_node",
         "signature": "def format_directory_node(path: str, package: bool) -> dict:",
         "text": "def format_directory_node(path: str, package: bool) -> dict:\n    processed_node = {\n        \"attributes\": {\n            \"path\": path + \"/\",\n            \"name\": os.path.basename(path),\n            \"node_id\": str(uuid.uuid4()),\n        },\n        \"type\": \"PACKAGE\" if package else \"FOLDER\",\n    }\n\n    return processed_node"
        },
        "scale_factor": 1,
        "size": [
         55,
         55
        ],
        "styles": {},
        "type": "#2196F3"
       },
       {
        "color": "#2196F3",
        "id": 163,
        "label": "FUNCTION",
        "position": [
         0,
         0
        ],
        "properties": {
         "file_node_id": "503850f8-8789-46af-85f5-88d71f4545e6",
         "function_calls": [],
         "label": "FUNCTION",
         "name": "format_function_node",
         "node_id": "1d9e19ea-c43c-4f5f-b9a5-099712a93e7d",
         "path": "blar-example-repos.debugger_agent.utils.format_nodes.format_function_node",
         "signature": "def format_function_node(\n    node: BaseNode, scope: dict, function_calls: list[str], file_node_id: str\n) -> dict:",
         "text": "def format_function_node(\n    node: BaseNode, scope: dict, function_calls: list[str], file_node_id: str\n) -> dict:\n    name = scope[\"name\"]\n    signature = scope[\"signature\"]\n\n    processed_node = {\n        \"type\": \"FUNCTION\",\n        \"attributes\": {\n            \"name\": name,\n            \"signature\": signature,\n            \"text\": node.text,\n            \"node_id\": node.node_id,\n            \"function_calls\": function_calls,\n            \"file_node_id\": file_node_id,\n        },\n    }\n\n    return processed_node"
        },
        "scale_factor": 1,
        "size": [
         55,
         55
        ],
        "styles": {},
        "type": "#2196F3"
       },
       {
        "color": "#2196F3",
        "id": 164,
        "label": "FUNCTION",
        "position": [
         0,
         0
        ],
        "properties": {
         "file_node_id": "503850f8-8789-46af-85f5-88d71f4545e6",
         "function_calls": [],
         "label": "FUNCTION",
         "name": "format_class_node",
         "node_id": "9704ca09-fa3f-4268-9e75-5a6c6e34638a",
         "path": "blar-example-repos.debugger_agent.utils.format_nodes.format_class_node",
         "signature": "def format_class_node(node: BaseNode, scope: dict, file_node_id: str) -> dict:",
         "text": "def format_class_node(node: BaseNode, scope: dict, file_node_id: str) -> dict:\n    name = scope[\"name\"]\n    signature = scope[\"signature\"]\n\n    processed_node = {\n        \"type\": \"CLASS\",\n        \"attributes\": {\n            \"name\": name,\n            \"signature\": signature,\n            \"text\": node.text,\n            \"node_id\": node.node_id,\n            \"file_node_id\": file_node_id,\n        },\n    }\n\n    return processed_node"
        },
        "scale_factor": 1,
        "size": [
         55,
         55
        ],
        "styles": {},
        "type": "#2196F3"
       },
       {
        "color": "#2196F3",
        "id": 165,
        "label": "FUNCTION",
        "position": [
         0,
         0
        ],
        "properties": {
         "file_node_id": "ed704638-5074-4419-9f63-0c31bf765257",
         "function_calls": [
          "tree_sitter_languages.get_parser",
          "tree_sitter_languages.get_parser.parse",
          "bytes",
          "map",
          "traverse_tree",
          "variable_identifier.text.decode",
          "root_caller.text.decode",
          "function_calls.append",
          "function_calls.append",
          "tree_node.text.decode",
          "map",
          "parse_function_call",
          "filter",
          "list"
         ],
         "label": "FUNCTION",
         "name": "get_function_calls",
         "node_id": "b731313b-dbef-409d-80c0-6cd32bc375ae",
         "path": "blar-example-repos.debugger_agent.utils.tree_parser.get_function_calls",
         "signature": "def get_function_calls(node, assigments_dict: dict) -> list[str]:",
         "text": "def get_function_calls(node, assigments_dict: dict) -> list[str]:\n    code_text = node.text\n\n    parser = tree_sitter_languages.get_parser(\"python\")\n    tree = parser.parse(bytes(code_text, \"utf-8\"))\n    node_names = map(lambda node: node, traverse_tree(tree))\n\n    function_calls = []\n\n    for tree_node in node_names:\n        if tree_node.type == \"expression_statement\":\n            statement_children = tree_node.children\n            if statement_children[0].type == \"assignment\":\n                assigment = statement_children[0].named_children\n\n                variable_identifier = assigment[0]\n                assign_value = assigment[1]\n                if assign_value.type == \"call\":\n                    expression = assign_value\n                    expression_identifier = expression.named_children[0].text.decode()\n\n                    assigments_dict[variable_identifier.text.decode(\"utf-8\")] = (\n                        expression_identifier\n                    )\n\n        if tree_node.type == \"call\":\n            call_children = tree_node.named_children\n            if (\n                call_children[0].type == \"attribute\"\n                and call_children[1].type == \"argument_list\"\n            ):\n                attribute_children = call_children[0].named_children\n                root_caller = attribute_children[0]\n                if root_caller.type == \"identifier\":\n                    root_caller_identifier = root_caller.text.decode(\"utf-8\")\n                    if root_caller_identifier in assigments_dict:\n                        function_calls.append(\n                            assigments_dict[root_caller_identifier]\n                            + \".\"\n                            + attribute_children[1].text.decode(\"utf-8\")\n                            + \"()\"\n                        )\n                        continue\n            function_calls.append(tree_node.text.decode(\"utf-8\"))\n\n    parsed_function_calls = map(\n        lambda x: parse_function_call(x, node.metadata[\"inclusive_scopes\"]),\n        function_calls,\n    )\n\n    filtered_calls = filter(lambda x: x is not None, parsed_function_calls)\n    return list(filtered_calls)"
        },
        "scale_factor": 1,
        "size": [
         55,
         55
        ],
        "styles": {},
        "type": "#2196F3"
       },
       {
        "color": "#2196F3",
        "id": 167,
        "label": "FUNCTION",
        "position": [
         0,
         0
        ],
        "properties": {
         "file_node_id": "ed704638-5074-4419-9f63-0c31bf765257",
         "function_calls": [
          "import_statement.startswith",
          "import_statement.count",
          "range",
          "os.path.dirname",
          "os.path.join",
          "os.path.exists",
          "is_package",
          "find_module_path"
         ],
         "label": "FUNCTION",
         "name": "resolve_import_path",
         "node_id": "90baff5a-884a-46db-a153-8a57d001983e",
         "path": "blar-example-repos.debugger_agent.utils.tree_parser.resolve_import_path",
         "signature": "def resolve_import_path(import_statement, current_file_directory, project_root):",
         "text": "def resolve_import_path(import_statement, current_file_directory, project_root):\n    \"\"\"\n    Resolve the absolute path of an import statement.\n    import_statement: The imported module as a string (e.g., 'os', 'my_package.my_module').\n    current_file_directory: The directory of the file containing the import statement.\n    project_root: The root directory of the project.\n    \"\"\"\n    # Handling relative imports\n    if import_statement.startswith(\".\"):\n        parent_levels = import_statement.count(\".\")\n        relative_path = import_statement[parent_levels:].replace(\".\", os.sep)\n        base_path = current_file_directory\n        for _ in range(parent_levels - 1):\n            base_path = os.path.dirname(base_path)\n        absolute_path = os.path.join(base_path, relative_path)\n        if os.path.exists(absolute_path + \".py\"):\n            return absolute_path + \".py\"\n        elif is_package(absolute_path):\n            return absolute_path\n    else:\n        # Handling absolute imports\n        return find_module_path(import_statement, current_file_directory, project_root)\n\n    # If the module wasn't found, it might be a built-in or third-party module not contained within the project\n    return None"
        },
        "scale_factor": 1,
        "size": [
         55,
         55
        ],
        "styles": {},
        "type": "#2196F3"
       },
       {
        "color": "#2196F3",
        "id": 7,
        "label": "FUNCTION",
        "position": [
         0,
         0
        ],
        "properties": {
         "file_node_id": "ff157171-afb0-4b60-89fd-88874e3d57be",
         "function_calls": [
          "os.path.basename"
         ],
         "label": "FUNCTION",
         "name": "format_file_node",
         "node_id": "92927b93-492f-4a55-bc0b-a1aac419edbf",
         "path": "blar-example-repos.debugger_agent.utils.format_nodes.format_file_node",
         "signature": "def format_file_node(\n    node: BaseNode, no_extension_path: str, function_calls: list[str]\n) -> dict:",
         "text": "def format_file_node(\n    node: BaseNode, no_extension_path: str, function_calls: list[str]\n) -> dict:\n    processed_node = {\n        \"type\": \"FILE\",\n        \"attributes\": {\n            \"text\": node.text,\n            \"node_id\": node.node_id,\n            \"function_calls\": function_calls,\n            \"name\": os.path.basename(no_extension_path),\n        },\n    }\n\n    return processed_node"
        },
        "scale_factor": 1,
        "size": [
         55,
         55
        ],
        "styles": {},
        "type": "#2196F3"
       },
       {
        "color": "#2196F3",
        "id": 8,
        "label": "FUNCTION",
        "position": [
         0,
         0
        ],
        "properties": {
         "file_node_id": "ff157171-afb0-4b60-89fd-88874e3d57be",
         "function_calls": [],
         "label": "FUNCTION",
         "name": "format_function_node",
         "node_id": "ce9faa1f-8ee3-41c0-ba51-9a5715840441",
         "path": "blar-example-repos.debugger_agent.utils.format_nodes.format_function_node",
         "signature": "def format_function_node(\n    node: BaseNode, scope: dict, function_calls: list[str], file_node_id: str\n) -> dict:",
         "text": "def format_function_node(\n    node: BaseNode, scope: dict, function_calls: list[str], file_node_id: str\n) -> dict:\n    name = scope[\"name\"]\n    signature = scope[\"signature\"]\n\n    processed_node = {\n        \"type\": \"FUNCTION\",\n        \"attributes\": {\n            \"name\": name,\n            \"signature\": signature,\n            \"text\": node.text,\n            \"node_id\": node.node_id,\n            \"function_calls\": function_calls,\n            \"file_node_id\": file_node_id,\n        },\n    }\n\n    return processed_node"
        },
        "scale_factor": 1,
        "size": [
         55,
         55
        ],
        "styles": {},
        "type": "#2196F3"
       },
       {
        "color": "#2196F3",
        "id": 9,
        "label": "FUNCTION",
        "position": [
         0,
         0
        ],
        "properties": {
         "file_node_id": "ff157171-afb0-4b60-89fd-88874e3d57be",
         "function_calls": [],
         "label": "FUNCTION",
         "name": "format_class_node",
         "node_id": "5a00ef18-0c35-4952-b8aa-f4261267fffd",
         "path": "blar-example-repos.debugger_agent.utils.format_nodes.format_class_node",
         "signature": "def format_class_node(node: BaseNode, scope: dict, file_node_id: str) -> dict:",
         "text": "def format_class_node(node: BaseNode, scope: dict, file_node_id: str) -> dict:\n    name = scope[\"name\"]\n    signature = scope[\"signature\"]\n\n    processed_node = {\n        \"type\": \"CLASS\",\n        \"attributes\": {\n            \"name\": name,\n            \"signature\": signature,\n            \"text\": node.text,\n            \"node_id\": node.node_id,\n            \"file_node_id\": file_node_id,\n        },\n    }\n\n    return processed_node"
        },
        "scale_factor": 1,
        "size": [
         55,
         55
        ],
        "styles": {},
        "type": "#2196F3"
       },
       {
        "color": "#2196F3",
        "id": 11,
        "label": "FUNCTION",
        "position": [
         0,
         0
        ],
        "properties": {
         "file_node_id": "ff157171-afb0-4b60-89fd-88874e3d57be",
         "function_calls": [
          "os.path.basename",
          "str",
          "uuid.uuid4"
         ],
         "label": "FUNCTION",
         "name": "format_directory_node",
         "node_id": "e229669d-12d1-4aaa-a420-4387d1a08326",
         "path": "blar-example-repos.debugger_agent.utils.format_nodes.format_directory_node",
         "signature": "def format_directory_node(path: str, package: bool) -> dict:",
         "text": "def format_directory_node(path: str, package: bool) -> dict:\n    processed_node = {\n        \"attributes\": {\n            \"path\": path + \"/\",\n            \"name\": os.path.basename(path),\n            \"node_id\": str(uuid.uuid4()),\n        },\n        \"type\": \"PACKAGE\" if package else \"FOLDER\",\n    }\n\n    return processed_node"
        },
        "scale_factor": 1,
        "size": [
         55,
         55
        ],
        "styles": {},
        "type": "#2196F3"
       },
       {
        "color": "#2196F3",
        "id": 171,
        "label": "FUNCTION",
        "position": [
         0,
         0
        ],
        "properties": {
         "file_node_id": "ff157171-afb0-4b60-89fd-88874e3d57be",
         "function_calls": [
          "os.path.basename",
          "str",
          "uuid.uuid4"
         ],
         "label": "FUNCTION",
         "name": "format_directory_node",
         "node_id": "e229669d-12d1-4aaa-a420-4387d1a08326",
         "path": "blar-example-repos.debugger_agent.utils.format_nodes.format_directory_node",
         "signature": "def format_directory_node(path: str, package: bool) -> dict:",
         "text": "def format_directory_node(path: str, package: bool) -> dict:\n    processed_node = {\n        \"attributes\": {\n            \"path\": path + \"/\",\n            \"name\": os.path.basename(path),\n            \"node_id\": str(uuid.uuid4()),\n        },\n        \"type\": \"PACKAGE\" if package else \"FOLDER\",\n    }\n\n    return processed_node"
        },
        "scale_factor": 1,
        "size": [
         55,
         55
        ],
        "styles": {},
        "type": "#2196F3"
       },
       {
        "color": "#2196F3",
        "id": 298,
        "label": "FUNCTION",
        "position": [
         0,
         0
        ],
        "properties": {
         "file_node_id": "ff157171-afb0-4b60-89fd-88874e3d57be",
         "function_calls": [],
         "label": "FUNCTION",
         "name": "format_function_node",
         "node_id": "ce9faa1f-8ee3-41c0-ba51-9a5715840441",
         "path": "blar-example-repos.debugger_agent.utils.format_nodes.format_function_node",
         "signature": "def format_function_node(\n    node: BaseNode, scope: dict, function_calls: list[str], file_node_id: str\n) -> dict:",
         "text": "def format_function_node(\n    node: BaseNode, scope: dict, function_calls: list[str], file_node_id: str\n) -> dict:\n    name = scope[\"name\"]\n    signature = scope[\"signature\"]\n\n    processed_node = {\n        \"type\": \"FUNCTION\",\n        \"attributes\": {\n            \"name\": name,\n            \"signature\": signature,\n            \"text\": node.text,\n            \"node_id\": node.node_id,\n            \"function_calls\": function_calls,\n            \"file_node_id\": file_node_id,\n        },\n    }\n\n    return processed_node"
        },
        "scale_factor": 1,
        "size": [
         55,
         55
        ],
        "styles": {},
        "type": "#2196F3"
       },
       {
        "color": "#2196F3",
        "id": 299,
        "label": "FUNCTION",
        "position": [
         0,
         0
        ],
        "properties": {
         "file_node_id": "ff157171-afb0-4b60-89fd-88874e3d57be",
         "function_calls": [
          "os.path.basename"
         ],
         "label": "FUNCTION",
         "name": "format_file_node",
         "node_id": "92927b93-492f-4a55-bc0b-a1aac419edbf",
         "path": "blar-example-repos.debugger_agent.utils.format_nodes.format_file_node",
         "signature": "def format_file_node(\n    node: BaseNode, no_extension_path: str, function_calls: list[str]\n) -> dict:",
         "text": "def format_file_node(\n    node: BaseNode, no_extension_path: str, function_calls: list[str]\n) -> dict:\n    processed_node = {\n        \"type\": \"FILE\",\n        \"attributes\": {\n            \"text\": node.text,\n            \"node_id\": node.node_id,\n            \"function_calls\": function_calls,\n            \"name\": os.path.basename(no_extension_path),\n        },\n    }\n\n    return processed_node"
        },
        "scale_factor": 1,
        "size": [
         55,
         55
        ],
        "styles": {},
        "type": "#2196F3"
       },
       {
        "color": "#2196F3",
        "id": 300,
        "label": "FUNCTION",
        "position": [
         0,
         0
        ],
        "properties": {
         "file_node_id": "ff157171-afb0-4b60-89fd-88874e3d57be",
         "function_calls": [],
         "label": "FUNCTION",
         "name": "format_class_node",
         "node_id": "5a00ef18-0c35-4952-b8aa-f4261267fffd",
         "path": "blar-example-repos.debugger_agent.utils.format_nodes.format_class_node",
         "signature": "def format_class_node(node: BaseNode, scope: dict, file_node_id: str) -> dict:",
         "text": "def format_class_node(node: BaseNode, scope: dict, file_node_id: str) -> dict:\n    name = scope[\"name\"]\n    signature = scope[\"signature\"]\n\n    processed_node = {\n        \"type\": \"CLASS\",\n        \"attributes\": {\n            \"name\": name,\n            \"signature\": signature,\n            \"text\": node.text,\n            \"node_id\": node.node_id,\n            \"file_node_id\": file_node_id,\n        },\n    }\n\n    return processed_node"
        },
        "scale_factor": 1,
        "size": [
         55,
         55
        ],
        "styles": {},
        "type": "#2196F3"
       },
       {
        "color": "#607D8B",
        "id": 173,
        "label": "PACKAGE",
        "position": [
         0,
         0
        ],
        "properties": {
         "label": "PACKAGE",
         "name": "debugger_agent",
         "node_id": "b41796a4-1921-4c82-bad2-1c732f444e97",
         "path": "blar-example-repos/debugger_agent/"
        },
        "scale_factor": 1,
        "size": [
         55,
         55
        ],
        "styles": {},
        "type": "#607D8B"
       },
       {
        "color": "#4CAF50",
        "id": 206,
        "label": "FILE",
        "position": [
         0,
         0
        ],
        "properties": {
         "label": "FILE",
         "name": "__init__.py",
         "node_id": "87e84d99-8abb-43d4-a399-1ee247cb88c3",
         "path": "blar-example-repos/debugger_agent/__init__.py"
        },
        "scale_factor": 1,
        "size": [
         55,
         55
        ],
        "styles": {},
        "type": "#4CAF50"
       },
       {
        "color": "#4CAF50",
        "id": 296,
        "label": "FILE",
        "position": [
         0,
         0
        ],
        "properties": {
         "function_calls": [
          "Neo4jManager",
          "GraphConstructor",
          "GraphConstructor.build_graph",
          "Neo4jManager.close"
         ],
         "label": "FILE",
         "name": "run",
         "node_id": "5ea72e77-46e0-4a5d-8cac-037ed8ed925e",
         "path": "blar-example-repos.debugger_agent.run",
         "text": "from blar_graph.graph_construction.graph_builder import GraphConstructor\nfrom blar_graph.graph_construction.neo4j_manager import Neo4jManager\n\ngraph_manager = Neo4jManager()\ngraph_constructor = GraphConstructor(graph_manager)\ngraph_constructor.build_graph(\"src\", \"python\")\ngraph_manager.close()"
        },
        "scale_factor": 1,
        "size": [
         55,
         55
        ],
        "styles": {},
        "type": "#4CAF50"
       },
       {
        "color": "#607D8B",
        "id": 297,
        "label": "PACKAGE",
        "position": [
         0,
         0
        ],
        "properties": {
         "label": "PACKAGE",
         "name": "utils",
         "node_id": "af95fab6-5f44-42c7-95a7-a7c601ec591d",
         "path": "blar-example-repos/debugger_agent/utils/"
        },
        "scale_factor": 1,
        "size": [
         55,
         55
        ],
        "styles": {},
        "type": "#607D8B"
       },
       {
        "color": "#607D8B",
        "id": 304,
        "label": "PACKAGE",
        "position": [
         0,
         0
        ],
        "properties": {
         "label": "PACKAGE",
         "name": "graph_construction",
         "node_id": "adaa0f17-7536-4798-84f2-2977d9e31c1e",
         "path": "blar-example-repos/debugger_agent/graph_construction/"
        },
        "scale_factor": 1,
        "size": [
         55,
         55
        ],
        "styles": {},
        "type": "#607D8B"
       },
       {
        "color": "#4CAF50",
        "id": 311,
        "label": "FILE",
        "position": [
         0,
         0
        ],
        "properties": {
         "label": "FILE",
         "name": "__init__.py",
         "node_id": "87e84d99-8abb-43d4-a399-1ee247cb88c3",
         "path": "blar-example-repos/debugger_agent/__init__.py"
        },
        "scale_factor": 1,
        "size": [
         55,
         55
        ],
        "styles": {},
        "type": "#4CAF50"
       },
       {
        "color": "#607D8B",
        "id": 313,
        "label": "PACKAGE",
        "position": [
         0,
         0
        ],
        "properties": {
         "label": "PACKAGE",
         "name": "utils",
         "node_id": "af95fab6-5f44-42c7-95a7-a7c601ec591d",
         "path": "blar-example-repos/debugger_agent/utils/"
        },
        "scale_factor": 1,
        "size": [
         55,
         55
        ],
        "styles": {},
        "type": "#607D8B"
       },
       {
        "color": "#4CAF50",
        "id": 178,
        "label": "FILE",
        "position": [
         0,
         0
        ],
        "properties": {
         "function_calls": [],
         "label": "FILE",
         "name": "tree_parser",
         "node_id": "ed704638-5074-4419-9f63-0c31bf765257",
         "path": "blar-example-repos.debugger_agent.utils.tree_parser",
         "text": "import tree_sitter_languages\nimport os\nimport re\n\n\ndef traverse_tree(tree):\n    # Code replaced for brevity. See node_id 2b662002-7a0b-4659-8713-18807150f614\n\n\ndef count_parameters(params_str):\n    # Count parameters considering string literals and ignoring commas within them.\n    # This simplistic approach assumes balanced quotes and no escaped quotes within strings.\n    # Code replaced for brevity. See node_id 1e3bd9ed-3aed-4218-8792-5401ab436bb5\n\n\ndef get_function_name(call_str):\n    # Code replaced for brevity. See node_id f5f71040-8db7-4353-9546-507071d8bbca\n\n\ndef parse_function_call(func_call: str, inclusive_scopes) -> tuple[str, int]:\n    # Code replaced for brevity. See node_id a3831293-f190-4b30-bfda-0c41cbde23dd\n\n\ndef get_function_calls(node, assigments_dict: dict) -> list[str]:\n    # Code replaced for brevity. See node_id b731313b-dbef-409d-80c0-6cd32bc375ae\n\n\ndef is_package(directory):\n    # Code replaced for brevity. See node_id 0a0de2b0-062e-4775-87f4-236c1c2a7805\n\n\ndef find_module_path(module_name, start_dir, project_root):\n    # Code replaced for brevity. See node_id a5aa3a29-7df1-4718-bd2d-ce374fe7c17e\n\n\ndef resolve_import_path(import_statement, current_file_directory, project_root):\n    # Code replaced for brevity. See node_id 90baff5a-884a-46db-a153-8a57d001983e"
        },
        "scale_factor": 1,
        "size": [
         55,
         55
        ],
        "styles": {},
        "type": "#4CAF50"
       },
       {
        "color": "#2196F3",
        "id": 0,
        "label": "FUNCTION",
        "position": [
         0,
         0
        ],
        "properties": {
         "file_node_id": "ed704638-5074-4419-9f63-0c31bf765257",
         "function_calls": [
          "params_str.strip"
         ],
         "label": "FUNCTION",
         "name": "count_parameters",
         "node_id": "1e3bd9ed-3aed-4218-8792-5401ab436bb5",
         "path": "blar-example-repos.debugger_agent.utils.tree_parser.count_parameters",
         "signature": "def count_parameters(params_str):\n    # Count parameters considering string literals and ignoring commas within them.\n    # This simplistic approach assumes balanced quotes and no escaped quotes within strings.",
         "text": "def count_parameters(params_str):\n    # Count parameters considering string literals and ignoring commas within them.\n    # This simplistic approach assumes balanced quotes and no escaped quotes within strings.\n    in_string = False\n    param_count = (\n        0 if not params_str else 1\n    )  # Start with 1 parameter if the string is not empty\n\n    for char in params_str:\n        if char == '\"':\n            in_string = not in_string  # Toggle state\n        elif char == \",\" and not in_string:\n            param_count += (\n                1  # Count commas outside of string literals as parameter separators\n            )\n\n    # Edge case for empty parameter list or only spaces\n    if param_count == 1 and not params_str.strip():\n        return 0\n\n    return param_count"
        },
        "scale_factor": 1,
        "size": [
         55,
         55
        ],
        "styles": {},
        "type": "#2196F3"
       },
       {
        "color": "#2196F3",
        "id": 291,
        "label": "FUNCTION",
        "position": [
         0,
         0
        ],
        "properties": {
         "file_node_id": "ed704638-5074-4419-9f63-0c31bf765257",
         "function_calls": [
          "params_str.strip"
         ],
         "label": "FUNCTION",
         "name": "count_parameters",
         "node_id": "1e3bd9ed-3aed-4218-8792-5401ab436bb5",
         "path": "blar-example-repos.debugger_agent.utils.tree_parser.count_parameters",
         "signature": "def count_parameters(params_str):\n    # Count parameters considering string literals and ignoring commas within them.\n    # This simplistic approach assumes balanced quotes and no escaped quotes within strings.",
         "text": "def count_parameters(params_str):\n    # Count parameters considering string literals and ignoring commas within them.\n    # This simplistic approach assumes balanced quotes and no escaped quotes within strings.\n    in_string = False\n    param_count = (\n        0 if not params_str else 1\n    )  # Start with 1 parameter if the string is not empty\n\n    for char in params_str:\n        if char == '\"':\n            in_string = not in_string  # Toggle state\n        elif char == \",\" and not in_string:\n            param_count += (\n                1  # Count commas outside of string literals as parameter separators\n            )\n\n    # Edge case for empty parameter list or only spaces\n    if param_count == 1 and not params_str.strip():\n        return 0\n\n    return param_count"
        },
        "scale_factor": 1,
        "size": [
         55,
         55
        ],
        "styles": {},
        "type": "#2196F3"
       },
       {
        "color": "#607D8B",
        "id": 179,
        "label": "PACKAGE",
        "position": [
         0,
         0
        ],
        "properties": {
         "label": "PACKAGE",
         "name": "debugger_agent",
         "node_id": "b41796a4-1921-4c82-bad2-1c732f444e97",
         "path": "blar-example-repos/debugger_agent/"
        },
        "scale_factor": 1,
        "size": [
         55,
         55
        ],
        "styles": {},
        "type": "#607D8B"
       },
       {
        "color": "#2196F3",
        "id": 261,
        "label": "FUNCTION",
        "position": [
         0,
         0
        ],
        "properties": {
         "file_node_id": "3daaa2bc-abb8-4c62-b3e9-1bbb05fcb244",
         "function_calls": [
          "imports.keys",
          "GraphConstructor.global_imports.keys",
          "key.endswith",
          "import_edges.append"
         ],
         "label": "FUNCTION",
         "name": "_relate_imports",
         "node_id": "fd7b5492-aa78-48bc-9bc5-cc2ee759df20",
         "path": "blar-example-repos.debugger_agent.graph_construction.graph_builder.GraphConstructor._relate_imports",
         "signature": "def _relate_imports(self, imports: dict):",
         "text": "def _relate_imports(self, imports: dict):\n        import_edges = []\n        for file_node_id in imports.keys():\n            for imp in imports[file_node_id].keys():\n                for key in self.global_imports.keys():\n                    if key.endswith(imp):\n                        import_edges.append(\n                            {\n                                \"sourceId\": file_node_id,\n                                \"targetId\": self.global_imports[key][\"id\"],\n                                \"type\": \"IMPORTS\",\n                            }\n                        )\n\n        return import_edges"
        },
        "scale_factor": 1,
        "size": [
         55,
         55
        ],
        "styles": {},
        "type": "#2196F3"
       },
       {
        "color": "#2196F3",
        "id": 262,
        "label": "FUNCTION",
        "position": [
         0,
         0
        ],
        "properties": {
         "file_node_id": "3daaa2bc-abb8-4c62-b3e9-1bbb05fcb244",
         "function_calls": [
          "file_imports.get",
          "function_call.split",
          "function_call.split",
          "function_calls_relations.append",
          "function_calls_relations.append",
          "function_calls_relations.append"
         ],
         "label": "FUNCTION",
         "name": "_relate_function_calls",
         "node_id": "2038b138-3048-4183-b794-b878eeac0d4c",
         "path": "blar-example-repos.debugger_agent.graph_construction.graph_builder.GraphConstructor._relate_function_calls",
         "signature": "def _relate_function_calls(self, node_list, imports):",
         "text": "def _relate_function_calls(self, node_list, imports):\n        function_calls_relations = []\n        for node in node_list:\n            function_calls = node[\"attributes\"].get(\"function_calls\")\n            if function_calls:\n                for function_call in function_calls:\n                    if node[\"type\"] == \"FILE\":\n                        file_imports = imports[node[\"attributes\"][\"node_id\"]]\n                    else:\n                        file_imports = imports[node[\"attributes\"][\"file_node_id\"]]\n\n                    function_import = file_imports.get(function_call.split(\".\")[0])\n                    root_directory = node[\"attributes\"][\"path\"].replace(\n                        \".\" + node[\"attributes\"][\"name\"], \"\"\n                    )\n                    directory = root_directory\n                    if function_import:\n                        directory = function_import\n\n                    for module in function_call.split(\".\"):\n                        final_module = \".\" + module\n                        intermediate_module = \".\" + module + \".\"\n                        if not (\n                            final_module in directory\n                            or intermediate_module in directory\n                        ):\n                            directory += f\".{module}\"\n                    if directory in self.global_imports:\n                        target_node_type = self.global_imports[directory][\"type\"]\n                        if target_node_type == \"FUNCTION\" or target_node_type == \"FILE\":\n                            function_calls_relations.append(\n                                {\n                                    \"sourceId\": node[\"attributes\"][\"node_id\"],\n                                    \"targetId\": self.global_imports[directory][\"id\"],\n                                    \"type\": \"CALLS\",\n                                }\n                            )\n                        elif target_node_type == \"CLASS\":\n                            function_calls_relations.append(\n                                {\n                                    \"sourceId\": node[\"attributes\"][\"node_id\"],\n                                    \"targetId\": self.global_imports[directory][\"id\"],\n                                    \"type\": \"INSTANTIATES\",\n                                }\n                            )\n\n                            init_directory = directory + \".__init__\"\n                            function_calls_relations.append(\n                                {\n                                    \"sourceId\": node[\"attributes\"][\"node_id\"],\n                                    \"targetId\": self.global_imports[init_directory][\n                                        \"id\"\n                                    ],\n                                    \"type\": \"CALLS\",\n                                }\n                            )\n\n        return function_calls_relations"
        },
        "scale_factor": 1,
        "size": [
         55,
         55
        ],
        "styles": {},
        "type": "#2196F3"
       },
       {
        "color": "#4CAF50",
        "id": 301,
        "label": "FILE",
        "position": [
         0,
         0
        ],
        "properties": {
         "function_calls": [],
         "label": "FILE",
         "name": "tree_parser",
         "node_id": "ed704638-5074-4419-9f63-0c31bf765257",
         "path": "blar-example-repos.debugger_agent.utils.tree_parser",
         "text": "import tree_sitter_languages\nimport os\nimport re\n\n\ndef traverse_tree(tree):\n    # Code replaced for brevity. See node_id 2b662002-7a0b-4659-8713-18807150f614\n\n\ndef count_parameters(params_str):\n    # Count parameters considering string literals and ignoring commas within them.\n    # This simplistic approach assumes balanced quotes and no escaped quotes within strings.\n    # Code replaced for brevity. See node_id 1e3bd9ed-3aed-4218-8792-5401ab436bb5\n\n\ndef get_function_name(call_str):\n    # Code replaced for brevity. See node_id f5f71040-8db7-4353-9546-507071d8bbca\n\n\ndef parse_function_call(func_call: str, inclusive_scopes) -> tuple[str, int]:\n    # Code replaced for brevity. See node_id a3831293-f190-4b30-bfda-0c41cbde23dd\n\n\ndef get_function_calls(node, assigments_dict: dict) -> list[str]:\n    # Code replaced for brevity. See node_id b731313b-dbef-409d-80c0-6cd32bc375ae\n\n\ndef is_package(directory):\n    # Code replaced for brevity. See node_id 0a0de2b0-062e-4775-87f4-236c1c2a7805\n\n\ndef find_module_path(module_name, start_dir, project_root):\n    # Code replaced for brevity. See node_id a5aa3a29-7df1-4718-bd2d-ce374fe7c17e\n\n\ndef resolve_import_path(import_statement, current_file_directory, project_root):\n    # Code replaced for brevity. See node_id 90baff5a-884a-46db-a153-8a57d001983e"
        },
        "scale_factor": 1,
        "size": [
         55,
         55
        ],
        "styles": {},
        "type": "#4CAF50"
       },
       {
        "color": "#2196F3",
        "id": 268,
        "label": "FUNCTION",
        "position": [
         0,
         0
        ],
        "properties": {
         "file_node_id": "94730e19-6358-49aa-9ec8-c35ba8a90cf2",
         "function_calls": [
          "tree_parser.get_function_calls",
          "format_nodes.format_function_node",
          "format_nodes.format_class_node",
          "tree_parser.get_function_calls",
          "format_nodes.format_file_node",
          "node.relationships.items",
          "relationships.append",
          "GraphFileParser.RELATIONS_TYPES_MAP.get",
          "GraphFileParser.visited_nodes.get",
          "GraphFileParser.visited_nodes.get",
          "no_extension_path.replace"
         ],
         "label": "FUNCTION",
         "name": "__process_node__",
         "node_id": "e5f0ab10-ee9f-4c6e-917e-8765cc3df9d4",
         "path": "blar-example-repos.debugger_agent.graph_construction.graph_file_parser.GraphFileParser.__process_node__",
         "signature": "def __process_node__(\n        self, node: BaseNode, no_extension_path: str, file_node_id: str\n    ):",
         "text": "def __process_node__(\n        self, node: BaseNode, no_extension_path: str, file_node_id: str\n    ):\n        relationships = []\n        asignments_dict = {}\n        scope = (\n            node.metadata[\"inclusive_scopes\"][-1]\n            if node.metadata[\"inclusive_scopes\"]\n            else None\n        )\n        type_node = \"file\"\n        if scope:\n            type_node = scope[\"type\"]\n\n        if type_node == \"function_definition\":\n            function_calls = tree_parser.get_function_calls(node, asignments_dict)\n            processed_node = format_nodes.format_function_node(\n                node, scope, function_calls, file_node_id\n            )\n        elif type_node == \"class_definition\":\n            processed_node = format_nodes.format_class_node(node, scope, file_node_id)\n        else:\n            function_calls = tree_parser.get_function_calls(node, asignments_dict)\n            processed_node = format_nodes.format_file_node(\n                node, no_extension_path, function_calls\n            )\n\n        for relation in node.relationships.items():\n            if relation[0] == NodeRelationship.CHILD:\n                for child in relation[1]:\n                    relation_type = (\n                        child.metadata[\"inclusive_scopes\"][-1][\"type\"]\n                        if child.metadata[\"inclusive_scopes\"]\n                        else \"\"\n                    )\n                    relationships.append(\n                        {\n                            \"sourceId\": node.node_id,\n                            \"targetId\": child.node_id,\n                            \"type\": self.RELATIONS_TYPES_MAP.get(\n                                relation_type, \"UNKNOWN\"\n                            ),\n                        }\n                    )\n            elif relation[0] == NodeRelationship.PARENT:\n                if relation[1]:\n                    parent_path = self.visited_nodes.get(\n                        relation[1].node_id, no_extension_path\n                    ).replace(\"/\", \".\")\n                    node_path = f\"{parent_path}.{processed_node['attributes']['name']}\"\n                else:\n                    node_path = no_extension_path.replace(\"/\", \".\")\n        processed_node[\"attributes\"][\"path\"] = node_path\n        self.global_imports[node_path] = {\n            \"id\": processed_node[\"attributes\"][\"node_id\"],\n            \"type\": processed_node[\"type\"],\n        }\n        self.visited_nodes[node.node_id] = node_path\n        return processed_node, relationships"
        },
        "scale_factor": 1,
        "size": [
         55,
         55
        ],
        "styles": {},
        "type": "#2196F3"
       },
       {
        "color": "#2196F3",
        "id": 269,
        "label": "FUNCTION",
        "position": [
         0,
         0
        ],
        "properties": {
         "file_node_id": "94730e19-6358-49aa-9ec8-c35ba8a90cf2",
         "function_calls": [
          "tree_sitter_languages.get_parser",
          "open",
          "file.read",
          "tree_sitter_languages.get_parser.parse",
          "bytes",
          "from_statement.text.decode",
          "import_statement.text.decode",
          "tree_parser.resolve_import_path",
          "import_statement.text.decode"
         ],
         "label": "FUNCTION",
         "name": "_get_imports",
         "node_id": "0ef468c2-297f-430f-a12b-cf50874e9fe8",
         "path": "blar-example-repos.debugger_agent.graph_construction.graph_file_parser.GraphFileParser._get_imports",
         "signature": "def _get_imports(self, path: str, file_node_id: str) -> dict:",
         "text": "def _get_imports(self, path: str, file_node_id: str) -> dict:\n        parser = tree_sitter_languages.get_parser(\"python\")\n        with open(path, \"r\") as file:\n            code = file.read()\n        tree = parser.parse(bytes(code, \"utf-8\"))\n\n        imports = {}\n        for node in tree.root_node.children:\n            if node.type == \"import_from_statement\":\n                import_statements = node.named_children\n\n                from_statement = import_statements[0]\n                from_text = from_statement.text.decode()\n                for import_statement in import_statements[1:]:\n                    imports[import_statement.text.decode()] = (\n                        tree_parser.resolve_import_path(from_text, path, self.root_path)\n                    )\n\n            elif node.type == \"import_statement\":\n                import_statement = node.named_children[0]\n                imports[\"global\"] = import_statement.text.decode()\n\n        return {file_node_id: imports}"
        },
        "scale_factor": 1,
        "size": [
         55,
         55
        ],
        "styles": {},
        "type": "#2196F3"
       },
       {
        "color": "#2196F3",
        "id": 56,
        "label": "FUNCTION",
        "position": [
         0,
         0
        ],
        "properties": {
         "file_node_id": "c52f04f0-08af-49c2-9af5-b2e28277fc0e",
         "function_calls": [
          "Neo4jManager.driver.session",
          "session.run",
          "session.run.data"
         ],
         "label": "FUNCTION",
         "name": "get_n_hop_neighbours",
         "node_id": "d6d1d427-e6b4-4ec3-97ef-91150f91e9d7",
         "path": "blar-example-repos.debugger_agent.graph_construction.neo4j_manager.Neo4jManager.get_n_hop_neighbours",
         "signature": "def get_n_hop_neighbours(self, node_id: str, num_hops: int):\n        # Function to get code from the Neo4j database based on a keyword query",
         "text": "def get_n_hop_neighbours(self, node_id: str, num_hops: int):\n        # Function to get code from the Neo4j database based on a keyword query\n        with self.driver.session() as session:\n            result = session.run(\n                \"\"\"\n                MATCH (p {node_id: $node_id})\n                CALL apoc.neighbors.byhop(p, \">\", $num_hops)\n                YIELD nodes\n                UNWIND [p] + nodes AS all_nodes\n                RETURN all_nodes.text AS text\n                \"\"\",\n                node_id=node_id,\n                num_hops=num_hops,\n            )\n            return result.data()"
        },
        "scale_factor": 1,
        "size": [
         55,
         55
        ],
        "styles": {},
        "type": "#2196F3"
       },
       {
        "color": "#2196F3",
        "id": 58,
        "label": "FUNCTION",
        "position": [
         0,
         0
        ],
        "properties": {
         "file_node_id": "c52f04f0-08af-49c2-9af5-b2e28277fc0e",
         "function_calls": [
          "tx.run"
         ],
         "label": "FUNCTION",
         "name": "_create_edges_txn",
         "node_id": "03a14af7-5159-4659-990f-c3068556b692",
         "path": "blar-example-repos.debugger_agent.graph_construction.neo4j_manager.Neo4jManager._create_edges_txn",
         "signature": "def _create_edges_txn(tx, edgesList: List[Any]):\n        # Transaction function for creating edges",
         "text": "def _create_edges_txn(tx, edgesList: List[Any]):\n        # Transaction function for creating edges\n        edge_query = \"\"\"\n    WITH $edgesList AS edges\n    UNWIND edges AS edgeObject\n    MATCH (node1 {node_id: edgeObject.sourceId})\n    MATCH (node2 {node_id: edgeObject.targetId})\n    CALL apoc.create.relationship(node1, edgeObject.type, {}, node2)\n    YIELD rel\n    RETURN rel;\n    \"\"\"\n        tx.run(edge_query, edgesList=edgesList)"
        },
        "scale_factor": 1,
        "size": [
         55,
         55
        ],
        "styles": {},
        "type": "#2196F3"
       },
       {
        "color": "#2196F3",
        "id": 66,
        "label": "FUNCTION",
        "position": [
         0,
         0
        ],
        "properties": {
         "file_node_id": "c52f04f0-08af-49c2-9af5-b2e28277fc0e",
         "function_calls": [
          "Neo4jManager.driver.close"
         ],
         "label": "FUNCTION",
         "name": "close",
         "node_id": "4cf93f70-44f0-4396-9f66-676f5991bb48",
         "path": "blar-example-repos.debugger_agent.graph_construction.neo4j_manager.Neo4jManager.close",
         "signature": "def close(self):\n        # Close the connection to the database",
         "text": "def close(self):\n        # Close the connection to the database\n        self.driver.close()"
        },
        "scale_factor": 1,
        "size": [
         55,
         55
        ],
        "styles": {},
        "type": "#2196F3"
       },
       {
        "color": "#2196F3",
        "id": 67,
        "label": "FUNCTION",
        "position": [
         0,
         0
        ],
        "properties": {
         "file_node_id": "c52f04f0-08af-49c2-9af5-b2e28277fc0e",
         "function_calls": [
          "Neo4jManager.driver.session",
          "session.write_transaction"
         ],
         "label": "FUNCTION",
         "name": "create_nodes",
         "node_id": "03a53f30-8671-4961-a1d0-b6b4a65498e5",
         "path": "blar-example-repos.debugger_agent.graph_construction.neo4j_manager.Neo4jManager.create_nodes",
         "signature": "def create_nodes(self, nodeList: List[Any]):\n        # Function to create nodes in the Neo4j database",
         "text": "def create_nodes(self, nodeList: List[Any]):\n        # Function to create nodes in the Neo4j database\n        with self.driver.session() as session:\n            session.write_transaction(self._create_nodes_txn, nodeList)"
        },
        "scale_factor": 1,
        "size": [
         55,
         55
        ],
        "styles": {},
        "type": "#2196F3"
       },
       {
        "color": "#2196F3",
        "id": 68,
        "label": "FUNCTION",
        "position": [
         0,
         0
        ],
        "properties": {
         "file_node_id": "c52f04f0-08af-49c2-9af5-b2e28277fc0e",
         "function_calls": [
          "Neo4jManager.driver.session",
          "session.write_transaction"
         ],
         "label": "FUNCTION",
         "name": "create_edges",
         "node_id": "9751c2b8-4ff0-4381-84cb-465e942a9910",
         "path": "blar-example-repos.debugger_agent.graph_construction.neo4j_manager.Neo4jManager.create_edges",
         "signature": "def create_edges(self, edgesList: List[Any]):\n        # Function to create edges between nodes in the Neo4j database",
         "text": "def create_edges(self, edgesList: List[Any]):\n        # Function to create edges between nodes in the Neo4j database\n        with self.driver.session() as session:\n            session.write_transaction(self._create_edges_txn, edgesList)"
        },
        "scale_factor": 1,
        "size": [
         55,
         55
        ],
        "styles": {},
        "type": "#2196F3"
       },
       {
        "color": "#2196F3",
        "id": 69,
        "label": "FUNCTION",
        "position": [
         0,
         0
        ],
        "properties": {
         "file_node_id": "c52f04f0-08af-49c2-9af5-b2e28277fc0e",
         "function_calls": [
          "Neo4jManager.driver.session",
          "session.write_transaction"
         ],
         "label": "FUNCTION",
         "name": "create_edges",
         "node_id": "9751c2b8-4ff0-4381-84cb-465e942a9910",
         "path": "blar-example-repos.debugger_agent.graph_construction.neo4j_manager.Neo4jManager.create_edges",
         "signature": "def create_edges(self, edgesList: List[Any]):\n        # Function to create edges between nodes in the Neo4j database",
         "text": "def create_edges(self, edgesList: List[Any]):\n        # Function to create edges between nodes in the Neo4j database\n        with self.driver.session() as session:\n            session.write_transaction(self._create_edges_txn, edgesList)"
        },
        "scale_factor": 1,
        "size": [
         55,
         55
        ],
        "styles": {},
        "type": "#2196F3"
       },
       {
        "color": "#2196F3",
        "id": 70,
        "label": "FUNCTION",
        "position": [
         0,
         0
        ],
        "properties": {
         "file_node_id": "c52f04f0-08af-49c2-9af5-b2e28277fc0e",
         "function_calls": [
          "query.replace.replace"
         ],
         "label": "FUNCTION",
         "name": "format_query",
         "node_id": "99df662b-f944-43b5-b34a-86373f3b5da2",
         "path": "blar-example-repos.debugger_agent.graph_construction.neo4j_manager.Neo4jManager.format_query",
         "signature": "def format_query(self, query: str):\n        # Function to format the query to be used in the fulltext index",
         "text": "def format_query(self, query: str):\n        # Function to format the query to be used in the fulltext index\n        special_characters = [\n            \"+\",\n            \"-\",\n            \"&&\",\n            \"||\",\n            \"!\",\n            \"(\",\n            \")\",\n            \"{\",\n            \"}\",\n            \"[\",\n            \"]\",\n            \"^\",\n            '\"',\n            \"~\",\n            \"*\",\n            \"?\",\n            \":\",\n            \"\\\\\",\n            \"/\",\n        ]\n        for character in special_characters:\n            query = query.replace(character, f\"\\\\{character}\")\n        return query"
        },
        "scale_factor": 1,
        "size": [
         55,
         55
        ],
        "styles": {},
        "type": "#2196F3"
       },
       {
        "color": "#2196F3",
        "id": 71,
        "label": "FUNCTION",
        "position": [
         0,
         0
        ],
        "properties": {
         "file_node_id": "c52f04f0-08af-49c2-9af5-b2e28277fc0e",
         "function_calls": [
          "Neo4jManager.driver.session",
          "session.run",
          "session.run.data"
         ],
         "label": "FUNCTION",
         "name": "get_node_by_id",
         "node_id": "fb73f09f-fb86-4688-9680-706621b98712",
         "path": "blar-example-repos.debugger_agent.graph_construction.neo4j_manager.Neo4jManager.get_node_by_id",
         "signature": "def get_node_by_id(self, node_id: str):",
         "text": "def get_node_by_id(self, node_id: str):\n        query = \"\"\"\n        MATCH (n)\n        WHERE n.node_id = $node_id\n\n        // Collect outgoing relationships\n        OPTIONAL MATCH (n)-[r]->(m)\n        WITH n, collect({relationType: type(r), node_id: m.node_id, nodeType: labels(m)}) as outgoingRelationships\n\n        // Collect incoming relationships\n        OPTIONAL MATCH (n)<-[r]-(m)\n        WITH n, outgoingRelationships, collect({relationType: type(r), node_id: m.node_id, nodeType: labels(m)}) as incomingRelationships\n\n        // Aggregate relationships by type\n        RETURN properties(n) as properties,\n            {\n                outgoing: outgoingRelationships,\n                incoming: incomingRelationships\n            } as relationships\n\n        \"\"\"\n        with self.driver.session() as session:\n            result = session.run(query, {\"node_id\": node_id})\n            return result.data()[0]"
        },
        "scale_factor": 1,
        "size": [
         55,
         55
        ],
        "styles": {},
        "type": "#2196F3"
       },
       {
        "color": "#2196F3",
        "id": 74,
        "label": "FUNCTION",
        "position": [
         0,
         0
        ],
        "properties": {
         "file_node_id": "c52f04f0-08af-49c2-9af5-b2e28277fc0e",
         "function_calls": [
          "Neo4jManager.driver.session",
          "session.run",
          "session.run.data"
         ],
         "label": "FUNCTION",
         "name": "get_n_hop_neighbours",
         "node_id": "d6d1d427-e6b4-4ec3-97ef-91150f91e9d7",
         "path": "blar-example-repos.debugger_agent.graph_construction.neo4j_manager.Neo4jManager.get_n_hop_neighbours",
         "signature": "def get_n_hop_neighbours(self, node_id: str, num_hops: int):\n        # Function to get code from the Neo4j database based on a keyword query",
         "text": "def get_n_hop_neighbours(self, node_id: str, num_hops: int):\n        # Function to get code from the Neo4j database based on a keyword query\n        with self.driver.session() as session:\n            result = session.run(\n                \"\"\"\n                MATCH (p {node_id: $node_id})\n                CALL apoc.neighbors.byhop(p, \">\", $num_hops)\n                YIELD nodes\n                UNWIND [p] + nodes AS all_nodes\n                RETURN all_nodes.text AS text\n                \"\"\",\n                node_id=node_id,\n                num_hops=num_hops,\n            )\n            return result.data()"
        },
        "scale_factor": 1,
        "size": [
         55,
         55
        ],
        "styles": {},
        "type": "#2196F3"
       },
       {
        "color": "#2196F3",
        "id": 75,
        "label": "FUNCTION",
        "position": [
         0,
         0
        ],
        "properties": {
         "file_node_id": "c52f04f0-08af-49c2-9af5-b2e28277fc0e",
         "function_calls": [
          "tx.run",
          "print"
         ],
         "label": "FUNCTION",
         "name": "_create_nodes_txn",
         "node_id": "d8fc3c85-e3ff-491d-b923-3b20e8af3d09",
         "path": "blar-example-repos.debugger_agent.graph_construction.neo4j_manager.Neo4jManager._create_nodes_txn",
         "signature": "def _create_nodes_txn(tx, nodeList: List[Any]):\n        # Transaction function for creating nodes with dynamic labels",
         "text": "def _create_nodes_txn(tx, nodeList: List[Any]):\n        # Transaction function for creating nodes with dynamic labels\n        node_query = f\"\"\"\n    UNWIND $nodeList AS node\n    CALL apoc.create.node([node.type], node.attributes)\n    YIELD node as n\n    RETURN count(n) as createdNodesCount\n    \"\"\"\n        result = tx.run(node_query, nodeList=nodeList)\n\n        for record in result:\n            print(f\"Created {record['createdNodesCount']} nodes\")"
        },
        "scale_factor": 1,
        "size": [
         55,
         55
        ],
        "styles": {},
        "type": "#2196F3"
       },
       {
        "color": "#2196F3",
        "id": 169,
        "label": "FUNCTION",
        "position": [
         0,
         0
        ],
        "properties": {
         "file_node_id": "c52f04f0-08af-49c2-9af5-b2e28277fc0e",
         "function_calls": [
          "tx.run",
          "print"
         ],
         "label": "FUNCTION",
         "name": "_create_nodes_txn",
         "node_id": "d8fc3c85-e3ff-491d-b923-3b20e8af3d09",
         "path": "blar-example-repos.debugger_agent.graph_construction.neo4j_manager.Neo4jManager._create_nodes_txn",
         "signature": "def _create_nodes_txn(tx, nodeList: List[Any]):\n        # Transaction function for creating nodes with dynamic labels",
         "text": "def _create_nodes_txn(tx, nodeList: List[Any]):\n        # Transaction function for creating nodes with dynamic labels\n        node_query = f\"\"\"\n    UNWIND $nodeList AS node\n    CALL apoc.create.node([node.type], node.attributes)\n    YIELD node as n\n    RETURN count(n) as createdNodesCount\n    \"\"\"\n        result = tx.run(node_query, nodeList=nodeList)\n\n        for record in result:\n            print(f\"Created {record['createdNodesCount']} nodes\")"
        },
        "scale_factor": 1,
        "size": [
         55,
         55
        ],
        "styles": {},
        "type": "#2196F3"
       },
       {
        "color": "#2196F3",
        "id": 172,
        "label": "FUNCTION",
        "position": [
         0,
         0
        ],
        "properties": {
         "file_node_id": "c52f04f0-08af-49c2-9af5-b2e28277fc0e",
         "function_calls": [
          "Neo4jManager.driver.session",
          "session.run",
          "session.run.data"
         ],
         "label": "FUNCTION",
         "name": "get_graph_by_path",
         "node_id": "a1d5b673-144b-410b-8c83-113713247ae6",
         "path": "blar-example-repos.debugger_agent.graph_construction.neo4j_manager.Neo4jManager.get_graph_by_path",
         "signature": "def get_graph_by_path(self, path: str):",
         "text": "def get_graph_by_path(self, path: str):\n        node_query = f\"\"\"\n    MATCH (nodes) WHERE nodes.path CONTAINS $path return nodes\n        \"\"\"\n        with self.driver.session() as session:\n            result = session.run(node_query, {\"path\": path})\n            return result.data()"
        },
        "scale_factor": 1,
        "size": [
         55,
         55
        ],
        "styles": {},
        "type": "#2196F3"
       },
       {
        "color": "#2196F3",
        "id": 183,
        "label": "FUNCTION",
        "position": [
         0,
         0
        ],
        "properties": {
         "file_node_id": "c52f04f0-08af-49c2-9af5-b2e28277fc0e",
         "function_calls": [
          "query.replace.replace"
         ],
         "label": "FUNCTION",
         "name": "format_query",
         "node_id": "99df662b-f944-43b5-b34a-86373f3b5da2",
         "path": "blar-example-repos.debugger_agent.graph_construction.neo4j_manager.Neo4jManager.format_query",
         "signature": "def format_query(self, query: str):\n        # Function to format the query to be used in the fulltext index",
         "text": "def format_query(self, query: str):\n        # Function to format the query to be used in the fulltext index\n        special_characters = [\n            \"+\",\n            \"-\",\n            \"&&\",\n            \"||\",\n            \"!\",\n            \"(\",\n            \")\",\n            \"{\",\n            \"}\",\n            \"[\",\n            \"]\",\n            \"^\",\n            '\"',\n            \"~\",\n            \"*\",\n            \"?\",\n            \":\",\n            \"\\\\\",\n            \"/\",\n        ]\n        for character in special_characters:\n            query = query.replace(character, f\"\\\\{character}\")\n        return query"
        },
        "scale_factor": 1,
        "size": [
         55,
         55
        ],
        "styles": {},
        "type": "#2196F3"
       },
       {
        "color": "#2196F3",
        "id": 195,
        "label": "FUNCTION",
        "position": [
         0,
         0
        ],
        "properties": {
         "file_node_id": "c52f04f0-08af-49c2-9af5-b2e28277fc0e",
         "function_calls": [
          "Neo4jManager.driver.close"
         ],
         "label": "FUNCTION",
         "name": "close",
         "node_id": "4cf93f70-44f0-4396-9f66-676f5991bb48",
         "path": "blar-example-repos.debugger_agent.graph_construction.neo4j_manager.Neo4jManager.close",
         "signature": "def close(self):\n        # Close the connection to the database",
         "text": "def close(self):\n        # Close the connection to the database\n        self.driver.close()"
        },
        "scale_factor": 1,
        "size": [
         55,
         55
        ],
        "styles": {},
        "type": "#2196F3"
       },
       {
        "color": "#2196F3",
        "id": 196,
        "label": "FUNCTION",
        "position": [
         0,
         0
        ],
        "properties": {
         "file_node_id": "c52f04f0-08af-49c2-9af5-b2e28277fc0e",
         "function_calls": [
          "Neo4jManager.driver.session",
          "session.write_transaction"
         ],
         "label": "FUNCTION",
         "name": "create_nodes",
         "node_id": "03a53f30-8671-4961-a1d0-b6b4a65498e5",
         "path": "blar-example-repos.debugger_agent.graph_construction.neo4j_manager.Neo4jManager.create_nodes",
         "signature": "def create_nodes(self, nodeList: List[Any]):\n        # Function to create nodes in the Neo4j database",
         "text": "def create_nodes(self, nodeList: List[Any]):\n        # Function to create nodes in the Neo4j database\n        with self.driver.session() as session:\n            session.write_transaction(self._create_nodes_txn, nodeList)"
        },
        "scale_factor": 1,
        "size": [
         55,
         55
        ],
        "styles": {},
        "type": "#2196F3"
       },
       {
        "color": "#2196F3",
        "id": 198,
        "label": "FUNCTION",
        "position": [
         0,
         0
        ],
        "properties": {
         "file_node_id": "c52f04f0-08af-49c2-9af5-b2e28277fc0e",
         "function_calls": [
          "Neo4jManager.driver.session",
          "session.run",
          "session.run.data"
         ],
         "label": "FUNCTION",
         "name": "get_node_by_id",
         "node_id": "fb73f09f-fb86-4688-9680-706621b98712",
         "path": "blar-example-repos.debugger_agent.graph_construction.neo4j_manager.Neo4jManager.get_node_by_id",
         "signature": "def get_node_by_id(self, node_id: str):",
         "text": "def get_node_by_id(self, node_id: str):\n        query = \"\"\"\n        MATCH (n)\n        WHERE n.node_id = $node_id\n\n        // Collect outgoing relationships\n        OPTIONAL MATCH (n)-[r]->(m)\n        WITH n, collect({relationType: type(r), node_id: m.node_id, nodeType: labels(m)}) as outgoingRelationships\n\n        // Collect incoming relationships\n        OPTIONAL MATCH (n)<-[r]-(m)\n        WITH n, outgoingRelationships, collect({relationType: type(r), node_id: m.node_id, nodeType: labels(m)}) as incomingRelationships\n\n        // Aggregate relationships by type\n        RETURN properties(n) as properties,\n            {\n                outgoing: outgoingRelationships,\n                incoming: incomingRelationships\n            } as relationships\n\n        \"\"\"\n        with self.driver.session() as session:\n            result = session.run(query, {\"node_id\": node_id})\n            return result.data()[0]"
        },
        "scale_factor": 1,
        "size": [
         55,
         55
        ],
        "styles": {},
        "type": "#2196F3"
       },
       {
        "color": "#2196F3",
        "id": 200,
        "label": "FUNCTION",
        "position": [
         0,
         0
        ],
        "properties": {
         "file_node_id": "c52f04f0-08af-49c2-9af5-b2e28277fc0e",
         "function_calls": [
          "Neo4jManager.format_query",
          "Neo4jManager.driver.session",
          "session.run",
          "session.run.data"
         ],
         "label": "FUNCTION",
         "name": "get_code",
         "node_id": "85689b50-6a40-4645-8d3f-37955a8d0f0f",
         "path": "blar-example-repos.debugger_agent.graph_construction.neo4j_manager.Neo4jManager.get_code",
         "signature": "def get_code(self, query: str):\n        # Function to get code from the Neo4j database based on a keyword query",
         "text": "def get_code(self, query: str):\n        # Function to get code from the Neo4j database based on a keyword query\n        formatted_query = self.format_query(query)\n        node_query = f\"\"\"\n    CALL db.index.fulltext.queryNodes(\"functionNames\", \"*{formatted_query}\") YIELD node, score\n    RETURN node, score\n        \"\"\"\n        with self.driver.session() as session:\n            result = session.run(node_query)\n            return result.data()"
        },
        "scale_factor": 1,
        "size": [
         55,
         55
        ],
        "styles": {},
        "type": "#2196F3"
       },
       {
        "color": "#2196F3",
        "id": 201,
        "label": "FUNCTION",
        "position": [
         0,
         0
        ],
        "properties": {
         "file_node_id": "c52f04f0-08af-49c2-9af5-b2e28277fc0e",
         "function_calls": [
          "Neo4jManager.driver.session",
          "session.run",
          "session.run.data"
         ],
         "label": "FUNCTION",
         "name": "get_graph_by_path",
         "node_id": "a1d5b673-144b-410b-8c83-113713247ae6",
         "path": "blar-example-repos.debugger_agent.graph_construction.neo4j_manager.Neo4jManager.get_graph_by_path",
         "signature": "def get_graph_by_path(self, path: str):",
         "text": "def get_graph_by_path(self, path: str):\n        node_query = f\"\"\"\n    MATCH (nodes) WHERE nodes.path CONTAINS $path return nodes\n        \"\"\"\n        with self.driver.session() as session:\n            result = session.run(node_query, {\"path\": path})\n            return result.data()"
        },
        "scale_factor": 1,
        "size": [
         55,
         55
        ],
        "styles": {},
        "type": "#2196F3"
       },
       {
        "color": "#2196F3",
        "id": 203,
        "label": "FUNCTION",
        "position": [
         0,
         0
        ],
        "properties": {
         "file_node_id": "c52f04f0-08af-49c2-9af5-b2e28277fc0e",
         "function_calls": [
          "tx.run"
         ],
         "label": "FUNCTION",
         "name": "_create_edges_txn",
         "node_id": "03a14af7-5159-4659-990f-c3068556b692",
         "path": "blar-example-repos.debugger_agent.graph_construction.neo4j_manager.Neo4jManager._create_edges_txn",
         "signature": "def _create_edges_txn(tx, edgesList: List[Any]):\n        # Transaction function for creating edges",
         "text": "def _create_edges_txn(tx, edgesList: List[Any]):\n        # Transaction function for creating edges\n        edge_query = \"\"\"\n    WITH $edgesList AS edges\n    UNWIND edges AS edgeObject\n    MATCH (node1 {node_id: edgeObject.sourceId})\n    MATCH (node2 {node_id: edgeObject.targetId})\n    CALL apoc.create.relationship(node1, edgeObject.type, {}, node2)\n    YIELD rel\n    RETURN rel;\n    \"\"\"\n        tx.run(edge_query, edgesList=edgesList)"
        },
        "scale_factor": 1,
        "size": [
         55,
         55
        ],
        "styles": {},
        "type": "#2196F3"
       },
       {
        "color": "#2196F3",
        "id": 303,
        "label": "FUNCTION",
        "position": [
         0,
         0
        ],
        "properties": {
         "file_node_id": "c52f04f0-08af-49c2-9af5-b2e28277fc0e",
         "function_calls": [
          "Neo4jManager.format_query",
          "Neo4jManager.driver.session",
          "session.run",
          "session.run.data"
         ],
         "label": "FUNCTION",
         "name": "get_code",
         "node_id": "85689b50-6a40-4645-8d3f-37955a8d0f0f",
         "path": "blar-example-repos.debugger_agent.graph_construction.neo4j_manager.Neo4jManager.get_code",
         "signature": "def get_code(self, query: str):\n        # Function to get code from the Neo4j database based on a keyword query",
         "text": "def get_code(self, query: str):\n        # Function to get code from the Neo4j database based on a keyword query\n        formatted_query = self.format_query(query)\n        node_query = f\"\"\"\n    CALL db.index.fulltext.queryNodes(\"functionNames\", \"*{formatted_query}\") YIELD node, score\n    RETURN node, score\n        \"\"\"\n        with self.driver.session() as session:\n            result = session.run(node_query)\n            return result.data()"
        },
        "scale_factor": 1,
        "size": [
         55,
         55
        ],
        "styles": {},
        "type": "#2196F3"
       },
       {
        "color": "#2196F3",
        "id": 205,
        "label": "FUNCTION",
        "position": [
         0,
         0
        ],
        "properties": {
         "file_node_id": "ddc013c0-b079-4427-8091-8786f1027457",
         "function_calls": [
          "import_statement.startswith",
          "import_statement.count",
          "range",
          "os.path.dirname",
          "os.path.join",
          "os.path.exists",
          "is_package",
          "find_module_path"
         ],
         "label": "FUNCTION",
         "name": "resolve_import_path",
         "node_id": "118d4b3f-d8be-48eb-95c3-fb808c8d0b2f",
         "path": "blar-example-repos.debugger_agent.utils.tree_parser.resolve_import_path",
         "signature": "def resolve_import_path(import_statement, current_file_directory, project_root):",
         "text": "def resolve_import_path(import_statement, current_file_directory, project_root):\n    \"\"\"\n    Resolve the absolute path of an import statement.\n    import_statement: The imported module as a string (e.g., 'os', 'my_package.my_module').\n    current_file_directory: The directory of the file containing the import statement.\n    project_root: The root directory of the project.\n    \"\"\"\n    # Handling relative imports\n    if import_statement.startswith(\".\"):\n        parent_levels = import_statement.count(\".\")\n        relative_path = import_statement[parent_levels:].replace(\".\", os.sep)\n        base_path = current_file_directory\n        for _ in range(parent_levels - 1):\n            base_path = os.path.dirname(base_path)\n        absolute_path = os.path.join(base_path, relative_path)\n        if os.path.exists(absolute_path + \".py\"):\n            return absolute_path + \".py\"\n        elif is_package(absolute_path):\n            return absolute_path\n    else:\n        # Handling absolute imports\n        return find_module_path(import_statement, current_file_directory, project_root)\n\n    # If the module wasn't found, it might be a built-in or third-party module not contained within the project\n    return None"
        },
        "scale_factor": 1,
        "size": [
         55,
         55
        ],
        "styles": {},
        "type": "#2196F3"
       },
       {
        "color": "#2196F3",
        "id": 212,
        "label": "FUNCTION",
        "position": [
         0,
         0
        ],
        "properties": {
         "file_node_id": "ddc013c0-b079-4427-8091-8786f1027457",
         "function_calls": [
          "params_str.strip"
         ],
         "label": "FUNCTION",
         "name": "count_parameters",
         "node_id": "938158fb-fcf7-43cb-aa3c-6d2ae7db40c3",
         "path": "blar-example-repos.debugger_agent.utils.tree_parser.count_parameters",
         "signature": "def count_parameters(params_str):\n    # Count parameters considering string literals and ignoring commas within them.\n    # This simplistic approach assumes balanced quotes and no escaped quotes within strings.",
         "text": "def count_parameters(params_str):\n    # Count parameters considering string literals and ignoring commas within them.\n    # This simplistic approach assumes balanced quotes and no escaped quotes within strings.\n    in_string = False\n    param_count = (\n        0 if not params_str else 1\n    )  # Start with 1 parameter if the string is not empty\n\n    for char in params_str:\n        if char == '\"':\n            in_string = not in_string  # Toggle state\n        elif char == \",\" and not in_string:\n            param_count += (\n                1  # Count commas outside of string literals as parameter separators\n            )\n\n    # Edge case for empty parameter list or only spaces\n    if param_count == 1 and not params_str.strip():\n        return 0\n\n    return param_count"
        },
        "scale_factor": 1,
        "size": [
         55,
         55
        ],
        "styles": {},
        "type": "#2196F3"
       },
       {
        "color": "#2196F3",
        "id": 215,
        "label": "FUNCTION",
        "position": [
         0,
         0
        ],
        "properties": {
         "file_node_id": "ddc013c0-b079-4427-8091-8786f1027457",
         "function_calls": [
          "tree_sitter_languages.get_parser",
          "tree_sitter_languages.get_parser.parse",
          "bytes",
          "map",
          "traverse_tree",
          "variable_identifier.text.decode",
          "root_caller.text.decode",
          "function_calls.append",
          "function_calls.append",
          "tree_node.text.decode",
          "map",
          "parse_function_call",
          "filter",
          "list"
         ],
         "label": "FUNCTION",
         "name": "get_function_calls",
         "node_id": "951ea088-d242-494a-962a-7bc9fc30a1f0",
         "path": "blar-example-repos.debugger_agent.utils.tree_parser.get_function_calls",
         "signature": "def get_function_calls(node, assigments_dict: dict) -> list[str]:",
         "text": "def get_function_calls(node, assigments_dict: dict) -> list[str]:\n    code_text = node.text\n\n    parser = tree_sitter_languages.get_parser(\"python\")\n    tree = parser.parse(bytes(code_text, \"utf-8\"))\n    node_names = map(lambda node: node, traverse_tree(tree))\n\n    function_calls = []\n\n    for tree_node in node_names:\n        if tree_node.type == \"expression_statement\":\n            statement_children = tree_node.children\n            if statement_children[0].type == \"assignment\":\n                assigment = statement_children[0].named_children\n\n                variable_identifier = assigment[0]\n                assign_value = assigment[1]\n                if assign_value.type == \"call\":\n                    expression = assign_value\n                    expression_identifier = expression.named_children[0].text.decode()\n\n                    assigments_dict[variable_identifier.text.decode(\"utf-8\")] = (\n                        expression_identifier\n                    )\n\n        if tree_node.type == \"call\":\n            call_children = tree_node.named_children\n            if (\n                call_children[0].type == \"attribute\"\n                and call_children[1].type == \"argument_list\"\n            ):\n                attribute_children = call_children[0].named_children\n                root_caller = attribute_children[0]\n                if root_caller.type == \"identifier\":\n                    root_caller_identifier = root_caller.text.decode(\"utf-8\")\n                    if root_caller_identifier in assigments_dict:\n                        function_calls.append(\n                            assigments_dict[root_caller_identifier]\n                            + \".\"\n                            + attribute_children[1].text.decode(\"utf-8\")\n                            + \"()\"\n                        )\n                        continue\n            function_calls.append(tree_node.text.decode(\"utf-8\"))\n\n    parsed_function_calls = map(\n        lambda x: parse_function_call(x, node.metadata[\"inclusive_scopes\"]),\n        function_calls,\n    )\n\n    filtered_calls = filter(lambda x: x is not None, parsed_function_calls)\n    return list(filtered_calls)"
        },
        "scale_factor": 1,
        "size": [
         55,
         55
        ],
        "styles": {},
        "type": "#2196F3"
       },
       {
        "color": "#2196F3",
        "id": 242,
        "label": "FUNCTION",
        "position": [
         0,
         0
        ],
        "properties": {
         "file_node_id": "86edc4f6-2ca9-462b-951b-22e57653d6ec",
         "function_calls": [
          "import_statement.startswith",
          "import_statement.count",
          "range",
          "os.path.dirname",
          "os.path.join",
          "os.path.exists",
          "is_package",
          "find_module_path"
         ],
         "label": "FUNCTION",
         "name": "resolve_import_path",
         "node_id": "6d97108d-5690-4f79-8af2-dcb7faf3fbe4",
         "path": "blar-example-repos.debugger_agent.utils.tree_parser.resolve_import_path",
         "signature": "def resolve_import_path(import_statement, current_file_directory, project_root):",
         "text": "def resolve_import_path(import_statement, current_file_directory, project_root):\n    \"\"\"\n    Resolve the absolute path of an import statement.\n    import_statement: The imported module as a string (e.g., 'os', 'my_package.my_module').\n    current_file_directory: The directory of the file containing the import statement.\n    project_root: The root directory of the project.\n    \"\"\"\n    # Handling relative imports\n    if import_statement.startswith(\".\"):\n        parent_levels = import_statement.count(\".\")\n        relative_path = import_statement[parent_levels:].replace(\".\", os.sep)\n        base_path = current_file_directory\n        for _ in range(parent_levels - 1):\n            base_path = os.path.dirname(base_path)\n        absolute_path = os.path.join(base_path, relative_path)\n        if os.path.exists(absolute_path + \".py\"):\n            return absolute_path + \".py\"\n        elif is_package(absolute_path):\n            return absolute_path\n    else:\n        # Handling absolute imports\n        return find_module_path(import_statement, current_file_directory, project_root)\n\n    # If the module wasn't found, it might be a built-in or third-party module not contained within the project\n    return None"
        },
        "scale_factor": 1,
        "size": [
         55,
         55
        ],
        "styles": {},
        "type": "#2196F3"
       },
       {
        "color": "#607D8B",
        "id": 243,
        "label": "PACKAGE",
        "position": [
         0,
         0
        ],
        "properties": {
         "label": "PACKAGE",
         "name": "graph_construction",
         "node_id": "20fb72e2-c297-4e58-bae9-87aa9de7d806",
         "path": "blar-example-repos/debugger_agent/graph_construction/"
        },
        "scale_factor": 1,
        "size": [
         55,
         55
        ],
        "styles": {},
        "type": "#607D8B"
       },
       {
        "color": "#4CAF50",
        "id": 148,
        "label": "FILE",
        "position": [
         0,
         0
        ],
        "properties": {
         "label": "FILE",
         "name": "__init__.py",
         "node_id": "314a7a27-6f06-4ecd-a265-1c084ed3db85",
         "path": "blar-example-repos/debugger_agent/graph_construction/__init__.py"
        },
        "scale_factor": 1,
        "size": [
         55,
         55
        ],
        "styles": {},
        "type": "#4CAF50"
       },
       {
        "color": "#4CAF50",
        "id": 244,
        "label": "FILE",
        "position": [
         0,
         0
        ],
        "properties": {
         "function_calls": [],
         "label": "FILE",
         "name": "graph_builder",
         "node_id": "a5425ae1-74de-4428-937b-cdaa43b25aa2",
         "path": "blar-example-repos.debugger_agent.graph_construction.graph_builder",
         "text": "import os\nimport uuid\nfrom blar_graph.graph_construction.neo4j_manager import Neo4jManager\nfrom blar_graph.graph_construction.graph_file_parser import GraphFileParser\nfrom blar_graph.utils import format_nodes\n\n\nclass GraphConstructor:\n    # Code replaced for brevity. See node_id 98f498fd-aeaa-457b-8424-e295060bd8f8"
        },
        "scale_factor": 1,
        "size": [
         55,
         55
        ],
        "styles": {},
        "type": "#4CAF50"
       },
       {
        "color": "#4CAF50",
        "id": 251,
        "label": "FILE",
        "position": [
         0,
         0
        ],
        "properties": {
         "function_calls": [],
         "label": "FILE",
         "name": "graph_file_parser",
         "node_id": "87ce13fe-6734-48a4-82af-d409fafa219c",
         "path": "blar-example-repos.debugger_agent.graph_construction.graph_file_parser",
         "text": "import os\nfrom pathlib import Path\nimport tree_sitter_languages\nfrom blar_graph.utils import format_nodes, tree_parser\nfrom llama_index.core import SimpleDirectoryReader\nfrom llama_index.core.schema import NodeRelationship, BaseNode\nfrom llama_index.core.text_splitter import CodeSplitter\nfrom llama_index.packs.code_hierarchy import CodeHierarchyNodeParser\n\n\nclass GraphFileParser:\n    # Code replaced for brevity. See node_id f12d745a-82de-4682-a46b-fd20326df3dc"
        },
        "scale_factor": 1,
        "size": [
         55,
         55
        ],
        "styles": {},
        "type": "#4CAF50"
       },
       {
        "color": "#F44336",
        "id": 252,
        "label": "CLASS",
        "position": [
         0,
         0
        ],
        "properties": {
         "file_node_id": "87ce13fe-6734-48a4-82af-d409fafa219c",
         "label": "CLASS",
         "name": "GraphFileParser",
         "node_id": "f12d745a-82de-4682-a46b-fd20326df3dc",
         "path": "blar-example-repos.debugger_agent.graph_construction.graph_file_parser.GraphFileParser",
         "signature": "class GraphFileParser:",
         "text": "class GraphFileParser:\n    RELATIONS_TYPES_MAP = {\n        \"function_definition\": \"FUNCTION_DEFINITION\",\n        \"class_definition\": \"CLASS_DEFINITION\",\n    }\n\n    def __init__(\n        self,\n        file_path: str,\n        root_path: str,\n        language: str,\n        directory_path: str,\n        visited_nodes: dict,\n        global_imports: dict,\n    ):\n        # Code replaced for brevity. See node_id aa1c1c70-1789-4fe8-bbfb-2953a337501b\n\n    def parse(self):\n        # Code replaced for brevity. See node_id 0fcb457b-a9cf-4182-97bf-b70072ef55a0\n\n    def __process_node__(\n        self, node: BaseNode, no_extension_path: str, file_node_id: str\n    ):\n        # Code replaced for brevity. See node_id 75f440a1-afc5-407f-bb9c-8d3cbdfc05b6\n\n    def _get_imports(self, path: str, file_node_id: str) -> dict:\n        # Code replaced for brevity. See node_id 251a6858-688b-4a0e-9e3d-e6c2fca6d384"
        },
        "scale_factor": 1,
        "size": [
         55,
         55
        ],
        "styles": {},
        "type": "#F44336"
       },
       {
        "color": "#2196F3",
        "id": 246,
        "label": "FUNCTION",
        "position": [
         0,
         0
        ],
        "properties": {
         "file_node_id": "a5425ae1-74de-4428-937b-cdaa43b25aa2",
         "function_calls": [],
         "label": "FUNCTION",
         "name": "__init__",
         "node_id": "59a8b2ff-ce31-409c-a5cc-e580d2005554",
         "path": "blar-example-repos.debugger_agent.graph_construction.graph_builder.GraphConstructor.__init__",
         "signature": "def __init__(self, graph_manager: Neo4jManager):",
         "text": "def __init__(self, graph_manager: Neo4jManager):\n        self.graph_manager = graph_manager\n        self.directories_map = {}\n        self.visited_nodes = {}\n        self.global_imports = {}\n        self.root = None"
        },
        "scale_factor": 1,
        "size": [
         55,
         55
        ],
        "styles": {},
        "type": "#2196F3"
       },
       {
        "color": "#2196F3",
        "id": 247,
        "label": "FUNCTION",
        "position": [
         0,
         0
        ],
        "properties": {
         "file_node_id": "a5425ae1-74de-4428-937b-cdaa43b25aa2",
         "function_calls": [
          "os.path.join",
          "os.path.exists",
          "format_nodes.format_directory_node",
          "relationships.append",
          "nodes.append",
          "os.scandir",
          "entry.is_file",
          "entry.name.endswith",
          "GraphFileParser",
          "entry.name.split",
          "GraphFileParser.parse",
          "nodes.extend",
          "relationships.extend",
          "relationships.append",
          "imports.update",
          "str",
          "uuid.uuid4",
          "nodes.append",
          "relationships.append",
          "entry.is_dir",
          "GraphConstructor._scan_directory"
         ],
         "label": "FUNCTION",
         "name": "_scan_directory",
         "node_id": "99a41220-f263-409b-adac-aef53d55f405",
         "path": "blar-example-repos.debugger_agent.graph_construction.graph_builder.GraphConstructor._scan_directory",
         "signature": "def _scan_directory(\n        self,\n        path,\n        language=\"python\",\n        nodes=[],\n        relationships=[],\n        imports={},\n        parent_id=None,\n    ):",
         "text": "def _scan_directory(\n        self,\n        path,\n        language=\"python\",\n        nodes=[],\n        relationships=[],\n        imports={},\n        parent_id=None,\n    ):\n        if self.root is None:\n            self.root = path\n        package = False\n        init_py_path = os.path.join(path, \"__init__.py\")\n        if os.path.exists(init_py_path):\n            package = True\n\n        directory_node = format_nodes.format_directory_node(path, package)\n        directory_path = directory_node[\"attributes\"][\"path\"]\n        directory_node_id = directory_node[\"attributes\"][\"node_id\"]\n\n        if parent_id is not None:\n            relationships.append(\n                {\n                    \"sourceId\": parent_id,\n                    \"targetId\": directory_node_id,\n                    \"type\": \"CONTAINS\",\n                }\n            )\n\n        nodes.append(directory_node)\n        for entry in os.scandir(path):\n            if entry.is_file():\n                if entry.name.endswith(\".py\") and not entry.name == (\"__init__.py\"):\n                    file_parser = GraphFileParser(\n                        entry.path,\n                        self.root,\n                        language,\n                        directory_path,\n                        visited_nodes=self.visited_nodes,\n                        global_imports=self.global_imports,\n                    )\n\n                    entry_name = entry.name.split(\".py\")[0]\n                    processed_nodes, relations, file_imports = file_parser.parse()\n                    file_root_node_id = processed_nodes[0][\"attributes\"][\"node_id\"]\n\n                    nodes.extend(processed_nodes)\n                    relationships.extend(relations)\n                    relationships.append(\n                        {\n                            \"sourceId\": directory_node_id,\n                            \"targetId\": file_root_node_id,\n                            \"type\": \"CONTAINS\",\n                        }\n                    )\n                    imports.update(file_imports)\n\n                    global_import_key = (directory_path + entry_name).replace(\"/\", \".\")\n                    self.global_imports[global_import_key] = {\n                        \"id\": file_root_node_id,\n                        \"type\": \"FILE\",\n                    }\n                else:\n                    file_node = {\n                        \"type\": \"FILE\",\n                        \"attributes\": {\n                            \"path\": entry.path,\n                            \"name\": entry.name,\n                            \"node_id\": str(uuid.uuid4()),\n                        },\n                    }\n                    nodes.append(file_node)\n                    relationships.append(\n                        {\n                            \"sourceId\": directory_node_id,\n                            \"targetId\": file_node[\"attributes\"][\"node_id\"],\n                            \"type\": \"CONTAINS\",\n                        }\n                    )\n            if entry.is_dir():\n                if entry.name == \"__pycache__\":\n                    continue\n                nodes, relationships, imports = self._scan_directory(\n                    entry.path,\n                    language,\n                    nodes,\n                    relationships,\n                    imports,\n                    directory_node_id,\n                )\n        return nodes, relationships, imports"
        },
        "scale_factor": 1,
        "size": [
         55,
         55
        ],
        "styles": {},
        "type": "#2196F3"
       },
       {
        "color": "#2196F3",
        "id": 248,
        "label": "FUNCTION",
        "position": [
         0,
         0
        ],
        "properties": {
         "file_node_id": "a5425ae1-74de-4428-937b-cdaa43b25aa2",
         "function_calls": [
          "imports.keys",
          "GraphConstructor.global_imports.keys",
          "key.endswith",
          "import_edges.append"
         ],
         "label": "FUNCTION",
         "name": "_relate_imports",
         "node_id": "d6e3d3f1-6e11-477a-b202-6ea3ef957b89",
         "path": "blar-example-repos.debugger_agent.graph_construction.graph_builder.GraphConstructor._relate_imports",
         "signature": "def _relate_imports(self, imports: dict):",
         "text": "def _relate_imports(self, imports: dict):\n        import_edges = []\n        for file_node_id in imports.keys():\n            for imp in imports[file_node_id].keys():\n                for key in self.global_imports.keys():\n                    if key.endswith(imp):\n                        import_edges.append(\n                            {\n                                \"sourceId\": file_node_id,\n                                \"targetId\": self.global_imports[key][\"id\"],\n                                \"type\": \"IMPORTS\",\n                            }\n                        )\n\n        return import_edges"
        },
        "scale_factor": 1,
        "size": [
         55,
         55
        ],
        "styles": {},
        "type": "#2196F3"
       },
       {
        "color": "#2196F3",
        "id": 249,
        "label": "FUNCTION",
        "position": [
         0,
         0
        ],
        "properties": {
         "file_node_id": "a5425ae1-74de-4428-937b-cdaa43b25aa2",
         "function_calls": [
          "file_imports.get",
          "function_call.split",
          "function_call.split",
          "function_calls_relations.append",
          "function_calls_relations.append",
          "function_calls_relations.append"
         ],
         "label": "FUNCTION",
         "name": "_relate_function_calls",
         "node_id": "9fecbebb-14ef-4957-91aa-fe5f68c939e7",
         "path": "blar-example-repos.debugger_agent.graph_construction.graph_builder.GraphConstructor._relate_function_calls",
         "signature": "def _relate_function_calls(self, node_list, imports):",
         "text": "def _relate_function_calls(self, node_list, imports):\n        function_calls_relations = []\n        for node in node_list:\n            function_calls = node[\"attributes\"].get(\"function_calls\")\n            if function_calls:\n                for function_call in function_calls:\n                    if node[\"type\"] == \"FILE\":\n                        file_imports = imports[node[\"attributes\"][\"node_id\"]]\n                    else:\n                        file_imports = imports[node[\"attributes\"][\"file_node_id\"]]\n\n                    function_import = file_imports.get(function_call.split(\".\")[0])\n                    root_directory = node[\"attributes\"][\"path\"].replace(\n                        \".\" + node[\"attributes\"][\"name\"], \"\"\n                    )\n                    directory = root_directory\n                    if function_import:\n                        directory = function_import\n\n                    for module in function_call.split(\".\"):\n                        final_module = \".\" + module\n                        intermediate_module = \".\" + module + \".\"\n                        if not (\n                            final_module in directory\n                            or intermediate_module in directory\n                        ):\n                            directory += f\".{module}\"\n                    if directory in self.global_imports:\n                        target_node_type = self.global_imports[directory][\"type\"]\n                        if target_node_type == \"FUNCTION\" or target_node_type == \"FILE\":\n                            function_calls_relations.append(\n                                {\n                                    \"sourceId\": node[\"attributes\"][\"node_id\"],\n                                    \"targetId\": self.global_imports[directory][\"id\"],\n                                    \"type\": \"CALLS\",\n                                }\n                            )\n                        elif target_node_type == \"CLASS\":\n                            function_calls_relations.append(\n                                {\n                                    \"sourceId\": node[\"attributes\"][\"node_id\"],\n                                    \"targetId\": self.global_imports[directory][\"id\"],\n                                    \"type\": \"INSTANTIATES\",\n                                }\n                            )\n\n                            init_directory = directory + \".__init__\"\n                            function_calls_relations.append(\n                                {\n                                    \"sourceId\": node[\"attributes\"][\"node_id\"],\n                                    \"targetId\": self.global_imports[init_directory][\n                                        \"id\"\n                                    ],\n                                    \"type\": \"CALLS\",\n                                }\n                            )\n\n        return function_calls_relations"
        },
        "scale_factor": 1,
        "size": [
         55,
         55
        ],
        "styles": {},
        "type": "#2196F3"
       },
       {
        "color": "#2196F3",
        "id": 250,
        "label": "FUNCTION",
        "position": [
         0,
         0
        ],
        "properties": {
         "file_node_id": "a5425ae1-74de-4428-937b-cdaa43b25aa2",
         "function_calls": [
          "GraphConstructor._scan_directory",
          "relationships.extend",
          "GraphConstructor._relate_imports",
          "relationships.extend",
          "GraphConstructor._relate_function_calls",
          "GraphConstructor.graph_manager.create_nodes",
          "GraphConstructor.graph_manager.create_edges"
         ],
         "label": "FUNCTION",
         "name": "build_graph",
         "node_id": "396cad48-6899-4898-8544-db577f1e5b2e",
         "path": "blar-example-repos.debugger_agent.graph_construction.graph_builder.GraphConstructor.build_graph",
         "signature": "def build_graph(self, path, language):\n        # process every node to create the graph structure",
         "text": "def build_graph(self, path, language):\n        # process every node to create the graph structure\n        nodes, relationships, imports = self._scan_directory(path, language)\n        # relate imports between file nodes\n        relationships.extend(self._relate_imports(imports))\n        # relate functions calls\n        relationships.extend(self._relate_function_calls(nodes, imports))\n\n        self.graph_manager.create_nodes(nodes)\n        self.graph_manager.create_edges(relationships)"
        },
        "scale_factor": 1,
        "size": [
         55,
         55
        ],
        "styles": {},
        "type": "#2196F3"
       },
       {
        "color": "#4CAF50",
        "id": 287,
        "label": "FILE",
        "position": [
         0,
         0
        ],
        "properties": {
         "function_calls": [],
         "label": "FILE",
         "name": "tree_parser",
         "node_id": "86edc4f6-2ca9-462b-951b-22e57653d6ec",
         "path": "blar-example-repos.debugger_agent.utils.tree_parser",
         "text": "import tree_sitter_languages\nimport os\nimport re\n\n\ndef traverse_tree(tree):\n    # Code replaced for brevity. See node_id 48bc233d-4107-47d4-bc28-9a0795b07aad\n\n\ndef count_parameters(params_str):\n    # Count parameters considering string literals and ignoring commas within them.\n    # This simplistic approach assumes balanced quotes and no escaped quotes within strings.\n    # Code replaced for brevity. See node_id ec748a03-56b6-4793-974c-0b89dddefee4\n\n\ndef get_function_name(call_str):\n    # Code replaced for brevity. See node_id d971150f-9075-4a95-83ba-de2c692240a4\n\n\ndef parse_function_call(func_call: str, inclusive_scopes) -> tuple[str, int]:\n    # Code replaced for brevity. See node_id 4a966120-ac9e-4f14-8b94-7c1f2d2ee555\n\n\ndef get_function_calls(node, assigments_dict: dict) -> list[str]:\n    # Code replaced for brevity. See node_id 00542350-6c89-4081-b335-b8b9e20a9349\n\n\ndef is_package(directory):\n    # Code replaced for brevity. See node_id 8b818795-e841-4676-9595-4dc75165d893\n\n\ndef find_module_path(module_name, start_dir, project_root):\n    # Code replaced for brevity. See node_id b9966e4e-c77b-4855-a4b5-a5f3bae8b0cd\n\n\ndef resolve_import_path(import_statement, current_file_directory, project_root):\n    # Code replaced for brevity. See node_id 6d97108d-5690-4f79-8af2-dcb7faf3fbe4"
        },
        "scale_factor": 1,
        "size": [
         55,
         55
        ],
        "styles": {},
        "type": "#4CAF50"
       },
       {
        "color": "#2196F3",
        "id": 133,
        "label": "FUNCTION",
        "position": [
         0,
         0
        ],
        "properties": {
         "file_node_id": "87ce13fe-6734-48a4-82af-d409fafa219c",
         "function_calls": [
          "tree_sitter_languages.get_parser",
          "open",
          "file.read",
          "tree_sitter_languages.get_parser.parse",
          "bytes",
          "from_statement.text.decode",
          "import_statement.text.decode",
          "tree_parser.resolve_import_path",
          "import_statement.text.decode"
         ],
         "label": "FUNCTION",
         "name": "_get_imports",
         "node_id": "251a6858-688b-4a0e-9e3d-e6c2fca6d384",
         "path": "blar-example-repos.debugger_agent.graph_construction.graph_file_parser.GraphFileParser._get_imports",
         "signature": "def _get_imports(self, path: str, file_node_id: str) -> dict:",
         "text": "def _get_imports(self, path: str, file_node_id: str) -> dict:\n        parser = tree_sitter_languages.get_parser(\"python\")\n        with open(path, \"r\") as file:\n            code = file.read()\n        tree = parser.parse(bytes(code, \"utf-8\"))\n\n        imports = {}\n        for node in tree.root_node.children:\n            if node.type == \"import_from_statement\":\n                import_statements = node.named_children\n\n                from_statement = import_statements[0]\n                from_text = from_statement.text.decode()\n                for import_statement in import_statements[1:]:\n                    imports[import_statement.text.decode()] = (\n                        tree_parser.resolve_import_path(from_text, path, self.root_path)\n                    )\n\n            elif node.type == \"import_statement\":\n                import_statement = node.named_children[0]\n                imports[\"global\"] = import_statement.text.decode()\n\n        return {file_node_id: imports}"
        },
        "scale_factor": 1,
        "size": [
         55,
         55
        ],
        "styles": {},
        "type": "#2196F3"
       },
       {
        "color": "#2196F3",
        "id": 253,
        "label": "FUNCTION",
        "position": [
         0,
         0
        ],
        "properties": {
         "file_node_id": "87ce13fe-6734-48a4-82af-d409fafa219c",
         "function_calls": [],
         "label": "FUNCTION",
         "name": "__init__",
         "node_id": "aa1c1c70-1789-4fe8-bbfb-2953a337501b",
         "path": "blar-example-repos.debugger_agent.graph_construction.graph_file_parser.GraphFileParser.__init__",
         "signature": "def __init__(\n        self,\n        file_path: str,\n        root_path: str,\n        language: str,\n        directory_path: str,\n        visited_nodes: dict,\n        global_imports: dict,\n    ):",
         "text": "def __init__(\n        self,\n        file_path: str,\n        root_path: str,\n        language: str,\n        directory_path: str,\n        visited_nodes: dict,\n        global_imports: dict,\n    ):\n        self.file_path = file_path\n        self.language = language\n        self.directory_path = directory_path\n        self.visited_nodes = visited_nodes\n        self.global_imports = global_imports\n        self.root_path = root_path"
        },
        "scale_factor": 1,
        "size": [
         55,
         55
        ],
        "styles": {},
        "type": "#2196F3"
       },
       {
        "color": "#2196F3",
        "id": 254,
        "label": "FUNCTION",
        "position": [
         0,
         0
        ],
        "properties": {
         "file_node_id": "87ce13fe-6734-48a4-82af-d409fafa219c",
         "function_calls": [
          "Path",
          "Path.exists",
          "print",
          "SimpleDirectoryReader",
          "SimpleDirectoryReader",
          "CodeHierarchyNodeParser",
          "CodeSplitter",
          "GraphFileParser.file_path.replace",
          "CodeHierarchyNodeParser.get_nodes_from_documents",
          "GraphFileParser.__process_node__",
          "code.get_nodes_from_documents.pop",
          "os.path.basename",
          "node_list.append",
          "edges_list.extend",
          "GraphFileParser.__process_node__",
          "node_list.append",
          "edges_list.extend",
          "GraphFileParser._get_imports",
          "str"
         ],
         "label": "FUNCTION",
         "name": "parse",
         "node_id": "0fcb457b-a9cf-4182-97bf-b70072ef55a0",
         "path": "blar-example-repos.debugger_agent.graph_construction.graph_file_parser.GraphFileParser.parse",
         "signature": "def parse(self):",
         "text": "def parse(self):\n        path = Path(self.file_path)\n        if not path.exists():\n            print(f\"File {self.file_path} does not exist.\")\n            return\n        documents = SimpleDirectoryReader(\n            input_files=[path],\n            file_metadata=lambda x: {\"filepath\": x},\n        ).load_data()\n\n        code = CodeHierarchyNodeParser(\n            language=self.language,\n            chunk_min_characters=3,\n            code_splitter=CodeSplitter(\n                language=self.language, max_chars=10000, chunk_lines=10\n            ),\n        )\n        no_extension_path = self.file_path.replace(\".py\", \"\")\n\n        split_nodes = code.get_nodes_from_documents(documents)\n        node_list = []\n        edges_list = []\n\n        file_node, file_relations = self.__process_node__(\n            split_nodes.pop(0), no_extension_path, \"\"\n        )\n        file_node[\"directory\"] = self.directory_path\n        file_node[\"name\"] = os.path.basename(self.file_path)\n        node_list.append(file_node)\n        edges_list.extend(file_relations)\n\n        for node in split_nodes:\n            processed_node, relationships = self.__process_node__(\n                node, no_extension_path, file_node[\"attributes\"][\"node_id\"]\n            )\n            node_list.append(processed_node)\n            edges_list.extend(relationships)\n\n        imports = self._get_imports(str(path), node_list[0][\"attributes\"][\"node_id\"])\n\n        return node_list, edges_list, imports"
        },
        "scale_factor": 1,
        "size": [
         55,
         55
        ],
        "styles": {},
        "type": "#2196F3"
       },
       {
        "color": "#2196F3",
        "id": 255,
        "label": "FUNCTION",
        "position": [
         0,
         0
        ],
        "properties": {
         "file_node_id": "87ce13fe-6734-48a4-82af-d409fafa219c",
         "function_calls": [
          "tree_parser.get_function_calls",
          "format_nodes.format_function_node",
          "format_nodes.format_class_node",
          "tree_parser.get_function_calls",
          "format_nodes.format_file_node",
          "node.relationships.items",
          "relationships.append",
          "GraphFileParser.RELATIONS_TYPES_MAP.get",
          "GraphFileParser.visited_nodes.get",
          "GraphFileParser.visited_nodes.get",
          "no_extension_path.replace"
         ],
         "label": "FUNCTION",
         "name": "__process_node__",
         "node_id": "75f440a1-afc5-407f-bb9c-8d3cbdfc05b6",
         "path": "blar-example-repos.debugger_agent.graph_construction.graph_file_parser.GraphFileParser.__process_node__",
         "signature": "def __process_node__(\n        self, node: BaseNode, no_extension_path: str, file_node_id: str\n    ):",
         "text": "def __process_node__(\n        self, node: BaseNode, no_extension_path: str, file_node_id: str\n    ):\n        relationships = []\n        asignments_dict = {}\n        scope = (\n            node.metadata[\"inclusive_scopes\"][-1]\n            if node.metadata[\"inclusive_scopes\"]\n            else None\n        )\n        type_node = \"file\"\n        if scope:\n            type_node = scope[\"type\"]\n\n        if type_node == \"function_definition\":\n            function_calls = tree_parser.get_function_calls(node, asignments_dict)\n            processed_node = format_nodes.format_function_node(\n                node, scope, function_calls, file_node_id\n            )\n        elif type_node == \"class_definition\":\n            processed_node = format_nodes.format_class_node(node, scope, file_node_id)\n        else:\n            function_calls = tree_parser.get_function_calls(node, asignments_dict)\n            processed_node = format_nodes.format_file_node(\n                node, no_extension_path, function_calls\n            )\n\n        for relation in node.relationships.items():\n            if relation[0] == NodeRelationship.CHILD:\n                for child in relation[1]:\n                    relation_type = (\n                        child.metadata[\"inclusive_scopes\"][-1][\"type\"]\n                        if child.metadata[\"inclusive_scopes\"]\n                        else \"\"\n                    )\n                    relationships.append(\n                        {\n                            \"sourceId\": node.node_id,\n                            \"targetId\": child.node_id,\n                            \"type\": self.RELATIONS_TYPES_MAP.get(\n                                relation_type, \"UNKNOWN\"\n                            ),\n                        }\n                    )\n            elif relation[0] == NodeRelationship.PARENT:\n                if relation[1]:\n                    parent_path = self.visited_nodes.get(\n                        relation[1].node_id, no_extension_path\n                    ).replace(\"/\", \".\")\n                    node_path = f\"{parent_path}.{processed_node['attributes']['name']}\"\n                else:\n                    node_path = no_extension_path.replace(\"/\", \".\")\n        processed_node[\"attributes\"][\"path\"] = node_path\n        self.global_imports[node_path] = {\n            \"id\": processed_node[\"attributes\"][\"node_id\"],\n            \"type\": processed_node[\"type\"],\n        }\n        self.visited_nodes[node.node_id] = node_path\n        return processed_node, relationships"
        },
        "scale_factor": 1,
        "size": [
         55,
         55
        ],
        "styles": {},
        "type": "#2196F3"
       },
       {
        "color": "#4CAF50",
        "id": 28,
        "label": "FILE",
        "position": [
         0,
         0
        ],
        "properties": {
         "label": "FILE",
         "name": "__init__.py",
         "node_id": "dec30b2b-97c2-4270-b182-8ee6cbc54eb0",
         "path": "blar-example-repos/debugger_agent/graph_construction/__init__.py"
        },
        "scale_factor": 1,
        "size": [
         55,
         55
        ],
        "styles": {},
        "type": "#4CAF50"
       },
       {
        "color": "#4CAF50",
        "id": 257,
        "label": "FILE",
        "position": [
         0,
         0
        ],
        "properties": {
         "function_calls": [],
         "label": "FILE",
         "name": "graph_builder",
         "node_id": "3daaa2bc-abb8-4c62-b3e9-1bbb05fcb244",
         "path": "blar-example-repos.debugger_agent.graph_construction.graph_builder",
         "text": "import os\nimport uuid\nfrom blar_graph.graph_construction.neo4j_manager import Neo4jManager\nfrom blar_graph.graph_construction.graph_file_parser import GraphFileParser\nfrom blar_graph.utils import format_nodes\n\n\nclass GraphConstructor:\n    # Code replaced for brevity. See node_id 3addbe0d-8957-434d-9902-9f99079bd51c"
        },
        "scale_factor": 1,
        "size": [
         55,
         55
        ],
        "styles": {},
        "type": "#4CAF50"
       },
       {
        "color": "#4CAF50",
        "id": 264,
        "label": "FILE",
        "position": [
         0,
         0
        ],
        "properties": {
         "function_calls": [],
         "label": "FILE",
         "name": "graph_file_parser",
         "node_id": "94730e19-6358-49aa-9ec8-c35ba8a90cf2",
         "path": "blar-example-repos.debugger_agent.graph_construction.graph_file_parser",
         "text": "import os\nfrom pathlib import Path\nimport tree_sitter_languages\nfrom blar_graph.utils import format_nodes, tree_parser\nfrom llama_index.core import SimpleDirectoryReader\nfrom llama_index.core.schema import NodeRelationship, BaseNode\nfrom llama_index.core.text_splitter import CodeSplitter\nfrom llama_index.packs.code_hierarchy import CodeHierarchyNodeParser\n\n\nclass GraphFileParser:\n    # Code replaced for brevity. See node_id 4c19827d-daeb-44fa-b0ea-7414bb12bb26"
        },
        "scale_factor": 1,
        "size": [
         55,
         55
        ],
        "styles": {},
        "type": "#4CAF50"
       },
       {
        "color": "#4CAF50",
        "id": 270,
        "label": "FILE",
        "position": [
         0,
         0
        ],
        "properties": {
         "function_calls": [
          "load_dotenv",
          "Neo4jManager",
          "Neo4jManager.get_node_by_id",
          "Neo4jManager.close"
         ],
         "label": "FILE",
         "name": "neo4j_manager",
         "node_id": "25b2b132-e7f2-4076-9338-a202c03e1c3c",
         "path": "blar-example-repos.debugger_agent.graph_construction.neo4j_manager",
         "text": "import os\nfrom typing import Any, List\n\nfrom dotenv import load_dotenv\nfrom neo4j import GraphDatabase\n\nload_dotenv()\n\n\nclass Neo4jManager:\n    # Code replaced for brevity. See node_id 92b2e1b2-3528-4392-a2bd-9baace2ea7f9\n\n\nif __name__ == \"__main__\":\n    graph = Neo4jManager()\n    result = graph.get_node_by_id(\"fc33457f-43dd-414c-b074-1142e724ba30\")\n    graph.close()"
        },
        "scale_factor": 1,
        "size": [
         55,
         55
        ],
        "styles": {},
        "type": "#4CAF50"
       },
       {
        "color": "#2196F3",
        "id": 259,
        "label": "FUNCTION",
        "position": [
         0,
         0
        ],
        "properties": {
         "file_node_id": "3daaa2bc-abb8-4c62-b3e9-1bbb05fcb244",
         "function_calls": [],
         "label": "FUNCTION",
         "name": "__init__",
         "node_id": "8ebd9996-f6b2-401c-bbf1-88233b6dc4b4",
         "path": "blar-example-repos.debugger_agent.graph_construction.graph_builder.GraphConstructor.__init__",
         "signature": "def __init__(self, graph_manager: Neo4jManager):",
         "text": "def __init__(self, graph_manager: Neo4jManager):\n        self.graph_manager = graph_manager\n        self.directories_map = {}\n        self.visited_nodes = {}\n        self.global_imports = {}\n        self.root = None"
        },
        "scale_factor": 1,
        "size": [
         55,
         55
        ],
        "styles": {},
        "type": "#2196F3"
       },
       {
        "color": "#2196F3",
        "id": 263,
        "label": "FUNCTION",
        "position": [
         0,
         0
        ],
        "properties": {
         "file_node_id": "3daaa2bc-abb8-4c62-b3e9-1bbb05fcb244",
         "function_calls": [
          "GraphConstructor._scan_directory",
          "relationships.extend",
          "GraphConstructor._relate_imports",
          "relationships.extend",
          "GraphConstructor._relate_function_calls",
          "GraphConstructor.graph_manager.create_nodes",
          "GraphConstructor.graph_manager.create_edges"
         ],
         "label": "FUNCTION",
         "name": "build_graph",
         "node_id": "05b1f553-5508-4034-a730-d0f71d0956cb",
         "path": "blar-example-repos.debugger_agent.graph_construction.graph_builder.GraphConstructor.build_graph",
         "signature": "def build_graph(self, path, language):\n        # process every node to create the graph structure",
         "text": "def build_graph(self, path, language):\n        # process every node to create the graph structure\n        nodes, relationships, imports = self._scan_directory(path, language)\n        # relate imports between file nodes\n        relationships.extend(self._relate_imports(imports))\n        # relate functions calls\n        relationships.extend(self._relate_function_calls(nodes, imports))\n\n        self.graph_manager.create_nodes(nodes)\n        self.graph_manager.create_edges(relationships)"
        },
        "scale_factor": 1,
        "size": [
         55,
         55
        ],
        "styles": {},
        "type": "#2196F3"
       },
       {
        "color": "#2196F3",
        "id": 266,
        "label": "FUNCTION",
        "position": [
         0,
         0
        ],
        "properties": {
         "file_node_id": "94730e19-6358-49aa-9ec8-c35ba8a90cf2",
         "function_calls": [],
         "label": "FUNCTION",
         "name": "__init__",
         "node_id": "d7c60b65-c524-448a-a3ac-fd57a10748e0",
         "path": "blar-example-repos.debugger_agent.graph_construction.graph_file_parser.GraphFileParser.__init__",
         "signature": "def __init__(\n        self,\n        file_path: str,\n        root_path: str,\n        language: str,\n        directory_path: str,\n        visited_nodes: dict,\n        global_imports: dict,\n    ):",
         "text": "def __init__(\n        self,\n        file_path: str,\n        root_path: str,\n        language: str,\n        directory_path: str,\n        visited_nodes: dict,\n        global_imports: dict,\n    ):\n        self.file_path = file_path\n        self.language = language\n        self.directory_path = directory_path\n        self.visited_nodes = visited_nodes\n        self.global_imports = global_imports\n        self.root_path = root_path"
        },
        "scale_factor": 1,
        "size": [
         55,
         55
        ],
        "styles": {},
        "type": "#2196F3"
       },
       {
        "color": "#2196F3",
        "id": 267,
        "label": "FUNCTION",
        "position": [
         0,
         0
        ],
        "properties": {
         "file_node_id": "94730e19-6358-49aa-9ec8-c35ba8a90cf2",
         "function_calls": [
          "Path",
          "Path.exists",
          "print",
          "SimpleDirectoryReader",
          "SimpleDirectoryReader",
          "CodeHierarchyNodeParser",
          "CodeSplitter",
          "GraphFileParser.file_path.replace",
          "CodeHierarchyNodeParser.get_nodes_from_documents",
          "GraphFileParser.__process_node__",
          "code.get_nodes_from_documents.pop",
          "os.path.basename",
          "node_list.append",
          "edges_list.extend",
          "GraphFileParser.__process_node__",
          "node_list.append",
          "edges_list.extend",
          "GraphFileParser._get_imports",
          "str"
         ],
         "label": "FUNCTION",
         "name": "parse",
         "node_id": "bf07bfde-e1fc-4dfd-93b3-1da958c382f5",
         "path": "blar-example-repos.debugger_agent.graph_construction.graph_file_parser.GraphFileParser.parse",
         "signature": "def parse(self):",
         "text": "def parse(self):\n        path = Path(self.file_path)\n        if not path.exists():\n            print(f\"File {self.file_path} does not exist.\")\n            return\n        documents = SimpleDirectoryReader(\n            input_files=[path],\n            file_metadata=lambda x: {\"filepath\": x},\n        ).load_data()\n\n        code = CodeHierarchyNodeParser(\n            language=self.language,\n            chunk_min_characters=3,\n            code_splitter=CodeSplitter(\n                language=self.language, max_chars=10000, chunk_lines=10\n            ),\n        )\n        no_extension_path = self.file_path.replace(\".py\", \"\")\n\n        split_nodes = code.get_nodes_from_documents(documents)\n        node_list = []\n        edges_list = []\n\n        file_node, file_relations = self.__process_node__(\n            split_nodes.pop(0), no_extension_path, \"\"\n        )\n        file_node[\"directory\"] = self.directory_path\n        file_node[\"name\"] = os.path.basename(self.file_path)\n        node_list.append(file_node)\n        edges_list.extend(file_relations)\n\n        for node in split_nodes:\n            processed_node, relationships = self.__process_node__(\n                node, no_extension_path, file_node[\"attributes\"][\"node_id\"]\n            )\n            node_list.append(processed_node)\n            edges_list.extend(relationships)\n\n        imports = self._get_imports(str(path), node_list[0][\"attributes\"][\"node_id\"])\n\n        return node_list, edges_list, imports"
        },
        "scale_factor": 1,
        "size": [
         55,
         55
        ],
        "styles": {},
        "type": "#2196F3"
       },
       {
        "color": "#2196F3",
        "id": 20,
        "label": "FUNCTION",
        "position": [
         0,
         0
        ],
        "properties": {
         "file_node_id": "25b2b132-e7f2-4076-9338-a202c03e1c3c",
         "function_calls": [
          "Neo4jManager.driver.session",
          "session.write_transaction"
         ],
         "label": "FUNCTION",
         "name": "create_edges",
         "node_id": "8b4f748b-806a-4263-a02d-f75664fe15f8",
         "path": "blar-example-repos.debugger_agent.graph_construction.neo4j_manager.Neo4jManager.create_edges",
         "signature": "def create_edges(self, edgesList: List[Any]):\n        # Function to create edges between nodes in the Neo4j database",
         "text": "def create_edges(self, edgesList: List[Any]):\n        # Function to create edges between nodes in the Neo4j database\n        with self.driver.session() as session:\n            session.write_transaction(self._create_edges_txn, edgesList)"
        },
        "scale_factor": 1,
        "size": [
         55,
         55
        ],
        "styles": {},
        "type": "#2196F3"
       },
       {
        "color": "#2196F3",
        "id": 22,
        "label": "FUNCTION",
        "position": [
         0,
         0
        ],
        "properties": {
         "file_node_id": "25b2b132-e7f2-4076-9338-a202c03e1c3c",
         "function_calls": [
          "Neo4jManager.driver.session",
          "session.run",
          "session.run.data"
         ],
         "label": "FUNCTION",
         "name": "get_node_by_id",
         "node_id": "140a3bd0-d74a-4825-b3e4-31da8a362c64",
         "path": "blar-example-repos.debugger_agent.graph_construction.neo4j_manager.Neo4jManager.get_node_by_id",
         "signature": "def get_node_by_id(self, node_id: str):",
         "text": "def get_node_by_id(self, node_id: str):\n        query = \"\"\"\n        MATCH (n)\n        WHERE n.node_id = $node_id\n\n        // Collect outgoing relationships\n        OPTIONAL MATCH (n)-[r]->(m)\n        WITH n, collect({relationType: type(r), node_id: m.node_id, nodeType: labels(m)}) as outgoingRelationships\n\n        // Collect incoming relationships\n        OPTIONAL MATCH (n)<-[r]-(m)\n        WITH n, outgoingRelationships, collect({relationType: type(r), node_id: m.node_id, nodeType: labels(m)}) as incomingRelationships\n\n        // Aggregate relationships by type\n        RETURN properties(n) as properties,\n            {\n                outgoing: outgoingRelationships,\n                incoming: incomingRelationships\n            } as relationships\n\n        \"\"\"\n        with self.driver.session() as session:\n            result = session.run(query, {\"node_id\": node_id})\n            return result.data()[0]"
        },
        "scale_factor": 1,
        "size": [
         55,
         55
        ],
        "styles": {},
        "type": "#2196F3"
       },
       {
        "color": "#2196F3",
        "id": 25,
        "label": "FUNCTION",
        "position": [
         0,
         0
        ],
        "properties": {
         "file_node_id": "25b2b132-e7f2-4076-9338-a202c03e1c3c",
         "function_calls": [
          "tx.run",
          "print"
         ],
         "label": "FUNCTION",
         "name": "_create_nodes_txn",
         "node_id": "62239f10-2905-4ebb-93a0-96d0316f70ee",
         "path": "blar-example-repos.debugger_agent.graph_construction.neo4j_manager.Neo4jManager._create_nodes_txn",
         "signature": "def _create_nodes_txn(tx, nodeList: List[Any]):\n        # Transaction function for creating nodes with dynamic labels",
         "text": "def _create_nodes_txn(tx, nodeList: List[Any]):\n        # Transaction function for creating nodes with dynamic labels\n        node_query = f\"\"\"\n    UNWIND $nodeList AS node\n    CALL apoc.create.node([node.type], node.attributes)\n    YIELD node as n\n    RETURN count(n) as createdNodesCount\n    \"\"\"\n        result = tx.run(node_query, nodeList=nodeList)\n\n        for record in result:\n            print(f\"Created {record['createdNodesCount']} nodes\")"
        },
        "scale_factor": 1,
        "size": [
         55,
         55
        ],
        "styles": {},
        "type": "#2196F3"
       },
       {
        "color": "#2196F3",
        "id": 26,
        "label": "FUNCTION",
        "position": [
         0,
         0
        ],
        "properties": {
         "file_node_id": "25b2b132-e7f2-4076-9338-a202c03e1c3c",
         "function_calls": [
          "tx.run"
         ],
         "label": "FUNCTION",
         "name": "_create_edges_txn",
         "node_id": "95bf7221-df3a-4fe5-a5e2-9a9dcb037e24",
         "path": "blar-example-repos.debugger_agent.graph_construction.neo4j_manager.Neo4jManager._create_edges_txn",
         "signature": "def _create_edges_txn(tx, edgesList: List[Any]):\n        # Transaction function for creating edges",
         "text": "def _create_edges_txn(tx, edgesList: List[Any]):\n        # Transaction function for creating edges\n        edge_query = \"\"\"\n    WITH $edgesList AS edges\n    UNWIND edges AS edgeObject\n    MATCH (node1 {node_id: edgeObject.sourceId})\n    MATCH (node2 {node_id: edgeObject.targetId})\n    CALL apoc.create.relationship(node1, edgeObject.type, {}, node2)\n    YIELD rel\n    RETURN rel;\n    \"\"\"\n        tx.run(edge_query, edgesList=edgesList)"
        },
        "scale_factor": 1,
        "size": [
         55,
         55
        ],
        "styles": {},
        "type": "#2196F3"
       },
       {
        "color": "#2196F3",
        "id": 272,
        "label": "FUNCTION",
        "position": [
         0,
         0
        ],
        "properties": {
         "file_node_id": "25b2b132-e7f2-4076-9338-a202c03e1c3c",
         "function_calls": [
          "os.getenv",
          "os.getenv",
          "os.getenv",
          "GraphDatabase.driver",
          "Neo4jManager.create_function_name_index"
         ],
         "label": "FUNCTION",
         "name": "__init__",
         "node_id": "456115bf-49d4-47b4-909b-88a404429d97",
         "path": "blar-example-repos.debugger_agent.graph_construction.neo4j_manager.Neo4jManager.__init__",
         "signature": "def __init__(self):",
         "text": "def __init__(self):\n        uri = os.getenv(\"NEO4J_URI\")\n        user = os.getenv(\"NEO4J_USERNAME\")\n        password = os.getenv(\"NEO4J_PASSWORD\")\n\n        self.driver = GraphDatabase.driver(uri, auth=(user, password))\n        self.create_function_name_index()"
        },
        "scale_factor": 1,
        "size": [
         55,
         55
        ],
        "styles": {},
        "type": "#2196F3"
       },
       {
        "color": "#2196F3",
        "id": 274,
        "label": "FUNCTION",
        "position": [
         0,
         0
        ],
        "properties": {
         "file_node_id": "25b2b132-e7f2-4076-9338-a202c03e1c3c",
         "function_calls": [
          "Neo4jManager.driver.close"
         ],
         "label": "FUNCTION",
         "name": "close",
         "node_id": "8c46300b-07d8-464e-8bb9-5c9ad40b2b6c",
         "path": "blar-example-repos.debugger_agent.graph_construction.neo4j_manager.Neo4jManager.close",
         "signature": "def close(self):\n        # Close the connection to the database",
         "text": "def close(self):\n        # Close the connection to the database\n        self.driver.close()"
        },
        "scale_factor": 1,
        "size": [
         55,
         55
        ],
        "styles": {},
        "type": "#2196F3"
       },
       {
        "color": "#2196F3",
        "id": 275,
        "label": "FUNCTION",
        "position": [
         0,
         0
        ],
        "properties": {
         "file_node_id": "25b2b132-e7f2-4076-9338-a202c03e1c3c",
         "function_calls": [
          "Neo4jManager.driver.session",
          "session.write_transaction"
         ],
         "label": "FUNCTION",
         "name": "create_nodes",
         "node_id": "04b63b03-a762-4e83-9077-813827018c9d",
         "path": "blar-example-repos.debugger_agent.graph_construction.neo4j_manager.Neo4jManager.create_nodes",
         "signature": "def create_nodes(self, nodeList: List[Any]):\n        # Function to create nodes in the Neo4j database",
         "text": "def create_nodes(self, nodeList: List[Any]):\n        # Function to create nodes in the Neo4j database\n        with self.driver.session() as session:\n            session.write_transaction(self._create_nodes_txn, nodeList)"
        },
        "scale_factor": 1,
        "size": [
         55,
         55
        ],
        "styles": {},
        "type": "#2196F3"
       },
       {
        "color": "#2196F3",
        "id": 280,
        "label": "FUNCTION",
        "position": [
         0,
         0
        ],
        "properties": {
         "file_node_id": "25b2b132-e7f2-4076-9338-a202c03e1c3c",
         "function_calls": [
          "Neo4jManager.driver.session",
          "session.run",
          "session.run.data"
         ],
         "label": "FUNCTION",
         "name": "get_graph_by_path",
         "node_id": "65e7e3fc-3f2a-4c99-b95e-ba5dfaf0adcc",
         "path": "blar-example-repos.debugger_agent.graph_construction.neo4j_manager.Neo4jManager.get_graph_by_path",
         "signature": "def get_graph_by_path(self, path: str):",
         "text": "def get_graph_by_path(self, path: str):\n        node_query = f\"\"\"\n    MATCH (nodes) WHERE nodes.path CONTAINS $path return nodes\n        \"\"\"\n        with self.driver.session() as session:\n            result = session.run(node_query, {\"path\": path})\n            return result.data()"
        },
        "scale_factor": 1,
        "size": [
         55,
         55
        ],
        "styles": {},
        "type": "#2196F3"
       },
       {
        "color": "#2196F3",
        "id": 281,
        "label": "FUNCTION",
        "position": [
         0,
         0
        ],
        "properties": {
         "file_node_id": "25b2b132-e7f2-4076-9338-a202c03e1c3c",
         "function_calls": [
          "Neo4jManager.driver.session",
          "session.run",
          "session.run.data"
         ],
         "label": "FUNCTION",
         "name": "get_n_hop_neighbours",
         "node_id": "b0b835d5-7df4-43b2-9e0e-23c75a512d21",
         "path": "blar-example-repos.debugger_agent.graph_construction.neo4j_manager.Neo4jManager.get_n_hop_neighbours",
         "signature": "def get_n_hop_neighbours(self, node_id: str, num_hops: int):\n        # Function to get code from the Neo4j database based on a keyword query",
         "text": "def get_n_hop_neighbours(self, node_id: str, num_hops: int):\n        # Function to get code from the Neo4j database based on a keyword query\n        with self.driver.session() as session:\n            result = session.run(\n                \"\"\"\n                MATCH (p {node_id: $node_id})\n                CALL apoc.neighbors.byhop(p, \">\", $num_hops)\n                YIELD nodes\n                UNWIND [p] + nodes AS all_nodes\n                RETURN all_nodes.text AS text\n                \"\"\",\n                node_id=node_id,\n                num_hops=num_hops,\n            )\n            return result.data()"
        },
        "scale_factor": 1,
        "size": [
         55,
         55
        ],
        "styles": {},
        "type": "#2196F3"
       },
       {
        "color": "#607D8B",
        "id": 285,
        "label": "PACKAGE",
        "position": [
         0,
         0
        ],
        "properties": {
         "label": "PACKAGE",
         "name": "debugger_agent",
         "node_id": "d7fb112c-464a-4419-a34d-5f0c25c45eda",
         "path": "blar-example-repos/debugger_agent/"
        },
        "scale_factor": 1,
        "size": [
         55,
         55
        ],
        "styles": {},
        "type": "#607D8B"
       },
       {
        "color": "#4CAF50",
        "id": 150,
        "label": "FILE",
        "position": [
         0,
         0
        ],
        "properties": {
         "label": "FILE",
         "name": "__init__.py",
         "node_id": "1ac4dc0a-4639-4c0c-a6b7-cb313fedc940",
         "path": "blar-example-repos/debugger_agent/__init__.py"
        },
        "scale_factor": 1,
        "size": [
         55,
         55
        ],
        "styles": {},
        "type": "#4CAF50"
       },
       {
        "color": "#607D8B",
        "id": 286,
        "label": "PACKAGE",
        "position": [
         0,
         0
        ],
        "properties": {
         "label": "PACKAGE",
         "name": "utils",
         "node_id": "dc3b0aad-e67b-4313-8411-9701d14576c5",
         "path": "blar-example-repos/debugger_agent/utils/"
        },
        "scale_factor": 1,
        "size": [
         55,
         55
        ],
        "styles": {},
        "type": "#607D8B"
       },
       {
        "color": "#4CAF50",
        "id": 114,
        "label": "FILE",
        "position": [
         0,
         0
        ],
        "properties": {
         "label": "FILE",
         "name": "__init__.py",
         "node_id": "208bf0e2-b699-44a6-80aa-ad1a3cd30e72",
         "path": "blar-example-repos/debugger_agent/utils/__init__.py"
        },
        "scale_factor": 1,
        "size": [
         55,
         55
        ],
        "styles": {},
        "type": "#4CAF50"
       },
       {
        "color": "#2196F3",
        "id": 289,
        "label": "FUNCTION",
        "position": [
         0,
         0
        ],
        "properties": {
         "file_node_id": "86edc4f6-2ca9-462b-951b-22e57653d6ec",
         "function_calls": [
          "params_str.strip"
         ],
         "label": "FUNCTION",
         "name": "count_parameters",
         "node_id": "ec748a03-56b6-4793-974c-0b89dddefee4",
         "path": "blar-example-repos.debugger_agent.utils.tree_parser.count_parameters",
         "signature": "def count_parameters(params_str):\n    # Count parameters considering string literals and ignoring commas within them.\n    # This simplistic approach assumes balanced quotes and no escaped quotes within strings.",
         "text": "def count_parameters(params_str):\n    # Count parameters considering string literals and ignoring commas within them.\n    # This simplistic approach assumes balanced quotes and no escaped quotes within strings.\n    in_string = False\n    param_count = (\n        0 if not params_str else 1\n    )  # Start with 1 parameter if the string is not empty\n\n    for char in params_str:\n        if char == '\"':\n            in_string = not in_string  # Toggle state\n        elif char == \",\" and not in_string:\n            param_count += (\n                1  # Count commas outside of string literals as parameter separators\n            )\n\n    # Edge case for empty parameter list or only spaces\n    if param_count == 1 and not params_str.strip():\n        return 0\n\n    return param_count"
        },
        "scale_factor": 1,
        "size": [
         55,
         55
        ],
        "styles": {},
        "type": "#2196F3"
       },
       {
        "color": "#4CAF50",
        "id": 12,
        "label": "FILE",
        "position": [
         0,
         0
        ],
        "properties": {
         "label": "FILE",
         "name": "__init__.py",
         "node_id": "0ffbb61c-114b-402e-b7ce-250ea015b665",
         "path": "blar-example-repos/debugger_agent/utils/__init__.py"
        },
        "scale_factor": 1,
        "size": [
         55,
         55
        ],
        "styles": {},
        "type": "#4CAF50"
       },
       {
        "color": "#4CAF50",
        "id": 175,
        "label": "FILE",
        "position": [
         0,
         0
        ],
        "properties": {
         "label": "FILE",
         "name": "__init__.py",
         "node_id": "0ffbb61c-114b-402e-b7ce-250ea015b665",
         "path": "blar-example-repos/debugger_agent/utils/__init__.py"
        },
        "scale_factor": 1,
        "size": [
         55,
         55
        ],
        "styles": {},
        "type": "#4CAF50"
       }
      ],
      "_overview": {
       "enabled": null,
       "overview_set": false
      },
      "_selected_graph": [
       [],
       [
        {
         "end": 251,
         "id": 1155178801978671400,
         "properties": {
          "label": "CONTAINS"
         },
         "start": 243
        }
       ]
      ],
      "_sidebar": {
       "enabled": true,
       "start_with": ""
      },
      "_view_count": null,
      "_view_module": "yfiles-jupyter-graphs",
      "_view_module_version": "^1.6.2",
      "_view_name": "GraphView",
      "layout": "IPY_MODEL_c151bfde21fe441c9f0cb2fd0feb1d92"
     }
    },
    "c151bfde21fe441c9f0cb2fd0feb1d92": {
     "model_module": "@jupyter-widgets/base",
     "model_module_version": "1.2.0",
     "model_name": "LayoutModel",
     "state": {
      "_model_module": "@jupyter-widgets/base",
      "_model_module_version": "1.2.0",
      "_model_name": "LayoutModel",
      "_view_count": null,
      "_view_module": "@jupyter-widgets/base",
      "_view_module_version": "1.2.0",
      "_view_name": "LayoutView",
      "align_content": null,
      "align_items": null,
      "align_self": null,
      "border": null,
      "bottom": null,
      "display": null,
      "flex": null,
      "flex_flow": null,
      "grid_area": null,
      "grid_auto_columns": null,
      "grid_auto_flow": null,
      "grid_auto_rows": null,
      "grid_column": null,
      "grid_gap": null,
      "grid_row": null,
      "grid_template_areas": null,
      "grid_template_columns": null,
      "grid_template_rows": null,
      "height": "800px",
      "justify_content": null,
      "justify_items": null,
      "left": null,
      "margin": null,
      "max_height": null,
      "max_width": null,
      "min_height": null,
      "min_width": null,
      "object_fit": null,
      "object_position": null,
      "order": null,
      "overflow": null,
      "overflow_x": null,
      "overflow_y": null,
      "padding": null,
      "right": null,
      "top": null,
      "visibility": null,
      "width": "100%"
     }
    }
   }
  }
 },
 "nbformat": 4,
 "nbformat_minor": 0
}
