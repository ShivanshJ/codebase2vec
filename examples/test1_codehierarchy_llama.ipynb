{
 "cells": [
  {
   "cell_type": "code",
   "execution_count": 1,
   "metadata": {},
   "outputs": [],
   "source": [
    "from llama_index.core import SimpleDirectoryReader\n",
    "from llama_index.core.text_splitter import CodeSplitter\n",
    "from llama_index.packs.code_hierarchy import CodeHierarchyNodeParser\n",
    "\n",
    "from pathlib import Path\n",
    "import os\n",
    "from IPython.display import Markdown, display\n",
    "from dotenv import load_dotenv\n",
    "load_dotenv()\n",
    "\n",
    "\n",
    "def print_python(python_text):\n",
    "    \"\"\"This function prints python text in ipynb nicely formatted.\"\"\"\n",
    "    display(Markdown(\"```python\\n\" + python_text + \"```\"))\n",
    "\n",
    "\n",
    "def print_tail(text, n=1000):\n",
    "    \"\"\"This function prints the last n lines of text in ipynb nicely formatted.\"\"\"\n",
    "    lines = text.split(\"\\n\")\n",
    "    last_n = lines[-n:]\n",
    "    display(Markdown(\"```\\n\" + \"\\n\".join(last_n) + \"\\n```\"))\n"
   ]
  },
  {
   "cell_type": "markdown",
   "metadata": {},
   "source": [
    "### Utility funcs"
   ]
  },
  {
   "cell_type": "code",
   "execution_count": 2,
   "metadata": {},
   "outputs": [],
   "source": [
    "import re\n",
    "from pathlib import Path\n",
    "\n",
    "def _skip_file(path: Path) -> bool:\n",
    "    # skip lock files\n",
    "    path = path.name\n",
    "    if path.endswith(\"lock\") or path == \"package-lock.json\" or path == \"yarn.lock\":\n",
    "        return True\n",
    "    # skip tests and legacy directories\n",
    "    if path in [\"legacy\", \"test\"] and self.skip_tests:\n",
    "        return True\n",
    "    # skip hidden files\n",
    "    if path.startswith(\".\"):\n",
    "        return True\n",
    "    # skip images\n",
    "    if path.endswith(\".png\") or path.endswith(\".jpg\"):\n",
    "        return True\n",
    "    return False\n",
    "\n",
    "def _remove_non_ascii(text):\n",
    "    # Define the regular expression pattern to match ascii characters\n",
    "    pattern = re.compile(r\"[^\\x00-\\x7F]+\")\n",
    "    # Replace ascii characters with an empty string\n",
    "    cleaned_text = pattern.sub(\"\", text)\n",
    "    return cleaned_text\n",
    "\n",
    "def _skip_directory(directory: Path) -> bool:\n",
    "    # skip hidden directories\n",
    "    if directory.name.startswith(\".\"):\n",
    "        return True\n",
    "    return directory == \"__pycache__\" or directory == \"node_modules\""
   ]
  },
  {
   "cell_type": "markdown",
   "metadata": {},
   "source": [
    "### Directory reader llamaindex\n",
    "Note: it throws an error when there are empty files"
   ]
  },
  {
   "cell_type": "code",
   "execution_count": 6,
   "metadata": {},
   "outputs": [
    {
     "name": "stdout",
     "output_type": "stream",
     "text": [
      "Number of documents loaded: 14\n",
      "...... File path: /Users/shivanshj/repo-personal-projects/codebase2vec/examples/../app.py\n",
      "...... File path: /Users/shivanshj/repo-personal-projects/codebase2vec/examples/../code_chunker.py\n",
      "...... File path: /Users/shivanshj/repo-personal-projects/codebase2vec/examples/../code_graph.py\n",
      "...... File path: /Users/shivanshj/repo-personal-projects/codebase2vec/examples/../core/graph.py\n",
      "...... File path: /Users/shivanshj/repo-personal-projects/codebase2vec/examples/../database/snippet_database.py\n",
      "...... File path: /Users/shivanshj/repo-personal-projects/codebase2vec/examples/../database/vector_store.py\n",
      "...... File path: /Users/shivanshj/repo-personal-projects/codebase2vec/examples/../embedding/context_wrapper.py\n",
      "...... File path: /Users/shivanshj/repo-personal-projects/codebase2vec/examples/../embedding/embedding.py\n",
      "...... File path: /Users/shivanshj/repo-personal-projects/codebase2vec/examples/../embedding/llm_adapter.py\n",
      "...... File path: /Users/shivanshj/repo-personal-projects/codebase2vec/examples/../github_interface.py\n",
      "...... File path: /Users/shivanshj/repo-personal-projects/codebase2vec/examples/../openapi_understand.py\n"
     ]
    }
   ],
   "source": [
    "def simple_directory_reader(path: str):\n",
    "    try:\n",
    "        documents = SimpleDirectoryReader(\n",
    "            input_dir=path,\n",
    "            recursive=True,\n",
    "            required_exts=[\".py\"],\n",
    "            exclude=[\n",
    "                \".venv/**\",\n",
    "                \".vscode/**\",\n",
    "                \"**/*.ipynb\"\n",
    "            ],\n",
    "            file_metadata=lambda x: {\"filepath\": x}\n",
    "        ).load_data()\n",
    "        print(f\"Number of documents loaded: {len(documents)}\")\n",
    "        new_docs = []\n",
    "        if len(documents) > 0:\n",
    "            for doc in documents:\n",
    "                if len(doc.text) > 0:\n",
    "                    # bug related to llama_index that happens in empty files too.\n",
    "                    doc.set_content(_remove_non_ascii(doc.text))\n",
    "                    new_docs.append(doc)\n",
    "                    print(f\"...... File path: {doc.metadata.get('filepath')}\")\n",
    "                # print(\"-\" * 50)\n",
    "        return new_docs\n",
    "    except ValueError as e:\n",
    "        if \"No files found\" in str(e):\n",
    "            return []\n",
    "        else:\n",
    "            raise  # Re-raise if it's a different ValueError\n",
    "\n",
    "documents = simple_directory_reader('../')"
   ]
  },
  {
   "cell_type": "markdown",
   "metadata": {},
   "source": [
    "Codesplitter works with full directory"
   ]
  },
  {
   "cell_type": "code",
   "execution_count": 4,
   "metadata": {},
   "outputs": [
    {
     "name": "stdout",
     "output_type": "stream",
     "text": [
      "Successfully split into 92 nodes\n",
      "\n",
      "------ Node 0 preview:\n",
      "Text length: 21\n",
      "Content preview: class CodebaseLoader:...\n",
      "\n",
      "------ Node 1 preview:\n",
      "Text length: 1294\n",
      "Content preview: def __init__(self, local_dir=None, github_repo=None):\n",
      "        self.local_dir = local_dir\n",
      "        sel...\n",
      "\n",
      "------ Node 2 preview:\n",
      "Text length: 1138\n",
      "Content preview: def __load_local_codebase(self, directory) -> list[Snippet]:\n",
      "        snippets = []\n",
      "        for filen...\n"
     ]
    }
   ],
   "source": [
    "\n",
    "try:   \n",
    "    splitter = CodeSplitter(\n",
    "        language=\"python\",\n",
    "        max_chars=1500,\n",
    "        chunk_lines=20,\n",
    "    )\n",
    "    split_nodes = splitter.get_nodes_from_documents(documents)\n",
    "    print(f\"Successfully split into {len(split_nodes)} nodes\")\n",
    "    \n",
    "    # Print first few nodes to verify content\n",
    "    for i, node in enumerate(split_nodes[1:4]):\n",
    "        print(f\"\\n------ Node {i} preview:\")\n",
    "        print(f\"Text length: {len(node.text)}\")\n",
    "        print(f\"Content preview: {node.text[:100]}...\")\n",
    "\n",
    "except Exception as e:\n",
    "    print(f\"Error: {type(e)}: {str(e)}\")"
   ]
  },
  {
   "cell_type": "markdown",
   "metadata": {},
   "source": [
    "----\n",
    "### CodeHierarchy doesn't work with full directory, when recursive is True\n",
    "\n",
    "That's because it doesn't work well with empty files and we have to modify empty files on our own"
   ]
  },
  {
   "cell_type": "code",
   "execution_count": null,
   "metadata": {},
   "outputs": [],
   "source": [
    "from llama_index.core.schema import NodeWithScore\n",
    "\n",
    "\n",
    "def load_and_split_code(path: Path) -> list[NodeWithScore]:\n",
    "    print ('Path: ', str(path))\n",
    "    if path.is_dir() and _skip_directory(path):\n",
    "        print ('skipping')\n",
    "        return []\n",
    "    # -- 1. Get documents in directory\n",
    "    documents = simple_directory_reader(str(path))\n",
    "    if not len(documents) > 0:\n",
    "        return []\n",
    "    print(f\"Number of documents loaded in {path}: {len(documents)}\") \n",
    "    # -- 2. Split the documents into nodes\n",
    "    code_hierarchy = CodeHierarchyNodeParser(\n",
    "        language=\"python\",\n",
    "        code_splitter=CodeSplitter(language=\"python\", max_chars=1000, chunk_lines=10),\n",
    "    )\n",
    "    print ('...... code_hierarchy found')\n",
    "    split_nodes = []\n",
    "    # try:\n",
    "    split_nodes = code_hierarchy.get_nodes_from_documents(documents)\n",
    "    print (len(split_nodes))\n",
    "    # except Exception as e:\n",
    "    #     print ('Exception', e, e.traceback())\n",
    "    #     return []\n",
    "    # -- 3. Recursively traverse all directories and combine all splitnodes\n",
    "    # for sub_path in path.iterdir():\n",
    "    #     if sub_path.is_dir():\n",
    "    #         split_nodes.extend(load_and_split_code(sub_path))\n",
    "    return split_nodes\n",
    "\n",
    "\n",
    "split_nodes = load_and_split_code(Path('../').resolve())"
   ]
  },
  {
   "cell_type": "markdown",
   "metadata": {},
   "source": [
    "### Quick Demo of agent pack"
   ]
  },
  {
   "cell_type": "code",
   "execution_count": null,
   "metadata": {},
   "outputs": [],
   "source": [
    "from llama_index.llms.openai import OpenAI\n",
    "from llama_index.packs.code_hierarchy import CodeHierarchyAgentPack\n",
    "llm = OpenAI(model=\"gpt-4\", temperature=0.2)\n",
    "pack = CodeHierarchyAgentPack(split_nodes=split_nodes, llm=llm)\n",
    "\n",
    "import pandas as pd\n",
    "pd.options.display.max_rows = 4000\n",
    "print_tail(\n",
    "    pack.run(\n",
    "        \"How does the Codebaseloader class from work? Provide specific implementation details.\"\n",
    "    )\n",
    ")"
   ]
  },
  {
   "cell_type": "markdown",
   "metadata": {},
   "source": [
    "# Technical Exploreation"
   ]
  },
  {
   "cell_type": "code",
   "execution_count": 61,
   "metadata": {},
   "outputs": [
    {
     "data": {
      "text/markdown": [
       "```python\n",
       "import os\n",
       "import streamlit as st\n",
       "import code_chunker\n",
       "from embedding.llm_adapter import LLMAdapter\n",
       "from github_interface import load_github_codebase\n",
       "from embedding.embedding import CodeEmbedding  # Import the CodeEmbedding class\n",
       "from dotenv import load_dotenv\n",
       "\n",
       "from embedding.context_wrapper import Summarizer\n",
       "from database.vector_store import VectorStore, VectorNode\n",
       "from database.snippet_database import SnippetDatabase, Snippet\n",
       "load_dotenv()\n",
       "\n",
       "class CodebaseLoader:\n",
       "    # Code replaced for brevity. See node_id ffad57b5-710b-489d-827b-ba0e3585377a\n",
       "    \n",
       "\n",
       "\n",
       "\n",
       "\n",
       "\n",
       "\n",
       "def main():\n",
       "    # Code replaced for brevity. See node_id 9751f071-8a46-4560-9900-c34fb8fd7234\n",
       "\n",
       "\n",
       "\n",
       "\n",
       "\n",
       "\n",
       "if __name__ == \"__main__\":\n",
       "    main()```"
      ],
      "text/plain": [
       "<IPython.core.display.Markdown object>"
      ]
     },
     "metadata": {},
     "output_type": "display_data"
    }
   ],
   "source": [
    "print_python(split_nodes[0].text)"
   ]
  },
  {
   "cell_type": "code",
   "execution_count": 62,
   "metadata": {},
   "outputs": [
    {
     "data": {
      "text/markdown": [
       "```python\n",
       "class CodebaseLoader:\n",
       "    def __init__(self, local_dir=None, github_repo=None):\n",
       "        # Code replaced for brevity. See node_id eb9526c8-f26a-45e2-b4c6-d6ba98594788\n",
       "\n",
       "    def load_codebase(self) -> list[Snippet]:\n",
       "        # Code replaced for brevity. See node_id 7be30beb-bf49-4f6f-809e-dbd69310830c\n",
       "\n",
       "    def __test(self, txt):\n",
       "        return txt\n",
       "    \n",
       "    def extract_dir_structure(self, snippets: list[Snippet]):\n",
       "        # Code replaced for brevity. See node_id 365a6daa-c6bc-4a6b-b9da-b916fb564398\n",
       "\n",
       "    def __load_local_codebase(self, directory) -> list[Snippet]:\n",
       "        # Code replaced for brevity. See node_id 571c79ff-06ff-42a3-b87c-cd3f47fffcb4\n",
       "\n",
       "    @staticmethod\n",
       "    def is_valid_file(filepath):\n",
       "        # Code replaced for brevity. See node_id 28e2997e-6b7c-4293-b866-35ec06e4de9a```"
      ],
      "text/plain": [
       "<IPython.core.display.Markdown object>"
      ]
     },
     "metadata": {},
     "output_type": "display_data"
    },
    {
     "name": "stdout",
     "output_type": "stream",
     "text": [
      "------\n"
     ]
    },
    {
     "data": {
      "text/markdown": [
       "```python\n",
       "def load_codebase(self) -> list[Snippet]:\n",
       "        if self.db.repo_exists(self.repo_id):\n",
       "            print (\"CodebaseLoader :  repo exists in relational DB\")\n",
       "            return self.db.load_snippets(self.repo_id)\n",
       "        \n",
       "        if self.github_repo:\n",
       "            self.snippets = load_github_codebase(self.github_repo)\n",
       "        elif self.local_dir:\n",
       "            self.snippets = self.__load_local_codebase(self.local_dir)\n",
       "        self.db.save_repo_dir_structure(self.repo_id, self.extract_dir_structure(self.snippets))\n",
       "        return self.__test(self.snippets)```"
      ],
      "text/plain": [
       "<IPython.core.display.Markdown object>"
      ]
     },
     "metadata": {},
     "output_type": "display_data"
    }
   ],
   "source": [
    "print_python(split_nodes[1].text)\n",
    "print ('------')\n",
    "print_python(split_nodes[3].text)"
   ]
  },
  {
   "cell_type": "code",
   "execution_count": 63,
   "metadata": {},
   "outputs": [
    {
     "name": "stdout",
     "output_type": "stream",
     "text": [
      "Code Hierarchy:\n",
      "- \n",
      "  - Users\n",
      "    - shivanshj\n",
      "      - repo-personal-projects\n",
      "        - codebase2vec\n",
      "          - app\n",
      "            - CodebaseLoader\n",
      "              - __init__\n",
      "              - load_codebase\n",
      "              - extract_dir_structure\n",
      "              - __load_local_codebase\n",
      "              - is_valid_file\n",
      "            - main\n",
      "              - make_embeddings\n",
      "              - top_matches_from_vector_store\n",
      "              - generate_code\n",
      "          - code_chunker\n",
      "            - chunk_code\n",
      "            - Chunk\n",
      "              - __post_init__\n",
      "              - extract\n",
      "              - extract_lines\n",
      "              - __add__\n",
      "              - __len__\n",
      "            - _get_line_number_from_char_index\n",
      "            - TextChunker\n",
      "              - split_text\n",
      "              - _chunk_node\n",
      "              - __coalesce_chunks\n",
      "            - BlockAwareCodeSplitter\n",
      "              - __init__\n",
      "              - split_text\n",
      "              - _extract_blocks\n",
      "              - _get_block_type\n",
      "              - _get_block_name\n",
      "              - _overlaps\n",
      "            - TestBlockAwareCodeSplitter\n",
      "              - test_split_text\n",
      "              - test_get_block_type\n",
      "              - test_get_block_name\n",
      "              - test_overlaps\n",
      "          - code_graph\n",
      "            - Relation\n",
      "            - Node\n",
      "          - github_interface\n",
      "            - fetch_github_repo_contents\n",
      "            - load_github_codebase\n",
      "          - openapi_understand\n",
      "            - OpenAPIEmbedding\n",
      "            - OpenAPISpecHandler\n",
      "              - __init__\n",
      "              - _load_openapi_spec\n",
      "              - generate_embeddings\n",
      "              - _create_endpoint_embeddings\n",
      "              - find_endpoint_with_query\n",
      "              - _get_endpoint_description\n",
      "            - is_openapi_spec\n",
      "\n"
     ]
    }
   ],
   "source": [
    "hierarchy, code_structure = CodeHierarchyNodeParser.get_code_hierarchy_from_nodes(split_nodes)\n",
    "print(\"Code Hierarchy:\")\n",
    "print(code_structure)"
   ]
  },
  {
   "cell_type": "markdown",
   "metadata": {},
   "source": [
    "# Load Query engine\n",
    "Can load by class / function name"
   ]
  },
  {
   "cell_type": "code",
   "execution_count": 13,
   "metadata": {},
   "outputs": [
    {
     "data": {
      "text/markdown": [
       "```python\n",
       "class CodebaseLoader:\n",
       "    def __init__(self, local_dir=None, github_repo=None):\n",
       "        # Code replaced for brevity. See node_id b35ea862-ac60-4a63-b441-3249dda0ed68\n",
       "\n",
       "    def load_codebase(self) -> list[Snippet]:\n",
       "        # Code replaced for brevity. See node_id 2211354a-788c-4191-9168-a18c3842bd4b\n",
       "\n",
       "    def __test(self, txt):\n",
       "        return txt\n",
       "    \n",
       "    def extract_dir_structure(self, snippets: list[Snippet]):\n",
       "        # Code replaced for brevity. See node_id 7e84f9b2-1b22-41e3-98b1-70534a4876cd\n",
       "\n",
       "    def __load_local_codebase(self, directory) -> list[Snippet]:\n",
       "        # Code replaced for brevity. See node_id 28adfb79-d64c-46f5-b1aa-5c26c761b292\n",
       "\n",
       "    @staticmethod\n",
       "    def is_valid_file(filepath):\n",
       "        # Code replaced for brevity. See node_id fc245a91-a80d-41d0-8b9c-8ba0bcfe41cf```"
      ],
      "text/plain": [
       "<IPython.core.display.Markdown object>"
      ]
     },
     "metadata": {},
     "output_type": "display_data"
    }
   ],
   "source": [
    "from llama_index.packs.code_hierarchy import CodeHierarchyKeywordQueryEngine\n",
    "\n",
    "query_engine = CodeHierarchyKeywordQueryEngine(\n",
    "    nodes=split_nodes,\n",
    ")\n",
    "print_python(query_engine.query(\"CodebaseLoader\").response)"
   ]
  },
  {
   "cell_type": "markdown",
   "metadata": {},
   "source": [
    "## Abstract agent"
   ]
  },
  {
   "cell_type": "code",
   "execution_count": 14,
   "metadata": {},
   "outputs": [
    {
     "data": {
      "text/markdown": [
       "Description: Search the tool by any element in this list to get more information about that element.\n",
       "If you see 'Code replaced for brevity' then a uuid, you may also search the tool with that uuid to see the full code.\n",
       "You may need to use the tool multiple times to fully answer the user message.\n",
       "The list is:\n",
       "- \n",
       "  - Users\n",
       "    - shivanshj\n",
       "      - repo-personal-projects\n",
       "        - codebase2vec\n",
       "          - app\n",
       "            - CodebaseLoader\n",
       "              - __init__\n",
       "              - load_codebase\n",
       "              - extract_dir_structure\n",
       "              - __load_local_codebase\n",
       "              - is_valid_file\n",
       "            - main\n",
       "              - make_embeddings\n",
       "              - top_matches_from_vector_store\n",
       "              - generate_code\n",
       "          - code_chunker\n",
       "            - chunk_code\n",
       "            - Chunk\n",
       "              - __post_init__\n",
       "              - extract\n",
       "              - extract_lines\n",
       "              - __add__\n",
       "              - __len__\n",
       "            - _get_line_number_from_char_index\n",
       "            - TextChunker\n",
       "              - split_text\n",
       "              - _chunk_node\n",
       "              - __coalesce_chunks\n",
       "            - BlockAwareCodeSplitter\n",
       "              - __init__\n",
       "              - split_text\n",
       "              - _extract_blocks\n",
       "              - _get_block_type\n",
       "              - _get_block_name\n",
       "              - _overlaps\n",
       "            - TestBlockAwareCodeSplitter\n",
       "              - test_split_text\n",
       "              - test_get_block_type\n",
       "              - test_get_block_name\n",
       "              - test_overlaps\n",
       "          - code_graph\n",
       "            - Relation\n",
       "            - Node\n",
       "          - database\n",
       "            - snippet_database\n",
       "              - SnippetDatabase\n",
       "                - __init__\n",
       "                - load_snippets\n",
       "                - get_repo_dir_structure\n",
       "                - make_repo_id\n",
       "                - save_snippet\n",
       "                - save_repo_dir_structure\n",
       "                - repo_exists\n",
       "              - TestSnippetDatabase\n",
       "                - setUp\n",
       "                - test_make_repo_id_github_url\n",
       "                - test_make_repo_id_local_path\n",
       "                - test_make_repo_id_unrecognized\n",
       "            - vector_store\n",
       "              - VectorNode\n",
       "                - __init__\n",
       "              - VectorStore\n",
       "                - __init__\n",
       "                - _connect_with_retry\n",
       "                - does_embedding_exist\n",
       "                - add_vectors\n",
       "                - search\n",
       "                - get_vectors_by_id\n",
       "                - delete_nodes\n",
       "                - _get_collection\n",
       "                - _create_collection\n",
       "                - delete_all_nodes\n",
       "              - TestVectorStore\n",
       "                - setUp\n",
       "                - test_vector_connection\n",
       "                - test_vector_search_by_id\n",
       "                - tearDown\n",
       "          - embedding\n",
       "            - context_wrapper\n",
       "              - Summarizer\n",
       "                - context_of_snippet\n",
       "                - generate_abstract_with_api\n",
       "            - embedding\n",
       "              - CodeEmbedding\n",
       "                - __init__\n",
       "                - generate_embeddings\n",
       "                - find_k_nearest_neighbors\n",
       "                - __cosine_similarity\n",
       "              - EmbeddingStrategy\n",
       "                - generate_embeddings\n",
       "              - SentenceTransformerStrategy\n",
       "                - generate_embeddings\n",
       "              - LiteLLMStrategy\n",
       "                - generate_embeddings\n",
       "              - TokenizerStrategy\n",
       "                - __init__\n",
       "                - generate_embeddings\n",
       "                - average_pool\n",
       "            - llm_adapter\n",
       "              - LLMAdapter\n",
       "                - __init__\n",
       "                - chat_completion\n",
       "          - github_interface\n",
       "            - fetch_github_repo_contents\n",
       "            - load_github_codebase\n",
       "          - openapi_understand\n",
       "            - OpenAPIEmbedding\n",
       "            - OpenAPISpecHandler\n",
       "              - __init__\n",
       "              - _load_openapi_spec\n",
       "              - generate_embeddings\n",
       "              - _create_endpoint_embeddings\n",
       "              - find_endpoint_with_query\n",
       "              - _get_endpoint_description\n",
       "            - is_openapi_spec\n",
       "\n"
      ],
      "text/plain": [
       "<IPython.core.display.Markdown object>"
      ]
     },
     "metadata": {},
     "output_type": "display_data"
    }
   ],
   "source": [
    "from llama_index.core.tools import QueryEngineTool\n",
    "\n",
    "tool = QueryEngineTool.from_defaults(\n",
    "    query_engine=query_engine,\n",
    "    name=\"code_lookup\",\n",
    "    description=\"Useful for looking up information about the code hierarchy codebase.\",\n",
    ")\n",
    "\n",
    "display(Markdown(\"Description: \" + query_engine.get_tool_instructions()))"
   ]
  },
  {
   "cell_type": "code",
   "execution_count": 15,
   "metadata": {},
   "outputs": [],
   "source": [
    "from llama_index.llms.openai import OpenAI\n",
    "from llama_index.packs.code_hierarchy import CodeHierarchyAgentPack\n",
    "from llama_index.agent.openai import OpenAIAgent\n",
    "\n",
    "llm = OpenAI(model=\"gpt-4\", temperature=0.1)\n",
    "\n",
    "agent = OpenAIAgent.from_tools(\n",
    "    [tool], llm=llm, system_prompt=query_engine.get_tool_instructions(), verbose=True\n",
    ")"
   ]
  },
  {
   "cell_type": "code",
   "execution_count": 16,
   "metadata": {},
   "outputs": [
    {
     "name": "stdout",
     "output_type": "stream",
     "text": [
      "Added user message to memory: How does the codebaseloader function work? Provide specific implementation details.\n",
      "=== Calling Function ===\n",
      "Calling function: code_lookup with args: {\n",
      "  \"input\": \"CodebaseLoader\"\n",
      "}\n",
      "Got output: class CodebaseLoader:\n",
      "    def __init__(self, local_dir=None, github_repo=None):\n",
      "        # Code replaced for brevity. See node_id b35ea862-ac60-4a63-b441-3249dda0ed68\n",
      "\n",
      "    def load_codebase(self) -> list[Snippet]:\n",
      "        # Code replaced for brevity. See node_id 2211354a-788c-4191-9168-a18c3842bd4b\n",
      "\n",
      "    def __test(self, txt):\n",
      "        return txt\n",
      "    \n",
      "    def extract_dir_structure(self, snippets: list[Snippet]):\n",
      "        # Code replaced for brevity. See node_id 7e84f9b2-1b22-41e3-98b1-70534a4876cd\n",
      "\n",
      "    def __load_local_codebase(self, directory) -> list[Snippet]:\n",
      "        # Code replaced for brevity. See node_id 28adfb79-d64c-46f5-b1aa-5c26c761b292\n",
      "\n",
      "    @staticmethod\n",
      "    def is_valid_file(filepath):\n",
      "        # Code replaced for brevity. See node_id fc245a91-a80d-41d0-8b9c-8ba0bcfe41cf\n",
      "========================\n",
      "\n",
      "=== Calling Function ===\n",
      "Calling function: code_lookup with args: {\n",
      "  \"input\": \"b35ea862-ac60-4a63-b441-3249dda0ed68\"\n",
      "}\n",
      "Got output: def __init__(self, local_dir=None, github_repo=None):\n",
      "        self.local_dir = local_dir\n",
      "        self.github_repo = github_repo\n",
      "        self.db = SnippetDatabase()\n",
      "        self.repo_id = self.db.make_repo_id(self.github_repo)\n",
      "        self.snippets = []\n",
      "        self.directory_structure = None\n",
      "========================\n",
      "\n",
      "=== Calling Function ===\n",
      "Calling function: code_lookup with args: {\n",
      "  \"input\": \"2211354a-788c-4191-9168-a18c3842bd4b\"\n",
      "}\n",
      "Got output: def load_codebase(self) -> list[Snippet]:\n",
      "        if self.db.repo_exists(self.repo_id):\n",
      "            print (\"CodebaseLoader :  repo exists in relational DB\")\n",
      "            return self.db.load_snippets(self.repo_id)\n",
      "        \n",
      "        if self.github_repo:\n",
      "            self.snippets = load_github_codebase(self.github_repo)\n",
      "        elif self.local_dir:\n",
      "            self.snippets = self.__load_local_codebase(self.local_dir)\n",
      "        self.db.save_repo_dir_structure(self.repo_id, self.extract_dir_structure(self.snippets))\n",
      "        return self.__test(self.snippets)\n",
      "========================\n",
      "\n",
      "=== Calling Function ===\n",
      "Calling function: code_lookup with args: {\n",
      "  \"input\": \"7e84f9b2-1b22-41e3-98b1-70534a4876cd\"\n",
      "}\n",
      "Got output: def extract_dir_structure(self, snippets: list[Snippet]):\n",
      "        if dir := self.db.get_repo_dir_structure(self.repo_id):\n",
      "            print (\"CodebaseLoader :  dir exists in relational DB\")\n",
      "            return dir\n",
      "        dir_structure = '\\n'\n",
      "        for snippet in snippets:\n",
      "            dir_structure += snippet.file_path\n",
      "            dir_structure += '\\n'\n",
      "        return dir_structure\n",
      "========================\n",
      "\n",
      "=== Calling Function ===\n",
      "Calling function: code_lookup with args: {\n",
      "  \"input\": \"28adfb79-d64c-46f5-b1aa-5c26c761b292\"\n",
      "}\n",
      "Got output: def __load_local_codebase(self, directory) -> list[Snippet]:\n",
      "        snippets = []\n",
      "        for filename in os.listdir(directory):\n",
      "            if filename.startswith('.'):\n",
      "                continue\n",
      "            filepath = os.path.join(directory, filename)\n",
      "            if os.path.isdir(filepath):\n",
      "                snippets.extend(self.__load_local_codebase(filepath))\n",
      "            else:\n",
      "                if self.is_valid_file(filepath):\n",
      "                    with open(filepath, 'r') as file:\n",
      "                        content = file.read().strip()\n",
      "                        if content:\n",
      "                            newSnippet = Snippet(content=content, file_path=filepath)\n",
      "                            snippets.append(newSnippet)\n",
      "                            self.db.save_snippet(self.repo_id, newSnippet)\n",
      "        return snippets\n",
      "========================\n",
      "\n",
      "=== Calling Function ===\n",
      "Calling function: code_lookup with args: {\n",
      "  \"input\": \"fc245a91-a80d-41d0-8b9c-8ba0bcfe41cf\"\n",
      "}\n",
      "Got output: def is_valid_file(filepath):\n",
      "        IGNORED_FILES = [\"package-lock.json\", \"yarn.lock\", \"poetry.lock\"]\n",
      "        ALLOWED_EXTENSIONS = [\".py\", \".tsx\"]\n",
      "        return (not any(ignored in filepath for ignored in IGNORED_FILES) and\n",
      "                any(filepath.endswith(ext) for ext in ALLOWED_EXTENSIONS))\n",
      "========================\n",
      "\n"
     ]
    }
   ],
   "source": [
    "response = agent.chat(\n",
    "    \"How does the codebaseloader function work? Provide specific implementation details.\"\n",
    ")"
   ]
  },
  {
   "cell_type": "code",
   "execution_count": 73,
   "metadata": {},
   "outputs": [
    {
     "name": "stdout",
     "output_type": "stream",
     "text": [
      "The `CodebaseLoader` class is responsible for loading a codebase from a given repository. Here's how it works:\n",
      "\n",
      "1. **Initialization (`__init__`)**: The constructor takes two optional arguments: `local_dir` and `github_repo`. These represent the local directory and the GitHub repository from which the codebase is to be loaded. The specific implementation details of the constructor have been replaced for brevity.\n",
      "\n",
      "2. **Loading the Codebase (`load_codebase`)**: This method loads the codebase from the repository. It first checks if the repository exists in the database. If it does, it loads the snippets from the database. If it doesn't, it checks if the repository is a GitHub repository or a local directory and loads the codebase accordingly. It then saves the directory structure of the repository to the database and returns the loaded snippets.\n",
      "\n",
      "3. **Testing (`__test`)**: This method is used to test the loaded snippets. The specific implementation details have been replaced for brevity.\n",
      "\n",
      "4. **Extracting Directory Structure (`extract_dir_structure`)**: This method extracts the directory structure of the repository from the loaded snippets. The specific implementation details have been replaced for brevity.\n",
      "\n",
      "5. **Loading Local Codebase (`__load_local_codebase`)**: This method loads the codebase from a local directory. The specific implementation details have been replaced for brevity.\n",
      "\n",
      "6. **Checking Validity of File (`is_valid_file`)**: This static method checks if a given file path is valid. The specific implementation details have been replaced for brevity.\n"
     ]
    }
   ],
   "source": [
    "print(str(response))"
   ]
  },
  {
   "cell_type": "markdown",
   "metadata": {},
   "source": [
    "<div style=\"\n",
    "    color: red;\n",
    "    border: 1px solid #ddd;\n",
    "    border-radius: 4px;\n",
    "    padding: 15px;\n",
    "    margin: 10px 0;\">\n",
    "\n",
    "### Conclusion:\n",
    "</div>\n",
    "\n",
    "1. Llama-index doesn't work on empty files\n",
    "\n",
    "2. It can't provide abstracts of a function within a function.\n",
    "    a. Example:\n",
    "    ```python\n",
    "    def func_A():\n",
    "        return func_B()\n",
    "    ```"
   ]
  },
  {
   "cell_type": "markdown",
   "metadata": {},
   "source": []
  }
 ],
 "metadata": {
  "kernelspec": {
   "display_name": ".venv",
   "language": "python",
   "name": "python3"
  },
  "language_info": {
   "codemirror_mode": {
    "name": "ipython",
    "version": 3
   },
   "file_extension": ".py",
   "mimetype": "text/x-python",
   "name": "python",
   "nbconvert_exporter": "python",
   "pygments_lexer": "ipython3",
   "version": "3.9.18"
  }
 },
 "nbformat": 4,
 "nbformat_minor": 2
}
