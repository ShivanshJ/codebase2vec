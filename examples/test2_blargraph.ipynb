{
 "cells": [
  {
   "cell_type": "code",
   "execution_count": 2,
   "metadata": {},
   "outputs": [],
   "source": [
    "from llama_index.core import SimpleDirectoryReader\n",
    "from llama_index.core.text_splitter import CodeSplitter\n",
    "from llama_index.packs.code_hierarchy import CodeHierarchyNodeParser\n",
    "\n",
    "import os\n",
    "from IPython.display import Markdown, display\n",
    "from dotenv import load_dotenv\n",
    "load_dotenv()\n",
    "\n",
    "\n",
    "def print_python(python_text):\n",
    "    \"\"\"This function prints python text in ipynb nicely formatted.\"\"\"\n",
    "    display(Markdown(\"```python\\n\" + python_text + \"```\"))"
   ]
  },
  {
   "cell_type": "markdown",
   "metadata": {},
   "source": [
    "### Utility functions"
   ]
  },
  {
   "cell_type": "code",
   "execution_count": 4,
   "metadata": {},
   "outputs": [],
   "source": [
    "from pathlib import Path\n",
    "import re\n",
    "\n",
    "def _skip_file(path: Path) -> bool:\n",
    "    # skip lock files\n",
    "    path = path.name\n",
    "    if path.endswith(\"lock\") or path == \"package-lock.json\" or path == \"yarn.lock\":\n",
    "        return True\n",
    "    # skip tests and legacy directories\n",
    "    if path in [\"legacy\", \"test\"] and self.skip_tests:\n",
    "        return True\n",
    "    # skip hidden files\n",
    "    if path.startswith(\".\"):\n",
    "        return True\n",
    "    # skip images\n",
    "    if path.endswith(\".png\") or path.endswith(\".jpg\"):\n",
    "        return True\n",
    "    return False\n",
    "\n",
    "def _remove_non_ascii(text):\n",
    "    # Define the regular expression pattern to match ascii characters\n",
    "    pattern = re.compile(r\"[^\\x00-\\x7F]+\")\n",
    "    # Replace ascii characters with an empty string\n",
    "    cleaned_text = pattern.sub(\"\", text)\n",
    "    return cleaned_text\n",
    "\n",
    "def _skip_directory(directory: Path) -> bool:\n",
    "    # skip hidden directories\n",
    "    if directory.name.startswith(\".\"):\n",
    "        return True\n",
    "    return directory == \"__pycache__\" or directory == \"node_modules\""
   ]
  },
  {
   "cell_type": "code",
   "execution_count": null,
   "metadata": {},
   "outputs": [],
   "source": [
    "from llama_index.core import SimpleDirectoryReader\n",
    "\n",
    "\n",
    "\n",
    "class GraphConstructor:\n",
    "    global_graph_info: GlobalGraphInfo\n",
    "    root: str\n",
    "    skip_tests: bool\n",
    "    parsers: Parsers\n",
    "    max_workers: int = 50\n",
    "\n",
    "\n",
    "    def __init__(self, entity_id: str, root: str, max_workers: Optional[int] = None):\n",
    "        self.global_graph_info = GlobalGraphInfo(entity_id=entity_id)\n",
    "        self.parsers = Parsers(self.global_graph_info, root)\n",
    "        self.root = root\n",
    "        self.skip_tests = True\n",
    "        if max_workers is not None:\n",
    "            self.max_workers = max_workers\n",
    "            \n",
    "\n",
    "    def build_graph(self):\n",
    "        # process every node to create the graph structure\n",
    "        print(\"Building graph...\")\n",
    "        start_time = time.time()\n",
    "\n",
    "        nodes, relationships, imports = self._scan_directory(self.root)\n",
    "\n",
    "        # relate imports between file nodes\n",
    "        relationships.extend(self._relate_imports(imports))\n",
    "        # relate functions calls\n",
    "        relationships.extend(self._relate_constructor_calls(nodes, imports))\n",
    "        end_time = time.time()\n",
    "        execution_time = end_time - start_time\n",
    "        print(f\"Execution time: {execution_time} seconds\")\n",
    "\n",
    "        return nodes, relationships"
   ]
  }
 ],
 "metadata": {
  "kernelspec": {
   "display_name": ".venv",
   "language": "python",
   "name": "python3"
  },
  "language_info": {
   "codemirror_mode": {
    "name": "ipython",
    "version": 3
   },
   "file_extension": ".py",
   "mimetype": "text/x-python",
   "name": "python",
   "nbconvert_exporter": "python",
   "pygments_lexer": "ipython3",
   "version": "3.9.18"
  }
 },
 "nbformat": 4,
 "nbformat_minor": 2
}
